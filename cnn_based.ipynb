{
 "cells": [
  {
   "cell_type": "code",
   "execution_count": 6,
   "id": "df5af5a7-fb16-4003-972c-b6f7d6196f3c",
   "metadata": {},
   "outputs": [],
   "source": [
    "import torch\n",
    "import torch.nn as nn\n",
    "import torch.nn.functional as F\n",
    "\n",
    "class Encoder(nn.Module):\n",
    "    def __init__(self, input_channels=2):\n",
    "        super().__init__()\n",
    "        # First conv: 65x65 -> 22x22\n",
    "        self.conv1 = nn.Conv2d(input_channels, 16, kernel_size=7, stride=3, padding=3, bias=False)\n",
    "        self.bn1 = nn.BatchNorm2d(16)\n",
    "        \n",
    "        # Second conv: 22x22 -> 8x8\n",
    "        self.conv2 = nn.Conv2d(16, 32, kernel_size=5, stride=3, padding=2, bias=False)\n",
    "        self.bn2 = nn.BatchNorm2d(32)\n",
    "        \\\n",
    "        # Final conv: maintain 8x8 but process features\n",
    "        self.conv3 = nn.Conv2d(32, 32, kernel_size=3, stride=1, padding=1, bias=False)\n",
    "        self.bn3 = nn.BatchNorm2d(32)\n",
    "        \n",
    "        self.repr_dim = 32\n",
    "        \n",
    "    def forward(self, x):\n",
    "        x = F.relu(self.bn1(self.conv1(x)))  # -> 22x22\n",
    "        x = F.relu(self.bn2(self.conv2(x)))  # -> 8x8\n",
    "        x = F.relu(self.bn3(self.conv3(x)))  # -> 8x8\n",
    "        return x  # Output shape: [B, 32, 8, 8]\n",
    "\n",
    "class TransitionModel(nn.Module):\n",
    "    def __init__(self, hidden_dim=32):\n",
    "        super().__init__()\n",
    "        self.hidden_dim = hidden_dim\n",
    "        \n",
    "        # Action embedding\n",
    "        self.action_embed = nn.Sequential(\n",
    "            nn.Conv2d(2, 16, 1),  # First go to intermediate dimension\n",
    "            nn.BatchNorm2d(16),\n",
    "            nn.ReLU(),\n",
    "            nn.Conv2d(16, hidden_dim, 1),  # Then to full hidden_dim\n",
    "            nn.BatchNorm2d(hidden_dim),\n",
    "            nn.ReLU()\n",
    "        )\n",
    "        \n",
    "        # Transition model\n",
    "        self.transition = nn.Sequential(\n",
    "            nn.Conv2d(hidden_dim * 2, hidden_dim, 3, padding=1),\n",
    "            nn.BatchNorm2d(hidden_dim),\n",
    "            nn.ReLU(),\n",
    "            nn.Conv2d(hidden_dim, hidden_dim, 3, padding=1),\n",
    "            nn.BatchNorm2d(hidden_dim)\n",
    "        )\n",
    "        \n",
    "    def forward(self, state, action):\n",
    "        \"\"\"\n",
    "        Args:\n",
    "            state: [B, hidden_dim, 8, 8] - Current state representation\n",
    "            action: [B, 2] - (dx, dy) action\n",
    "        \"\"\"\n",
    "        B, _, H, W = state.shape\n",
    "        \n",
    "        # Expand action to spatial dimensions and embed\n",
    "        action = action.view(B, 2, 1, 1).expand(-1, -1, H, W)\n",
    "        action_embedding = self.action_embed(action)\n",
    "        \n",
    "        # Combine state and action\n",
    "        combined = torch.cat([state, action_embedding], dim=1)\n",
    "        \n",
    "        # Predict state change\n",
    "        delta = self.transition(combined)\n",
    "        \n",
    "        # Residual connection\n",
    "        next_state = state + delta\n",
    "        \n",
    "        return next_state\n",
    "\n",
    "class WorldModel(nn.Module):\n",
    "    def __init__(self):\n",
    "        super().__init__()\n",
    "        self.encoder = Encoder(input_channels=2)\n",
    "        self.predictor = TransitionModel(hidden_dim=32)\n",
    "        \n",
    "    def forward(self, states, actions):\n",
    "        \"\"\"\n",
    "        Args:\n",
    "            states: [B, 1, 2, 65, 65] - Initial state only\n",
    "            actions: [B, T-1, 2] - Sequence of T-1 actions\n",
    "        Returns:\n",
    "            predictions: [B, T, 32, 8, 8] - Predicted representations\n",
    "        \"\"\"\n",
    "        B, _, _, H, W = states.shape\n",
    "        T = actions.shape[1] + 1\n",
    "        \n",
    "        # Get initial state encoding\n",
    "        curr_state = self.encoder(states.squeeze(1))\n",
    "        predictions = [curr_state]\n",
    "        \n",
    "        # Predict future states\n",
    "        for t in range(T-1):\n",
    "            curr_state = self.predictor(curr_state, actions[:, t])\n",
    "            predictions.append(curr_state)\n",
    "            \n",
    "        predictions = torch.stack(predictions, dim=1)\n",
    "        return predictions"
   ]
  },
  {
   "cell_type": "code",
   "execution_count": 7,
   "id": "7e954244-00c2-4c71-9ad6-18f5c58d7d99",
   "metadata": {},
   "outputs": [
    {
     "name": "stdout",
     "output_type": "stream",
     "text": [
      "Running model tests with real data...\n",
      "\n",
      "Input Data Shapes:\n",
      "States shape: torch.Size([256, 17, 2, 65, 65])\n",
      "Actions shape: torch.Size([256, 16, 2])\n",
      "States min/max: 0.00, 0.09\n",
      "Actions min/max: -1.79, 1.77\n",
      "\n",
      "Encoder output shape: torch.Size([256, 32, 8, 8])\n",
      "\n",
      "Single action sample:\n",
      "Action values: tensor([-0.6135, -0.4304], device='cuda:0')\n",
      "\n",
      "Action processing:\n",
      "Action after spatial expansion: torch.Size([256, 2, 8, 8])\n",
      "Action after embedding: torch.Size([256, 32, 8, 8])\n",
      "\n",
      "Prediction shapes:\n",
      "Single step prediction: torch.Size([256, 32, 8, 8])\n",
      "Full sequence prediction: torch.Size([256, 17, 32, 8, 8])\n",
      "\n",
      "Compression Statistics:\n",
      "Input size per frame: 8450 values\n",
      "Encoded size per frame: 2048 values\n",
      "Compression ratio: 4.13x\n",
      "\n",
      "All dimension tests passed!\n",
      "\n",
      "Testing multiple forward passes...\n",
      "Batch 1 processed successfully.\n",
      "Prediction stats for batch 1:\n",
      "Mean: 0.391\n",
      "Std: 8.042\n",
      "Min: -131.621\n",
      "Max: 139.406\n",
      "Batch 2 processed successfully.\n",
      "Batch 3 processed successfully.\n"
     ]
    }
   ],
   "source": [
    "import torch\n",
    "from dataset import create_wall_dataloader\n",
    "\n",
    "def test_model_with_real_data():\n",
    "    # Initialize models with new dimensions\n",
    "    encoder = Encoder(input_channels=2).to('cuda')\n",
    "    predictor = TransitionModel(hidden_dim=32).to('cuda')\n",
    "    world_model = WorldModel().to('cuda')\n",
    "    \n",
    "    # Create data loader with actual data\n",
    "    data_path = \"/drive_reader/as16386/DL24FA/train\"\n",
    "    dataloader = create_wall_dataloader(\n",
    "        data_path=data_path,\n",
    "        probing=False,\n",
    "        device=\"cuda\" if torch.cuda.is_available() else \"cpu\",\n",
    "        batch_size=256,\n",
    "        train=True\n",
    "    )\n",
    "    \n",
    "    # Get a batch of data\n",
    "    batch = next(iter(dataloader))\n",
    "    states = batch.states  # [B, T, C, H, W]\n",
    "    actions = batch.actions  # [B, T-1, 2]\n",
    "    \n",
    "    print(\"\\nInput Data Shapes:\")\n",
    "    print(f\"States shape: {states.shape}\")  # Should be [4, T, 2, 65, 65]\n",
    "    print(f\"Actions shape: {actions.shape}\")  # Should be [4, T-1, 2]\n",
    "    print(f\"States min/max: {states.min():.2f}, {states.max():.2f}\")\n",
    "    print(f\"Actions min/max: {actions.min():.2f}, {actions.max():.2f}\")\n",
    "    \n",
    "    # Test encoder with initial state\n",
    "    init_state = states[:, 0]  # Take first timestep\n",
    "    encoded = encoder(init_state)\n",
    "    print(f\"\\nEncoder output shape: {encoded.shape}\")  # Should be [4, 32, 8, 8]\n",
    "    \n",
    "    # Test predictor with a single action\n",
    "    single_action = actions[:, 0]  # Take first action\n",
    "    print(f\"\\nSingle action sample:\")\n",
    "    print(f\"Action values: {single_action[0]}\")  # Print first batch's action\n",
    "    \n",
    "    # Test action processing\n",
    "    B, _, h, w = encoded.shape\n",
    "    action_spatial = single_action.view(B, 2, 1, 1).expand(-1, -1, h, w)\n",
    "    print(f\"\\nAction processing:\")\n",
    "    print(f\"Action after spatial expansion: {action_spatial.shape}\")  # Should be [4, 2, 8, 8]\n",
    "    \n",
    "    # Test action embedding\n",
    "    action_embedded = predictor.action_embed(action_spatial)\n",
    "    print(f\"Action after embedding: {action_embedded.shape}\")  # Should be [4, 32, 8, 8]\n",
    "    \n",
    "    # Test single prediction step\n",
    "    next_state = predictor(encoded, single_action)\n",
    "    print(f\"\\nPrediction shapes:\")\n",
    "    print(f\"Single step prediction: {next_state.shape}\")  # Should be [4, 32, 8, 8]\n",
    "    \n",
    "    # Test full sequence prediction\n",
    "    init_states = states[:, 0:1]  # [B, 1, C, H, W]\n",
    "    sequence_actions = actions  # [B, T-1, 2]\n",
    "    predictions = world_model(init_states, sequence_actions)\n",
    "    print(f\"Full sequence prediction: {predictions.shape}\")\n",
    "    # Should be [B, T, 32, 8, 8]\n",
    "    \n",
    "    # Print compression stats\n",
    "    input_size = states.shape[-2] * states.shape[-1] * states.shape[-3]\n",
    "    encoded_size = encoded.shape[-2] * encoded.shape[-1] * encoded.shape[-3]\n",
    "    compression_ratio = input_size / encoded_size\n",
    "    print(f\"\\nCompression Statistics:\")\n",
    "    print(f\"Input size per frame: {input_size} values\")\n",
    "    print(f\"Encoded size per frame: {encoded_size} values\")\n",
    "    print(f\"Compression ratio: {compression_ratio:.2f}x\")\n",
    "    \n",
    "    # Verify shapes\n",
    "    assert encoded.shape[1] == 32, \"Channel dimension mismatch\"\n",
    "    assert encoded.shape[2] == encoded.shape[3] == 8, \"Spatial dimensions mismatch\"\n",
    "    assert predictions.shape[1] == actions.shape[1] + 1, \"Sequence length mismatch\"\n",
    "    assert predictions.shape[2] == 32, \"Output channel mismatch\"\n",
    "    assert predictions.shape[3] == predictions.shape[4] == 8, \"Output spatial dimension mismatch\"\n",
    "    \n",
    "    print(\"\\nAll dimension tests passed!\")\n",
    "    \n",
    "    # Test multiple forward passes\n",
    "    print(\"\\nTesting multiple forward passes...\")\n",
    "    for i, batch in enumerate(dataloader):\n",
    "        if i >= 3:  # Test with 3 batches\n",
    "            break\n",
    "        states = batch.states\n",
    "        actions = batch.actions\n",
    "        init_states = states[:, 0:1]\n",
    "        with torch.no_grad():\n",
    "            predictions = world_model(init_states, actions)\n",
    "        print(f\"Batch {i+1} processed successfully.\")\n",
    "        \n",
    "        # Print some statistics about the predictions\n",
    "        if i == 0:\n",
    "            print(f\"Prediction stats for batch {i+1}:\")\n",
    "            print(f\"Mean: {predictions.mean():.3f}\")\n",
    "            print(f\"Std: {predictions.std():.3f}\")\n",
    "            print(f\"Min: {predictions.min():.3f}\")\n",
    "            print(f\"Max: {predictions.max():.3f}\")\n",
    "    \n",
    "    return world_model, dataloader\n",
    "\n",
    "if __name__ == \"__main__\":\n",
    "    print(\"Running model tests with real data...\")\n",
    "    model, dataloader = test_model_with_real_data()"
   ]
  },
  {
   "cell_type": "code",
   "execution_count": 8,
   "id": "5a542c1d",
   "metadata": {},
   "outputs": [],
   "source": [
    "# Necessary functions to test prober too\n",
    "from dataset import create_wall_dataloader\n",
    "from evaluator import ProbingEvaluator\n",
    "import torch\n",
    "import glob\n",
    "\n",
    "def get_device():\n",
    "    \"\"\"Check for GPU availability.\"\"\"\n",
    "    device = torch.device(\"cuda\" if torch.cuda.is_available() else \"cpu\")\n",
    "    print(\"Using device:\", device)\n",
    "    return device\n",
    "\n",
    "\n",
    "def load_data(device):\n",
    "    data_path = \"/drive_reader/as16386/DL24FA\"\n",
    "\n",
    "    probe_train_ds = create_wall_dataloader(\n",
    "        data_path=f\"{data_path}/probe_normal/train\",\n",
    "        probing=True,\n",
    "        device=device,\n",
    "        train=True,\n",
    "    )\n",
    "\n",
    "    probe_val_normal_ds = create_wall_dataloader(\n",
    "        data_path=f\"{data_path}/probe_normal/val\",\n",
    "        probing=True,\n",
    "        device=device,\n",
    "        train=False,\n",
    "    )\n",
    "\n",
    "    probe_val_wall_ds = create_wall_dataloader(\n",
    "        data_path=f\"{data_path}/probe_wall/val\",\n",
    "        probing=True,\n",
    "        device=device,\n",
    "        train=False,\n",
    "    )\n",
    "\n",
    "    probe_val_ds = {\"normal\": probe_val_normal_ds, \"wall\": probe_val_wall_ds}\n",
    "\n",
    "    return probe_train_ds, probe_val_ds\n",
    "\n",
    "def create_train_val_loaders(data_path, train_samples=10000, val_samples=2000):\n",
    "    \"\"\"Helper function to create train and validation loaders\"\"\"\n",
    "    train_loader = create_wall_dataloader(\n",
    "        data_path=data_path,\n",
    "        probing=False,\n",
    "        device=\"cuda\",\n",
    "        batch_size=128,\n",
    "        train=True,\n",
    "        num_samples=train_samples\n",
    "    )\n",
    "    \n",
    "    val_loader = create_wall_dataloader(\n",
    "        data_path=data_path,\n",
    "        probing=False,\n",
    "        device=\"cuda\",\n",
    "        batch_size=128,\n",
    "        train=False,\n",
    "        num_samples=val_samples\n",
    "    )\n",
    "    \n",
    "    return train_loader, val_loader\n",
    "\n",
    "def evaluate_model(device, model, probe_train_ds, probe_val_ds):\n",
    "    evaluator = ProbingEvaluator(\n",
    "        device=device,\n",
    "        model=model,\n",
    "        probe_train_ds=probe_train_ds,\n",
    "        probe_val_ds=probe_val_ds,\n",
    "        quick_debug=False,\n",
    "    )\n",
    "\n",
    "    prober = evaluator.train_pred_prober()\n",
    "\n",
    "    avg_losses = evaluator.evaluate_all(prober=prober)\n",
    "\n",
    "    for probe_attr, loss in avg_losses.items():\n",
    "        print(f\"{probe_attr} loss: {loss}\")\n",
    "\n",
    "device = \"cuda\" if torch.cuda.is_available() else \"cpu\"\n",
    "probe_train_ds, probe_val_ds = load_data(device)\n"
   ]
  },
  {
   "cell_type": "code",
   "execution_count": 9,
   "id": "c757cde1-d5d0-4a18-8c98-384222893a87",
   "metadata": {},
   "outputs": [],
   "source": [
    "import torch\n",
    "import torch.nn as nn\n",
    "import torch.nn.functional as F\n",
    "from torch.utils.tensorboard import SummaryWriter\n",
    "import numpy as np\n",
    "from datetime import datetime\n",
    "from tqdm import tqdm\n",
    "from dataset import WallSample\n",
    "\n",
    "class VICRegLoss(nn.Module):\n",
    "    def __init__(self, lambda_param=25.0, mu_param=25.0, nu_param=1.0):\n",
    "        super().__init__()\n",
    "        self.lambda_param = lambda_param  # invariance loss coefficient\n",
    "        self.mu_param = mu_param         # variance loss coefficient\n",
    "        self.nu_param = nu_param         # covariance loss coefficient\n",
    "    \n",
    "    def off_diagonal(self, x):\n",
    "        \"\"\"Return off-diagonal elements of a square matrix\"\"\"\n",
    "        n = x.shape[0]\n",
    "        return x.flatten()[:-1].view(n-1, n+1)[:, 1:].flatten()\n",
    "    \n",
    "    def forward(self, z_a, z_b):\n",
    "        \"\"\"\n",
    "        Args:\n",
    "            z_a, z_b: Batch of representations [N, D]\n",
    "        Returns:\n",
    "            total_loss: Combined VICReg loss\n",
    "            losses: Dictionary containing individual loss components\n",
    "        \"\"\"\n",
    "        N = z_a.shape[0]  # batch size\n",
    "        D = z_a.shape[1]  # dimension\n",
    "        \n",
    "        # Invariance loss (MSE)\n",
    "        sim_loss = F.mse_loss(z_a, z_b)\n",
    "        \n",
    "        # Variance loss\n",
    "        std_z_a = torch.sqrt(z_a.var(dim=0) + 1e-04)\n",
    "        std_z_b = torch.sqrt(z_b.var(dim=0) + 1e-04)\n",
    "        std_loss = (torch.mean(F.relu(1 - std_z_a)) + \n",
    "                   torch.mean(F.relu(1 - std_z_b)))\n",
    "        \n",
    "        # Covariance loss\n",
    "        z_a = z_a - z_a.mean(dim=0)\n",
    "        z_b = z_b - z_b.mean(dim=0)\n",
    "        \n",
    "        cov_z_a = (z_a.T @ z_a) / (N - 1)\n",
    "        cov_z_b = (z_b.T @ z_b) / (N - 1)\n",
    "        \n",
    "        cov_loss = (self.off_diagonal(cov_z_a).pow_(2).sum() / D +\n",
    "                   self.off_diagonal(cov_z_b).pow_(2).sum() / D)\n",
    "        \n",
    "        # Combine losses\n",
    "        total_loss = (self.lambda_param * sim_loss + \n",
    "                     self.mu_param * std_loss + \n",
    "                     self.nu_param * cov_loss)\n",
    "        \n",
    "        # Return individual losses for logging\n",
    "        losses = {\n",
    "            'sim_loss': sim_loss.item(),\n",
    "            'std_loss': std_loss.item(),\n",
    "            'cov_loss': cov_loss.item(),\n",
    "            'total_loss': total_loss.item()\n",
    "        }\n",
    "        \n",
    "        return total_loss, losses\n",
    "\n",
    "class WorldModelVICReg(nn.Module):\n",
    "    def __init__(self, lambda_param=25.0, mu_param=25.0, nu_param=1.0):\n",
    "        super().__init__()\n",
    "        self.encoder = Encoder(input_channels=2)\n",
    "        self.predictor = TransitionModel(hidden_dim=32)\n",
    "        self.criterion = VICRegLoss(lambda_param, mu_param, nu_param)\n",
    "        self.repr_dim = 32 * 8 * 8\n",
    "    \n",
    "    def compute_vicreg_loss(self, pred_state, target_obs):\n",
    "        \"\"\"Compute VICReg loss between predicted and encoded target states\"\"\"\n",
    "        # Get target encoding\n",
    "        target_state = self.encoder(target_obs)\n",
    "        \n",
    "        # Flatten spatial dimensions: [B, 32, 8, 8] -> [B, 2048]\n",
    "        pred_flat = pred_state.flatten(start_dim=1)\n",
    "        target_flat = target_state.flatten(start_dim=1)\n",
    "        \n",
    "        # Compute VICReg losses\n",
    "        total_loss, component_losses = self.criterion(pred_flat, target_flat)\n",
    "        return total_loss, component_losses\n",
    "    \n",
    "    def training_step(self, batch):\n",
    "        states = batch.states\n",
    "        actions = batch.actions\n",
    "        \n",
    "        # Get initial state\n",
    "        init_states = states[:, 0:1]\n",
    "        \n",
    "        # Get predictions for all steps\n",
    "        predictions = self.forward_prediction(init_states, actions)\n",
    "        \n",
    "        # Initialize losses\n",
    "        total_loss = 0.0\n",
    "        accumulated_losses = {\n",
    "            'sim_loss': 0.0,\n",
    "            'std_loss': 0.0,\n",
    "            'cov_loss': 0.0,\n",
    "            'total_loss': 0.0\n",
    "        }\n",
    "        \n",
    "        # Compute VICReg loss for each timestep\n",
    "        for t in range(actions.shape[1]):\n",
    "            pred_state = predictions[:, t+1]\n",
    "            target_obs = states[:, t+1]\n",
    "            \n",
    "            loss, component_losses = self.compute_vicreg_loss(pred_state, target_obs)\n",
    "            total_loss += loss\n",
    "            \n",
    "            # Accumulate component losses\n",
    "            for k in accumulated_losses:\n",
    "                accumulated_losses[k] += component_losses[k]\n",
    "        \n",
    "        # Average losses over timesteps\n",
    "        for k in accumulated_losses:\n",
    "            accumulated_losses[k] /= actions.shape[1]\n",
    "        \n",
    "        return total_loss / actions.shape[1], predictions, accumulated_losses\n",
    "\n",
    "\n",
    "    def forward_prediction(self, states, actions):\n",
    "        \"\"\"\n",
    "        Forward pass for prediction of future states\n",
    "        Args:\n",
    "            states: [B, 1, 2, 65, 65] - Initial state only\n",
    "            actions: [B, T-1, 2] - Sequence of T-1 actions\n",
    "        Returns:\n",
    "            predictions: [B, T, 32, 8, 8] - Predicted representations\n",
    "        \"\"\"\n",
    "        B, _, _, H, W = states.shape\n",
    "        T = actions.shape[1] + 1\n",
    "        \n",
    "        # Get initial state encoding\n",
    "        curr_state = self.encoder(states.squeeze(1))\n",
    "        predictions = [curr_state]\n",
    "        \n",
    "        # Predict future states\n",
    "        for t in range(T-1):\n",
    "            curr_state = self.predictor(curr_state, actions[:, t])\n",
    "            predictions.append(curr_state)\n",
    "            \n",
    "        predictions = torch.stack(predictions, dim=1)\n",
    "        return predictions\n"
   ]
  },
  {
   "cell_type": "code",
   "execution_count": 10,
   "id": "1fb94ac6-04ce-449e-9ff8-530b0c297049",
   "metadata": {},
   "outputs": [],
   "source": [
    "import os \n",
    "\n",
    "\n",
    "class WorldModelTrainer:\n",
    "    def __init__(self, model, train_loader, val_loader, learning_rate=3e-5, \n",
    "                 device='cuda', log_dir='runs', probe_train_data = probe_train_ds, probe_val_data = probe_val_ds):\n",
    "        self.model = model.to(device)\n",
    "        self.train_loader = train_loader\n",
    "        self.val_loader = val_loader\n",
    "        self.device = device\n",
    "        self.optimizer = torch.optim.Adam(model.parameters(), lr=learning_rate, weight_decay=1e-5)\n",
    "        self.probe_train_data = probe_train_data\n",
    "        self.probe_val_data = probe_val_data\n",
    "        \n",
    "        # Initialize tensorboard writer\n",
    "        current_time = datetime.now().strftime('%Y%m%d-%H%M%S')\n",
    "        self.writer = SummaryWriter(f'{log_dir}/{current_time}')\n",
    "        \n",
    "        # Save hyperparameters\n",
    "        self.writer.add_text('hyperparameters', f'''\n",
    "        learning_rate: {learning_rate}\n",
    "        batch_size: {train_loader.batch_size}\n",
    "        model_channels: {model.encoder.repr_dim}\n",
    "        ''')\n",
    "\n",
    "    def validate(self, epoch):\n",
    "        self.model.eval()\n",
    "        total_val_loss = 0.0\n",
    "        val_losses = {\n",
    "            'total_loss': 0.0,\n",
    "            'sim_loss': 0.0,\n",
    "            'std_loss': 0.0,\n",
    "            'cov_loss': 0.0\n",
    "        }\n",
    "        \n",
    "        with torch.no_grad():\n",
    "            for batch in self.val_loader:\n",
    "                states = batch.states.to(self.device)\n",
    "                actions = batch.actions.to(self.device)\n",
    "                \n",
    "                loss, _, component_losses = self.model.training_step(\n",
    "                    WallSample(states=states, actions=actions, locations=batch.locations)\n",
    "                )\n",
    "                \n",
    "                total_val_loss += loss.item()\n",
    "                for k in val_losses:\n",
    "                    val_losses[k] += component_losses[k]\n",
    "        \n",
    "        # Average the losses\n",
    "        num_batches = len(self.val_loader)\n",
    "        total_val_loss /= num_batches\n",
    "        for k in val_losses:\n",
    "            val_losses[k] /= num_batches\n",
    "            \n",
    "        return total_val_loss, val_losses\n",
    "\n",
    "\n",
    "    def train_epoch(self, epoch):\n",
    "        self.model.train()\n",
    "        total_train_loss = 0.0  # Changed variable name for clarity\n",
    "        train_losses = {\n",
    "            'total_loss': 0.0,\n",
    "            'sim_loss': 0.0,\n",
    "            'std_loss': 0.0,\n",
    "            'cov_loss': 0.0\n",
    "        }\n",
    "        \n",
    "        for batch_idx, batch in enumerate(tqdm(self.train_loader, desc=f\"Epoch {epoch}\")):\n",
    "            self.optimizer.zero_grad()\n",
    "            \n",
    "            states = batch.states.to(self.device)\n",
    "            actions = batch.actions.to(self.device)\n",
    "            \n",
    "            loss, _, component_losses = self.model.training_step(\n",
    "                WallSample(states=states, actions=actions, locations=batch.locations)\n",
    "            )\n",
    "            \n",
    "            # Add backpropagation steps\n",
    "            loss.backward()\n",
    "            torch.nn.utils.clip_grad_norm_(self.model.parameters(), max_norm=1.0)\n",
    "            \n",
    "            self.optimizer.step()\n",
    "\n",
    "            # Update running losses\n",
    "            total_train_loss += loss.item()\n",
    "            for k in train_losses:\n",
    "                train_losses[k] += component_losses[k]\n",
    "        \n",
    "        # Average the losses\n",
    "        num_batches = len(self.train_loader)\n",
    "        total_train_loss /= num_batches\n",
    "        for k in train_losses:\n",
    "            train_losses[k] /= num_batches\n",
    "        \n",
    "        evaluate_model(self.device, self.model, self.probe_train_data, self.probe_val_data)\n",
    "            \n",
    "        return total_train_loss, train_losses  # Return both total loss and component losses\n",
    "\n",
    "    \n",
    "    def save_checkpoint(self, epoch, loss):\n",
    "        \"\"\"Save model checkpoint\"\"\"\n",
    "        checkpoint = {\n",
    "            'epoch': epoch,\n",
    "            'model_state_dict': self.model.state_dict(),\n",
    "            'optimizer_state_dict': self.optimizer.state_dict(),\n",
    "            'loss': loss,\n",
    "        }\n",
    "        path = f'cnn_based_checkpoints/checkpoint_epoch_{epoch}.pt'\n",
    "        os.makedirs('checkpoints', exist_ok=True)\n",
    "        torch.save(checkpoint, path)\n",
    "    \n",
    "    def train(self, num_epochs):\n",
    "        best_val_loss = float('inf')\n",
    "        \n",
    "        for epoch in range(num_epochs):\n",
    "            print(f\"\\nEpoch {epoch + 1}/{num_epochs}\")\n",
    "            \n",
    "            # Train\n",
    "            train_loss, train_losses = self.train_epoch(epoch)\n",
    "            \n",
    "            # Validate\n",
    "            val_loss, val_losses = self.validate(epoch)\n",
    "            \n",
    "            # Print epoch summary\n",
    "            print(\"\\nEpoch Summary:\")\n",
    "            print(\"Training Losses:\")\n",
    "            for k, v in train_losses.items():\n",
    "                print(f\"{k}: {v:.4f}\")\n",
    "            print(\"\\nValidation Losses:\")\n",
    "            for k, v in val_losses.items():\n",
    "                print(f\"{k}: {v:.4f}\")\n",
    "            \n",
    "            # Save best model\n",
    "            if val_loss < best_val_loss:\n",
    "                best_val_loss = val_loss\n",
    "                self.save_checkpoint(epoch, val_loss)\n",
    "                print(\"New best model saved!\")"
   ]
  },
  {
   "cell_type": "code",
   "execution_count": 11,
   "id": "11dc2dbf",
   "metadata": {},
   "outputs": [],
   "source": [
    "def create_train_val_loaders(data_path, train_samples=10000, val_samples=2000):\n",
    "    \"\"\"Helper function to create train and validation loaders\"\"\"\n",
    "    train_loader = create_wall_dataloader(\n",
    "        data_path=data_path,\n",
    "        probing=False,\n",
    "        device=\"cuda\",\n",
    "        batch_size=128,\n",
    "        train=True,\n",
    "        num_samples=train_samples\n",
    "    )\n",
    "    \n",
    "    val_loader = create_wall_dataloader(\n",
    "        data_path=data_path,\n",
    "        probing=False,\n",
    "        device=\"cuda\",\n",
    "        batch_size=128,\n",
    "        train=False,\n",
    "        num_samples=val_samples\n",
    "    )\n",
    "    \n",
    "    return train_loader, val_loader"
   ]
  },
  {
   "cell_type": "code",
   "execution_count": 12,
   "id": "4cc9ae01-d991-481b-b466-8352253dbbed",
   "metadata": {},
   "outputs": [
    {
     "name": "stdout",
     "output_type": "stream",
     "text": [
      "\n",
      "Epoch 1/100\n"
     ]
    },
    {
     "name": "stderr",
     "output_type": "stream",
     "text": [
      "Epoch 0: 100%|██████████| 390/390 [03:52<00:00,  1.68it/s]\n",
      "Probe prediction epochs:   0%|          | 0/20 [00:00<?, ?it/s]"
     ]
    },
    {
     "name": "stdout",
     "output_type": "stream",
     "text": [
      "normalized pred locations loss 1.097769856452942\n"
     ]
    },
    {
     "name": "stderr",
     "output_type": "stream",
     "text": [
      "Probe prediction step:  55%|█████▌    | 86/156 [00:55<00:44,  1.56it/s]\n",
      "Probe prediction epochs:   0%|          | 0/20 [00:55<?, ?it/s]\n"
     ]
    },
    {
     "ename": "KeyboardInterrupt",
     "evalue": "",
     "output_type": "error",
     "traceback": [
      "\u001b[0;31m---------------------------------------------------------------------------\u001b[0m",
      "\u001b[0;31mKeyboardInterrupt\u001b[0m                         Traceback (most recent call last)",
      "Cell \u001b[0;32mIn[12], line 16\u001b[0m\n\u001b[1;32m     14\u001b[0m \u001b[38;5;66;03m# Initialize trainer and train\u001b[39;00m\n\u001b[1;32m     15\u001b[0m trainer \u001b[38;5;241m=\u001b[39m WorldModelTrainer(model, train_loader, val_loader)\n\u001b[0;32m---> 16\u001b[0m \u001b[43mtrainer\u001b[49m\u001b[38;5;241;43m.\u001b[39;49m\u001b[43mtrain\u001b[49m\u001b[43m(\u001b[49m\u001b[43mnum_epochs\u001b[49m\u001b[38;5;241;43m=\u001b[39;49m\u001b[38;5;241;43m100\u001b[39;49m\u001b[43m)\u001b[49m\n",
      "Cell \u001b[0;32mIn[10], line 119\u001b[0m, in \u001b[0;36mWorldModelTrainer.train\u001b[0;34m(self, num_epochs)\u001b[0m\n\u001b[1;32m    116\u001b[0m \u001b[38;5;28mprint\u001b[39m(\u001b[38;5;124mf\u001b[39m\u001b[38;5;124m\"\u001b[39m\u001b[38;5;130;01m\\n\u001b[39;00m\u001b[38;5;124mEpoch \u001b[39m\u001b[38;5;132;01m{\u001b[39;00mepoch\u001b[38;5;250m \u001b[39m\u001b[38;5;241m+\u001b[39m\u001b[38;5;250m \u001b[39m\u001b[38;5;241m1\u001b[39m\u001b[38;5;132;01m}\u001b[39;00m\u001b[38;5;124m/\u001b[39m\u001b[38;5;132;01m{\u001b[39;00mnum_epochs\u001b[38;5;132;01m}\u001b[39;00m\u001b[38;5;124m\"\u001b[39m)\n\u001b[1;32m    118\u001b[0m \u001b[38;5;66;03m# Train\u001b[39;00m\n\u001b[0;32m--> 119\u001b[0m train_loss, train_losses \u001b[38;5;241m=\u001b[39m \u001b[38;5;28;43mself\u001b[39;49m\u001b[38;5;241;43m.\u001b[39;49m\u001b[43mtrain_epoch\u001b[49m\u001b[43m(\u001b[49m\u001b[43mepoch\u001b[49m\u001b[43m)\u001b[49m\n\u001b[1;32m    121\u001b[0m \u001b[38;5;66;03m# Validate\u001b[39;00m\n\u001b[1;32m    122\u001b[0m val_loss, val_losses \u001b[38;5;241m=\u001b[39m \u001b[38;5;28mself\u001b[39m\u001b[38;5;241m.\u001b[39mvalidate(epoch)\n",
      "Cell \u001b[0;32mIn[10], line 95\u001b[0m, in \u001b[0;36mWorldModelTrainer.train_epoch\u001b[0;34m(self, epoch)\u001b[0m\n\u001b[1;32m     92\u001b[0m \u001b[38;5;28;01mfor\u001b[39;00m k \u001b[38;5;129;01min\u001b[39;00m train_losses:\n\u001b[1;32m     93\u001b[0m     train_losses[k] \u001b[38;5;241m/\u001b[39m\u001b[38;5;241m=\u001b[39m num_batches\n\u001b[0;32m---> 95\u001b[0m \u001b[43mevaluate_model\u001b[49m\u001b[43m(\u001b[49m\u001b[38;5;28;43mself\u001b[39;49m\u001b[38;5;241;43m.\u001b[39;49m\u001b[43mdevice\u001b[49m\u001b[43m,\u001b[49m\u001b[43m \u001b[49m\u001b[38;5;28;43mself\u001b[39;49m\u001b[38;5;241;43m.\u001b[39;49m\u001b[43mmodel\u001b[49m\u001b[43m,\u001b[49m\u001b[43m \u001b[49m\u001b[38;5;28;43mself\u001b[39;49m\u001b[38;5;241;43m.\u001b[39;49m\u001b[43mprobe_train_data\u001b[49m\u001b[43m,\u001b[49m\u001b[43m \u001b[49m\u001b[38;5;28;43mself\u001b[39;49m\u001b[38;5;241;43m.\u001b[39;49m\u001b[43mprobe_val_data\u001b[49m\u001b[43m)\u001b[49m\n\u001b[1;32m     97\u001b[0m \u001b[38;5;28;01mreturn\u001b[39;00m total_train_loss, train_losses\n",
      "Cell \u001b[0;32mIn[8], line 73\u001b[0m, in \u001b[0;36mevaluate_model\u001b[0;34m(device, model, probe_train_ds, probe_val_ds)\u001b[0m\n\u001b[1;32m     64\u001b[0m \u001b[38;5;28;01mdef\u001b[39;00m \u001b[38;5;21mevaluate_model\u001b[39m(device, model, probe_train_ds, probe_val_ds):\n\u001b[1;32m     65\u001b[0m     evaluator \u001b[38;5;241m=\u001b[39m ProbingEvaluator(\n\u001b[1;32m     66\u001b[0m         device\u001b[38;5;241m=\u001b[39mdevice,\n\u001b[1;32m     67\u001b[0m         model\u001b[38;5;241m=\u001b[39mmodel,\n\u001b[0;32m   (...)\u001b[0m\n\u001b[1;32m     70\u001b[0m         quick_debug\u001b[38;5;241m=\u001b[39m\u001b[38;5;28;01mFalse\u001b[39;00m,\n\u001b[1;32m     71\u001b[0m     )\n\u001b[0;32m---> 73\u001b[0m     prober \u001b[38;5;241m=\u001b[39m \u001b[43mevaluator\u001b[49m\u001b[38;5;241;43m.\u001b[39;49m\u001b[43mtrain_pred_prober\u001b[49m\u001b[43m(\u001b[49m\u001b[43m)\u001b[49m\n\u001b[1;32m     75\u001b[0m     avg_losses \u001b[38;5;241m=\u001b[39m evaluator\u001b[38;5;241m.\u001b[39mevaluate_all(prober\u001b[38;5;241m=\u001b[39mprober)\n\u001b[1;32m     77\u001b[0m     \u001b[38;5;28;01mfor\u001b[39;00m probe_attr, loss \u001b[38;5;129;01min\u001b[39;00m avg_losses\u001b[38;5;241m.\u001b[39mitems():\n",
      "File \u001b[0;32m/drive_reader/as16386/DL-final-proj/Chill-Pill/evaluator.py:112\u001b[0m, in \u001b[0;36mProbingEvaluator.train_pred_prober\u001b[0;34m(self)\u001b[0m\n\u001b[1;32m    101\u001b[0m scheduler \u001b[38;5;241m=\u001b[39m Scheduler(\n\u001b[1;32m    102\u001b[0m     schedule\u001b[38;5;241m=\u001b[39m\u001b[38;5;28mself\u001b[39m\u001b[38;5;241m.\u001b[39mconfig\u001b[38;5;241m.\u001b[39mschedule,\n\u001b[1;32m    103\u001b[0m     base_lr\u001b[38;5;241m=\u001b[39mconfig\u001b[38;5;241m.\u001b[39mlr,\n\u001b[0;32m   (...)\u001b[0m\n\u001b[1;32m    108\u001b[0m     batch_size\u001b[38;5;241m=\u001b[39mbatch_size,\n\u001b[1;32m    109\u001b[0m )\n\u001b[1;32m    111\u001b[0m \u001b[38;5;28;01mfor\u001b[39;00m epoch \u001b[38;5;129;01min\u001b[39;00m tqdm(\u001b[38;5;28mrange\u001b[39m(epochs), desc\u001b[38;5;241m=\u001b[39m\u001b[38;5;124mf\u001b[39m\u001b[38;5;124m\"\u001b[39m\u001b[38;5;124mProbe prediction epochs\u001b[39m\u001b[38;5;124m\"\u001b[39m):\n\u001b[0;32m--> 112\u001b[0m     \u001b[38;5;28;01mfor\u001b[39;00m batch \u001b[38;5;129;01min\u001b[39;00m tqdm(dataset, desc\u001b[38;5;241m=\u001b[39m\u001b[38;5;124m\"\u001b[39m\u001b[38;5;124mProbe prediction step\u001b[39m\u001b[38;5;124m\"\u001b[39m):\n\u001b[1;32m    113\u001b[0m         \u001b[38;5;66;03m################################################################################\u001b[39;00m\n\u001b[1;32m    114\u001b[0m         \u001b[38;5;66;03m# TODO: Forward pass through your model\u001b[39;00m\n\u001b[1;32m    115\u001b[0m         init_states \u001b[38;5;241m=\u001b[39m batch\u001b[38;5;241m.\u001b[39mstates[:, \u001b[38;5;241m0\u001b[39m:\u001b[38;5;241m1\u001b[39m]\n\u001b[1;32m    116\u001b[0m         pred_encs \u001b[38;5;241m=\u001b[39m model\u001b[38;5;241m.\u001b[39mforward_prediction(states\u001b[38;5;241m=\u001b[39minit_states, actions\u001b[38;5;241m=\u001b[39mbatch\u001b[38;5;241m.\u001b[39mactions)\n",
      "File \u001b[0;32m/drive_reader/as16386/DL-final-proj/dl_env/lib/python3.10/site-packages/tqdm/std.py:1178\u001b[0m, in \u001b[0;36mtqdm.__iter__\u001b[0;34m(self)\u001b[0m\n\u001b[1;32m   1175\u001b[0m time \u001b[38;5;241m=\u001b[39m \u001b[38;5;28mself\u001b[39m\u001b[38;5;241m.\u001b[39m_time\n\u001b[1;32m   1177\u001b[0m \u001b[38;5;28;01mtry\u001b[39;00m:\n\u001b[0;32m-> 1178\u001b[0m     \u001b[38;5;28;01mfor\u001b[39;00m obj \u001b[38;5;129;01min\u001b[39;00m iterable:\n\u001b[1;32m   1179\u001b[0m         \u001b[38;5;28;01myield\u001b[39;00m obj\n\u001b[1;32m   1180\u001b[0m         \u001b[38;5;66;03m# Update and possibly print the progressbar.\u001b[39;00m\n\u001b[1;32m   1181\u001b[0m         \u001b[38;5;66;03m# Note: does not call self.update(1) for speed optimisation.\u001b[39;00m\n",
      "File \u001b[0;32m/drive_reader/as16386/DL-final-proj/dl_env/lib/python3.10/site-packages/torch/utils/data/dataloader.py:701\u001b[0m, in \u001b[0;36m_BaseDataLoaderIter.__next__\u001b[0;34m(self)\u001b[0m\n\u001b[1;32m    698\u001b[0m \u001b[38;5;28;01mif\u001b[39;00m \u001b[38;5;28mself\u001b[39m\u001b[38;5;241m.\u001b[39m_sampler_iter \u001b[38;5;129;01mis\u001b[39;00m \u001b[38;5;28;01mNone\u001b[39;00m:\n\u001b[1;32m    699\u001b[0m     \u001b[38;5;66;03m# TODO(https://github.com/pytorch/pytorch/issues/76750)\u001b[39;00m\n\u001b[1;32m    700\u001b[0m     \u001b[38;5;28mself\u001b[39m\u001b[38;5;241m.\u001b[39m_reset()  \u001b[38;5;66;03m# type: ignore[call-arg]\u001b[39;00m\n\u001b[0;32m--> 701\u001b[0m data \u001b[38;5;241m=\u001b[39m \u001b[38;5;28;43mself\u001b[39;49m\u001b[38;5;241;43m.\u001b[39;49m\u001b[43m_next_data\u001b[49m\u001b[43m(\u001b[49m\u001b[43m)\u001b[49m\n\u001b[1;32m    702\u001b[0m \u001b[38;5;28mself\u001b[39m\u001b[38;5;241m.\u001b[39m_num_yielded \u001b[38;5;241m+\u001b[39m\u001b[38;5;241m=\u001b[39m \u001b[38;5;241m1\u001b[39m\n\u001b[1;32m    703\u001b[0m \u001b[38;5;28;01mif\u001b[39;00m (\n\u001b[1;32m    704\u001b[0m     \u001b[38;5;28mself\u001b[39m\u001b[38;5;241m.\u001b[39m_dataset_kind \u001b[38;5;241m==\u001b[39m _DatasetKind\u001b[38;5;241m.\u001b[39mIterable\n\u001b[1;32m    705\u001b[0m     \u001b[38;5;129;01mand\u001b[39;00m \u001b[38;5;28mself\u001b[39m\u001b[38;5;241m.\u001b[39m_IterableDataset_len_called \u001b[38;5;129;01mis\u001b[39;00m \u001b[38;5;129;01mnot\u001b[39;00m \u001b[38;5;28;01mNone\u001b[39;00m\n\u001b[1;32m    706\u001b[0m     \u001b[38;5;129;01mand\u001b[39;00m \u001b[38;5;28mself\u001b[39m\u001b[38;5;241m.\u001b[39m_num_yielded \u001b[38;5;241m>\u001b[39m \u001b[38;5;28mself\u001b[39m\u001b[38;5;241m.\u001b[39m_IterableDataset_len_called\n\u001b[1;32m    707\u001b[0m ):\n",
      "File \u001b[0;32m/drive_reader/as16386/DL-final-proj/dl_env/lib/python3.10/site-packages/torch/utils/data/dataloader.py:757\u001b[0m, in \u001b[0;36m_SingleProcessDataLoaderIter._next_data\u001b[0;34m(self)\u001b[0m\n\u001b[1;32m    755\u001b[0m \u001b[38;5;28;01mdef\u001b[39;00m \u001b[38;5;21m_next_data\u001b[39m(\u001b[38;5;28mself\u001b[39m):\n\u001b[1;32m    756\u001b[0m     index \u001b[38;5;241m=\u001b[39m \u001b[38;5;28mself\u001b[39m\u001b[38;5;241m.\u001b[39m_next_index()  \u001b[38;5;66;03m# may raise StopIteration\u001b[39;00m\n\u001b[0;32m--> 757\u001b[0m     data \u001b[38;5;241m=\u001b[39m \u001b[38;5;28;43mself\u001b[39;49m\u001b[38;5;241;43m.\u001b[39;49m\u001b[43m_dataset_fetcher\u001b[49m\u001b[38;5;241;43m.\u001b[39;49m\u001b[43mfetch\u001b[49m\u001b[43m(\u001b[49m\u001b[43mindex\u001b[49m\u001b[43m)\u001b[49m  \u001b[38;5;66;03m# may raise StopIteration\u001b[39;00m\n\u001b[1;32m    758\u001b[0m     \u001b[38;5;28;01mif\u001b[39;00m \u001b[38;5;28mself\u001b[39m\u001b[38;5;241m.\u001b[39m_pin_memory:\n\u001b[1;32m    759\u001b[0m         data \u001b[38;5;241m=\u001b[39m _utils\u001b[38;5;241m.\u001b[39mpin_memory\u001b[38;5;241m.\u001b[39mpin_memory(data, \u001b[38;5;28mself\u001b[39m\u001b[38;5;241m.\u001b[39m_pin_memory_device)\n",
      "File \u001b[0;32m/drive_reader/as16386/DL-final-proj/dl_env/lib/python3.10/site-packages/torch/utils/data/_utils/fetch.py:52\u001b[0m, in \u001b[0;36m_MapDatasetFetcher.fetch\u001b[0;34m(self, possibly_batched_index)\u001b[0m\n\u001b[1;32m     50\u001b[0m         data \u001b[38;5;241m=\u001b[39m \u001b[38;5;28mself\u001b[39m\u001b[38;5;241m.\u001b[39mdataset\u001b[38;5;241m.\u001b[39m__getitems__(possibly_batched_index)\n\u001b[1;32m     51\u001b[0m     \u001b[38;5;28;01melse\u001b[39;00m:\n\u001b[0;32m---> 52\u001b[0m         data \u001b[38;5;241m=\u001b[39m [\u001b[38;5;28mself\u001b[39m\u001b[38;5;241m.\u001b[39mdataset[idx] \u001b[38;5;28;01mfor\u001b[39;00m idx \u001b[38;5;129;01min\u001b[39;00m possibly_batched_index]\n\u001b[1;32m     53\u001b[0m \u001b[38;5;28;01melse\u001b[39;00m:\n\u001b[1;32m     54\u001b[0m     data \u001b[38;5;241m=\u001b[39m \u001b[38;5;28mself\u001b[39m\u001b[38;5;241m.\u001b[39mdataset[possibly_batched_index]\n",
      "File \u001b[0;32m/drive_reader/as16386/DL-final-proj/dl_env/lib/python3.10/site-packages/torch/utils/data/_utils/fetch.py:52\u001b[0m, in \u001b[0;36m<listcomp>\u001b[0;34m(.0)\u001b[0m\n\u001b[1;32m     50\u001b[0m         data \u001b[38;5;241m=\u001b[39m \u001b[38;5;28mself\u001b[39m\u001b[38;5;241m.\u001b[39mdataset\u001b[38;5;241m.\u001b[39m__getitems__(possibly_batched_index)\n\u001b[1;32m     51\u001b[0m     \u001b[38;5;28;01melse\u001b[39;00m:\n\u001b[0;32m---> 52\u001b[0m         data \u001b[38;5;241m=\u001b[39m [\u001b[38;5;28;43mself\u001b[39;49m\u001b[38;5;241;43m.\u001b[39;49m\u001b[43mdataset\u001b[49m\u001b[43m[\u001b[49m\u001b[43midx\u001b[49m\u001b[43m]\u001b[49m \u001b[38;5;28;01mfor\u001b[39;00m idx \u001b[38;5;129;01min\u001b[39;00m possibly_batched_index]\n\u001b[1;32m     53\u001b[0m \u001b[38;5;28;01melse\u001b[39;00m:\n\u001b[1;32m     54\u001b[0m     data \u001b[38;5;241m=\u001b[39m \u001b[38;5;28mself\u001b[39m\u001b[38;5;241m.\u001b[39mdataset[possibly_batched_index]\n",
      "File \u001b[0;32m/drive_reader/as16386/DL-final-proj/Chill-Pill/dataset.py:31\u001b[0m, in \u001b[0;36mWallDataset.__getitem__\u001b[0;34m(self, i)\u001b[0m\n\u001b[1;32m     30\u001b[0m \u001b[38;5;28;01mdef\u001b[39;00m \u001b[38;5;21m__getitem__\u001b[39m(\u001b[38;5;28mself\u001b[39m, i):\n\u001b[0;32m---> 31\u001b[0m     states \u001b[38;5;241m=\u001b[39m \u001b[43mtorch\u001b[49m\u001b[38;5;241;43m.\u001b[39;49m\u001b[43mfrom_numpy\u001b[49m\u001b[43m(\u001b[49m\u001b[38;5;28;43mself\u001b[39;49m\u001b[38;5;241;43m.\u001b[39;49m\u001b[43mstates\u001b[49m\u001b[43m[\u001b[49m\u001b[43mi\u001b[49m\u001b[43m]\u001b[49m\u001b[43m)\u001b[49m\u001b[38;5;241;43m.\u001b[39;49m\u001b[43mfloat\u001b[49m\u001b[43m(\u001b[49m\u001b[43m)\u001b[49m\u001b[38;5;241;43m.\u001b[39;49m\u001b[43mto\u001b[49m\u001b[43m(\u001b[49m\u001b[38;5;28;43mself\u001b[39;49m\u001b[38;5;241;43m.\u001b[39;49m\u001b[43mdevice\u001b[49m\u001b[43m)\u001b[49m\n\u001b[1;32m     32\u001b[0m     actions \u001b[38;5;241m=\u001b[39m torch\u001b[38;5;241m.\u001b[39mfrom_numpy(\u001b[38;5;28mself\u001b[39m\u001b[38;5;241m.\u001b[39mactions[i])\u001b[38;5;241m.\u001b[39mfloat()\u001b[38;5;241m.\u001b[39mto(\u001b[38;5;28mself\u001b[39m\u001b[38;5;241m.\u001b[39mdevice)\n\u001b[1;32m     34\u001b[0m     \u001b[38;5;28;01mif\u001b[39;00m \u001b[38;5;28mself\u001b[39m\u001b[38;5;241m.\u001b[39mlocations \u001b[38;5;129;01mis\u001b[39;00m \u001b[38;5;129;01mnot\u001b[39;00m \u001b[38;5;28;01mNone\u001b[39;00m:\n",
      "\u001b[0;31mKeyboardInterrupt\u001b[0m: "
     ]
    },
    {
     "ename": "",
     "evalue": "",
     "output_type": "error",
     "traceback": [
      "\u001b[1;31mThe Kernel crashed while executing code in the current cell or a previous cell. \n",
      "\u001b[1;31mPlease review the code in the cell(s) to identify a possible cause of the failure. \n",
      "\u001b[1;31mClick <a href='https://aka.ms/vscodeJupyterKernelCrash'>here</a> for more info. \n",
      "\u001b[1;31mView Jupyter <a href='command:jupyter.viewOutput'>log</a> for further details."
     ]
    }
   ],
   "source": [
    "# Initialize model and dataloaders\n",
    "model = WorldModelVICReg(\n",
    "    lambda_param=25.0,\n",
    "    mu_param=25.0,\n",
    "    nu_param=1.0\n",
    ")\n",
    "\n",
    "train_loader, val_loader = create_train_val_loaders(\n",
    "    data_path=\"/drive_reader/as16386/DL24FA/train\",\n",
    "    train_samples=50000,\n",
    "    val_samples=None\n",
    ")\n",
    "\n",
    "# Initialize trainer and train\n",
    "trainer = WorldModelTrainer(model, train_loader, val_loader)\n",
    "trainer.train(num_epochs=100)"
   ]
  },
  {
   "cell_type": "code",
   "execution_count": 4,
   "id": "47a9bd16-8568-4df4-ae39-f0684b2ba38e",
   "metadata": {},
   "outputs": [
    {
     "name": "stderr",
     "output_type": "stream",
     "text": [
      "/tmp/ipykernel_331203/1643938793.py:2: FutureWarning: You are using `torch.load` with `weights_only=False` (the current default value), which uses the default pickle module implicitly. It is possible to construct malicious pickle data which will execute arbitrary code during unpickling (See https://github.com/pytorch/pytorch/blob/main/SECURITY.md#untrusted-models for more details). In a future release, the default value for `weights_only` will be flipped to `True`. This limits the functions that could be executed during unpickling. Arbitrary objects will no longer be allowed to be loaded via this mode unless they are explicitly allowlisted by the user via `torch.serialization.add_safe_globals`. We recommend you start setting `weights_only=True` for any use case where you don't have full control of the loaded file. Please open an issue on GitHub for any issues related to this experimental feature.\n",
      "  model.load_state_dict(torch.load('checkpoints/checkpoint_epoch_0.pt')['model_state_dict'])\n"
     ]
    },
    {
     "data": {
      "text/plain": [
       "<All keys matched successfully>"
      ]
     },
     "execution_count": 4,
     "metadata": {},
     "output_type": "execute_result"
    }
   ],
   "source": [
    "# BEST MODEL SO FAR!\n",
    "model = WorldModelVICReg().to('cuda')\n",
    "model.load_state_dict(torch.load('checkpoints/checkpoint_epoch_0.pt')['model_state_dict'])"
   ]
  },
  {
   "cell_type": "code",
   "execution_count": 48,
   "id": "b88292c3",
   "metadata": {},
   "outputs": [],
   "source": [
    "from dataset import create_wall_dataloader\n",
    "from evaluator import ProbingEvaluator\n",
    "import torch\n",
    "import glob\n",
    "\n",
    "def get_device():\n",
    "    \"\"\"Check for GPU availability.\"\"\"\n",
    "    device = torch.device(\"cuda\" if torch.cuda.is_available() else \"cpu\")\n",
    "    print(\"Using device:\", device)\n",
    "    return device\n",
    "\n",
    "\n",
    "def load_data(device):\n",
    "    data_path = \"/drive_reader/as16386/DL24FA\"\n",
    "\n",
    "    probe_train_ds = create_wall_dataloader(\n",
    "        data_path=f\"{data_path}/probe_normal/train\",\n",
    "        probing=True,\n",
    "        device=device,\n",
    "        train=True,\n",
    "    )\n",
    "\n",
    "    probe_val_normal_ds = create_wall_dataloader(\n",
    "        data_path=f\"{data_path}/probe_normal/val\",\n",
    "        probing=True,\n",
    "        device=device,\n",
    "        train=False,\n",
    "    )\n",
    "\n",
    "    probe_val_wall_ds = create_wall_dataloader(\n",
    "        data_path=f\"{data_path}/probe_wall/val\",\n",
    "        probing=True,\n",
    "        device=device,\n",
    "        train=False,\n",
    "    )\n",
    "\n",
    "    probe_val_ds = {\"normal\": probe_val_normal_ds, \"wall\": probe_val_wall_ds}\n",
    "\n",
    "    return probe_train_ds, probe_val_ds"
   ]
  },
  {
   "cell_type": "code",
   "execution_count": 49,
   "id": "5a8d13b9",
   "metadata": {},
   "outputs": [],
   "source": [
    "def evaluate_model(device, model, probe_train_ds, probe_val_ds):\n",
    "    evaluator = ProbingEvaluator(\n",
    "        device=device,\n",
    "        model=model,\n",
    "        probe_train_ds=probe_train_ds,\n",
    "        probe_val_ds=probe_val_ds,\n",
    "        quick_debug=False,\n",
    "    )\n",
    "\n",
    "    prober = evaluator.train_pred_prober()\n",
    "\n",
    "    avg_losses = evaluator.evaluate_all(prober=prober)\n",
    "\n",
    "    for probe_attr, loss in avg_losses.items():\n",
    "        print(f\"{probe_attr} loss: {loss}\")"
   ]
  },
  {
   "cell_type": "code",
   "execution_count": 50,
   "id": "21612662",
   "metadata": {},
   "outputs": [],
   "source": [
    "device = \"cuda\" if torch.cuda.is_available() else \"cpu\"\n",
    "probe_train_ds, probe_val_ds = load_data(device)"
   ]
  },
  {
   "cell_type": "code",
   "execution_count": 51,
   "id": "f7889eeb",
   "metadata": {},
   "outputs": [
    {
     "name": "stderr",
     "output_type": "stream",
     "text": [
      "/tmp/ipykernel_331203/1916603347.py:2: FutureWarning: You are using `torch.load` with `weights_only=False` (the current default value), which uses the default pickle module implicitly. It is possible to construct malicious pickle data which will execute arbitrary code during unpickling (See https://github.com/pytorch/pytorch/blob/main/SECURITY.md#untrusted-models for more details). In a future release, the default value for `weights_only` will be flipped to `True`. This limits the functions that could be executed during unpickling. Arbitrary objects will no longer be allowed to be loaded via this mode unless they are explicitly allowlisted by the user via `torch.serialization.add_safe_globals`. We recommend you start setting `weights_only=True` for any use case where you don't have full control of the loaded file. Please open an issue on GitHub for any issues related to this experimental feature.\n",
      "  model.load_state_dict(torch.load('cnn_based_checkpoints/checkpoint_epoch_0.pt')['model_state_dict'])\n",
      "Probe prediction epochs:   0%|          | 0/20 [00:00<?, ?it/s]\n"
     ]
    },
    {
     "name": "stderr",
     "output_type": "stream",
     "text": [
      "Probe prediction step:   0%|          | 0/156 [00:00<?, ?it/s]\u001b[A"
     ]
    },
    {
     "name": "stdout",
     "output_type": "stream",
     "text": [
      "normalized pred locations loss 1.061932921409607\n"
     ]
    },
    {
     "name": "stderr",
     "output_type": "stream",
     "text": []
    },
    {
     "name": "stdout",
     "output_type": "stream",
     "text": [
      "normalized pred locations loss 1.007510781288147\n"
     ]
    },
    {
     "name": "stderr",
     "output_type": "stream",
     "text": [
      "Probe prediction step: 100%|██████████| 156/156 [00:02<00:00, 60.93it/s]\n",
      "Probe prediction epochs:   5%|▌         | 1/20 [00:02<00:48,  2.56s/it]"
     ]
    },
    {
     "name": "stdout",
     "output_type": "stream",
     "text": [
      "normalized pred locations loss 0.9798067808151245\n"
     ]
    },
    {
     "name": "stderr",
     "output_type": "stream",
     "text": [
      "Probe prediction step: 100%|██████████| 156/156 [00:02<00:00, 66.56it/s]\n",
      "Probe prediction epochs:  10%|█         | 2/20 [00:04<00:43,  2.43s/it]"
     ]
    },
    {
     "name": "stdout",
     "output_type": "stream",
     "text": [
      "normalized pred locations loss 1.1555085182189941\n"
     ]
    },
    {
     "name": "stderr",
     "output_type": "stream",
     "text": []
    },
    {
     "name": "stdout",
     "output_type": "stream",
     "text": [
      "normalized pred locations loss 0.9349393248558044\n"
     ]
    },
    {
     "name": "stderr",
     "output_type": "stream",
     "text": [
      "Probe prediction step: 100%|██████████| 156/156 [00:02<00:00, 66.62it/s]\n",
      "Probe prediction epochs:  15%|█▌        | 3/20 [00:07<00:40,  2.39s/it]"
     ]
    },
    {
     "name": "stdout",
     "output_type": "stream",
     "text": [
      "normalized pred locations loss 0.8490764498710632\n"
     ]
    },
    {
     "name": "stderr",
     "output_type": "stream",
     "text": []
    },
    {
     "name": "stdout",
     "output_type": "stream",
     "text": [
      "normalized pred locations loss 0.8910062313079834\n"
     ]
    },
    {
     "name": "stderr",
     "output_type": "stream",
     "text": [
      "Probe prediction step: 100%|██████████| 156/156 [00:02<00:00, 66.84it/s]\n",
      "Probe prediction epochs:  20%|██        | 4/20 [00:09<00:37,  2.37s/it]"
     ]
    },
    {
     "name": "stdout",
     "output_type": "stream",
     "text": [
      "normalized pred locations loss 0.8979362845420837\n"
     ]
    },
    {
     "name": "stderr",
     "output_type": "stream",
     "text": [
      "Probe prediction step: 100%|██████████| 156/156 [00:02<00:00, 66.88it/s]\n",
      "Probe prediction epochs:  25%|██▌       | 5/20 [00:11<00:35,  2.36s/it]"
     ]
    },
    {
     "name": "stdout",
     "output_type": "stream",
     "text": [
      "normalized pred locations loss 0.7030884623527527\n"
     ]
    },
    {
     "name": "stderr",
     "output_type": "stream",
     "text": []
    },
    {
     "name": "stdout",
     "output_type": "stream",
     "text": [
      "normalized pred locations loss 0.7919564843177795\n"
     ]
    },
    {
     "name": "stderr",
     "output_type": "stream",
     "text": [
      "Probe prediction step: 100%|██████████| 156/156 [00:02<00:00, 66.80it/s]\n",
      "Probe prediction epochs:  30%|███       | 6/20 [00:14<00:32,  2.35s/it]"
     ]
    },
    {
     "name": "stdout",
     "output_type": "stream",
     "text": [
      "normalized pred locations loss 0.812245786190033\n"
     ]
    },
    {
     "name": "stderr",
     "output_type": "stream",
     "text": [
      "Probe prediction step: 100%|██████████| 156/156 [00:02<00:00, 67.77it/s]\n",
      "Probe prediction epochs:  35%|███▌      | 7/20 [00:16<00:30,  2.34s/it]"
     ]
    },
    {
     "name": "stdout",
     "output_type": "stream",
     "text": [
      "normalized pred locations loss 0.8951931595802307\n"
     ]
    },
    {
     "name": "stderr",
     "output_type": "stream",
     "text": [
      "\n"
     ]
    },
    {
     "name": "stdout",
     "output_type": "stream",
     "text": [
      "normalized pred locations loss 0.8323168158531189\n"
     ]
    },
    {
     "name": "stderr",
     "output_type": "stream",
     "text": [
      "Probe prediction step: 100%|██████████| 156/156 [00:02<00:00, 66.27it/s]\u001b[A\n",
      "Probe prediction epochs:  40%|████      | 8/20 [00:18<00:28,  2.34s/it]"
     ]
    },
    {
     "name": "stdout",
     "output_type": "stream",
     "text": [
      "normalized pred locations loss 0.812424898147583\n"
     ]
    },
    {
     "name": "stderr",
     "output_type": "stream",
     "text": [
      "Probe prediction step: 100%|██████████| 156/156 [00:02<00:00, 65.28it/s]\n",
      "Probe prediction epochs:  45%|████▌     | 9/20 [00:21<00:25,  2.36s/it]"
     ]
    },
    {
     "name": "stdout",
     "output_type": "stream",
     "text": [
      "normalized pred locations loss 0.8847749829292297\n"
     ]
    },
    {
     "name": "stderr",
     "output_type": "stream",
     "text": []
    },
    {
     "name": "stdout",
     "output_type": "stream",
     "text": [
      "normalized pred locations loss 0.8874053955078125\n"
     ]
    },
    {
     "name": "stderr",
     "output_type": "stream",
     "text": [
      "Probe prediction step: 100%|██████████| 156/156 [00:02<00:00, 65.15it/s]\n",
      "Probe prediction epochs:  50%|█████     | 10/20 [00:23<00:23,  2.37s/it]"
     ]
    },
    {
     "name": "stdout",
     "output_type": "stream",
     "text": [
      "normalized pred locations loss 0.6922993659973145\n"
     ]
    },
    {
     "name": "stderr",
     "output_type": "stream",
     "text": []
    },
    {
     "name": "stdout",
     "output_type": "stream",
     "text": [
      "normalized pred locations loss 0.7016913890838623\n"
     ]
    },
    {
     "name": "stderr",
     "output_type": "stream",
     "text": [
      "Probe prediction step: 100%|██████████| 156/156 [00:02<00:00, 65.97it/s]\n",
      "Probe prediction epochs:  55%|█████▌    | 11/20 [00:26<00:21,  2.37s/it]"
     ]
    },
    {
     "name": "stdout",
     "output_type": "stream",
     "text": [
      "normalized pred locations loss 0.8183857798576355\n"
     ]
    },
    {
     "name": "stderr",
     "output_type": "stream",
     "text": [
      "Probe prediction step: 100%|██████████| 156/156 [00:02<00:00, 65.67it/s]\n",
      "Probe prediction epochs:  60%|██████    | 12/20 [00:28<00:18,  2.37s/it]"
     ]
    },
    {
     "name": "stdout",
     "output_type": "stream",
     "text": [
      "normalized pred locations loss 0.6932435631752014\n"
     ]
    },
    {
     "name": "stderr",
     "output_type": "stream",
     "text": []
    },
    {
     "name": "stdout",
     "output_type": "stream",
     "text": [
      "normalized pred locations loss 0.7029843926429749\n"
     ]
    },
    {
     "name": "stderr",
     "output_type": "stream",
     "text": [
      "Probe prediction step: 100%|██████████| 156/156 [00:02<00:00, 66.46it/s]\n",
      "Probe prediction epochs:  65%|██████▌   | 13/20 [00:30<00:16,  2.36s/it]"
     ]
    },
    {
     "name": "stdout",
     "output_type": "stream",
     "text": [
      "normalized pred locations loss 0.7675111889839172\n"
     ]
    },
    {
     "name": "stderr",
     "output_type": "stream",
     "text": [
      "Probe prediction step: 100%|██████████| 156/156 [00:02<00:00, 65.60it/s]\n",
      "Probe prediction epochs:  70%|███████   | 14/20 [00:33<00:14,  2.37s/it]"
     ]
    },
    {
     "name": "stdout",
     "output_type": "stream",
     "text": [
      "normalized pred locations loss 0.6667055487632751\n"
     ]
    },
    {
     "name": "stderr",
     "output_type": "stream",
     "text": []
    },
    {
     "name": "stdout",
     "output_type": "stream",
     "text": [
      "normalized pred locations loss 0.6519219279289246\n"
     ]
    },
    {
     "name": "stderr",
     "output_type": "stream",
     "text": [
      "Probe prediction step: 100%|██████████| 156/156 [00:02<00:00, 65.63it/s]\n",
      "Probe prediction epochs:  75%|███████▌  | 15/20 [00:35<00:11,  2.37s/it]"
     ]
    },
    {
     "name": "stdout",
     "output_type": "stream",
     "text": [
      "normalized pred locations loss 0.6280651092529297\n"
     ]
    },
    {
     "name": "stderr",
     "output_type": "stream",
     "text": [
      "Probe prediction step: 100%|██████████| 156/156 [00:02<00:00, 66.41it/s]\n",
      "Probe prediction epochs:  80%|████████  | 16/20 [00:37<00:09,  2.37s/it]"
     ]
    },
    {
     "name": "stdout",
     "output_type": "stream",
     "text": [
      "normalized pred locations loss 0.593088686466217\n"
     ]
    },
    {
     "name": "stderr",
     "output_type": "stream",
     "text": []
    },
    {
     "name": "stdout",
     "output_type": "stream",
     "text": [
      "normalized pred locations loss 0.6688989996910095\n"
     ]
    },
    {
     "name": "stderr",
     "output_type": "stream",
     "text": [
      "Probe prediction step: 100%|██████████| 156/156 [00:02<00:00, 65.83it/s]\n",
      "Probe prediction epochs:  85%|████████▌ | 17/20 [00:40<00:07,  2.37s/it]"
     ]
    },
    {
     "name": "stdout",
     "output_type": "stream",
     "text": [
      "normalized pred locations loss 0.7038297057151794\n"
     ]
    },
    {
     "name": "stderr",
     "output_type": "stream",
     "text": [
      "Probe prediction step: 100%|██████████| 156/156 [00:02<00:00, 65.30it/s]\n",
      "Probe prediction epochs:  90%|█████████ | 18/20 [00:42<00:04,  2.37s/it]"
     ]
    },
    {
     "name": "stdout",
     "output_type": "stream",
     "text": [
      "normalized pred locations loss 0.7995834350585938\n"
     ]
    },
    {
     "name": "stderr",
     "output_type": "stream",
     "text": []
    },
    {
     "name": "stdout",
     "output_type": "stream",
     "text": [
      "normalized pred locations loss 0.5831136107444763\n"
     ]
    },
    {
     "name": "stderr",
     "output_type": "stream",
     "text": [
      "Probe prediction step: 100%|██████████| 156/156 [00:02<00:00, 65.46it/s]\n",
      "Probe prediction epochs:  95%|█████████▌| 19/20 [00:45<00:02,  2.38s/it]"
     ]
    },
    {
     "name": "stdout",
     "output_type": "stream",
     "text": [
      "normalized pred locations loss 0.7613988518714905\n"
     ]
    },
    {
     "name": "stderr",
     "output_type": "stream",
     "text": []
    },
    {
     "name": "stdout",
     "output_type": "stream",
     "text": [
      "normalized pred locations loss 0.6997306942939758\n"
     ]
    },
    {
     "name": "stderr",
     "output_type": "stream",
     "text": [
      "Probe prediction step: 100%|██████████| 156/156 [00:02<00:00, 65.34it/s]\n",
      "Probe prediction epochs: 100%|██████████| 20/20 [00:47<00:00,  2.37s/it]\n",
      "Eval probe pred: 100%|██████████| 62/62 [00:00<00:00, 74.48it/s]\n",
      "Eval probe pred: 100%|██████████| 62/62 [00:00<00:00, 74.38it/s]"
     ]
    },
    {
     "name": "stdout",
     "output_type": "stream",
     "text": [
      "normal loss: 191.7706298828125\n",
      "wall loss: 173.2938690185547\n"
     ]
    },
    {
     "name": "stderr",
     "output_type": "stream",
     "text": [
      "\n"
     ]
    }
   ],
   "source": [
    "model = WorldModelVICReg().to('cuda')\n",
    "model.load_state_dict(torch.load('cnn_based_checkpoints/checkpoint_epoch_0.pt')['model_state_dict'])\n",
    "evaluate_model(device, model, probe_train_ds, probe_val_ds)"
   ]
  },
  {
   "cell_type": "code",
   "execution_count": 52,
   "id": "59448f87",
   "metadata": {},
   "outputs": [
    {
     "name": "stderr",
     "output_type": "stream",
     "text": [
      "/tmp/ipykernel_331203/338207458.py:2: FutureWarning: You are using `torch.load` with `weights_only=False` (the current default value), which uses the default pickle module implicitly. It is possible to construct malicious pickle data which will execute arbitrary code during unpickling (See https://github.com/pytorch/pytorch/blob/main/SECURITY.md#untrusted-models for more details). In a future release, the default value for `weights_only` will be flipped to `True`. This limits the functions that could be executed during unpickling. Arbitrary objects will no longer be allowed to be loaded via this mode unless they are explicitly allowlisted by the user via `torch.serialization.add_safe_globals`. We recommend you start setting `weights_only=True` for any use case where you don't have full control of the loaded file. Please open an issue on GitHub for any issues related to this experimental feature.\n",
      "  model.load_state_dict(torch.load('cnn_based_checkpoints/checkpoint_epoch_1.pt')['model_state_dict'])\n",
      "Probe prediction epochs:   0%|          | 0/20 [00:00<?, ?it/s]"
     ]
    },
    {
     "name": "stdout",
     "output_type": "stream",
     "text": [
      "normalized pred locations loss 1.0985841751098633\n"
     ]
    },
    {
     "name": "stderr",
     "output_type": "stream",
     "text": []
    },
    {
     "name": "stdout",
     "output_type": "stream",
     "text": [
      "normalized pred locations loss 0.8447808623313904\n"
     ]
    },
    {
     "name": "stderr",
     "output_type": "stream",
     "text": [
      "Probe prediction step: 100%|██████████| 156/156 [00:02<00:00, 65.56it/s]\n",
      "Probe prediction epochs:   5%|▌         | 1/20 [00:02<00:45,  2.38s/it]"
     ]
    },
    {
     "name": "stdout",
     "output_type": "stream",
     "text": [
      "normalized pred locations loss 0.2625228762626648\n"
     ]
    },
    {
     "name": "stderr",
     "output_type": "stream",
     "text": [
      "Probe prediction step: 100%|██████████| 156/156 [00:02<00:00, 65.37it/s]\n",
      "Probe prediction epochs:  10%|█         | 2/20 [00:04<00:42,  2.39s/it]"
     ]
    },
    {
     "name": "stdout",
     "output_type": "stream",
     "text": [
      "normalized pred locations loss 0.10173250734806061\n"
     ]
    },
    {
     "name": "stderr",
     "output_type": "stream",
     "text": []
    },
    {
     "name": "stdout",
     "output_type": "stream",
     "text": [
      "normalized pred locations loss 0.0986194759607315\n"
     ]
    },
    {
     "name": "stderr",
     "output_type": "stream",
     "text": [
      "Probe prediction step: 100%|██████████| 156/156 [00:02<00:00, 65.56it/s]\n",
      "Probe prediction epochs:  15%|█▌        | 3/20 [00:07<00:40,  2.38s/it]"
     ]
    },
    {
     "name": "stdout",
     "output_type": "stream",
     "text": [
      "normalized pred locations loss 0.062243182212114334\n"
     ]
    },
    {
     "name": "stderr",
     "output_type": "stream",
     "text": []
    },
    {
     "name": "stdout",
     "output_type": "stream",
     "text": [
      "normalized pred locations loss 0.052059151232242584\n"
     ]
    },
    {
     "name": "stderr",
     "output_type": "stream",
     "text": [
      "Probe prediction step: 100%|██████████| 156/156 [00:02<00:00, 66.48it/s]\n",
      "Probe prediction epochs:  20%|██        | 4/20 [00:09<00:37,  2.37s/it]"
     ]
    },
    {
     "name": "stdout",
     "output_type": "stream",
     "text": [
      "normalized pred locations loss 0.05946718901395798\n"
     ]
    },
    {
     "name": "stderr",
     "output_type": "stream",
     "text": [
      "Probe prediction step: 100%|██████████| 156/156 [00:02<00:00, 65.84it/s]\n",
      "Probe prediction epochs:  25%|██▌       | 5/20 [00:11<00:35,  2.37s/it]"
     ]
    },
    {
     "name": "stdout",
     "output_type": "stream",
     "text": [
      "normalized pred locations loss 0.04416849836707115\n"
     ]
    },
    {
     "name": "stderr",
     "output_type": "stream",
     "text": []
    },
    {
     "name": "stdout",
     "output_type": "stream",
     "text": [
      "normalized pred locations loss 0.03912874311208725\n"
     ]
    },
    {
     "name": "stderr",
     "output_type": "stream",
     "text": [
      "Probe prediction step: 100%|██████████| 156/156 [00:02<00:00, 65.56it/s]\n",
      "Probe prediction epochs:  30%|███       | 6/20 [00:14<00:33,  2.37s/it]"
     ]
    },
    {
     "name": "stdout",
     "output_type": "stream",
     "text": [
      "normalized pred locations loss 0.043851181864738464\n"
     ]
    },
    {
     "name": "stderr",
     "output_type": "stream",
     "text": [
      "Probe prediction step: 100%|██████████| 156/156 [00:02<00:00, 65.90it/s]\n",
      "Probe prediction epochs:  35%|███▌      | 7/20 [00:16<00:30,  2.37s/it]"
     ]
    },
    {
     "name": "stdout",
     "output_type": "stream",
     "text": [
      "normalized pred locations loss 0.03816947340965271\n"
     ]
    },
    {
     "name": "stderr",
     "output_type": "stream",
     "text": []
    },
    {
     "name": "stdout",
     "output_type": "stream",
     "text": [
      "normalized pred locations loss 0.04594571515917778\n"
     ]
    },
    {
     "name": "stderr",
     "output_type": "stream",
     "text": [
      "Probe prediction step: 100%|██████████| 156/156 [00:02<00:00, 65.61it/s]\n",
      "Probe prediction epochs:  40%|████      | 8/20 [00:19<00:28,  2.37s/it]"
     ]
    },
    {
     "name": "stdout",
     "output_type": "stream",
     "text": [
      "normalized pred locations loss 0.04236822575330734\n"
     ]
    },
    {
     "name": "stderr",
     "output_type": "stream",
     "text": [
      "Probe prediction step: 100%|██████████| 156/156 [00:02<00:00, 66.34it/s]\n",
      "Probe prediction epochs:  45%|████▌     | 9/20 [00:21<00:26,  2.37s/it]"
     ]
    },
    {
     "name": "stdout",
     "output_type": "stream",
     "text": [
      "normalized pred locations loss 0.04284005984663963\n"
     ]
    },
    {
     "name": "stderr",
     "output_type": "stream",
     "text": []
    },
    {
     "name": "stdout",
     "output_type": "stream",
     "text": [
      "normalized pred locations loss 0.03473106399178505\n"
     ]
    },
    {
     "name": "stderr",
     "output_type": "stream",
     "text": [
      "Probe prediction step: 100%|██████████| 156/156 [00:02<00:00, 67.09it/s]\n",
      "Probe prediction epochs:  50%|█████     | 10/20 [00:23<00:23,  2.36s/it]"
     ]
    },
    {
     "name": "stdout",
     "output_type": "stream",
     "text": [
      "normalized pred locations loss 0.047896623611450195\n"
     ]
    },
    {
     "name": "stderr",
     "output_type": "stream",
     "text": []
    },
    {
     "name": "stdout",
     "output_type": "stream",
     "text": [
      "normalized pred locations loss 0.03343567997217178\n"
     ]
    },
    {
     "name": "stderr",
     "output_type": "stream",
     "text": [
      "Probe prediction step: 100%|██████████| 156/156 [00:02<00:00, 65.35it/s]\n",
      "Probe prediction epochs:  55%|█████▌    | 11/20 [00:26<00:21,  2.37s/it]"
     ]
    },
    {
     "name": "stdout",
     "output_type": "stream",
     "text": [
      "normalized pred locations loss 0.03401721641421318\n"
     ]
    },
    {
     "name": "stderr",
     "output_type": "stream",
     "text": [
      "Probe prediction step: 100%|██████████| 156/156 [00:02<00:00, 65.83it/s]\n",
      "Probe prediction epochs:  60%|██████    | 12/20 [00:28<00:18,  2.37s/it]\n",
      "Probe prediction step:  27%|██▋       | 42/156 [00:00<00:01, 65.50it/s]"
     ]
    },
    {
     "name": "stdout",
     "output_type": "stream",
     "text": [
      "normalized pred locations loss 0.04117041826248169\n"
     ]
    },
    {
     "name": "stderr",
     "output_type": "stream",
     "text": [
      "\u001b[A"
     ]
    },
    {
     "name": "stdout",
     "output_type": "stream",
     "text": [
      "normalized pred locations loss 0.035276222974061966\n"
     ]
    },
    {
     "name": "stderr",
     "output_type": "stream",
     "text": [
      "Probe prediction step: 100%|██████████| 156/156 [00:02<00:00, 65.44it/s]\n",
      "Probe prediction epochs:  65%|██████▌   | 13/20 [00:30<00:16,  2.37s/it]"
     ]
    },
    {
     "name": "stdout",
     "output_type": "stream",
     "text": [
      "normalized pred locations loss 0.050069648772478104\n"
     ]
    },
    {
     "name": "stderr",
     "output_type": "stream",
     "text": [
      "Probe prediction step: 100%|██████████| 156/156 [00:02<00:00, 65.46it/s]\n",
      "Probe prediction epochs:  70%|███████   | 14/20 [00:33<00:14,  2.38s/it]"
     ]
    },
    {
     "name": "stdout",
     "output_type": "stream",
     "text": [
      "normalized pred locations loss 0.02914666011929512\n"
     ]
    },
    {
     "name": "stderr",
     "output_type": "stream",
     "text": []
    },
    {
     "name": "stdout",
     "output_type": "stream",
     "text": [
      "normalized pred locations loss 0.03822823241353035\n"
     ]
    },
    {
     "name": "stderr",
     "output_type": "stream",
     "text": [
      "Probe prediction step: 100%|██████████| 156/156 [00:02<00:00, 65.27it/s]\n",
      "Probe prediction epochs:  75%|███████▌  | 15/20 [00:35<00:11,  2.38s/it]"
     ]
    },
    {
     "name": "stdout",
     "output_type": "stream",
     "text": [
      "normalized pred locations loss 0.02574198506772518\n"
     ]
    },
    {
     "name": "stderr",
     "output_type": "stream",
     "text": [
      "Probe prediction step: 100%|██████████| 156/156 [00:02<00:00, 65.43it/s]\n",
      "Probe prediction epochs:  80%|████████  | 16/20 [00:37<00:09,  2.38s/it]"
     ]
    },
    {
     "name": "stdout",
     "output_type": "stream",
     "text": [
      "normalized pred locations loss 0.02502267435193062\n"
     ]
    },
    {
     "name": "stderr",
     "output_type": "stream",
     "text": []
    },
    {
     "name": "stdout",
     "output_type": "stream",
     "text": [
      "normalized pred locations loss 0.030432967469096184\n"
     ]
    },
    {
     "name": "stderr",
     "output_type": "stream",
     "text": [
      "Probe prediction step: 100%|██████████| 156/156 [00:02<00:00, 66.10it/s]\n",
      "Probe prediction epochs:  85%|████████▌ | 17/20 [00:40<00:07,  2.38s/it]"
     ]
    },
    {
     "name": "stdout",
     "output_type": "stream",
     "text": [
      "normalized pred locations loss 0.027060315012931824\n"
     ]
    },
    {
     "name": "stderr",
     "output_type": "stream",
     "text": [
      "Probe prediction step: 100%|██████████| 156/156 [00:02<00:00, 65.21it/s]\n",
      "Probe prediction epochs:  90%|█████████ | 18/20 [00:42<00:04,  2.38s/it]"
     ]
    },
    {
     "name": "stdout",
     "output_type": "stream",
     "text": [
      "normalized pred locations loss 0.030977550894021988\n"
     ]
    },
    {
     "name": "stderr",
     "output_type": "stream",
     "text": []
    },
    {
     "name": "stdout",
     "output_type": "stream",
     "text": [
      "normalized pred locations loss 0.028223983943462372\n"
     ]
    },
    {
     "name": "stderr",
     "output_type": "stream",
     "text": [
      "Probe prediction step: 100%|██████████| 156/156 [00:02<00:00, 65.40it/s]\n",
      "Probe prediction epochs:  95%|█████████▌| 19/20 [00:45<00:02,  2.38s/it]"
     ]
    },
    {
     "name": "stdout",
     "output_type": "stream",
     "text": [
      "normalized pred locations loss 0.027337120845913887\n"
     ]
    },
    {
     "name": "stderr",
     "output_type": "stream",
     "text": []
    },
    {
     "name": "stdout",
     "output_type": "stream",
     "text": [
      "normalized pred locations loss 0.026407107710838318\n"
     ]
    },
    {
     "name": "stderr",
     "output_type": "stream",
     "text": [
      "Probe prediction step: 100%|██████████| 156/156 [00:02<00:00, 66.58it/s]\n",
      "Probe prediction epochs: 100%|██████████| 20/20 [00:47<00:00,  2.37s/it]\n",
      "Eval probe pred: 100%|██████████| 62/62 [00:00<00:00, 82.31it/s]\n",
      "Eval probe pred: 100%|██████████| 62/62 [00:00<00:00, 84.47it/s]"
     ]
    },
    {
     "name": "stdout",
     "output_type": "stream",
     "text": [
      "normal loss: 10.164274215698242\n",
      "wall loss: 14.979148864746094\n"
     ]
    },
    {
     "name": "stderr",
     "output_type": "stream",
     "text": [
      "\n"
     ]
    }
   ],
   "source": [
    "model = WorldModelVICReg().to('cuda')\n",
    "model.load_state_dict(torch.load('cnn_based_checkpoints/checkpoint_epoch_1.pt')['model_state_dict'])\n",
    "evaluate_model(device, model, probe_train_ds, probe_val_ds)"
   ]
  },
  {
   "cell_type": "code",
   "execution_count": 53,
   "id": "a3fb3ee0",
   "metadata": {},
   "outputs": [
    {
     "name": "stderr",
     "output_type": "stream",
     "text": [
      "/tmp/ipykernel_331203/2619476910.py:2: FutureWarning: You are using `torch.load` with `weights_only=False` (the current default value), which uses the default pickle module implicitly. It is possible to construct malicious pickle data which will execute arbitrary code during unpickling (See https://github.com/pytorch/pytorch/blob/main/SECURITY.md#untrusted-models for more details). In a future release, the default value for `weights_only` will be flipped to `True`. This limits the functions that could be executed during unpickling. Arbitrary objects will no longer be allowed to be loaded via this mode unless they are explicitly allowlisted by the user via `torch.serialization.add_safe_globals`. We recommend you start setting `weights_only=True` for any use case where you don't have full control of the loaded file. Please open an issue on GitHub for any issues related to this experimental feature.\n",
      "  model.load_state_dict(torch.load('cnn_based_checkpoints/checkpoint_epoch_2.pt')['model_state_dict'])\n",
      "Probe prediction epochs:   0%|          | 0/20 [00:00<?, ?it/s]"
     ]
    },
    {
     "name": "stderr",
     "output_type": "stream",
     "text": []
    },
    {
     "name": "stdout",
     "output_type": "stream",
     "text": [
      "normalized pred locations loss 0.973574161529541\n"
     ]
    },
    {
     "name": "stderr",
     "output_type": "stream",
     "text": []
    },
    {
     "name": "stdout",
     "output_type": "stream",
     "text": [
      "normalized pred locations loss 0.7800882458686829\n"
     ]
    },
    {
     "name": "stderr",
     "output_type": "stream",
     "text": [
      "Probe prediction step: 100%|██████████| 156/156 [00:02<00:00, 65.41it/s]\n",
      "Probe prediction epochs:   5%|▌         | 1/20 [00:02<00:45,  2.39s/it]"
     ]
    },
    {
     "name": "stdout",
     "output_type": "stream",
     "text": [
      "normalized pred locations loss 0.2721656858921051\n"
     ]
    },
    {
     "name": "stderr",
     "output_type": "stream",
     "text": [
      "Probe prediction step: 100%|██████████| 156/156 [00:02<00:00, 65.39it/s]\n",
      "Probe prediction epochs:  10%|█         | 2/20 [00:04<00:42,  2.39s/it]"
     ]
    },
    {
     "name": "stdout",
     "output_type": "stream",
     "text": [
      "normalized pred locations loss 0.11064087599515915\n"
     ]
    },
    {
     "name": "stderr",
     "output_type": "stream",
     "text": []
    },
    {
     "name": "stdout",
     "output_type": "stream",
     "text": [
      "normalized pred locations loss 0.09030066430568695\n"
     ]
    },
    {
     "name": "stderr",
     "output_type": "stream",
     "text": [
      "Probe prediction step: 100%|██████████| 156/156 [00:02<00:00, 64.95it/s]\n",
      "Probe prediction epochs:  15%|█▌        | 3/20 [00:07<00:40,  2.39s/it]"
     ]
    },
    {
     "name": "stdout",
     "output_type": "stream",
     "text": [
      "normalized pred locations loss 0.06960202753543854\n"
     ]
    },
    {
     "name": "stderr",
     "output_type": "stream",
     "text": []
    },
    {
     "name": "stdout",
     "output_type": "stream",
     "text": [
      "normalized pred locations loss 0.062197986990213394\n"
     ]
    },
    {
     "name": "stderr",
     "output_type": "stream",
     "text": [
      "Probe prediction step: 100%|██████████| 156/156 [00:02<00:00, 65.01it/s]\n",
      "Probe prediction epochs:  20%|██        | 4/20 [00:09<00:38,  2.40s/it]"
     ]
    },
    {
     "name": "stdout",
     "output_type": "stream",
     "text": [
      "normalized pred locations loss 0.03570416942238808\n"
     ]
    },
    {
     "name": "stderr",
     "output_type": "stream",
     "text": [
      "Probe prediction step: 100%|██████████| 156/156 [00:02<00:00, 65.23it/s]\n",
      "Probe prediction epochs:  25%|██▌       | 5/20 [00:11<00:35,  2.40s/it]"
     ]
    },
    {
     "name": "stdout",
     "output_type": "stream",
     "text": [
      "normalized pred locations loss 0.04206952080130577\n"
     ]
    },
    {
     "name": "stderr",
     "output_type": "stream",
     "text": []
    },
    {
     "name": "stdout",
     "output_type": "stream",
     "text": [
      "normalized pred locations loss 0.04054495319724083\n"
     ]
    },
    {
     "name": "stderr",
     "output_type": "stream",
     "text": [
      "Probe prediction step: 100%|██████████| 156/156 [00:02<00:00, 65.33it/s]\n",
      "Probe prediction epochs:  30%|███       | 6/20 [00:14<00:33,  2.39s/it]"
     ]
    },
    {
     "name": "stdout",
     "output_type": "stream",
     "text": [
      "normalized pred locations loss 0.04624347761273384\n"
     ]
    },
    {
     "name": "stderr",
     "output_type": "stream",
     "text": [
      "Probe prediction step: 100%|██████████| 156/156 [00:02<00:00, 65.79it/s]\n",
      "Probe prediction epochs:  35%|███▌      | 7/20 [00:16<00:31,  2.39s/it]"
     ]
    },
    {
     "name": "stdout",
     "output_type": "stream",
     "text": [
      "normalized pred locations loss 0.04633660987019539\n"
     ]
    },
    {
     "name": "stderr",
     "output_type": "stream",
     "text": []
    },
    {
     "name": "stdout",
     "output_type": "stream",
     "text": [
      "normalized pred locations loss 0.048230305314064026\n"
     ]
    },
    {
     "name": "stderr",
     "output_type": "stream",
     "text": [
      "Probe prediction step: 100%|██████████| 156/156 [00:02<00:00, 67.11it/s]\n",
      "Probe prediction epochs:  40%|████      | 8/20 [00:19<00:28,  2.37s/it]"
     ]
    },
    {
     "name": "stdout",
     "output_type": "stream",
     "text": [
      "normalized pred locations loss 0.038325726985931396\n"
     ]
    },
    {
     "name": "stderr",
     "output_type": "stream",
     "text": [
      "Probe prediction step: 100%|██████████| 156/156 [00:02<00:00, 66.29it/s]\n",
      "Probe prediction epochs:  45%|████▌     | 9/20 [00:21<00:25,  2.36s/it]"
     ]
    },
    {
     "name": "stdout",
     "output_type": "stream",
     "text": [
      "normalized pred locations loss 0.0410887636244297\n"
     ]
    },
    {
     "name": "stderr",
     "output_type": "stream",
     "text": []
    },
    {
     "name": "stdout",
     "output_type": "stream",
     "text": [
      "normalized pred locations loss 0.03796772286295891\n"
     ]
    },
    {
     "name": "stderr",
     "output_type": "stream",
     "text": [
      "Probe prediction step: 100%|██████████| 156/156 [00:02<00:00, 65.43it/s]\n",
      "Probe prediction epochs:  50%|█████     | 10/20 [00:23<00:23,  2.37s/it]"
     ]
    },
    {
     "name": "stdout",
     "output_type": "stream",
     "text": [
      "normalized pred locations loss 0.03060382977128029\n"
     ]
    },
    {
     "name": "stderr",
     "output_type": "stream",
     "text": []
    },
    {
     "name": "stdout",
     "output_type": "stream",
     "text": [
      "normalized pred locations loss 0.04682473838329315\n"
     ]
    },
    {
     "name": "stderr",
     "output_type": "stream",
     "text": [
      "Probe prediction step: 100%|██████████| 156/156 [00:02<00:00, 66.86it/s]\n",
      "Probe prediction epochs:  55%|█████▌    | 11/20 [00:26<00:21,  2.36s/it]"
     ]
    },
    {
     "name": "stdout",
     "output_type": "stream",
     "text": [
      "normalized pred locations loss 0.04052279144525528\n"
     ]
    },
    {
     "name": "stderr",
     "output_type": "stream",
     "text": [
      "Probe prediction step: 100%|██████████| 156/156 [00:02<00:00, 66.58it/s]\n",
      "Probe prediction epochs:  60%|██████    | 12/20 [00:28<00:18,  2.35s/it]"
     ]
    },
    {
     "name": "stdout",
     "output_type": "stream",
     "text": [
      "normalized pred locations loss 0.02687322534620762\n"
     ]
    },
    {
     "name": "stderr",
     "output_type": "stream",
     "text": []
    },
    {
     "name": "stdout",
     "output_type": "stream",
     "text": [
      "normalized pred locations loss 0.03498085215687752\n"
     ]
    },
    {
     "name": "stderr",
     "output_type": "stream",
     "text": [
      "Probe prediction step: 100%|██████████| 156/156 [00:02<00:00, 66.53it/s]\n",
      "Probe prediction epochs:  65%|██████▌   | 13/20 [00:30<00:16,  2.35s/it]"
     ]
    },
    {
     "name": "stdout",
     "output_type": "stream",
     "text": [
      "normalized pred locations loss 0.04850255697965622\n"
     ]
    },
    {
     "name": "stderr",
     "output_type": "stream",
     "text": [
      "Probe prediction step: 100%|██████████| 156/156 [00:02<00:00, 66.73it/s]\n",
      "Probe prediction epochs:  70%|███████   | 14/20 [00:33<00:14,  2.35s/it]"
     ]
    },
    {
     "name": "stdout",
     "output_type": "stream",
     "text": [
      "normalized pred locations loss 0.028824012726545334\n"
     ]
    },
    {
     "name": "stderr",
     "output_type": "stream",
     "text": []
    },
    {
     "name": "stdout",
     "output_type": "stream",
     "text": [
      "normalized pred locations loss 0.031474318355321884\n"
     ]
    },
    {
     "name": "stderr",
     "output_type": "stream",
     "text": [
      "Probe prediction step: 100%|██████████| 156/156 [00:02<00:00, 66.86it/s]\n",
      "Probe prediction epochs:  75%|███████▌  | 15/20 [00:35<00:11,  2.34s/it]"
     ]
    },
    {
     "name": "stdout",
     "output_type": "stream",
     "text": [
      "normalized pred locations loss 0.031141133978962898\n"
     ]
    },
    {
     "name": "stderr",
     "output_type": "stream",
     "text": [
      "Probe prediction step: 100%|██████████| 156/156 [00:02<00:00, 66.72it/s]\n",
      "Probe prediction epochs:  80%|████████  | 16/20 [00:37<00:09,  2.34s/it]"
     ]
    },
    {
     "name": "stdout",
     "output_type": "stream",
     "text": [
      "normalized pred locations loss 0.026927253231406212\n"
     ]
    },
    {
     "name": "stderr",
     "output_type": "stream",
     "text": []
    },
    {
     "name": "stdout",
     "output_type": "stream",
     "text": [
      "normalized pred locations loss 0.028328124433755875\n"
     ]
    },
    {
     "name": "stderr",
     "output_type": "stream",
     "text": [
      "Probe prediction step: 100%|██████████| 156/156 [00:02<00:00, 66.81it/s]\n",
      "Probe prediction epochs:  85%|████████▌ | 17/20 [00:40<00:07,  2.34s/it]"
     ]
    },
    {
     "name": "stdout",
     "output_type": "stream",
     "text": [
      "normalized pred locations loss 0.03938893973827362\n"
     ]
    },
    {
     "name": "stderr",
     "output_type": "stream",
     "text": [
      "Probe prediction step: 100%|██████████| 156/156 [00:02<00:00, 66.58it/s]\n",
      "Probe prediction epochs:  90%|█████████ | 18/20 [00:42<00:04,  2.34s/it]"
     ]
    },
    {
     "name": "stdout",
     "output_type": "stream",
     "text": [
      "normalized pred locations loss 0.03112061880528927\n"
     ]
    },
    {
     "name": "stderr",
     "output_type": "stream",
     "text": []
    },
    {
     "name": "stdout",
     "output_type": "stream",
     "text": [
      "normalized pred locations loss 0.031095854938030243\n"
     ]
    },
    {
     "name": "stderr",
     "output_type": "stream",
     "text": [
      "Probe prediction step: 100%|██████████| 156/156 [00:02<00:00, 66.92it/s]\n",
      "Probe prediction epochs:  95%|█████████▌| 19/20 [00:44<00:02,  2.34s/it]"
     ]
    },
    {
     "name": "stdout",
     "output_type": "stream",
     "text": [
      "normalized pred locations loss 0.025024792179465294\n"
     ]
    },
    {
     "name": "stderr",
     "output_type": "stream",
     "text": []
    },
    {
     "name": "stdout",
     "output_type": "stream",
     "text": [
      "normalized pred locations loss 0.03577831760048866\n"
     ]
    },
    {
     "name": "stderr",
     "output_type": "stream",
     "text": [
      "Probe prediction step: 100%|██████████| 156/156 [00:02<00:00, 66.85it/s]\n",
      "Probe prediction epochs: 100%|██████████| 20/20 [00:47<00:00,  2.36s/it]\n",
      "Eval probe pred: 100%|██████████| 62/62 [00:00<00:00, 82.49it/s]\n",
      "Eval probe pred: 100%|██████████| 62/62 [00:00<00:00, 82.42it/s]"
     ]
    },
    {
     "name": "stdout",
     "output_type": "stream",
     "text": [
      "normal loss: 10.20442008972168\n",
      "wall loss: 15.43889331817627\n"
     ]
    },
    {
     "name": "stderr",
     "output_type": "stream",
     "text": [
      "\n"
     ]
    }
   ],
   "source": [
    "model = WorldModelVICReg().to('cuda')\n",
    "model.load_state_dict(torch.load('cnn_based_checkpoints/checkpoint_epoch_2.pt')['model_state_dict'])\n",
    "evaluate_model(device, model, probe_train_ds, probe_val_ds)"
   ]
  },
  {
   "cell_type": "code",
   "execution_count": 54,
   "id": "04185b0c",
   "metadata": {},
   "outputs": [
    {
     "name": "stderr",
     "output_type": "stream",
     "text": [
      "/tmp/ipykernel_331203/504457722.py:2: FutureWarning: You are using `torch.load` with `weights_only=False` (the current default value), which uses the default pickle module implicitly. It is possible to construct malicious pickle data which will execute arbitrary code during unpickling (See https://github.com/pytorch/pytorch/blob/main/SECURITY.md#untrusted-models for more details). In a future release, the default value for `weights_only` will be flipped to `True`. This limits the functions that could be executed during unpickling. Arbitrary objects will no longer be allowed to be loaded via this mode unless they are explicitly allowlisted by the user via `torch.serialization.add_safe_globals`. We recommend you start setting `weights_only=True` for any use case where you don't have full control of the loaded file. Please open an issue on GitHub for any issues related to this experimental feature.\n",
      "  model.load_state_dict(torch.load('cnn_based_checkpoints/checkpoint_epoch_3.pt')['model_state_dict'])\n",
      "Probe prediction epochs:   0%|          | 0/20 [00:00<?, ?it/s]"
     ]
    },
    {
     "name": "stderr",
     "output_type": "stream",
     "text": []
    },
    {
     "name": "stdout",
     "output_type": "stream",
     "text": [
      "normalized pred locations loss 0.998798131942749\n"
     ]
    },
    {
     "name": "stderr",
     "output_type": "stream",
     "text": []
    },
    {
     "name": "stdout",
     "output_type": "stream",
     "text": [
      "normalized pred locations loss 0.8595345616340637\n"
     ]
    },
    {
     "name": "stderr",
     "output_type": "stream",
     "text": [
      "Probe prediction step: 100%|██████████| 156/156 [00:02<00:00, 66.59it/s]\n",
      "Probe prediction epochs:   5%|▌         | 1/20 [00:02<00:44,  2.34s/it]"
     ]
    },
    {
     "name": "stdout",
     "output_type": "stream",
     "text": [
      "normalized pred locations loss 0.27136605978012085\n"
     ]
    },
    {
     "name": "stderr",
     "output_type": "stream",
     "text": [
      "Probe prediction step: 100%|██████████| 156/156 [00:02<00:00, 66.63it/s]\n",
      "Probe prediction epochs:  10%|█         | 2/20 [00:04<00:42,  2.34s/it]"
     ]
    },
    {
     "name": "stdout",
     "output_type": "stream",
     "text": [
      "normalized pred locations loss 0.1563265472650528\n"
     ]
    },
    {
     "name": "stderr",
     "output_type": "stream",
     "text": []
    },
    {
     "name": "stdout",
     "output_type": "stream",
     "text": [
      "normalized pred locations loss 0.10792218893766403\n"
     ]
    },
    {
     "name": "stderr",
     "output_type": "stream",
     "text": [
      "Probe prediction step: 100%|██████████| 156/156 [00:02<00:00, 67.23it/s]\n",
      "Probe prediction epochs:  15%|█▌        | 3/20 [00:07<00:39,  2.33s/it]"
     ]
    },
    {
     "name": "stdout",
     "output_type": "stream",
     "text": [
      "normalized pred locations loss 0.09370145946741104\n"
     ]
    },
    {
     "name": "stderr",
     "output_type": "stream",
     "text": []
    },
    {
     "name": "stdout",
     "output_type": "stream",
     "text": [
      "normalized pred locations loss 0.06394800543785095\n"
     ]
    },
    {
     "name": "stderr",
     "output_type": "stream",
     "text": [
      "Probe prediction step: 100%|██████████| 156/156 [00:02<00:00, 67.97it/s]\n",
      "Probe prediction epochs:  20%|██        | 4/20 [00:09<00:37,  2.32s/it]"
     ]
    },
    {
     "name": "stdout",
     "output_type": "stream",
     "text": [
      "normalized pred locations loss 0.07776868343353271\n"
     ]
    },
    {
     "name": "stderr",
     "output_type": "stream",
     "text": [
      "Probe prediction step: 100%|██████████| 156/156 [00:02<00:00, 67.04it/s]\n",
      "Probe prediction epochs:  25%|██▌       | 5/20 [00:11<00:34,  2.32s/it]"
     ]
    },
    {
     "name": "stdout",
     "output_type": "stream",
     "text": [
      "normalized pred locations loss 0.0527845062315464\n"
     ]
    },
    {
     "name": "stderr",
     "output_type": "stream",
     "text": []
    },
    {
     "name": "stdout",
     "output_type": "stream",
     "text": [
      "normalized pred locations loss 0.06921539455652237\n"
     ]
    },
    {
     "name": "stderr",
     "output_type": "stream",
     "text": [
      "Probe prediction step: 100%|██████████| 156/156 [00:02<00:00, 67.02it/s]\n",
      "Probe prediction epochs:  30%|███       | 6/20 [00:13<00:32,  2.32s/it]"
     ]
    },
    {
     "name": "stdout",
     "output_type": "stream",
     "text": [
      "normalized pred locations loss 0.052291274070739746\n"
     ]
    },
    {
     "name": "stderr",
     "output_type": "stream",
     "text": [
      "Probe prediction step: 100%|██████████| 156/156 [00:02<00:00, 66.98it/s]\n",
      "Probe prediction epochs:  35%|███▌      | 7/20 [00:16<00:30,  2.33s/it]"
     ]
    },
    {
     "name": "stdout",
     "output_type": "stream",
     "text": [
      "normalized pred locations loss 0.0575057677924633\n"
     ]
    },
    {
     "name": "stderr",
     "output_type": "stream",
     "text": []
    },
    {
     "name": "stdout",
     "output_type": "stream",
     "text": [
      "normalized pred locations loss 0.03936103358864784\n"
     ]
    },
    {
     "name": "stderr",
     "output_type": "stream",
     "text": [
      "Probe prediction step: 100%|██████████| 156/156 [00:02<00:00, 66.99it/s]\n",
      "Probe prediction epochs:  40%|████      | 8/20 [00:18<00:27,  2.33s/it]"
     ]
    },
    {
     "name": "stdout",
     "output_type": "stream",
     "text": [
      "normalized pred locations loss 0.048771291971206665\n"
     ]
    },
    {
     "name": "stderr",
     "output_type": "stream",
     "text": [
      "Probe prediction step: 100%|██████████| 156/156 [00:02<00:00, 66.94it/s]\n",
      "Probe prediction epochs:  45%|████▌     | 9/20 [00:20<00:25,  2.33s/it]"
     ]
    },
    {
     "name": "stdout",
     "output_type": "stream",
     "text": [
      "normalized pred locations loss 0.05901194363832474\n"
     ]
    },
    {
     "name": "stderr",
     "output_type": "stream",
     "text": []
    },
    {
     "name": "stdout",
     "output_type": "stream",
     "text": [
      "normalized pred locations loss 0.04044530168175697\n"
     ]
    },
    {
     "name": "stderr",
     "output_type": "stream",
     "text": [
      "Probe prediction step: 100%|██████████| 156/156 [00:02<00:00, 66.84it/s]\n",
      "Probe prediction epochs:  50%|█████     | 10/20 [00:23<00:23,  2.33s/it]"
     ]
    },
    {
     "name": "stdout",
     "output_type": "stream",
     "text": [
      "normalized pred locations loss 0.04892488941550255\n"
     ]
    },
    {
     "name": "stderr",
     "output_type": "stream",
     "text": []
    },
    {
     "name": "stdout",
     "output_type": "stream",
     "text": [
      "normalized pred locations loss 0.035884857177734375\n"
     ]
    },
    {
     "name": "stderr",
     "output_type": "stream",
     "text": [
      "Probe prediction step: 100%|██████████| 156/156 [00:02<00:00, 66.96it/s]\n",
      "Probe prediction epochs:  55%|█████▌    | 11/20 [00:25<00:20,  2.33s/it]"
     ]
    },
    {
     "name": "stdout",
     "output_type": "stream",
     "text": [
      "normalized pred locations loss 0.04128429666161537\n"
     ]
    },
    {
     "name": "stderr",
     "output_type": "stream",
     "text": [
      "Probe prediction step: 100%|██████████| 156/156 [00:02<00:00, 67.37it/s]\n",
      "Probe prediction epochs:  60%|██████    | 12/20 [00:27<00:18,  2.33s/it]"
     ]
    },
    {
     "name": "stdout",
     "output_type": "stream",
     "text": [
      "normalized pred locations loss 0.02971440926194191\n"
     ]
    },
    {
     "name": "stderr",
     "output_type": "stream",
     "text": []
    },
    {
     "name": "stdout",
     "output_type": "stream",
     "text": [
      "normalized pred locations loss 0.03413544222712517\n"
     ]
    },
    {
     "name": "stderr",
     "output_type": "stream",
     "text": [
      "Probe prediction step: 100%|██████████| 156/156 [00:02<00:00, 66.75it/s]\n",
      "Probe prediction epochs:  65%|██████▌   | 13/20 [00:30<00:16,  2.33s/it]"
     ]
    },
    {
     "name": "stdout",
     "output_type": "stream",
     "text": [
      "normalized pred locations loss 0.04855824261903763\n"
     ]
    },
    {
     "name": "stderr",
     "output_type": "stream",
     "text": [
      "Probe prediction step: 100%|██████████| 156/156 [00:02<00:00, 67.12it/s]\n",
      "Probe prediction epochs:  70%|███████   | 14/20 [00:32<00:13,  2.33s/it]"
     ]
    },
    {
     "name": "stdout",
     "output_type": "stream",
     "text": [
      "normalized pred locations loss 0.04119688645005226\n"
     ]
    },
    {
     "name": "stderr",
     "output_type": "stream",
     "text": []
    },
    {
     "name": "stdout",
     "output_type": "stream",
     "text": [
      "normalized pred locations loss 0.028863398358225822\n"
     ]
    },
    {
     "name": "stderr",
     "output_type": "stream",
     "text": [
      "Probe prediction step: 100%|██████████| 156/156 [00:02<00:00, 67.10it/s]\n",
      "Probe prediction epochs:  75%|███████▌  | 15/20 [00:34<00:11,  2.33s/it]"
     ]
    },
    {
     "name": "stdout",
     "output_type": "stream",
     "text": [
      "normalized pred locations loss 0.0366673618555069\n"
     ]
    },
    {
     "name": "stderr",
     "output_type": "stream",
     "text": [
      "Probe prediction step: 100%|██████████| 156/156 [00:02<00:00, 66.87it/s]\n",
      "Probe prediction epochs:  80%|████████  | 16/20 [00:37<00:09,  2.33s/it]"
     ]
    },
    {
     "name": "stdout",
     "output_type": "stream",
     "text": [
      "normalized pred locations loss 0.02444310486316681\n"
     ]
    },
    {
     "name": "stderr",
     "output_type": "stream",
     "text": []
    },
    {
     "name": "stdout",
     "output_type": "stream",
     "text": [
      "normalized pred locations loss 0.036303166300058365\n"
     ]
    },
    {
     "name": "stderr",
     "output_type": "stream",
     "text": [
      "Probe prediction step: 100%|██████████| 156/156 [00:02<00:00, 66.73it/s]\n",
      "Probe prediction epochs:  85%|████████▌ | 17/20 [00:39<00:06,  2.33s/it]"
     ]
    },
    {
     "name": "stdout",
     "output_type": "stream",
     "text": [
      "normalized pred locations loss 0.028238678351044655\n"
     ]
    },
    {
     "name": "stderr",
     "output_type": "stream",
     "text": [
      "Probe prediction step: 100%|██████████| 156/156 [00:02<00:00, 66.54it/s]\n",
      "Probe prediction epochs:  90%|█████████ | 18/20 [00:41<00:04,  2.34s/it]"
     ]
    },
    {
     "name": "stdout",
     "output_type": "stream",
     "text": [
      "normalized pred locations loss 0.03246837854385376\n"
     ]
    },
    {
     "name": "stderr",
     "output_type": "stream",
     "text": []
    },
    {
     "name": "stdout",
     "output_type": "stream",
     "text": [
      "normalized pred locations loss 0.03216493874788284\n"
     ]
    },
    {
     "name": "stderr",
     "output_type": "stream",
     "text": [
      "Probe prediction step: 100%|██████████| 156/156 [00:02<00:00, 66.96it/s]\n",
      "Probe prediction epochs:  95%|█████████▌| 19/20 [00:44<00:02,  2.34s/it]"
     ]
    },
    {
     "name": "stdout",
     "output_type": "stream",
     "text": [
      "normalized pred locations loss 0.03197283297777176\n"
     ]
    },
    {
     "name": "stderr",
     "output_type": "stream",
     "text": []
    },
    {
     "name": "stdout",
     "output_type": "stream",
     "text": [
      "normalized pred locations loss 0.04770766943693161\n"
     ]
    },
    {
     "name": "stderr",
     "output_type": "stream",
     "text": [
      "Probe prediction step: 100%|██████████| 156/156 [00:02<00:00, 66.98it/s]\n",
      "Probe prediction epochs: 100%|██████████| 20/20 [00:46<00:00,  2.33s/it]\n",
      "Eval probe pred: 100%|██████████| 62/62 [00:00<00:00, 82.40it/s]\n",
      "Eval probe pred: 100%|██████████| 62/62 [00:00<00:00, 82.56it/s]"
     ]
    },
    {
     "name": "stdout",
     "output_type": "stream",
     "text": [
      "normal loss: 11.363409042358398\n",
      "wall loss: 16.40474510192871\n"
     ]
    },
    {
     "name": "stderr",
     "output_type": "stream",
     "text": [
      "\n"
     ]
    }
   ],
   "source": [
    "model = WorldModelVICReg().to('cuda')\n",
    "model.load_state_dict(torch.load('cnn_based_checkpoints/checkpoint_epoch_3.pt')['model_state_dict'])\n",
    "evaluate_model(device, model, probe_train_ds, probe_val_ds)"
   ]
  },
  {
   "cell_type": "code",
   "execution_count": 55,
   "id": "293753c2",
   "metadata": {},
   "outputs": [
    {
     "name": "stderr",
     "output_type": "stream",
     "text": [
      "/tmp/ipykernel_331203/2920462584.py:2: FutureWarning: You are using `torch.load` with `weights_only=False` (the current default value), which uses the default pickle module implicitly. It is possible to construct malicious pickle data which will execute arbitrary code during unpickling (See https://github.com/pytorch/pytorch/blob/main/SECURITY.md#untrusted-models for more details). In a future release, the default value for `weights_only` will be flipped to `True`. This limits the functions that could be executed during unpickling. Arbitrary objects will no longer be allowed to be loaded via this mode unless they are explicitly allowlisted by the user via `torch.serialization.add_safe_globals`. We recommend you start setting `weights_only=True` for any use case where you don't have full control of the loaded file. Please open an issue on GitHub for any issues related to this experimental feature.\n",
      "  model.load_state_dict(torch.load('cnn_based_checkpoints/checkpoint_epoch_4.pt')['model_state_dict'])\n",
      "Probe prediction epochs:   0%|          | 0/20 [00:00<?, ?it/s]\n",
      "Probe prediction step:   0%|          | 0/156 [00:00<?, ?it/s]"
     ]
    },
    {
     "name": "stderr",
     "output_type": "stream",
     "text": [
      "\u001b[A"
     ]
    },
    {
     "name": "stdout",
     "output_type": "stream",
     "text": [
      "normalized pred locations loss 1.067325234413147\n"
     ]
    },
    {
     "name": "stderr",
     "output_type": "stream",
     "text": []
    },
    {
     "name": "stdout",
     "output_type": "stream",
     "text": [
      "normalized pred locations loss 0.7300690412521362\n"
     ]
    },
    {
     "name": "stderr",
     "output_type": "stream",
     "text": [
      "Probe prediction step: 100%|██████████| 156/156 [00:02<00:00, 66.92it/s]\n",
      "Probe prediction epochs:   5%|▌         | 1/20 [00:02<00:44,  2.33s/it]"
     ]
    },
    {
     "name": "stdout",
     "output_type": "stream",
     "text": [
      "normalized pred locations loss 0.3180791139602661\n"
     ]
    },
    {
     "name": "stderr",
     "output_type": "stream",
     "text": [
      "Probe prediction step: 100%|██████████| 156/156 [00:02<00:00, 67.19it/s]\n",
      "Probe prediction epochs:  10%|█         | 2/20 [00:04<00:41,  2.33s/it]"
     ]
    },
    {
     "name": "stdout",
     "output_type": "stream",
     "text": [
      "normalized pred locations loss 0.17186228930950165\n"
     ]
    },
    {
     "name": "stderr",
     "output_type": "stream",
     "text": []
    },
    {
     "name": "stdout",
     "output_type": "stream",
     "text": [
      "normalized pred locations loss 0.10247805714607239\n"
     ]
    },
    {
     "name": "stderr",
     "output_type": "stream",
     "text": [
      "Probe prediction step: 100%|██████████| 156/156 [00:02<00:00, 67.26it/s]\n",
      "Probe prediction epochs:  15%|█▌        | 3/20 [00:06<00:39,  2.32s/it]"
     ]
    },
    {
     "name": "stdout",
     "output_type": "stream",
     "text": [
      "normalized pred locations loss 0.08096766471862793\n"
     ]
    },
    {
     "name": "stderr",
     "output_type": "stream",
     "text": []
    },
    {
     "name": "stdout",
     "output_type": "stream",
     "text": [
      "normalized pred locations loss 0.09119147807359695\n"
     ]
    },
    {
     "name": "stderr",
     "output_type": "stream",
     "text": [
      "Probe prediction step: 100%|██████████| 156/156 [00:02<00:00, 66.54it/s]\n",
      "Probe prediction epochs:  20%|██        | 4/20 [00:09<00:37,  2.33s/it]"
     ]
    },
    {
     "name": "stdout",
     "output_type": "stream",
     "text": [
      "normalized pred locations loss 0.06866149604320526\n"
     ]
    },
    {
     "name": "stderr",
     "output_type": "stream",
     "text": [
      "Probe prediction step: 100%|██████████| 156/156 [00:02<00:00, 66.72it/s]\n",
      "Probe prediction epochs:  25%|██▌       | 5/20 [00:11<00:35,  2.34s/it]"
     ]
    },
    {
     "name": "stdout",
     "output_type": "stream",
     "text": [
      "normalized pred locations loss 0.06514804810285568\n"
     ]
    },
    {
     "name": "stderr",
     "output_type": "stream",
     "text": []
    },
    {
     "name": "stdout",
     "output_type": "stream",
     "text": [
      "normalized pred locations loss 0.06466719508171082\n"
     ]
    },
    {
     "name": "stderr",
     "output_type": "stream",
     "text": [
      "Probe prediction step: 100%|██████████| 156/156 [00:02<00:00, 66.74it/s]\n",
      "Probe prediction epochs:  30%|███       | 6/20 [00:14<00:32,  2.34s/it]"
     ]
    },
    {
     "name": "stdout",
     "output_type": "stream",
     "text": [
      "normalized pred locations loss 0.06344388425350189\n"
     ]
    },
    {
     "name": "stderr",
     "output_type": "stream",
     "text": [
      "Probe prediction step: 100%|██████████| 156/156 [00:02<00:00, 66.73it/s]\n",
      "Probe prediction epochs:  35%|███▌      | 7/20 [00:16<00:30,  2.34s/it]"
     ]
    },
    {
     "name": "stdout",
     "output_type": "stream",
     "text": [
      "normalized pred locations loss 0.060466304421424866\n"
     ]
    },
    {
     "name": "stderr",
     "output_type": "stream",
     "text": []
    },
    {
     "name": "stdout",
     "output_type": "stream",
     "text": [
      "normalized pred locations loss 0.047825150191783905\n"
     ]
    },
    {
     "name": "stderr",
     "output_type": "stream",
     "text": [
      "Probe prediction step: 100%|██████████| 156/156 [00:02<00:00, 66.65it/s]\n",
      "Probe prediction epochs:  40%|████      | 8/20 [00:18<00:28,  2.34s/it]"
     ]
    },
    {
     "name": "stdout",
     "output_type": "stream",
     "text": [
      "normalized pred locations loss 0.060211315751075745\n"
     ]
    },
    {
     "name": "stderr",
     "output_type": "stream",
     "text": [
      "Probe prediction step: 100%|██████████| 156/156 [00:02<00:00, 66.64it/s]\n",
      "Probe prediction epochs:  45%|████▌     | 9/20 [00:21<00:25,  2.34s/it]"
     ]
    },
    {
     "name": "stdout",
     "output_type": "stream",
     "text": [
      "normalized pred locations loss 0.04813283309340477\n"
     ]
    },
    {
     "name": "stderr",
     "output_type": "stream",
     "text": []
    },
    {
     "name": "stdout",
     "output_type": "stream",
     "text": [
      "normalized pred locations loss 0.04015157371759415\n"
     ]
    },
    {
     "name": "stderr",
     "output_type": "stream",
     "text": [
      "Probe prediction step: 100%|██████████| 156/156 [00:02<00:00, 67.04it/s]\n",
      "Probe prediction epochs:  50%|█████     | 10/20 [00:23<00:23,  2.34s/it]"
     ]
    },
    {
     "name": "stdout",
     "output_type": "stream",
     "text": [
      "normalized pred locations loss 0.051623061299324036\n"
     ]
    },
    {
     "name": "stderr",
     "output_type": "stream",
     "text": [
      "\n"
     ]
    },
    {
     "name": "stdout",
     "output_type": "stream",
     "text": [
      "normalized pred locations loss 0.041874952614307404\n"
     ]
    },
    {
     "name": "stderr",
     "output_type": "stream",
     "text": [
      "Probe prediction step: 100%|██████████| 156/156 [00:02<00:00, 66.33it/s]\u001b[A\n",
      "Probe prediction epochs:  55%|█████▌    | 11/20 [00:25<00:21,  2.34s/it]"
     ]
    },
    {
     "name": "stdout",
     "output_type": "stream",
     "text": [
      "normalized pred locations loss 0.05795025825500488\n"
     ]
    },
    {
     "name": "stderr",
     "output_type": "stream",
     "text": [
      "Probe prediction step: 100%|██████████| 156/156 [00:02<00:00, 68.89it/s]\n",
      "Probe prediction epochs:  60%|██████    | 12/20 [00:27<00:18,  2.32s/it]"
     ]
    },
    {
     "name": "stdout",
     "output_type": "stream",
     "text": [
      "normalized pred locations loss 0.02807670459151268\n"
     ]
    },
    {
     "name": "stderr",
     "output_type": "stream",
     "text": []
    },
    {
     "name": "stdout",
     "output_type": "stream",
     "text": [
      "normalized pred locations loss 0.033789005130529404\n"
     ]
    },
    {
     "name": "stderr",
     "output_type": "stream",
     "text": [
      "Probe prediction step: 100%|██████████| 156/156 [00:02<00:00, 66.51it/s]\n",
      "Probe prediction epochs:  65%|██████▌   | 13/20 [00:30<00:16,  2.33s/it]"
     ]
    },
    {
     "name": "stdout",
     "output_type": "stream",
     "text": [
      "normalized pred locations loss 0.039586398750543594\n"
     ]
    },
    {
     "name": "stderr",
     "output_type": "stream",
     "text": [
      "Probe prediction step: 100%|██████████| 156/156 [00:02<00:00, 65.97it/s]\n",
      "Probe prediction epochs:  70%|███████   | 14/20 [00:32<00:14,  2.34s/it]"
     ]
    },
    {
     "name": "stdout",
     "output_type": "stream",
     "text": [
      "normalized pred locations loss 0.037925101816654205\n"
     ]
    },
    {
     "name": "stderr",
     "output_type": "stream",
     "text": []
    },
    {
     "name": "stdout",
     "output_type": "stream",
     "text": [
      "normalized pred locations loss 0.031027868390083313\n"
     ]
    },
    {
     "name": "stderr",
     "output_type": "stream",
     "text": [
      "Probe prediction step: 100%|██████████| 156/156 [00:02<00:00, 65.33it/s]\n",
      "Probe prediction epochs:  75%|███████▌  | 15/20 [00:35<00:11,  2.35s/it]"
     ]
    },
    {
     "name": "stdout",
     "output_type": "stream",
     "text": [
      "normalized pred locations loss 0.030266599729657173\n"
     ]
    },
    {
     "name": "stderr",
     "output_type": "stream",
     "text": [
      "Probe prediction step: 100%|██████████| 156/156 [00:02<00:00, 65.33it/s]\n",
      "Probe prediction epochs:  80%|████████  | 16/20 [00:37<00:09,  2.36s/it]"
     ]
    },
    {
     "name": "stdout",
     "output_type": "stream",
     "text": [
      "normalized pred locations loss 0.031436268240213394\n"
     ]
    },
    {
     "name": "stderr",
     "output_type": "stream",
     "text": []
    },
    {
     "name": "stdout",
     "output_type": "stream",
     "text": [
      "normalized pred locations loss 0.030447259545326233\n"
     ]
    },
    {
     "name": "stderr",
     "output_type": "stream",
     "text": [
      "Probe prediction step: 100%|██████████| 156/156 [00:02<00:00, 65.50it/s]\n",
      "Probe prediction epochs:  85%|████████▌ | 17/20 [00:39<00:07,  2.37s/it]"
     ]
    },
    {
     "name": "stdout",
     "output_type": "stream",
     "text": [
      "normalized pred locations loss 0.03314489126205444\n"
     ]
    },
    {
     "name": "stderr",
     "output_type": "stream",
     "text": [
      "Probe prediction step: 100%|██████████| 156/156 [00:02<00:00, 67.18it/s]\n",
      "Probe prediction epochs:  90%|█████████ | 18/20 [00:42<00:04,  2.36s/it]"
     ]
    },
    {
     "name": "stdout",
     "output_type": "stream",
     "text": [
      "normalized pred locations loss 0.03226040303707123\n"
     ]
    },
    {
     "name": "stderr",
     "output_type": "stream",
     "text": []
    },
    {
     "name": "stdout",
     "output_type": "stream",
     "text": [
      "normalized pred locations loss 0.03413183614611626\n"
     ]
    },
    {
     "name": "stderr",
     "output_type": "stream",
     "text": [
      "Probe prediction step: 100%|██████████| 156/156 [00:02<00:00, 66.68it/s]\n",
      "Probe prediction epochs:  95%|█████████▌| 19/20 [00:44<00:02,  2.35s/it]"
     ]
    },
    {
     "name": "stdout",
     "output_type": "stream",
     "text": [
      "normalized pred locations loss 0.02660958096385002\n"
     ]
    },
    {
     "name": "stderr",
     "output_type": "stream",
     "text": []
    },
    {
     "name": "stdout",
     "output_type": "stream",
     "text": [
      "normalized pred locations loss 0.03621548041701317\n"
     ]
    },
    {
     "name": "stderr",
     "output_type": "stream",
     "text": [
      "Probe prediction step: 100%|██████████| 156/156 [00:02<00:00, 66.64it/s]\n",
      "Probe prediction epochs: 100%|██████████| 20/20 [00:46<00:00,  2.34s/it]\n",
      "Eval probe pred: 100%|██████████| 62/62 [00:00<00:00, 82.40it/s]\n",
      "Eval probe pred: 100%|██████████| 62/62 [00:00<00:00, 82.54it/s]"
     ]
    },
    {
     "name": "stdout",
     "output_type": "stream",
     "text": [
      "normal loss: 11.86609172821045\n",
      "wall loss: 17.112180709838867\n"
     ]
    },
    {
     "name": "stderr",
     "output_type": "stream",
     "text": [
      "\n"
     ]
    }
   ],
   "source": [
    "model = WorldModelVICReg().to('cuda')\n",
    "model.load_state_dict(torch.load('cnn_based_checkpoints/checkpoint_epoch_4.pt')['model_state_dict'])\n",
    "evaluate_model(device, model, probe_train_ds, probe_val_ds)"
   ]
  },
  {
   "cell_type": "code",
   "execution_count": 56,
   "id": "3e11ff9d",
   "metadata": {},
   "outputs": [
    {
     "name": "stderr",
     "output_type": "stream",
     "text": [
      "/tmp/ipykernel_331203/422133451.py:2: FutureWarning: You are using `torch.load` with `weights_only=False` (the current default value), which uses the default pickle module implicitly. It is possible to construct malicious pickle data which will execute arbitrary code during unpickling (See https://github.com/pytorch/pytorch/blob/main/SECURITY.md#untrusted-models for more details). In a future release, the default value for `weights_only` will be flipped to `True`. This limits the functions that could be executed during unpickling. Arbitrary objects will no longer be allowed to be loaded via this mode unless they are explicitly allowlisted by the user via `torch.serialization.add_safe_globals`. We recommend you start setting `weights_only=True` for any use case where you don't have full control of the loaded file. Please open an issue on GitHub for any issues related to this experimental feature.\n",
      "  model.load_state_dict(torch.load('cnn_based_checkpoints/checkpoint_epoch_5.pt')['model_state_dict'])\n",
      "Probe prediction epochs:   0%|          | 0/20 [00:00<?, ?it/s]"
     ]
    },
    {
     "name": "stderr",
     "output_type": "stream",
     "text": []
    },
    {
     "name": "stdout",
     "output_type": "stream",
     "text": [
      "normalized pred locations loss 1.2110536098480225\n"
     ]
    },
    {
     "name": "stderr",
     "output_type": "stream",
     "text": []
    },
    {
     "name": "stdout",
     "output_type": "stream",
     "text": [
      "normalized pred locations loss 0.7883133292198181\n"
     ]
    },
    {
     "name": "stderr",
     "output_type": "stream",
     "text": [
      "Probe prediction step: 100%|██████████| 156/156 [00:02<00:00, 66.98it/s]\n",
      "Probe prediction epochs:   5%|▌         | 1/20 [00:02<00:44,  2.33s/it]"
     ]
    },
    {
     "name": "stdout",
     "output_type": "stream",
     "text": [
      "normalized pred locations loss 0.32565274834632874\n"
     ]
    },
    {
     "name": "stderr",
     "output_type": "stream",
     "text": [
      "Probe prediction step: 100%|██████████| 156/156 [00:02<00:00, 66.96it/s]\n",
      "Probe prediction epochs:  10%|█         | 2/20 [00:04<00:41,  2.33s/it]"
     ]
    },
    {
     "name": "stdout",
     "output_type": "stream",
     "text": [
      "normalized pred locations loss 0.1992124617099762\n"
     ]
    },
    {
     "name": "stderr",
     "output_type": "stream",
     "text": []
    },
    {
     "name": "stdout",
     "output_type": "stream",
     "text": [
      "normalized pred locations loss 0.10047836601734161\n"
     ]
    },
    {
     "name": "stderr",
     "output_type": "stream",
     "text": [
      "Probe prediction step: 100%|██████████| 156/156 [00:02<00:00, 67.09it/s]\n",
      "Probe prediction epochs:  15%|█▌        | 3/20 [00:06<00:39,  2.33s/it]"
     ]
    },
    {
     "name": "stdout",
     "output_type": "stream",
     "text": [
      "normalized pred locations loss 0.11903891712427139\n"
     ]
    },
    {
     "name": "stderr",
     "output_type": "stream",
     "text": []
    },
    {
     "name": "stdout",
     "output_type": "stream",
     "text": [
      "normalized pred locations loss 0.0835399180650711\n"
     ]
    },
    {
     "name": "stderr",
     "output_type": "stream",
     "text": [
      "Probe prediction step: 100%|██████████| 156/156 [00:02<00:00, 66.94it/s]\n",
      "Probe prediction epochs:  20%|██        | 4/20 [00:09<00:37,  2.33s/it]"
     ]
    },
    {
     "name": "stdout",
     "output_type": "stream",
     "text": [
      "normalized pred locations loss 0.1258830428123474\n"
     ]
    },
    {
     "name": "stderr",
     "output_type": "stream",
     "text": [
      "Probe prediction step: 100%|██████████| 156/156 [00:02<00:00, 67.01it/s]\n",
      "Probe prediction epochs:  25%|██▌       | 5/20 [00:11<00:34,  2.33s/it]"
     ]
    },
    {
     "name": "stdout",
     "output_type": "stream",
     "text": [
      "normalized pred locations loss 0.07436065375804901\n"
     ]
    },
    {
     "name": "stderr",
     "output_type": "stream",
     "text": []
    },
    {
     "name": "stdout",
     "output_type": "stream",
     "text": [
      "normalized pred locations loss 0.07101467996835709\n"
     ]
    },
    {
     "name": "stderr",
     "output_type": "stream",
     "text": [
      "Probe prediction step: 100%|██████████| 156/156 [00:02<00:00, 67.02it/s]\n",
      "Probe prediction epochs:  30%|███       | 6/20 [00:13<00:32,  2.33s/it]"
     ]
    },
    {
     "name": "stdout",
     "output_type": "stream",
     "text": [
      "normalized pred locations loss 0.05736861005425453\n"
     ]
    },
    {
     "name": "stderr",
     "output_type": "stream",
     "text": [
      "Probe prediction step: 100%|██████████| 156/156 [00:02<00:00, 67.08it/s]\n",
      "Probe prediction epochs:  35%|███▌      | 7/20 [00:16<00:30,  2.33s/it]"
     ]
    },
    {
     "name": "stdout",
     "output_type": "stream",
     "text": [
      "normalized pred locations loss 0.07594674080610275\n"
     ]
    },
    {
     "name": "stderr",
     "output_type": "stream",
     "text": []
    },
    {
     "name": "stdout",
     "output_type": "stream",
     "text": [
      "normalized pred locations loss 0.06071389466524124\n"
     ]
    },
    {
     "name": "stderr",
     "output_type": "stream",
     "text": [
      "Probe prediction step: 100%|██████████| 156/156 [00:02<00:00, 66.94it/s]\n",
      "Probe prediction epochs:  40%|████      | 8/20 [00:18<00:27,  2.33s/it]"
     ]
    },
    {
     "name": "stdout",
     "output_type": "stream",
     "text": [
      "normalized pred locations loss 0.0503939688205719\n"
     ]
    },
    {
     "name": "stderr",
     "output_type": "stream",
     "text": [
      "Probe prediction step: 100%|██████████| 156/156 [00:02<00:00, 66.91it/s]\n",
      "Probe prediction epochs:  45%|████▌     | 9/20 [00:20<00:25,  2.33s/it]"
     ]
    },
    {
     "name": "stdout",
     "output_type": "stream",
     "text": [
      "normalized pred locations loss 0.05820417404174805\n"
     ]
    },
    {
     "name": "stderr",
     "output_type": "stream",
     "text": []
    },
    {
     "name": "stdout",
     "output_type": "stream",
     "text": [
      "normalized pred locations loss 0.039852578192949295\n"
     ]
    },
    {
     "name": "stderr",
     "output_type": "stream",
     "text": [
      "Probe prediction step: 100%|██████████| 156/156 [00:02<00:00, 66.88it/s]\n",
      "Probe prediction epochs:  50%|█████     | 10/20 [00:23<00:23,  2.33s/it]"
     ]
    },
    {
     "name": "stdout",
     "output_type": "stream",
     "text": [
      "normalized pred locations loss 0.0396280400454998\n"
     ]
    },
    {
     "name": "stderr",
     "output_type": "stream",
     "text": []
    },
    {
     "name": "stdout",
     "output_type": "stream",
     "text": [
      "normalized pred locations loss 0.04038191959261894\n"
     ]
    },
    {
     "name": "stderr",
     "output_type": "stream",
     "text": [
      "Probe prediction step: 100%|██████████| 156/156 [00:02<00:00, 69.84it/s]\n",
      "Probe prediction epochs:  55%|█████▌    | 11/20 [00:25<00:20,  2.30s/it]"
     ]
    },
    {
     "name": "stdout",
     "output_type": "stream",
     "text": [
      "normalized pred locations loss 0.04401538148522377\n"
     ]
    },
    {
     "name": "stderr",
     "output_type": "stream",
     "text": [
      "Probe prediction step: 100%|██████████| 156/156 [00:02<00:00, 70.44it/s]\n",
      "Probe prediction epochs:  60%|██████    | 12/20 [00:27<00:18,  2.28s/it]"
     ]
    },
    {
     "name": "stdout",
     "output_type": "stream",
     "text": [
      "normalized pred locations loss 0.03363671153783798\n"
     ]
    },
    {
     "name": "stderr",
     "output_type": "stream",
     "text": []
    },
    {
     "name": "stdout",
     "output_type": "stream",
     "text": [
      "normalized pred locations loss 0.03823761269450188\n"
     ]
    },
    {
     "name": "stderr",
     "output_type": "stream",
     "text": [
      "Probe prediction step: 100%|██████████| 156/156 [00:02<00:00, 68.77it/s]\n",
      "Probe prediction epochs:  65%|██████▌   | 13/20 [00:30<00:15,  2.27s/it]"
     ]
    },
    {
     "name": "stdout",
     "output_type": "stream",
     "text": [
      "normalized pred locations loss 0.034851882606744766\n"
     ]
    },
    {
     "name": "stderr",
     "output_type": "stream",
     "text": [
      "Probe prediction step: 100%|██████████| 156/156 [00:02<00:00, 67.27it/s]\n",
      "Probe prediction epochs:  70%|███████   | 14/20 [00:32<00:13,  2.29s/it]"
     ]
    },
    {
     "name": "stdout",
     "output_type": "stream",
     "text": [
      "normalized pred locations loss 0.04031161591410637\n"
     ]
    },
    {
     "name": "stderr",
     "output_type": "stream",
     "text": []
    },
    {
     "name": "stdout",
     "output_type": "stream",
     "text": [
      "normalized pred locations loss 0.04649718105792999\n"
     ]
    },
    {
     "name": "stderr",
     "output_type": "stream",
     "text": [
      "Probe prediction step: 100%|██████████| 156/156 [00:02<00:00, 66.58it/s]\n",
      "Probe prediction epochs:  75%|███████▌  | 15/20 [00:34<00:11,  2.31s/it]"
     ]
    },
    {
     "name": "stdout",
     "output_type": "stream",
     "text": [
      "normalized pred locations loss 0.03695002570748329\n"
     ]
    },
    {
     "name": "stderr",
     "output_type": "stream",
     "text": [
      "Probe prediction step: 100%|██████████| 156/156 [00:02<00:00, 65.49it/s]\n",
      "Probe prediction epochs:  80%|████████  | 16/20 [00:37<00:09,  2.33s/it]"
     ]
    },
    {
     "name": "stdout",
     "output_type": "stream",
     "text": [
      "normalized pred locations loss 0.04565272107720375\n"
     ]
    },
    {
     "name": "stderr",
     "output_type": "stream",
     "text": []
    },
    {
     "name": "stdout",
     "output_type": "stream",
     "text": [
      "normalized pred locations loss 0.03448766842484474\n"
     ]
    },
    {
     "name": "stderr",
     "output_type": "stream",
     "text": [
      "Probe prediction step: 100%|██████████| 156/156 [00:02<00:00, 65.55it/s]\n",
      "Probe prediction epochs:  85%|████████▌ | 17/20 [00:39<00:07,  2.34s/it]"
     ]
    },
    {
     "name": "stdout",
     "output_type": "stream",
     "text": [
      "normalized pred locations loss 0.028735538944602013\n"
     ]
    },
    {
     "name": "stderr",
     "output_type": "stream",
     "text": [
      "Probe prediction step: 100%|██████████| 156/156 [00:02<00:00, 65.84it/s]\n",
      "Probe prediction epochs:  90%|█████████ | 18/20 [00:41<00:04,  2.35s/it]"
     ]
    },
    {
     "name": "stdout",
     "output_type": "stream",
     "text": [
      "normalized pred locations loss 0.03974789008498192\n"
     ]
    },
    {
     "name": "stderr",
     "output_type": "stream",
     "text": []
    },
    {
     "name": "stdout",
     "output_type": "stream",
     "text": [
      "normalized pred locations loss 0.03584674000740051\n"
     ]
    },
    {
     "name": "stderr",
     "output_type": "stream",
     "text": [
      "Probe prediction step: 100%|██████████| 156/156 [00:02<00:00, 67.09it/s]\n",
      "Probe prediction epochs:  95%|█████████▌| 19/20 [00:44<00:02,  2.35s/it]"
     ]
    },
    {
     "name": "stdout",
     "output_type": "stream",
     "text": [
      "normalized pred locations loss 0.034124765545129776\n"
     ]
    },
    {
     "name": "stderr",
     "output_type": "stream",
     "text": []
    },
    {
     "name": "stdout",
     "output_type": "stream",
     "text": [
      "normalized pred locations loss 0.036533504724502563\n"
     ]
    },
    {
     "name": "stderr",
     "output_type": "stream",
     "text": [
      "Probe prediction step: 100%|██████████| 156/156 [00:02<00:00, 66.78it/s]\n",
      "Probe prediction epochs: 100%|██████████| 20/20 [00:46<00:00,  2.32s/it]\n",
      "Eval probe pred: 100%|██████████| 62/62 [00:00<00:00, 83.06it/s]\n",
      "Eval probe pred: 100%|██████████| 62/62 [00:00<00:00, 82.62it/s]"
     ]
    },
    {
     "name": "stdout",
     "output_type": "stream",
     "text": [
      "normal loss: 12.959648132324219\n",
      "wall loss: 17.97338104248047\n"
     ]
    },
    {
     "name": "stderr",
     "output_type": "stream",
     "text": [
      "\n"
     ]
    }
   ],
   "source": [
    "model = WorldModelVICReg().to('cuda')\n",
    "model.load_state_dict(torch.load('cnn_based_checkpoints/checkpoint_epoch_5.pt')['model_state_dict'])\n",
    "evaluate_model(device, model, probe_train_ds, probe_val_ds)"
   ]
  },
  {
   "cell_type": "code",
   "execution_count": 57,
   "id": "2336dd2e",
   "metadata": {},
   "outputs": [
    {
     "name": "stderr",
     "output_type": "stream",
     "text": [
      "/tmp/ipykernel_331203/1347499640.py:2: FutureWarning: You are using `torch.load` with `weights_only=False` (the current default value), which uses the default pickle module implicitly. It is possible to construct malicious pickle data which will execute arbitrary code during unpickling (See https://github.com/pytorch/pytorch/blob/main/SECURITY.md#untrusted-models for more details). In a future release, the default value for `weights_only` will be flipped to `True`. This limits the functions that could be executed during unpickling. Arbitrary objects will no longer be allowed to be loaded via this mode unless they are explicitly allowlisted by the user via `torch.serialization.add_safe_globals`. We recommend you start setting `weights_only=True` for any use case where you don't have full control of the loaded file. Please open an issue on GitHub for any issues related to this experimental feature.\n",
      "  model.load_state_dict(torch.load('cnn_based_checkpoints/checkpoint_epoch_6.pt')['model_state_dict'])\n",
      "Probe prediction epochs:   0%|          | 0/20 [00:00<?, ?it/s]"
     ]
    },
    {
     "name": "stdout",
     "output_type": "stream",
     "text": [
      "normalized pred locations loss 1.1338393688201904\n"
     ]
    },
    {
     "name": "stderr",
     "output_type": "stream",
     "text": []
    },
    {
     "name": "stdout",
     "output_type": "stream",
     "text": [
      "normalized pred locations loss 0.7276270389556885\n"
     ]
    },
    {
     "name": "stderr",
     "output_type": "stream",
     "text": [
      "Probe prediction step: 100%|██████████| 156/156 [00:02<00:00, 65.88it/s]\n",
      "Probe prediction epochs:   5%|▌         | 1/20 [00:02<00:45,  2.37s/it]"
     ]
    },
    {
     "name": "stdout",
     "output_type": "stream",
     "text": [
      "normalized pred locations loss 0.33604541420936584\n"
     ]
    },
    {
     "name": "stderr",
     "output_type": "stream",
     "text": [
      "Probe prediction step: 100%|██████████| 156/156 [00:02<00:00, 66.98it/s]\n",
      "Probe prediction epochs:  10%|█         | 2/20 [00:04<00:42,  2.35s/it]"
     ]
    },
    {
     "name": "stdout",
     "output_type": "stream",
     "text": [
      "normalized pred locations loss 0.19993677735328674\n"
     ]
    },
    {
     "name": "stderr",
     "output_type": "stream",
     "text": []
    },
    {
     "name": "stdout",
     "output_type": "stream",
     "text": [
      "normalized pred locations loss 0.157821387052536\n"
     ]
    },
    {
     "name": "stderr",
     "output_type": "stream",
     "text": [
      "Probe prediction step: 100%|██████████| 156/156 [00:02<00:00, 66.55it/s]\n",
      "Probe prediction epochs:  15%|█▌        | 3/20 [00:07<00:39,  2.35s/it]"
     ]
    },
    {
     "name": "stdout",
     "output_type": "stream",
     "text": [
      "normalized pred locations loss 0.12850509583950043\n"
     ]
    },
    {
     "name": "stderr",
     "output_type": "stream",
     "text": []
    },
    {
     "name": "stdout",
     "output_type": "stream",
     "text": [
      "normalized pred locations loss 0.133024200797081\n"
     ]
    },
    {
     "name": "stderr",
     "output_type": "stream",
     "text": [
      "Probe prediction step: 100%|██████████| 156/156 [00:02<00:00, 67.68it/s]\n",
      "Probe prediction epochs:  20%|██        | 4/20 [00:09<00:37,  2.33s/it]"
     ]
    },
    {
     "name": "stdout",
     "output_type": "stream",
     "text": [
      "normalized pred locations loss 0.08875823020935059\n"
     ]
    },
    {
     "name": "stderr",
     "output_type": "stream",
     "text": [
      "Probe prediction step: 100%|██████████| 156/156 [00:02<00:00, 68.51it/s]\n",
      "Probe prediction epochs:  25%|██▌       | 5/20 [00:11<00:34,  2.31s/it]"
     ]
    },
    {
     "name": "stdout",
     "output_type": "stream",
     "text": [
      "normalized pred locations loss 0.08229460567235947\n"
     ]
    },
    {
     "name": "stderr",
     "output_type": "stream",
     "text": []
    },
    {
     "name": "stdout",
     "output_type": "stream",
     "text": [
      "normalized pred locations loss 0.06706434488296509\n"
     ]
    },
    {
     "name": "stderr",
     "output_type": "stream",
     "text": [
      "Probe prediction step: 100%|██████████| 156/156 [00:02<00:00, 67.37it/s]\n",
      "Probe prediction epochs:  30%|███       | 6/20 [00:13<00:32,  2.31s/it]"
     ]
    },
    {
     "name": "stdout",
     "output_type": "stream",
     "text": [
      "normalized pred locations loss 0.11083176732063293\n"
     ]
    },
    {
     "name": "stderr",
     "output_type": "stream",
     "text": [
      "Probe prediction step: 100%|██████████| 156/156 [00:02<00:00, 66.53it/s]\n",
      "Probe prediction epochs:  35%|███▌      | 7/20 [00:16<00:30,  2.32s/it]"
     ]
    },
    {
     "name": "stdout",
     "output_type": "stream",
     "text": [
      "normalized pred locations loss 0.06925390660762787\n"
     ]
    },
    {
     "name": "stderr",
     "output_type": "stream",
     "text": []
    },
    {
     "name": "stdout",
     "output_type": "stream",
     "text": [
      "normalized pred locations loss 0.0567888505756855\n"
     ]
    },
    {
     "name": "stderr",
     "output_type": "stream",
     "text": [
      "Probe prediction step: 100%|██████████| 156/156 [00:02<00:00, 65.26it/s]\n",
      "Probe prediction epochs:  40%|████      | 8/20 [00:18<00:28,  2.35s/it]"
     ]
    },
    {
     "name": "stdout",
     "output_type": "stream",
     "text": [
      "normalized pred locations loss 0.07352180033922195\n"
     ]
    },
    {
     "name": "stderr",
     "output_type": "stream",
     "text": [
      "Probe prediction step: 100%|██████████| 156/156 [00:02<00:00, 66.47it/s]\n",
      "Probe prediction epochs:  45%|████▌     | 9/20 [00:21<00:25,  2.35s/it]"
     ]
    },
    {
     "name": "stdout",
     "output_type": "stream",
     "text": [
      "normalized pred locations loss 0.0704197883605957\n"
     ]
    },
    {
     "name": "stderr",
     "output_type": "stream",
     "text": []
    },
    {
     "name": "stdout",
     "output_type": "stream",
     "text": [
      "normalized pred locations loss 0.05126423016190529\n"
     ]
    },
    {
     "name": "stderr",
     "output_type": "stream",
     "text": [
      "Probe prediction step: 100%|██████████| 156/156 [00:02<00:00, 65.71it/s]\n",
      "Probe prediction epochs:  50%|█████     | 10/20 [00:23<00:23,  2.36s/it]"
     ]
    },
    {
     "name": "stdout",
     "output_type": "stream",
     "text": [
      "normalized pred locations loss 0.07010426372289658\n"
     ]
    },
    {
     "name": "stderr",
     "output_type": "stream",
     "text": [
      "\n"
     ]
    },
    {
     "name": "stdout",
     "output_type": "stream",
     "text": [
      "normalized pred locations loss 0.06929467618465424\n"
     ]
    },
    {
     "name": "stderr",
     "output_type": "stream",
     "text": [
      "Probe prediction step: 100%|██████████| 156/156 [00:02<00:00, 65.56it/s]\u001b[A\n",
      "Probe prediction epochs:  55%|█████▌    | 11/20 [00:25<00:21,  2.36s/it]\n"
     ]
    },
    {
     "name": "stdout",
     "output_type": "stream",
     "text": [
      "normalized pred locations loss 0.04148884490132332\n"
     ]
    },
    {
     "name": "stderr",
     "output_type": "stream",
     "text": [
      "Probe prediction step: 100%|██████████| 156/156 [00:02<00:00, 65.58it/s][A\n",
      "Probe prediction epochs:  60%|██████    | 12/20 [00:28<00:18,  2.37s/it]"
     ]
    },
    {
     "name": "stdout",
     "output_type": "stream",
     "text": [
      "normalized pred locations loss 0.03877044841647148\n"
     ]
    },
    {
     "name": "stderr",
     "output_type": "stream",
     "text": []
    },
    {
     "name": "stdout",
     "output_type": "stream",
     "text": [
      "normalized pred locations loss 0.03516725078225136\n"
     ]
    },
    {
     "name": "stderr",
     "output_type": "stream",
     "text": [
      "Probe prediction step: 100%|██████████| 156/156 [00:02<00:00, 66.67it/s]\n",
      "Probe prediction epochs:  65%|██████▌   | 13/20 [00:30<00:16,  2.36s/it]"
     ]
    },
    {
     "name": "stdout",
     "output_type": "stream",
     "text": [
      "normalized pred locations loss 0.038466405123472214\n"
     ]
    },
    {
     "name": "stderr",
     "output_type": "stream",
     "text": [
      "Probe prediction step: 100%|██████████| 156/156 [00:02<00:00, 66.22it/s]\n",
      "Probe prediction epochs:  70%|███████   | 14/20 [00:32<00:14,  2.36s/it]"
     ]
    },
    {
     "name": "stdout",
     "output_type": "stream",
     "text": [
      "normalized pred locations loss 0.0493745282292366\n"
     ]
    },
    {
     "name": "stderr",
     "output_type": "stream",
     "text": []
    },
    {
     "name": "stdout",
     "output_type": "stream",
     "text": [
      "normalized pred locations loss 0.0530044324696064\n"
     ]
    },
    {
     "name": "stderr",
     "output_type": "stream",
     "text": [
      "Probe prediction step: 100%|██████████| 156/156 [00:02<00:00, 68.78it/s]\n",
      "Probe prediction epochs:  75%|███████▌  | 15/20 [00:35<00:11,  2.33s/it]"
     ]
    },
    {
     "name": "stdout",
     "output_type": "stream",
     "text": [
      "normalized pred locations loss 0.04887118935585022\n"
     ]
    },
    {
     "name": "stderr",
     "output_type": "stream",
     "text": [
      "Probe prediction step: 100%|██████████| 156/156 [00:02<00:00, 68.88it/s]\n",
      "Probe prediction epochs:  80%|████████  | 16/20 [00:37<00:09,  2.31s/it]"
     ]
    },
    {
     "name": "stdout",
     "output_type": "stream",
     "text": [
      "normalized pred locations loss 0.03837314993143082\n"
     ]
    },
    {
     "name": "stderr",
     "output_type": "stream",
     "text": []
    },
    {
     "name": "stdout",
     "output_type": "stream",
     "text": [
      "normalized pred locations loss 0.04601423069834709\n"
     ]
    },
    {
     "name": "stderr",
     "output_type": "stream",
     "text": [
      "Probe prediction step: 100%|██████████| 156/156 [00:02<00:00, 67.45it/s]\n",
      "Probe prediction epochs:  85%|████████▌ | 17/20 [00:39<00:06,  2.31s/it]"
     ]
    },
    {
     "name": "stdout",
     "output_type": "stream",
     "text": [
      "normalized pred locations loss 0.042729754000902176\n"
     ]
    },
    {
     "name": "stderr",
     "output_type": "stream",
     "text": [
      "Probe prediction step: 100%|██████████| 156/156 [00:02<00:00, 69.07it/s]\n",
      "Probe prediction epochs:  90%|█████████ | 18/20 [00:41<00:04,  2.30s/it]"
     ]
    },
    {
     "name": "stdout",
     "output_type": "stream",
     "text": [
      "normalized pred locations loss 0.032650724053382874\n"
     ]
    },
    {
     "name": "stderr",
     "output_type": "stream",
     "text": []
    },
    {
     "name": "stdout",
     "output_type": "stream",
     "text": [
      "normalized pred locations loss 0.03543461114168167\n"
     ]
    },
    {
     "name": "stderr",
     "output_type": "stream",
     "text": [
      "Probe prediction step: 100%|██████████| 156/156 [00:02<00:00, 70.58it/s]\n",
      "Probe prediction epochs:  95%|█████████▌| 19/20 [00:44<00:02,  2.27s/it]"
     ]
    },
    {
     "name": "stdout",
     "output_type": "stream",
     "text": [
      "normalized pred locations loss 0.049194999039173126\n"
     ]
    },
    {
     "name": "stderr",
     "output_type": "stream",
     "text": []
    },
    {
     "name": "stdout",
     "output_type": "stream",
     "text": [
      "normalized pred locations loss 0.042543649673461914\n"
     ]
    },
    {
     "name": "stderr",
     "output_type": "stream",
     "text": [
      "Probe prediction step: 100%|██████████| 156/156 [00:02<00:00, 68.67it/s]\n",
      "Probe prediction epochs: 100%|██████████| 20/20 [00:46<00:00,  2.32s/it]\n",
      "Eval probe pred: 100%|██████████| 62/62 [00:00<00:00, 82.13it/s]\n",
      "Eval probe pred: 100%|██████████| 62/62 [00:00<00:00, 82.66it/s]"
     ]
    },
    {
     "name": "stdout",
     "output_type": "stream",
     "text": [
      "normal loss: 13.814647674560547\n",
      "wall loss: 18.868379592895508\n"
     ]
    },
    {
     "name": "stderr",
     "output_type": "stream",
     "text": [
      "\n"
     ]
    }
   ],
   "source": [
    "model = WorldModelVICReg().to('cuda')\n",
    "model.load_state_dict(torch.load('cnn_based_checkpoints/checkpoint_epoch_6.pt')['model_state_dict'])\n",
    "evaluate_model(device, model, probe_train_ds, probe_val_ds)"
   ]
  },
  {
   "cell_type": "code",
   "execution_count": 58,
   "id": "fe1a5849",
   "metadata": {},
   "outputs": [
    {
     "name": "stderr",
     "output_type": "stream",
     "text": [
      "/tmp/ipykernel_331203/4161233085.py:2: FutureWarning: You are using `torch.load` with `weights_only=False` (the current default value), which uses the default pickle module implicitly. It is possible to construct malicious pickle data which will execute arbitrary code during unpickling (See https://github.com/pytorch/pytorch/blob/main/SECURITY.md#untrusted-models for more details). In a future release, the default value for `weights_only` will be flipped to `True`. This limits the functions that could be executed during unpickling. Arbitrary objects will no longer be allowed to be loaded via this mode unless they are explicitly allowlisted by the user via `torch.serialization.add_safe_globals`. We recommend you start setting `weights_only=True` for any use case where you don't have full control of the loaded file. Please open an issue on GitHub for any issues related to this experimental feature.\n",
      "  model.load_state_dict(torch.load('cnn_based_checkpoints/checkpoint_epoch_7.pt')['model_state_dict'])\n",
      "Probe prediction epochs:   0%|          | 0/20 [00:00<?, ?it/s]"
     ]
    },
    {
     "name": "stdout",
     "output_type": "stream",
     "text": [
      "normalized pred locations loss 1.0737444162368774\n"
     ]
    },
    {
     "name": "stderr",
     "output_type": "stream",
     "text": []
    },
    {
     "name": "stdout",
     "output_type": "stream",
     "text": [
      "normalized pred locations loss 0.9109867811203003\n"
     ]
    },
    {
     "name": "stderr",
     "output_type": "stream",
     "text": [
      "Probe prediction step: 100%|██████████| 156/156 [00:02<00:00, 65.02it/s]\n",
      "Probe prediction epochs:   5%|▌         | 1/20 [00:02<00:45,  2.40s/it]"
     ]
    },
    {
     "name": "stdout",
     "output_type": "stream",
     "text": [
      "normalized pred locations loss 0.39509084820747375\n"
     ]
    },
    {
     "name": "stderr",
     "output_type": "stream",
     "text": [
      "Probe prediction step: 100%|██████████| 156/156 [00:02<00:00, 66.58it/s]\n",
      "Probe prediction epochs:  10%|█         | 2/20 [00:04<00:42,  2.37s/it]"
     ]
    },
    {
     "name": "stdout",
     "output_type": "stream",
     "text": [
      "normalized pred locations loss 0.19365723431110382\n"
     ]
    },
    {
     "name": "stderr",
     "output_type": "stream",
     "text": []
    },
    {
     "name": "stdout",
     "output_type": "stream",
     "text": [
      "normalized pred locations loss 0.19022312760353088\n"
     ]
    },
    {
     "name": "stderr",
     "output_type": "stream",
     "text": [
      "Probe prediction step: 100%|██████████| 156/156 [00:02<00:00, 66.90it/s]\n",
      "Probe prediction epochs:  15%|█▌        | 3/20 [00:07<00:39,  2.35s/it]"
     ]
    },
    {
     "name": "stdout",
     "output_type": "stream",
     "text": [
      "normalized pred locations loss 0.13980799913406372\n"
     ]
    },
    {
     "name": "stderr",
     "output_type": "stream",
     "text": []
    },
    {
     "name": "stdout",
     "output_type": "stream",
     "text": [
      "normalized pred locations loss 0.11988360434770584\n"
     ]
    },
    {
     "name": "stderr",
     "output_type": "stream",
     "text": [
      "Probe prediction step: 100%|██████████| 156/156 [00:02<00:00, 66.57it/s]\n",
      "Probe prediction epochs:  20%|██        | 4/20 [00:09<00:37,  2.35s/it]"
     ]
    },
    {
     "name": "stdout",
     "output_type": "stream",
     "text": [
      "normalized pred locations loss 0.11538535356521606\n"
     ]
    },
    {
     "name": "stderr",
     "output_type": "stream",
     "text": [
      "Probe prediction step: 100%|██████████| 156/156 [00:02<00:00, 66.60it/s]\n",
      "Probe prediction epochs:  25%|██▌       | 5/20 [00:11<00:35,  2.35s/it]"
     ]
    },
    {
     "name": "stdout",
     "output_type": "stream",
     "text": [
      "normalized pred locations loss 0.07834357768297195\n"
     ]
    },
    {
     "name": "stderr",
     "output_type": "stream",
     "text": []
    },
    {
     "name": "stdout",
     "output_type": "stream",
     "text": [
      "normalized pred locations loss 0.06455153971910477\n"
     ]
    },
    {
     "name": "stderr",
     "output_type": "stream",
     "text": [
      "Probe prediction step: 100%|██████████| 156/156 [00:02<00:00, 66.60it/s]\n",
      "Probe prediction epochs:  30%|███       | 6/20 [00:14<00:32,  2.35s/it]"
     ]
    },
    {
     "name": "stdout",
     "output_type": "stream",
     "text": [
      "normalized pred locations loss 0.09472496807575226\n"
     ]
    },
    {
     "name": "stderr",
     "output_type": "stream",
     "text": [
      "Probe prediction step: 100%|██████████| 156/156 [00:02<00:00, 66.31it/s]\n",
      "Probe prediction epochs:  35%|███▌      | 7/20 [00:16<00:30,  2.35s/it]"
     ]
    },
    {
     "name": "stdout",
     "output_type": "stream",
     "text": [
      "normalized pred locations loss 0.06447761505842209\n"
     ]
    },
    {
     "name": "stderr",
     "output_type": "stream",
     "text": []
    },
    {
     "name": "stdout",
     "output_type": "stream",
     "text": [
      "normalized pred locations loss 0.0626414492726326\n"
     ]
    },
    {
     "name": "stderr",
     "output_type": "stream",
     "text": [
      "Probe prediction step: 100%|██████████| 156/156 [00:02<00:00, 66.61it/s]\n",
      "Probe prediction epochs:  40%|████      | 8/20 [00:18<00:28,  2.35s/it]"
     ]
    },
    {
     "name": "stdout",
     "output_type": "stream",
     "text": [
      "normalized pred locations loss 0.062335770577192307\n"
     ]
    },
    {
     "name": "stderr",
     "output_type": "stream",
     "text": [
      "Probe prediction step: 100%|██████████| 156/156 [00:02<00:00, 66.90it/s]\n",
      "Probe prediction epochs:  45%|████▌     | 9/20 [00:21<00:25,  2.34s/it]"
     ]
    },
    {
     "name": "stdout",
     "output_type": "stream",
     "text": [
      "normalized pred locations loss 0.07613563537597656\n"
     ]
    },
    {
     "name": "stderr",
     "output_type": "stream",
     "text": []
    },
    {
     "name": "stdout",
     "output_type": "stream",
     "text": [
      "normalized pred locations loss 0.06897138059139252\n"
     ]
    },
    {
     "name": "stderr",
     "output_type": "stream",
     "text": [
      "Probe prediction step: 100%|██████████| 156/156 [00:02<00:00, 66.73it/s]\n",
      "Probe prediction epochs:  50%|█████     | 10/20 [00:23<00:23,  2.34s/it]"
     ]
    },
    {
     "name": "stdout",
     "output_type": "stream",
     "text": [
      "normalized pred locations loss 0.05767959728837013\n"
     ]
    },
    {
     "name": "stderr",
     "output_type": "stream",
     "text": []
    },
    {
     "name": "stdout",
     "output_type": "stream",
     "text": [
      "normalized pred locations loss 0.05408622696995735\n"
     ]
    },
    {
     "name": "stderr",
     "output_type": "stream",
     "text": [
      "Probe prediction step: 100%|██████████| 156/156 [00:02<00:00, 66.32it/s]\n",
      "Probe prediction epochs:  55%|█████▌    | 11/20 [00:25<00:21,  2.35s/it]"
     ]
    },
    {
     "name": "stdout",
     "output_type": "stream",
     "text": [
      "normalized pred locations loss 0.06066587567329407\n"
     ]
    },
    {
     "name": "stderr",
     "output_type": "stream",
     "text": [
      "Probe prediction step: 100%|██████████| 156/156 [00:02<00:00, 66.52it/s]\n",
      "Probe prediction epochs:  60%|██████    | 12/20 [00:28<00:18,  2.35s/it]"
     ]
    },
    {
     "name": "stdout",
     "output_type": "stream",
     "text": [
      "normalized pred locations loss 0.046086542308330536\n"
     ]
    },
    {
     "name": "stderr",
     "output_type": "stream",
     "text": []
    },
    {
     "name": "stdout",
     "output_type": "stream",
     "text": [
      "normalized pred locations loss 0.042363908141851425\n"
     ]
    },
    {
     "name": "stderr",
     "output_type": "stream",
     "text": [
      "Probe prediction step: 100%|██████████| 156/156 [00:02<00:00, 66.11it/s]\n",
      "Probe prediction epochs:  65%|██████▌   | 13/20 [00:30<00:16,  2.35s/it]"
     ]
    },
    {
     "name": "stdout",
     "output_type": "stream",
     "text": [
      "normalized pred locations loss 0.04819279536604881\n"
     ]
    },
    {
     "name": "stderr",
     "output_type": "stream",
     "text": [
      "Probe prediction step: 100%|██████████| 156/156 [00:02<00:00, 65.25it/s]\n",
      "Probe prediction epochs:  70%|███████   | 14/20 [00:32<00:14,  2.36s/it]"
     ]
    },
    {
     "name": "stdout",
     "output_type": "stream",
     "text": [
      "normalized pred locations loss 0.044070638716220856\n"
     ]
    },
    {
     "name": "stderr",
     "output_type": "stream",
     "text": []
    },
    {
     "name": "stdout",
     "output_type": "stream",
     "text": [
      "normalized pred locations loss 0.04252490773797035\n"
     ]
    },
    {
     "name": "stderr",
     "output_type": "stream",
     "text": [
      "Probe prediction step: 100%|██████████| 156/156 [00:02<00:00, 64.10it/s]\n",
      "Probe prediction epochs:  75%|███████▌  | 15/20 [00:35<00:11,  2.39s/it]"
     ]
    },
    {
     "name": "stdout",
     "output_type": "stream",
     "text": [
      "normalized pred locations loss 0.05031981319189072\n"
     ]
    },
    {
     "name": "stderr",
     "output_type": "stream",
     "text": [
      "Probe prediction step: 100%|██████████| 156/156 [00:02<00:00, 63.44it/s]\n",
      "Probe prediction epochs:  80%|████████  | 16/20 [00:37<00:09,  2.41s/it]"
     ]
    },
    {
     "name": "stdout",
     "output_type": "stream",
     "text": [
      "normalized pred locations loss 0.04350661486387253\n"
     ]
    },
    {
     "name": "stderr",
     "output_type": "stream",
     "text": []
    },
    {
     "name": "stdout",
     "output_type": "stream",
     "text": [
      "normalized pred locations loss 0.04019466042518616\n"
     ]
    },
    {
     "name": "stderr",
     "output_type": "stream",
     "text": [
      "Probe prediction step: 100%|██████████| 156/156 [00:02<00:00, 65.26it/s]\n",
      "Probe prediction epochs:  85%|████████▌ | 17/20 [00:40<00:07,  2.40s/it]"
     ]
    },
    {
     "name": "stdout",
     "output_type": "stream",
     "text": [
      "normalized pred locations loss 0.03855203092098236\n"
     ]
    },
    {
     "name": "stderr",
     "output_type": "stream",
     "text": [
      "Probe prediction step: 100%|██████████| 156/156 [00:02<00:00, 66.05it/s]\n",
      "Probe prediction epochs:  90%|█████████ | 18/20 [00:42<00:04,  2.39s/it]"
     ]
    },
    {
     "name": "stdout",
     "output_type": "stream",
     "text": [
      "normalized pred locations loss 0.032743506133556366\n"
     ]
    },
    {
     "name": "stderr",
     "output_type": "stream",
     "text": []
    },
    {
     "name": "stdout",
     "output_type": "stream",
     "text": [
      "normalized pred locations loss 0.03749482333660126\n"
     ]
    },
    {
     "name": "stderr",
     "output_type": "stream",
     "text": [
      "Probe prediction step: 100%|██████████| 156/156 [00:02<00:00, 65.57it/s]\n",
      "Probe prediction epochs:  95%|█████████▌| 19/20 [00:44<00:02,  2.39s/it]"
     ]
    },
    {
     "name": "stdout",
     "output_type": "stream",
     "text": [
      "normalized pred locations loss 0.03974064439535141\n"
     ]
    },
    {
     "name": "stderr",
     "output_type": "stream",
     "text": []
    },
    {
     "name": "stdout",
     "output_type": "stream",
     "text": [
      "normalized pred locations loss 0.062215663492679596\n"
     ]
    },
    {
     "name": "stderr",
     "output_type": "stream",
     "text": [
      "Probe prediction step: 100%|██████████| 156/156 [00:02<00:00, 65.59it/s]\n",
      "Probe prediction epochs: 100%|██████████| 20/20 [00:47<00:00,  2.37s/it]\n",
      "Eval probe pred: 100%|██████████| 62/62 [00:00<00:00, 82.68it/s]\n",
      "Eval probe pred: 100%|██████████| 62/62 [00:00<00:00, 81.55it/s]"
     ]
    },
    {
     "name": "stdout",
     "output_type": "stream",
     "text": [
      "normal loss: 14.75185489654541\n",
      "wall loss: 20.491424560546875\n"
     ]
    },
    {
     "name": "stderr",
     "output_type": "stream",
     "text": [
      "\n"
     ]
    }
   ],
   "source": [
    "model = WorldModelVICReg().to('cuda')\n",
    "model.load_state_dict(torch.load('cnn_based_checkpoints/checkpoint_epoch_7.pt')['model_state_dict'])\n",
    "evaluate_model(device, model, probe_train_ds, probe_val_ds)"
   ]
  },
  {
   "cell_type": "code",
   "execution_count": 59,
   "id": "719cba04",
   "metadata": {},
   "outputs": [
    {
     "name": "stderr",
     "output_type": "stream",
     "text": [
      "/tmp/ipykernel_331203/1499406372.py:2: FutureWarning: You are using `torch.load` with `weights_only=False` (the current default value), which uses the default pickle module implicitly. It is possible to construct malicious pickle data which will execute arbitrary code during unpickling (See https://github.com/pytorch/pytorch/blob/main/SECURITY.md#untrusted-models for more details). In a future release, the default value for `weights_only` will be flipped to `True`. This limits the functions that could be executed during unpickling. Arbitrary objects will no longer be allowed to be loaded via this mode unless they are explicitly allowlisted by the user via `torch.serialization.add_safe_globals`. We recommend you start setting `weights_only=True` for any use case where you don't have full control of the loaded file. Please open an issue on GitHub for any issues related to this experimental feature.\n",
      "  model.load_state_dict(torch.load('cnn_based_checkpoints/checkpoint_epoch_8.pt')['model_state_dict'])\n",
      "Probe prediction epochs:   0%|          | 0/20 [00:00<?, ?it/s]"
     ]
    },
    {
     "name": "stdout",
     "output_type": "stream",
     "text": [
      "normalized pred locations loss 1.2150782346725464\n"
     ]
    },
    {
     "name": "stderr",
     "output_type": "stream",
     "text": []
    },
    {
     "name": "stdout",
     "output_type": "stream",
     "text": [
      "normalized pred locations loss 0.8451034426689148\n"
     ]
    },
    {
     "name": "stderr",
     "output_type": "stream",
     "text": [
      "Probe prediction step: 100%|██████████| 156/156 [00:02<00:00, 65.76it/s]\n",
      "Probe prediction epochs:   5%|▌         | 1/20 [00:02<00:45,  2.37s/it]"
     ]
    },
    {
     "name": "stdout",
     "output_type": "stream",
     "text": [
      "normalized pred locations loss 0.42177751660346985\n"
     ]
    },
    {
     "name": "stderr",
     "output_type": "stream",
     "text": [
      "Probe prediction step: 100%|██████████| 156/156 [00:02<00:00, 66.03it/s]\n",
      "Probe prediction epochs:  10%|█         | 2/20 [00:04<00:42,  2.37s/it]"
     ]
    },
    {
     "name": "stdout",
     "output_type": "stream",
     "text": [
      "normalized pred locations loss 0.28123000264167786\n"
     ]
    },
    {
     "name": "stderr",
     "output_type": "stream",
     "text": []
    },
    {
     "name": "stdout",
     "output_type": "stream",
     "text": [
      "normalized pred locations loss 0.21254976093769073\n"
     ]
    },
    {
     "name": "stderr",
     "output_type": "stream",
     "text": [
      "Probe prediction step: 100%|██████████| 156/156 [00:02<00:00, 65.83it/s]\n",
      "Probe prediction epochs:  15%|█▌        | 3/20 [00:07<00:40,  2.37s/it]"
     ]
    },
    {
     "name": "stdout",
     "output_type": "stream",
     "text": [
      "normalized pred locations loss 0.14432843029499054\n"
     ]
    },
    {
     "name": "stderr",
     "output_type": "stream",
     "text": []
    },
    {
     "name": "stdout",
     "output_type": "stream",
     "text": [
      "normalized pred locations loss 0.125068798661232\n"
     ]
    },
    {
     "name": "stderr",
     "output_type": "stream",
     "text": [
      "Probe prediction step: 100%|██████████| 156/156 [00:02<00:00, 66.39it/s]\n",
      "Probe prediction epochs:  20%|██        | 4/20 [00:09<00:37,  2.36s/it]"
     ]
    },
    {
     "name": "stdout",
     "output_type": "stream",
     "text": [
      "normalized pred locations loss 0.1239105686545372\n"
     ]
    },
    {
     "name": "stderr",
     "output_type": "stream",
     "text": [
      "Probe prediction step: 100%|██████████| 156/156 [00:02<00:00, 67.15it/s]\n",
      "Probe prediction epochs:  25%|██▌       | 5/20 [00:11<00:35,  2.35s/it]"
     ]
    },
    {
     "name": "stdout",
     "output_type": "stream",
     "text": [
      "normalized pred locations loss 0.09253949671983719\n"
     ]
    },
    {
     "name": "stderr",
     "output_type": "stream",
     "text": []
    },
    {
     "name": "stdout",
     "output_type": "stream",
     "text": [
      "normalized pred locations loss 0.09293122589588165\n"
     ]
    },
    {
     "name": "stderr",
     "output_type": "stream",
     "text": [
      "Probe prediction step: 100%|██████████| 156/156 [00:02<00:00, 65.91it/s]\n",
      "Probe prediction epochs:  30%|███       | 6/20 [00:14<00:32,  2.36s/it]"
     ]
    },
    {
     "name": "stdout",
     "output_type": "stream",
     "text": [
      "normalized pred locations loss 0.07692209631204605\n"
     ]
    },
    {
     "name": "stderr",
     "output_type": "stream",
     "text": [
      "Probe prediction step: 100%|██████████| 156/156 [00:02<00:00, 65.61it/s]\n",
      "Probe prediction epochs:  35%|███▌      | 7/20 [00:16<00:30,  2.36s/it]"
     ]
    },
    {
     "name": "stdout",
     "output_type": "stream",
     "text": [
      "normalized pred locations loss 0.08245932310819626\n"
     ]
    },
    {
     "name": "stderr",
     "output_type": "stream",
     "text": []
    },
    {
     "name": "stdout",
     "output_type": "stream",
     "text": [
      "normalized pred locations loss 0.08492577821016312\n"
     ]
    },
    {
     "name": "stderr",
     "output_type": "stream",
     "text": [
      "Probe prediction step: 100%|██████████| 156/156 [00:02<00:00, 65.57it/s]\n",
      "Probe prediction epochs:  40%|████      | 8/20 [00:18<00:28,  2.37s/it]"
     ]
    },
    {
     "name": "stdout",
     "output_type": "stream",
     "text": [
      "normalized pred locations loss 0.08811011165380478\n"
     ]
    },
    {
     "name": "stderr",
     "output_type": "stream",
     "text": [
      "Probe prediction step: 100%|██████████| 156/156 [00:02<00:00, 65.95it/s]\n",
      "Probe prediction epochs:  45%|████▌     | 9/20 [00:21<00:26,  2.37s/it]"
     ]
    },
    {
     "name": "stdout",
     "output_type": "stream",
     "text": [
      "normalized pred locations loss 0.05527731403708458\n"
     ]
    },
    {
     "name": "stderr",
     "output_type": "stream",
     "text": []
    },
    {
     "name": "stdout",
     "output_type": "stream",
     "text": [
      "normalized pred locations loss 0.05568254739046097\n"
     ]
    },
    {
     "name": "stderr",
     "output_type": "stream",
     "text": [
      "Probe prediction step: 100%|██████████| 156/156 [00:02<00:00, 65.80it/s]\n",
      "Probe prediction epochs:  50%|█████     | 10/20 [00:23<00:23,  2.37s/it]"
     ]
    },
    {
     "name": "stdout",
     "output_type": "stream",
     "text": [
      "normalized pred locations loss 0.04876500740647316\n"
     ]
    },
    {
     "name": "stderr",
     "output_type": "stream",
     "text": []
    },
    {
     "name": "stdout",
     "output_type": "stream",
     "text": [
      "normalized pred locations loss 0.04643278196454048\n"
     ]
    },
    {
     "name": "stderr",
     "output_type": "stream",
     "text": [
      "Probe prediction step: 100%|██████████| 156/156 [00:02<00:00, 65.74it/s]\n",
      "Probe prediction epochs:  55%|█████▌    | 11/20 [00:26<00:21,  2.37s/it]"
     ]
    },
    {
     "name": "stdout",
     "output_type": "stream",
     "text": [
      "normalized pred locations loss 0.051755085587501526\n"
     ]
    },
    {
     "name": "stderr",
     "output_type": "stream",
     "text": [
      "Probe prediction step: 100%|██████████| 156/156 [00:02<00:00, 66.89it/s]\n",
      "Probe prediction epochs:  60%|██████    | 12/20 [00:28<00:18,  2.36s/it]"
     ]
    },
    {
     "name": "stdout",
     "output_type": "stream",
     "text": [
      "normalized pred locations loss 0.034623876214027405\n"
     ]
    },
    {
     "name": "stderr",
     "output_type": "stream",
     "text": []
    },
    {
     "name": "stdout",
     "output_type": "stream",
     "text": [
      "normalized pred locations loss 0.05019689351320267\n"
     ]
    },
    {
     "name": "stderr",
     "output_type": "stream",
     "text": [
      "Probe prediction step: 100%|██████████| 156/156 [00:02<00:00, 66.33it/s]\n",
      "Probe prediction epochs:  65%|██████▌   | 13/20 [00:30<00:16,  2.36s/it]"
     ]
    },
    {
     "name": "stdout",
     "output_type": "stream",
     "text": [
      "normalized pred locations loss 0.04677186161279678\n"
     ]
    },
    {
     "name": "stderr",
     "output_type": "stream",
     "text": [
      "Probe prediction step: 100%|██████████| 156/156 [00:02<00:00, 66.93it/s]\n",
      "Probe prediction epochs:  70%|███████   | 14/20 [00:33<00:14,  2.35s/it]"
     ]
    },
    {
     "name": "stdout",
     "output_type": "stream",
     "text": [
      "normalized pred locations loss 0.04510131850838661\n"
     ]
    },
    {
     "name": "stderr",
     "output_type": "stream",
     "text": []
    },
    {
     "name": "stdout",
     "output_type": "stream",
     "text": [
      "normalized pred locations loss 0.05384405329823494\n"
     ]
    },
    {
     "name": "stderr",
     "output_type": "stream",
     "text": [
      "Probe prediction step: 100%|██████████| 156/156 [00:02<00:00, 67.36it/s]\n",
      "Probe prediction epochs:  75%|███████▌  | 15/20 [00:35<00:11,  2.34s/it]"
     ]
    },
    {
     "name": "stdout",
     "output_type": "stream",
     "text": [
      "normalized pred locations loss 0.04763156920671463\n"
     ]
    },
    {
     "name": "stderr",
     "output_type": "stream",
     "text": [
      "Probe prediction step: 100%|██████████| 156/156 [00:02<00:00, 68.27it/s]\n",
      "Probe prediction epochs:  80%|████████  | 16/20 [00:37<00:09,  2.32s/it]"
     ]
    },
    {
     "name": "stdout",
     "output_type": "stream",
     "text": [
      "normalized pred locations loss 0.06331208348274231\n"
     ]
    },
    {
     "name": "stderr",
     "output_type": "stream",
     "text": []
    },
    {
     "name": "stdout",
     "output_type": "stream",
     "text": [
      "normalized pred locations loss 0.056542906910181046\n"
     ]
    },
    {
     "name": "stderr",
     "output_type": "stream",
     "text": [
      "Probe prediction step: 100%|██████████| 156/156 [00:02<00:00, 67.95it/s]\n",
      "Probe prediction epochs:  85%|████████▌ | 17/20 [00:39<00:06,  2.32s/it]"
     ]
    },
    {
     "name": "stdout",
     "output_type": "stream",
     "text": [
      "normalized pred locations loss 0.046564195305109024\n"
     ]
    },
    {
     "name": "stderr",
     "output_type": "stream",
     "text": [
      "Probe prediction step: 100%|██████████| 156/156 [00:02<00:00, 67.20it/s]\n",
      "Probe prediction epochs:  90%|█████████ | 18/20 [00:42<00:04,  2.32s/it]"
     ]
    },
    {
     "name": "stdout",
     "output_type": "stream",
     "text": [
      "normalized pred locations loss 0.03560130298137665\n"
     ]
    },
    {
     "name": "stderr",
     "output_type": "stream",
     "text": []
    },
    {
     "name": "stdout",
     "output_type": "stream",
     "text": [
      "normalized pred locations loss 0.03232751786708832\n"
     ]
    },
    {
     "name": "stderr",
     "output_type": "stream",
     "text": [
      "Probe prediction step: 100%|██████████| 156/156 [00:02<00:00, 65.34it/s]\n",
      "Probe prediction epochs:  95%|█████████▌| 19/20 [00:44<00:02,  2.34s/it]"
     ]
    },
    {
     "name": "stdout",
     "output_type": "stream",
     "text": [
      "normalized pred locations loss 0.04722057282924652\n"
     ]
    },
    {
     "name": "stderr",
     "output_type": "stream",
     "text": []
    },
    {
     "name": "stdout",
     "output_type": "stream",
     "text": [
      "normalized pred locations loss 0.03814183175563812\n"
     ]
    },
    {
     "name": "stderr",
     "output_type": "stream",
     "text": [
      "Probe prediction step: 100%|██████████| 156/156 [00:02<00:00, 65.42it/s]\n",
      "Probe prediction epochs: 100%|██████████| 20/20 [00:47<00:00,  2.35s/it]\n",
      "Eval probe pred: 100%|██████████| 62/62 [00:00<00:00, 83.03it/s]\n",
      "Eval probe pred: 100%|██████████| 62/62 [00:00<00:00, 83.36it/s]"
     ]
    },
    {
     "name": "stdout",
     "output_type": "stream",
     "text": [
      "normal loss: 15.588173866271973\n",
      "wall loss: 21.308504104614258\n"
     ]
    },
    {
     "name": "stderr",
     "output_type": "stream",
     "text": [
      "\n"
     ]
    }
   ],
   "source": [
    "model = WorldModelVICReg().to('cuda')\n",
    "model.load_state_dict(torch.load('cnn_based_checkpoints/checkpoint_epoch_8.pt')['model_state_dict'])\n",
    "evaluate_model(device, model, probe_train_ds, probe_val_ds)"
   ]
  },
  {
   "cell_type": "code",
   "execution_count": 60,
   "id": "43995266",
   "metadata": {},
   "outputs": [
    {
     "name": "stderr",
     "output_type": "stream",
     "text": [
      "/tmp/ipykernel_331203/1834425473.py:2: FutureWarning: You are using `torch.load` with `weights_only=False` (the current default value), which uses the default pickle module implicitly. It is possible to construct malicious pickle data which will execute arbitrary code during unpickling (See https://github.com/pytorch/pytorch/blob/main/SECURITY.md#untrusted-models for more details). In a future release, the default value for `weights_only` will be flipped to `True`. This limits the functions that could be executed during unpickling. Arbitrary objects will no longer be allowed to be loaded via this mode unless they are explicitly allowlisted by the user via `torch.serialization.add_safe_globals`. We recommend you start setting `weights_only=True` for any use case where you don't have full control of the loaded file. Please open an issue on GitHub for any issues related to this experimental feature.\n",
      "  model.load_state_dict(torch.load('cnn_based_checkpoints/checkpoint_epoch_9.pt')['model_state_dict'])\n",
      "Probe prediction epochs:   0%|          | 0/20 [00:00<?, ?it/s]"
     ]
    },
    {
     "name": "stdout",
     "output_type": "stream",
     "text": [
      "normalized pred locations loss 1.0515559911727905\n"
     ]
    },
    {
     "name": "stderr",
     "output_type": "stream",
     "text": []
    },
    {
     "name": "stdout",
     "output_type": "stream",
     "text": [
      "normalized pred locations loss 0.7334337830543518\n"
     ]
    },
    {
     "name": "stderr",
     "output_type": "stream",
     "text": [
      "Probe prediction step: 100%|██████████| 156/156 [00:02<00:00, 65.85it/s]\n",
      "Probe prediction epochs:   5%|▌         | 1/20 [00:02<00:45,  2.37s/it]"
     ]
    },
    {
     "name": "stdout",
     "output_type": "stream",
     "text": [
      "normalized pred locations loss 0.2747701406478882\n"
     ]
    },
    {
     "name": "stderr",
     "output_type": "stream",
     "text": [
      "Probe prediction step: 100%|██████████| 156/156 [00:02<00:00, 65.08it/s]\n",
      "Probe prediction epochs:  10%|█         | 2/20 [00:04<00:42,  2.39s/it]"
     ]
    },
    {
     "name": "stdout",
     "output_type": "stream",
     "text": [
      "normalized pred locations loss 0.23857583105564117\n"
     ]
    },
    {
     "name": "stderr",
     "output_type": "stream",
     "text": []
    },
    {
     "name": "stdout",
     "output_type": "stream",
     "text": [
      "normalized pred locations loss 0.15911516547203064\n"
     ]
    },
    {
     "name": "stderr",
     "output_type": "stream",
     "text": [
      "Probe prediction step: 100%|██████████| 156/156 [00:02<00:00, 65.67it/s]\n",
      "Probe prediction epochs:  15%|█▌        | 3/20 [00:07<00:40,  2.38s/it]"
     ]
    },
    {
     "name": "stdout",
     "output_type": "stream",
     "text": [
      "normalized pred locations loss 0.15004290640354156\n"
     ]
    },
    {
     "name": "stderr",
     "output_type": "stream",
     "text": []
    },
    {
     "name": "stdout",
     "output_type": "stream",
     "text": [
      "normalized pred locations loss 0.15738315880298615\n"
     ]
    },
    {
     "name": "stderr",
     "output_type": "stream",
     "text": [
      "Probe prediction step: 100%|██████████| 156/156 [00:02<00:00, 66.65it/s]\n",
      "Probe prediction epochs:  20%|██        | 4/20 [00:09<00:37,  2.37s/it]"
     ]
    },
    {
     "name": "stdout",
     "output_type": "stream",
     "text": [
      "normalized pred locations loss 0.09789498150348663\n"
     ]
    },
    {
     "name": "stderr",
     "output_type": "stream",
     "text": [
      "Probe prediction step: 100%|██████████| 156/156 [00:02<00:00, 65.55it/s]\n",
      "Probe prediction epochs:  25%|██▌       | 5/20 [00:11<00:35,  2.37s/it]"
     ]
    },
    {
     "name": "stdout",
     "output_type": "stream",
     "text": [
      "normalized pred locations loss 0.11750100553035736\n"
     ]
    },
    {
     "name": "stderr",
     "output_type": "stream",
     "text": []
    },
    {
     "name": "stdout",
     "output_type": "stream",
     "text": [
      "normalized pred locations loss 0.10049953311681747\n"
     ]
    },
    {
     "name": "stderr",
     "output_type": "stream",
     "text": [
      "Probe prediction step: 100%|██████████| 156/156 [00:02<00:00, 66.10it/s]\n",
      "Probe prediction epochs:  30%|███       | 6/20 [00:14<00:33,  2.37s/it]"
     ]
    },
    {
     "name": "stdout",
     "output_type": "stream",
     "text": [
      "normalized pred locations loss 0.07995134592056274\n"
     ]
    },
    {
     "name": "stderr",
     "output_type": "stream",
     "text": [
      "Probe prediction step: 100%|██████████| 156/156 [00:02<00:00, 68.52it/s]\n",
      "Probe prediction epochs:  35%|███▌      | 7/20 [00:16<00:30,  2.34s/it]"
     ]
    },
    {
     "name": "stdout",
     "output_type": "stream",
     "text": [
      "normalized pred locations loss 0.08791694790124893\n"
     ]
    },
    {
     "name": "stderr",
     "output_type": "stream",
     "text": []
    },
    {
     "name": "stdout",
     "output_type": "stream",
     "text": [
      "normalized pred locations loss 0.0699029490351677\n"
     ]
    },
    {
     "name": "stderr",
     "output_type": "stream",
     "text": [
      "Probe prediction step: 100%|██████████| 156/156 [00:02<00:00, 69.73it/s]\n",
      "Probe prediction epochs:  40%|████      | 8/20 [00:18<00:27,  2.31s/it]"
     ]
    },
    {
     "name": "stdout",
     "output_type": "stream",
     "text": [
      "normalized pred locations loss 0.08443207293748856\n"
     ]
    },
    {
     "name": "stderr",
     "output_type": "stream",
     "text": [
      "Probe prediction step: 100%|██████████| 156/156 [00:02<00:00, 67.27it/s]\n",
      "Probe prediction epochs:  45%|████▌     | 9/20 [00:21<00:25,  2.31s/it]"
     ]
    },
    {
     "name": "stdout",
     "output_type": "stream",
     "text": [
      "normalized pred locations loss 0.07242199033498764\n"
     ]
    },
    {
     "name": "stderr",
     "output_type": "stream",
     "text": []
    },
    {
     "name": "stdout",
     "output_type": "stream",
     "text": [
      "normalized pred locations loss 0.05707472562789917\n"
     ]
    },
    {
     "name": "stderr",
     "output_type": "stream",
     "text": [
      "Probe prediction step: 100%|██████████| 156/156 [00:02<00:00, 68.23it/s]\n",
      "Probe prediction epochs:  50%|█████     | 10/20 [00:23<00:23,  2.30s/it]"
     ]
    },
    {
     "name": "stdout",
     "output_type": "stream",
     "text": [
      "normalized pred locations loss 0.06585739552974701\n"
     ]
    },
    {
     "name": "stderr",
     "output_type": "stream",
     "text": []
    },
    {
     "name": "stdout",
     "output_type": "stream",
     "text": [
      "normalized pred locations loss 0.0562778115272522\n"
     ]
    },
    {
     "name": "stderr",
     "output_type": "stream",
     "text": [
      "Probe prediction step: 100%|██████████| 156/156 [00:02<00:00, 64.92it/s]\n",
      "Probe prediction epochs:  55%|█████▌    | 11/20 [00:25<00:21,  2.34s/it]\n",
      "Probe prediction step:  63%|██████▎   | 98/156 [00:01<00:00, 65.29it/s]"
     ]
    },
    {
     "name": "stdout",
     "output_type": "stream",
     "text": [
      "normalized pred locations loss 0.06038006767630577\n"
     ]
    },
    {
     "name": "stderr",
     "output_type": "stream",
     "text": [
      "Probe prediction step: 100%|██████████| 156/156 [00:02<00:00, 65.17it/s]\n",
      "Probe prediction epochs:  60%|██████    | 12/20 [00:28<00:18,  2.35s/it]"
     ]
    },
    {
     "name": "stdout",
     "output_type": "stream",
     "text": [
      "normalized pred locations loss 0.05878392979502678\n"
     ]
    },
    {
     "name": "stderr",
     "output_type": "stream",
     "text": []
    },
    {
     "name": "stdout",
     "output_type": "stream",
     "text": [
      "normalized pred locations loss 0.04478451982140541\n"
     ]
    },
    {
     "name": "stderr",
     "output_type": "stream",
     "text": [
      "Probe prediction step: 100%|██████████| 156/156 [00:02<00:00, 66.83it/s]\n",
      "Probe prediction epochs:  65%|██████▌   | 13/20 [00:30<00:16,  2.35s/it]"
     ]
    },
    {
     "name": "stdout",
     "output_type": "stream",
     "text": [
      "normalized pred locations loss 0.04139050468802452\n"
     ]
    },
    {
     "name": "stderr",
     "output_type": "stream",
     "text": [
      "Probe prediction step: 100%|██████████| 156/156 [00:02<00:00, 65.80it/s]\n",
      "Probe prediction epochs:  70%|███████   | 14/20 [00:32<00:14,  2.36s/it]"
     ]
    },
    {
     "name": "stdout",
     "output_type": "stream",
     "text": [
      "normalized pred locations loss 0.061122164130210876\n"
     ]
    },
    {
     "name": "stderr",
     "output_type": "stream",
     "text": []
    },
    {
     "name": "stdout",
     "output_type": "stream",
     "text": [
      "normalized pred locations loss 0.05034835264086723\n"
     ]
    },
    {
     "name": "stderr",
     "output_type": "stream",
     "text": [
      "Probe prediction step: 100%|██████████| 156/156 [00:02<00:00, 62.69it/s]\n",
      "Probe prediction epochs:  75%|███████▌  | 15/20 [00:35<00:11,  2.40s/it]"
     ]
    },
    {
     "name": "stdout",
     "output_type": "stream",
     "text": [
      "normalized pred locations loss 0.056024592369794846\n"
     ]
    },
    {
     "name": "stderr",
     "output_type": "stream",
     "text": [
      "Probe prediction step: 100%|██████████| 156/156 [00:02<00:00, 64.99it/s]\n",
      "Probe prediction epochs:  80%|████████  | 16/20 [00:37<00:09,  2.40s/it]"
     ]
    },
    {
     "name": "stdout",
     "output_type": "stream",
     "text": [
      "normalized pred locations loss 0.0397929847240448\n"
     ]
    },
    {
     "name": "stderr",
     "output_type": "stream",
     "text": []
    },
    {
     "name": "stdout",
     "output_type": "stream",
     "text": [
      "normalized pred locations loss 0.0439738854765892\n"
     ]
    },
    {
     "name": "stderr",
     "output_type": "stream",
     "text": [
      "Probe prediction step: 100%|██████████| 156/156 [00:02<00:00, 67.12it/s]\n",
      "Probe prediction epochs:  85%|████████▌ | 17/20 [00:40<00:07,  2.38s/it]"
     ]
    },
    {
     "name": "stdout",
     "output_type": "stream",
     "text": [
      "normalized pred locations loss 0.044183652848005295\n"
     ]
    },
    {
     "name": "stderr",
     "output_type": "stream",
     "text": [
      "Probe prediction step: 100%|██████████| 156/156 [00:02<00:00, 64.91it/s]\n",
      "Probe prediction epochs:  90%|█████████ | 18/20 [00:42<00:04,  2.39s/it]"
     ]
    },
    {
     "name": "stdout",
     "output_type": "stream",
     "text": [
      "normalized pred locations loss 0.05098721757531166\n"
     ]
    },
    {
     "name": "stderr",
     "output_type": "stream",
     "text": []
    },
    {
     "name": "stdout",
     "output_type": "stream",
     "text": [
      "normalized pred locations loss 0.03805529698729515\n"
     ]
    },
    {
     "name": "stderr",
     "output_type": "stream",
     "text": [
      "Probe prediction step: 100%|██████████| 156/156 [00:02<00:00, 65.29it/s]\n",
      "Probe prediction epochs:  95%|█████████▌| 19/20 [00:44<00:02,  2.39s/it]"
     ]
    },
    {
     "name": "stdout",
     "output_type": "stream",
     "text": [
      "normalized pred locations loss 0.05697118863463402\n"
     ]
    },
    {
     "name": "stderr",
     "output_type": "stream",
     "text": []
    },
    {
     "name": "stdout",
     "output_type": "stream",
     "text": [
      "normalized pred locations loss 0.037072405219078064\n"
     ]
    },
    {
     "name": "stderr",
     "output_type": "stream",
     "text": [
      "Probe prediction step: 100%|██████████| 156/156 [00:02<00:00, 68.20it/s]\n",
      "Probe prediction epochs: 100%|██████████| 20/20 [00:47<00:00,  2.36s/it]\n",
      "Eval probe pred: 100%|██████████| 62/62 [00:00<00:00, 84.40it/s]\n",
      "Eval probe pred: 100%|██████████| 62/62 [00:00<00:00, 84.45it/s]"
     ]
    },
    {
     "name": "stdout",
     "output_type": "stream",
     "text": [
      "normal loss: 15.973650932312012\n",
      "wall loss: 21.906774520874023\n"
     ]
    },
    {
     "name": "stderr",
     "output_type": "stream",
     "text": [
      "\n"
     ]
    }
   ],
   "source": [
    "model = WorldModelVICReg().to('cuda')\n",
    "model.load_state_dict(torch.load('cnn_based_checkpoints/checkpoint_epoch_9.pt')['model_state_dict'])\n",
    "evaluate_model(device, model, probe_train_ds, probe_val_ds)"
   ]
  },
  {
   "cell_type": "code",
   "execution_count": null,
   "id": "feebe734",
   "metadata": {},
   "outputs": [],
   "source": []
  }
 ],
 "metadata": {
  "kernelspec": {
   "display_name": "Python (dl_env)",
   "language": "python",
   "name": "dl_env"
  },
  "language_info": {
   "codemirror_mode": {
    "name": "ipython",
    "version": 3
   },
   "file_extension": ".py",
   "mimetype": "text/x-python",
   "name": "python",
   "nbconvert_exporter": "python",
   "pygments_lexer": "ipython3",
   "version": "3.10.12"
  }
 },
 "nbformat": 4,
 "nbformat_minor": 5
}
