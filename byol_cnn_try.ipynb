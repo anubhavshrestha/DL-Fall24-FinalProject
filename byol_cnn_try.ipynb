{
 "cells": [
  {
   "cell_type": "code",
   "execution_count": 12,
   "metadata": {},
   "outputs": [
    {
     "name": "stdout",
     "output_type": "stream",
     "text": [
      "Starting training at 2024-12-11 23:38:42\n",
      "Training for 100 epochs\n",
      "Checkpoints will be saved to byol_try_checkpoints\n"
     ]
    },
    {
     "name": "stderr",
     "output_type": "stream",
     "text": [
      "Epoch 0/100: 100%|██████████| 1148/1148 [01:02<00:00, 18.43it/s, loss=0.3036, time/batch=0.029s, gpu_mem=1.8GB]\n"
     ]
    },
    {
     "name": "stdout",
     "output_type": "stream",
     "text": [
      "\n",
      "Epoch 0/100 Summary:\n",
      "Train Loss: 0.3036\n",
      "Component Losses:\n",
      "  total_loss: 0.3036\n",
      "  byol_loss: 0.3036\n",
      "Epoch Time: 62.3s\n",
      "Avg Batch Time: 0.029s\n",
      "GPU Memory: 1683MB\n"
     ]
    },
    {
     "name": "stderr",
     "output_type": "stream",
     "text": [
      "Probe prediction epochs:   0%|          | 0/20 [00:00<?, ?it/s]"
     ]
    },
    {
     "name": "stdout",
     "output_type": "stream",
     "text": [
      "normalized pred locations loss 2.0951576232910156\n"
     ]
    },
    {
     "name": "stderr",
     "output_type": "stream",
     "text": []
    },
    {
     "name": "stdout",
     "output_type": "stream",
     "text": [
      "normalized pred locations loss 1.1319832801818848\n"
     ]
    },
    {
     "name": "stderr",
     "output_type": "stream",
     "text": [
      "Probe prediction step: 100%|██████████| 156/156 [00:02<00:00, 59.30it/s]\n",
      "Probe prediction epochs:   5%|▌         | 1/20 [00:02<00:50,  2.63s/it]"
     ]
    },
    {
     "name": "stdout",
     "output_type": "stream",
     "text": [
      "normalized pred locations loss 0.9847484827041626\n"
     ]
    },
    {
     "name": "stderr",
     "output_type": "stream",
     "text": [
      "Probe prediction step: 100%|██████████| 156/156 [00:02<00:00, 66.41it/s]\n",
      "Probe prediction epochs:  10%|█         | 2/20 [00:04<00:44,  2.47s/it]"
     ]
    },
    {
     "name": "stdout",
     "output_type": "stream",
     "text": [
      "normalized pred locations loss 0.883996307849884\n"
     ]
    },
    {
     "name": "stderr",
     "output_type": "stream",
     "text": []
    },
    {
     "name": "stdout",
     "output_type": "stream",
     "text": [
      "normalized pred locations loss 1.112760066986084\n"
     ]
    },
    {
     "name": "stderr",
     "output_type": "stream",
     "text": [
      "Probe prediction step: 100%|██████████| 156/156 [00:02<00:00, 66.64it/s]\n",
      "Probe prediction epochs:  15%|█▌        | 3/20 [00:07<00:40,  2.41s/it]"
     ]
    },
    {
     "name": "stdout",
     "output_type": "stream",
     "text": [
      "normalized pred locations loss 0.9842950105667114\n"
     ]
    },
    {
     "name": "stderr",
     "output_type": "stream",
     "text": []
    },
    {
     "name": "stdout",
     "output_type": "stream",
     "text": [
      "normalized pred locations loss 0.9987833499908447\n"
     ]
    },
    {
     "name": "stderr",
     "output_type": "stream",
     "text": [
      "Probe prediction step: 100%|██████████| 156/156 [00:02<00:00, 66.51it/s]\n",
      "Probe prediction epochs:  20%|██        | 4/20 [00:09<00:38,  2.39s/it]"
     ]
    },
    {
     "name": "stdout",
     "output_type": "stream",
     "text": [
      "normalized pred locations loss 0.9879862666130066\n"
     ]
    },
    {
     "name": "stderr",
     "output_type": "stream",
     "text": [
      "Probe prediction step: 100%|██████████| 156/156 [00:02<00:00, 66.60it/s]\n",
      "Probe prediction epochs:  25%|██▌       | 5/20 [00:12<00:35,  2.37s/it]"
     ]
    },
    {
     "name": "stdout",
     "output_type": "stream",
     "text": [
      "normalized pred locations loss 1.0100244283676147\n"
     ]
    },
    {
     "name": "stderr",
     "output_type": "stream",
     "text": []
    },
    {
     "name": "stdout",
     "output_type": "stream",
     "text": [
      "normalized pred locations loss 0.9937216639518738\n"
     ]
    },
    {
     "name": "stderr",
     "output_type": "stream",
     "text": [
      "Probe prediction step: 100%|██████████| 156/156 [00:02<00:00, 65.88it/s]\n",
      "Probe prediction epochs:  30%|███       | 6/20 [00:14<00:33,  2.37s/it]"
     ]
    },
    {
     "name": "stdout",
     "output_type": "stream",
     "text": [
      "normalized pred locations loss 1.0210224390029907\n"
     ]
    },
    {
     "name": "stderr",
     "output_type": "stream",
     "text": [
      "Probe prediction step: 100%|██████████| 156/156 [00:02<00:00, 68.69it/s]\n",
      "Probe prediction epochs:  35%|███▌      | 7/20 [00:16<00:30,  2.34s/it]"
     ]
    },
    {
     "name": "stdout",
     "output_type": "stream",
     "text": [
      "normalized pred locations loss 0.9183034300804138\n"
     ]
    },
    {
     "name": "stderr",
     "output_type": "stream",
     "text": []
    },
    {
     "name": "stdout",
     "output_type": "stream",
     "text": [
      "normalized pred locations loss 0.936065673828125\n"
     ]
    },
    {
     "name": "stderr",
     "output_type": "stream",
     "text": [
      "Probe prediction step: 100%|██████████| 156/156 [00:02<00:00, 68.71it/s]\n",
      "Probe prediction epochs:  40%|████      | 8/20 [00:18<00:27,  2.32s/it]"
     ]
    },
    {
     "name": "stdout",
     "output_type": "stream",
     "text": [
      "normalized pred locations loss 0.9529276490211487\n"
     ]
    },
    {
     "name": "stderr",
     "output_type": "stream",
     "text": [
      "Probe prediction step: 100%|██████████| 156/156 [00:02<00:00, 67.77it/s]\n",
      "Probe prediction epochs:  45%|████▌     | 9/20 [00:21<00:25,  2.31s/it]"
     ]
    },
    {
     "name": "stdout",
     "output_type": "stream",
     "text": [
      "normalized pred locations loss 1.028796672821045\n"
     ]
    },
    {
     "name": "stderr",
     "output_type": "stream",
     "text": []
    },
    {
     "name": "stdout",
     "output_type": "stream",
     "text": [
      "normalized pred locations loss 0.955379068851471\n"
     ]
    },
    {
     "name": "stderr",
     "output_type": "stream",
     "text": [
      "Probe prediction step: 100%|██████████| 156/156 [00:02<00:00, 66.94it/s]\n",
      "Probe prediction epochs:  50%|█████     | 10/20 [00:23<00:23,  2.32s/it]"
     ]
    },
    {
     "name": "stdout",
     "output_type": "stream",
     "text": [
      "normalized pred locations loss 1.0199918746948242\n"
     ]
    },
    {
     "name": "stderr",
     "output_type": "stream",
     "text": []
    },
    {
     "name": "stdout",
     "output_type": "stream",
     "text": [
      "normalized pred locations loss 0.8607928156852722\n"
     ]
    },
    {
     "name": "stderr",
     "output_type": "stream",
     "text": [
      "Probe prediction step: 100%|██████████| 156/156 [00:02<00:00, 66.91it/s]\n",
      "Probe prediction epochs:  55%|█████▌    | 11/20 [00:25<00:20,  2.32s/it]"
     ]
    },
    {
     "name": "stdout",
     "output_type": "stream",
     "text": [
      "normalized pred locations loss 0.7730434536933899\n"
     ]
    },
    {
     "name": "stderr",
     "output_type": "stream",
     "text": [
      "Probe prediction step: 100%|██████████| 156/156 [00:02<00:00, 67.19it/s]\n",
      "Probe prediction epochs:  60%|██████    | 12/20 [00:28<00:18,  2.32s/it]"
     ]
    },
    {
     "name": "stdout",
     "output_type": "stream",
     "text": [
      "normalized pred locations loss 1.0162709951400757\n"
     ]
    },
    {
     "name": "stderr",
     "output_type": "stream",
     "text": []
    },
    {
     "name": "stdout",
     "output_type": "stream",
     "text": [
      "normalized pred locations loss 0.8846650123596191\n"
     ]
    },
    {
     "name": "stderr",
     "output_type": "stream",
     "text": [
      "Probe prediction step: 100%|██████████| 156/156 [00:02<00:00, 67.01it/s]\n",
      "Probe prediction epochs:  65%|██████▌   | 13/20 [00:30<00:16,  2.33s/it]"
     ]
    },
    {
     "name": "stdout",
     "output_type": "stream",
     "text": [
      "normalized pred locations loss 0.8317813873291016\n"
     ]
    },
    {
     "name": "stderr",
     "output_type": "stream",
     "text": [
      "Probe prediction step: 100%|██████████| 156/156 [00:02<00:00, 67.15it/s]\n",
      "Probe prediction epochs:  70%|███████   | 14/20 [00:32<00:13,  2.33s/it]"
     ]
    },
    {
     "name": "stdout",
     "output_type": "stream",
     "text": [
      "normalized pred locations loss 0.738357663154602\n"
     ]
    },
    {
     "name": "stderr",
     "output_type": "stream",
     "text": []
    },
    {
     "name": "stdout",
     "output_type": "stream",
     "text": [
      "normalized pred locations loss 0.7896367311477661\n"
     ]
    },
    {
     "name": "stderr",
     "output_type": "stream",
     "text": [
      "Probe prediction step: 100%|██████████| 156/156 [00:02<00:00, 67.21it/s]\n",
      "Probe prediction epochs:  75%|███████▌  | 15/20 [00:35<00:11,  2.32s/it]"
     ]
    },
    {
     "name": "stdout",
     "output_type": "stream",
     "text": [
      "normalized pred locations loss 0.7774302363395691\n"
     ]
    },
    {
     "name": "stderr",
     "output_type": "stream",
     "text": [
      "Probe prediction step: 100%|██████████| 156/156 [00:02<00:00, 66.95it/s]\n",
      "Probe prediction epochs:  80%|████████  | 16/20 [00:37<00:09,  2.33s/it]"
     ]
    },
    {
     "name": "stdout",
     "output_type": "stream",
     "text": [
      "normalized pred locations loss 0.7009076476097107\n"
     ]
    },
    {
     "name": "stderr",
     "output_type": "stream",
     "text": []
    },
    {
     "name": "stdout",
     "output_type": "stream",
     "text": [
      "normalized pred locations loss 0.6467087268829346\n"
     ]
    },
    {
     "name": "stderr",
     "output_type": "stream",
     "text": [
      "Probe prediction step: 100%|██████████| 156/156 [00:02<00:00, 67.20it/s]\n",
      "Probe prediction epochs:  85%|████████▌ | 17/20 [00:39<00:06,  2.33s/it]"
     ]
    },
    {
     "name": "stdout",
     "output_type": "stream",
     "text": [
      "normalized pred locations loss 0.7500486969947815\n"
     ]
    },
    {
     "name": "stderr",
     "output_type": "stream",
     "text": [
      "Probe prediction step: 100%|██████████| 156/156 [00:02<00:00, 67.06it/s]\n",
      "Probe prediction epochs:  90%|█████████ | 18/20 [00:42<00:04,  2.33s/it]"
     ]
    },
    {
     "name": "stdout",
     "output_type": "stream",
     "text": [
      "normalized pred locations loss 0.6175337433815002\n"
     ]
    },
    {
     "name": "stderr",
     "output_type": "stream",
     "text": []
    },
    {
     "name": "stdout",
     "output_type": "stream",
     "text": [
      "normalized pred locations loss 0.655852198600769\n"
     ]
    },
    {
     "name": "stderr",
     "output_type": "stream",
     "text": [
      "Probe prediction step: 100%|██████████| 156/156 [00:02<00:00, 65.87it/s]\n",
      "Probe prediction epochs:  95%|█████████▌| 19/20 [00:44<00:02,  2.34s/it]"
     ]
    },
    {
     "name": "stdout",
     "output_type": "stream",
     "text": [
      "normalized pred locations loss 0.853463351726532\n"
     ]
    },
    {
     "name": "stderr",
     "output_type": "stream",
     "text": []
    },
    {
     "name": "stdout",
     "output_type": "stream",
     "text": [
      "normalized pred locations loss 0.7163749933242798\n"
     ]
    },
    {
     "name": "stderr",
     "output_type": "stream",
     "text": [
      "Probe prediction step: 100%|██████████| 156/156 [00:02<00:00, 65.41it/s]\n",
      "Probe prediction epochs: 100%|██████████| 20/20 [00:46<00:00,  2.35s/it]\n",
      "Eval probe pred: 100%|██████████| 62/62 [00:00<00:00, 73.26it/s]\n",
      "Eval probe pred: 100%|██████████| 62/62 [00:00<00:00, 73.49it/s]\n"
     ]
    },
    {
     "name": "stdout",
     "output_type": "stream",
     "text": [
      "normal loss: 197.3961181640625\n",
      "wall loss: 177.8648223876953\n",
      "--------------------------------------------------------------------------------\n"
     ]
    },
    {
     "name": "stderr",
     "output_type": "stream",
     "text": [
      "Epoch 1/100: 100%|██████████| 1148/1148 [00:57<00:00, 20.12it/s, loss=0.0917, time/batch=0.028s, gpu_mem=1.8GB]\n"
     ]
    },
    {
     "name": "stdout",
     "output_type": "stream",
     "text": [
      "\n",
      "Epoch 1/100 Summary:\n",
      "Train Loss: 0.0917\n",
      "Component Losses:\n",
      "  total_loss: 0.0917\n",
      "  byol_loss: 0.0917\n",
      "Epoch Time: 57.1s\n",
      "Avg Batch Time: 0.028s\n",
      "GPU Memory: 1683MB\n"
     ]
    },
    {
     "name": "stderr",
     "output_type": "stream",
     "text": [
      "Probe prediction epochs:   0%|          | 0/20 [00:00<?, ?it/s]"
     ]
    },
    {
     "name": "stdout",
     "output_type": "stream",
     "text": [
      "normalized pred locations loss 2.018658399581909\n"
     ]
    },
    {
     "name": "stderr",
     "output_type": "stream",
     "text": []
    },
    {
     "name": "stdout",
     "output_type": "stream",
     "text": [
      "normalized pred locations loss 1.142062783241272\n"
     ]
    },
    {
     "name": "stderr",
     "output_type": "stream",
     "text": [
      "Probe prediction step: 100%|██████████| 156/156 [00:02<00:00, 66.08it/s]\n",
      "Probe prediction epochs:   5%|▌         | 1/20 [00:02<00:44,  2.36s/it]"
     ]
    },
    {
     "name": "stdout",
     "output_type": "stream",
     "text": [
      "normalized pred locations loss 1.0971879959106445\n"
     ]
    },
    {
     "name": "stderr",
     "output_type": "stream",
     "text": [
      "Probe prediction step: 100%|██████████| 156/156 [00:02<00:00, 65.51it/s]\n",
      "Probe prediction epochs:  10%|█         | 2/20 [00:04<00:42,  2.38s/it]"
     ]
    },
    {
     "name": "stdout",
     "output_type": "stream",
     "text": [
      "normalized pred locations loss 1.009329915046692\n"
     ]
    },
    {
     "name": "stderr",
     "output_type": "stream",
     "text": []
    },
    {
     "name": "stdout",
     "output_type": "stream",
     "text": [
      "normalized pred locations loss 0.9262480139732361\n"
     ]
    },
    {
     "name": "stderr",
     "output_type": "stream",
     "text": [
      "Probe prediction step: 100%|██████████| 156/156 [00:02<00:00, 65.93it/s]\n",
      "Probe prediction epochs:  15%|█▌        | 3/20 [00:07<00:40,  2.37s/it]"
     ]
    },
    {
     "name": "stdout",
     "output_type": "stream",
     "text": [
      "normalized pred locations loss 0.9804626703262329\n"
     ]
    },
    {
     "name": "stderr",
     "output_type": "stream",
     "text": []
    },
    {
     "name": "stdout",
     "output_type": "stream",
     "text": [
      "normalized pred locations loss 0.8319993615150452\n"
     ]
    },
    {
     "name": "stderr",
     "output_type": "stream",
     "text": [
      "Probe prediction step: 100%|██████████| 156/156 [00:02<00:00, 66.96it/s]\n",
      "Probe prediction epochs:  20%|██        | 4/20 [00:09<00:37,  2.36s/it]"
     ]
    },
    {
     "name": "stdout",
     "output_type": "stream",
     "text": [
      "normalized pred locations loss 1.0421959161758423\n"
     ]
    },
    {
     "name": "stderr",
     "output_type": "stream",
     "text": [
      "Probe prediction step: 100%|██████████| 156/156 [00:02<00:00, 66.95it/s]\n",
      "Probe prediction epochs:  25%|██▌       | 5/20 [00:11<00:35,  2.35s/it]"
     ]
    },
    {
     "name": "stdout",
     "output_type": "stream",
     "text": [
      "normalized pred locations loss 1.0353106260299683\n"
     ]
    },
    {
     "name": "stderr",
     "output_type": "stream",
     "text": []
    },
    {
     "name": "stdout",
     "output_type": "stream",
     "text": [
      "normalized pred locations loss 1.1119009256362915\n"
     ]
    },
    {
     "name": "stderr",
     "output_type": "stream",
     "text": [
      "Probe prediction step: 100%|██████████| 156/156 [00:02<00:00, 66.73it/s]\n",
      "Probe prediction epochs:  30%|███       | 6/20 [00:14<00:32,  2.35s/it]"
     ]
    },
    {
     "name": "stdout",
     "output_type": "stream",
     "text": [
      "normalized pred locations loss 0.9000351428985596\n"
     ]
    },
    {
     "name": "stderr",
     "output_type": "stream",
     "text": [
      "Probe prediction step: 100%|██████████| 156/156 [00:02<00:00, 67.19it/s]\n",
      "Probe prediction epochs:  35%|███▌      | 7/20 [00:16<00:30,  2.34s/it]"
     ]
    },
    {
     "name": "stdout",
     "output_type": "stream",
     "text": [
      "normalized pred locations loss 1.0146270990371704\n"
     ]
    },
    {
     "name": "stderr",
     "output_type": "stream",
     "text": []
    },
    {
     "name": "stdout",
     "output_type": "stream",
     "text": [
      "normalized pred locations loss 1.0617952346801758\n"
     ]
    },
    {
     "name": "stderr",
     "output_type": "stream",
     "text": [
      "Probe prediction step: 100%|██████████| 156/156 [00:02<00:00, 67.09it/s]\n",
      "Probe prediction epochs:  40%|████      | 8/20 [00:18<00:28,  2.33s/it]"
     ]
    },
    {
     "name": "stdout",
     "output_type": "stream",
     "text": [
      "normalized pred locations loss 0.9407896399497986\n"
     ]
    },
    {
     "name": "stderr",
     "output_type": "stream",
     "text": [
      "Probe prediction step: 100%|██████████| 156/156 [00:02<00:00, 67.22it/s]\n",
      "Probe prediction epochs:  45%|████▌     | 9/20 [00:21<00:25,  2.33s/it]"
     ]
    },
    {
     "name": "stdout",
     "output_type": "stream",
     "text": [
      "normalized pred locations loss 1.0089417695999146\n"
     ]
    },
    {
     "name": "stderr",
     "output_type": "stream",
     "text": []
    },
    {
     "name": "stdout",
     "output_type": "stream",
     "text": [
      "normalized pred locations loss 1.0493237972259521\n"
     ]
    },
    {
     "name": "stderr",
     "output_type": "stream",
     "text": [
      "Probe prediction step: 100%|██████████| 156/156 [00:02<00:00, 67.07it/s]\n",
      "Probe prediction epochs:  50%|█████     | 10/20 [00:23<00:23,  2.33s/it]"
     ]
    },
    {
     "name": "stdout",
     "output_type": "stream",
     "text": [
      "normalized pred locations loss 1.0578699111938477\n"
     ]
    },
    {
     "name": "stderr",
     "output_type": "stream",
     "text": []
    },
    {
     "name": "stdout",
     "output_type": "stream",
     "text": [
      "normalized pred locations loss 0.8196636438369751\n"
     ]
    },
    {
     "name": "stderr",
     "output_type": "stream",
     "text": [
      "Probe prediction step: 100%|██████████| 156/156 [00:02<00:00, 66.46it/s]\n",
      "Probe prediction epochs:  55%|█████▌    | 11/20 [00:25<00:21,  2.34s/it]"
     ]
    },
    {
     "name": "stdout",
     "output_type": "stream",
     "text": [
      "normalized pred locations loss 0.9281478524208069\n"
     ]
    },
    {
     "name": "stderr",
     "output_type": "stream",
     "text": [
      "Probe prediction step: 100%|██████████| 156/156 [00:02<00:00, 66.65it/s]\n",
      "Probe prediction epochs:  60%|██████    | 12/20 [00:28<00:18,  2.34s/it]"
     ]
    },
    {
     "name": "stdout",
     "output_type": "stream",
     "text": [
      "normalized pred locations loss 1.118178129196167\n"
     ]
    },
    {
     "name": "stderr",
     "output_type": "stream",
     "text": []
    },
    {
     "name": "stdout",
     "output_type": "stream",
     "text": [
      "normalized pred locations loss 0.9972575902938843\n"
     ]
    },
    {
     "name": "stderr",
     "output_type": "stream",
     "text": [
      "Probe prediction step: 100%|██████████| 156/156 [00:02<00:00, 66.97it/s]\n",
      "Probe prediction epochs:  65%|██████▌   | 13/20 [00:30<00:16,  2.34s/it]"
     ]
    },
    {
     "name": "stdout",
     "output_type": "stream",
     "text": [
      "normalized pred locations loss 0.9157006740570068\n"
     ]
    },
    {
     "name": "stderr",
     "output_type": "stream",
     "text": [
      "Probe prediction step: 100%|██████████| 156/156 [00:02<00:00, 66.80it/s]\n",
      "Probe prediction epochs:  70%|███████   | 14/20 [00:32<00:14,  2.34s/it]"
     ]
    },
    {
     "name": "stdout",
     "output_type": "stream",
     "text": [
      "normalized pred locations loss 0.8017618060112\n"
     ]
    },
    {
     "name": "stderr",
     "output_type": "stream",
     "text": []
    },
    {
     "name": "stdout",
     "output_type": "stream",
     "text": [
      "normalized pred locations loss 0.9662711024284363\n"
     ]
    },
    {
     "name": "stderr",
     "output_type": "stream",
     "text": [
      "Probe prediction step: 100%|██████████| 156/156 [00:02<00:00, 67.14it/s]\n",
      "Probe prediction epochs:  75%|███████▌  | 15/20 [00:35<00:11,  2.33s/it]"
     ]
    },
    {
     "name": "stdout",
     "output_type": "stream",
     "text": [
      "normalized pred locations loss 0.9154397249221802\n"
     ]
    },
    {
     "name": "stderr",
     "output_type": "stream",
     "text": [
      "Probe prediction step: 100%|██████████| 156/156 [00:02<00:00, 67.17it/s]\n",
      "Probe prediction epochs:  80%|████████  | 16/20 [00:37<00:09,  2.33s/it]"
     ]
    },
    {
     "name": "stdout",
     "output_type": "stream",
     "text": [
      "normalized pred locations loss 1.0291247367858887\n"
     ]
    },
    {
     "name": "stderr",
     "output_type": "stream",
     "text": []
    },
    {
     "name": "stdout",
     "output_type": "stream",
     "text": [
      "normalized pred locations loss 0.8889573216438293\n"
     ]
    },
    {
     "name": "stderr",
     "output_type": "stream",
     "text": [
      "Probe prediction step: 100%|██████████| 156/156 [00:02<00:00, 66.99it/s]\n",
      "Probe prediction epochs:  85%|████████▌ | 17/20 [00:39<00:06,  2.33s/it]"
     ]
    },
    {
     "name": "stdout",
     "output_type": "stream",
     "text": [
      "normalized pred locations loss 0.9811620116233826\n"
     ]
    },
    {
     "name": "stderr",
     "output_type": "stream",
     "text": [
      "Probe prediction step: 100%|██████████| 156/156 [00:02<00:00, 66.99it/s]\n",
      "Probe prediction epochs:  90%|█████████ | 18/20 [00:42<00:04,  2.33s/it]"
     ]
    },
    {
     "name": "stdout",
     "output_type": "stream",
     "text": [
      "normalized pred locations loss 0.9510461091995239\n"
     ]
    },
    {
     "name": "stderr",
     "output_type": "stream",
     "text": []
    },
    {
     "name": "stdout",
     "output_type": "stream",
     "text": [
      "normalized pred locations loss 0.8131243586540222\n"
     ]
    },
    {
     "name": "stderr",
     "output_type": "stream",
     "text": [
      "Probe prediction step: 100%|██████████| 156/156 [00:02<00:00, 66.96it/s]\n",
      "Probe prediction epochs:  95%|█████████▌| 19/20 [00:44<00:02,  2.33s/it]"
     ]
    },
    {
     "name": "stdout",
     "output_type": "stream",
     "text": [
      "normalized pred locations loss 0.8837419748306274\n"
     ]
    },
    {
     "name": "stderr",
     "output_type": "stream",
     "text": []
    },
    {
     "name": "stdout",
     "output_type": "stream",
     "text": [
      "normalized pred locations loss 0.9298592805862427\n"
     ]
    },
    {
     "name": "stderr",
     "output_type": "stream",
     "text": [
      "Probe prediction step: 100%|██████████| 156/156 [00:02<00:00, 67.01it/s]\n",
      "Probe prediction epochs: 100%|██████████| 20/20 [00:46<00:00,  2.34s/it]\n",
      "Eval probe pred: 100%|██████████| 62/62 [00:00<00:00, 82.53it/s]\n",
      "Eval probe pred: 100%|██████████| 62/62 [00:00<00:00, 82.60it/s]\n"
     ]
    },
    {
     "name": "stdout",
     "output_type": "stream",
     "text": [
      "normal loss: 245.18235778808594\n",
      "wall loss: 189.22793579101562\n",
      "--------------------------------------------------------------------------------\n"
     ]
    },
    {
     "name": "stderr",
     "output_type": "stream",
     "text": [
      "Epoch 2/100: 100%|██████████| 1148/1148 [00:57<00:00, 20.09it/s, loss=0.0597, time/batch=0.028s, gpu_mem=1.8GB]\n"
     ]
    },
    {
     "name": "stdout",
     "output_type": "stream",
     "text": [
      "\n",
      "Epoch 2/100 Summary:\n",
      "Train Loss: 0.0597\n",
      "Component Losses:\n",
      "  total_loss: 0.0597\n",
      "  byol_loss: 0.0597\n",
      "Epoch Time: 57.1s\n",
      "Avg Batch Time: 0.028s\n",
      "GPU Memory: 1683MB\n"
     ]
    },
    {
     "name": "stderr",
     "output_type": "stream",
     "text": [
      "Probe prediction epochs:   0%|          | 0/20 [00:00<?, ?it/s]"
     ]
    },
    {
     "name": "stdout",
     "output_type": "stream",
     "text": [
      "normalized pred locations loss 2.363611936569214\n"
     ]
    },
    {
     "name": "stderr",
     "output_type": "stream",
     "text": []
    },
    {
     "name": "stdout",
     "output_type": "stream",
     "text": [
      "normalized pred locations loss 1.1205543279647827\n"
     ]
    },
    {
     "name": "stderr",
     "output_type": "stream",
     "text": [
      "Probe prediction step: 100%|██████████| 156/156 [00:02<00:00, 66.94it/s]\n",
      "Probe prediction epochs:   5%|▌         | 1/20 [00:02<00:44,  2.33s/it]"
     ]
    },
    {
     "name": "stdout",
     "output_type": "stream",
     "text": [
      "normalized pred locations loss 1.1992921829223633\n"
     ]
    },
    {
     "name": "stderr",
     "output_type": "stream",
     "text": [
      "Probe prediction step: 100%|██████████| 156/156 [00:02<00:00, 66.69it/s]\n",
      "Probe prediction epochs:  10%|█         | 2/20 [00:04<00:42,  2.34s/it]"
     ]
    },
    {
     "name": "stdout",
     "output_type": "stream",
     "text": [
      "normalized pred locations loss 1.078345537185669\n"
     ]
    },
    {
     "name": "stderr",
     "output_type": "stream",
     "text": []
    },
    {
     "name": "stdout",
     "output_type": "stream",
     "text": [
      "normalized pred locations loss 0.9601853489875793\n"
     ]
    },
    {
     "name": "stderr",
     "output_type": "stream",
     "text": [
      "Probe prediction step: 100%|██████████| 156/156 [00:02<00:00, 66.85it/s]\n",
      "Probe prediction epochs:  15%|█▌        | 3/20 [00:07<00:39,  2.34s/it]"
     ]
    },
    {
     "name": "stdout",
     "output_type": "stream",
     "text": [
      "normalized pred locations loss 1.111706256866455\n"
     ]
    },
    {
     "name": "stderr",
     "output_type": "stream",
     "text": []
    },
    {
     "name": "stdout",
     "output_type": "stream",
     "text": [
      "normalized pred locations loss 1.034497857093811\n"
     ]
    },
    {
     "name": "stderr",
     "output_type": "stream",
     "text": [
      "Probe prediction step: 100%|██████████| 156/156 [00:02<00:00, 66.67it/s]\n",
      "Probe prediction epochs:  20%|██        | 4/20 [00:09<00:37,  2.34s/it]"
     ]
    },
    {
     "name": "stdout",
     "output_type": "stream",
     "text": [
      "normalized pred locations loss 0.9480718970298767\n"
     ]
    },
    {
     "name": "stderr",
     "output_type": "stream",
     "text": [
      "Probe prediction step: 100%|██████████| 156/156 [00:02<00:00, 66.94it/s]\n",
      "Probe prediction epochs:  25%|██▌       | 5/20 [00:11<00:35,  2.34s/it]"
     ]
    },
    {
     "name": "stdout",
     "output_type": "stream",
     "text": [
      "normalized pred locations loss 0.8817775845527649\n"
     ]
    },
    {
     "name": "stderr",
     "output_type": "stream",
     "text": []
    },
    {
     "name": "stdout",
     "output_type": "stream",
     "text": [
      "normalized pred locations loss 1.0002883672714233\n"
     ]
    },
    {
     "name": "stderr",
     "output_type": "stream",
     "text": [
      "Probe prediction step: 100%|██████████| 156/156 [00:02<00:00, 66.64it/s]\n",
      "Probe prediction epochs:  30%|███       | 6/20 [00:14<00:32,  2.34s/it]"
     ]
    },
    {
     "name": "stdout",
     "output_type": "stream",
     "text": [
      "normalized pred locations loss 0.9805789589881897\n"
     ]
    },
    {
     "name": "stderr",
     "output_type": "stream",
     "text": [
      "Probe prediction step: 100%|██████████| 156/156 [00:02<00:00, 66.86it/s]\n",
      "Probe prediction epochs:  35%|███▌      | 7/20 [00:16<00:30,  2.34s/it]"
     ]
    },
    {
     "name": "stdout",
     "output_type": "stream",
     "text": [
      "normalized pred locations loss 0.952487051486969\n"
     ]
    },
    {
     "name": "stderr",
     "output_type": "stream",
     "text": []
    },
    {
     "name": "stdout",
     "output_type": "stream",
     "text": [
      "normalized pred locations loss 1.0097156763076782\n"
     ]
    },
    {
     "name": "stderr",
     "output_type": "stream",
     "text": [
      "Probe prediction step: 100%|██████████| 156/156 [00:02<00:00, 67.02it/s]\n",
      "Probe prediction epochs:  40%|████      | 8/20 [00:18<00:28,  2.33s/it]"
     ]
    },
    {
     "name": "stdout",
     "output_type": "stream",
     "text": [
      "normalized pred locations loss 0.7870132327079773\n"
     ]
    },
    {
     "name": "stderr",
     "output_type": "stream",
     "text": [
      "Probe prediction step: 100%|██████████| 156/156 [00:02<00:00, 67.06it/s]\n",
      "Probe prediction epochs:  45%|████▌     | 9/20 [00:21<00:25,  2.33s/it]"
     ]
    },
    {
     "name": "stdout",
     "output_type": "stream",
     "text": [
      "normalized pred locations loss 1.0243088006973267\n"
     ]
    },
    {
     "name": "stderr",
     "output_type": "stream",
     "text": []
    },
    {
     "name": "stdout",
     "output_type": "stream",
     "text": [
      "normalized pred locations loss 0.8577398657798767\n"
     ]
    },
    {
     "name": "stderr",
     "output_type": "stream",
     "text": [
      "Probe prediction step: 100%|██████████| 156/156 [00:02<00:00, 68.61it/s]\n",
      "Probe prediction epochs:  50%|█████     | 10/20 [00:23<00:23,  2.32s/it]"
     ]
    },
    {
     "name": "stdout",
     "output_type": "stream",
     "text": [
      "normalized pred locations loss 0.9811416864395142\n"
     ]
    },
    {
     "name": "stderr",
     "output_type": "stream",
     "text": []
    },
    {
     "name": "stdout",
     "output_type": "stream",
     "text": [
      "normalized pred locations loss 0.9004069566726685\n"
     ]
    },
    {
     "name": "stderr",
     "output_type": "stream",
     "text": [
      "Probe prediction step: 100%|██████████| 156/156 [00:02<00:00, 67.28it/s]\n",
      "Probe prediction epochs:  55%|█████▌    | 11/20 [00:25<00:20,  2.32s/it]"
     ]
    },
    {
     "name": "stdout",
     "output_type": "stream",
     "text": [
      "normalized pred locations loss 0.8595185875892639\n"
     ]
    },
    {
     "name": "stderr",
     "output_type": "stream",
     "text": [
      "Probe prediction step: 100%|██████████| 156/156 [00:02<00:00, 66.75it/s]\n",
      "Probe prediction epochs:  60%|██████    | 12/20 [00:27<00:18,  2.32s/it]"
     ]
    },
    {
     "name": "stdout",
     "output_type": "stream",
     "text": [
      "normalized pred locations loss 1.060077428817749\n"
     ]
    },
    {
     "name": "stderr",
     "output_type": "stream",
     "text": []
    },
    {
     "name": "stdout",
     "output_type": "stream",
     "text": [
      "normalized pred locations loss 0.9443929195404053\n"
     ]
    },
    {
     "name": "stderr",
     "output_type": "stream",
     "text": [
      "Probe prediction step: 100%|██████████| 156/156 [00:02<00:00, 65.60it/s]\n",
      "Probe prediction epochs:  65%|██████▌   | 13/20 [00:30<00:16,  2.34s/it]"
     ]
    },
    {
     "name": "stdout",
     "output_type": "stream",
     "text": [
      "normalized pred locations loss 0.8778512477874756\n"
     ]
    },
    {
     "name": "stderr",
     "output_type": "stream",
     "text": [
      "Probe prediction step: 100%|██████████| 156/156 [00:02<00:00, 65.24it/s]\n",
      "Probe prediction epochs:  70%|███████   | 14/20 [00:32<00:14,  2.36s/it]"
     ]
    },
    {
     "name": "stdout",
     "output_type": "stream",
     "text": [
      "normalized pred locations loss 1.1440768241882324\n"
     ]
    },
    {
     "name": "stderr",
     "output_type": "stream",
     "text": []
    },
    {
     "name": "stdout",
     "output_type": "stream",
     "text": [
      "normalized pred locations loss 0.9987502694129944\n"
     ]
    },
    {
     "name": "stderr",
     "output_type": "stream",
     "text": [
      "Probe prediction step: 100%|██████████| 156/156 [00:02<00:00, 66.32it/s]\n",
      "Probe prediction epochs:  75%|███████▌  | 15/20 [00:35<00:11,  2.36s/it]"
     ]
    },
    {
     "name": "stdout",
     "output_type": "stream",
     "text": [
      "normalized pred locations loss 0.7767149806022644\n"
     ]
    },
    {
     "name": "stderr",
     "output_type": "stream",
     "text": [
      "Probe prediction step: 100%|██████████| 156/156 [00:02<00:00, 66.82it/s]\n",
      "Probe prediction epochs:  80%|████████  | 16/20 [00:37<00:09,  2.35s/it]"
     ]
    },
    {
     "name": "stdout",
     "output_type": "stream",
     "text": [
      "normalized pred locations loss 0.9431481957435608\n"
     ]
    },
    {
     "name": "stderr",
     "output_type": "stream",
     "text": []
    },
    {
     "name": "stdout",
     "output_type": "stream",
     "text": [
      "normalized pred locations loss 0.9805623292922974\n"
     ]
    },
    {
     "name": "stderr",
     "output_type": "stream",
     "text": [
      "Probe prediction step: 100%|██████████| 156/156 [00:02<00:00, 66.65it/s]\n",
      "Probe prediction epochs:  85%|████████▌ | 17/20 [00:39<00:07,  2.35s/it]"
     ]
    },
    {
     "name": "stdout",
     "output_type": "stream",
     "text": [
      "normalized pred locations loss 0.809899628162384\n"
     ]
    },
    {
     "name": "stderr",
     "output_type": "stream",
     "text": [
      "Probe prediction step: 100%|██████████| 156/156 [00:02<00:00, 65.94it/s]\n",
      "Probe prediction epochs:  90%|█████████ | 18/20 [00:42<00:04,  2.35s/it]"
     ]
    },
    {
     "name": "stdout",
     "output_type": "stream",
     "text": [
      "normalized pred locations loss 0.9213096499443054\n"
     ]
    },
    {
     "name": "stderr",
     "output_type": "stream",
     "text": []
    },
    {
     "name": "stdout",
     "output_type": "stream",
     "text": [
      "normalized pred locations loss 0.9747066497802734\n"
     ]
    },
    {
     "name": "stderr",
     "output_type": "stream",
     "text": [
      "Probe prediction step: 100%|██████████| 156/156 [00:02<00:00, 65.24it/s]\n",
      "Probe prediction epochs:  95%|█████████▌| 19/20 [00:44<00:02,  2.37s/it]"
     ]
    },
    {
     "name": "stdout",
     "output_type": "stream",
     "text": [
      "normalized pred locations loss 0.8831705451011658\n"
     ]
    },
    {
     "name": "stderr",
     "output_type": "stream",
     "text": []
    },
    {
     "name": "stdout",
     "output_type": "stream",
     "text": [
      "normalized pred locations loss 0.7294135093688965\n"
     ]
    },
    {
     "name": "stderr",
     "output_type": "stream",
     "text": [
      "Probe prediction step: 100%|██████████| 156/156 [00:02<00:00, 65.82it/s]\n",
      "Probe prediction epochs: 100%|██████████| 20/20 [00:46<00:00,  2.34s/it]\n",
      "Eval probe pred: 100%|██████████| 62/62 [00:00<00:00, 82.70it/s]\n",
      "Eval probe pred: 100%|██████████| 62/62 [00:00<00:00, 82.51it/s]\n"
     ]
    },
    {
     "name": "stdout",
     "output_type": "stream",
     "text": [
      "normal loss: 249.85256958007812\n",
      "wall loss: 188.7933349609375\n",
      "--------------------------------------------------------------------------------\n"
     ]
    },
    {
     "name": "stderr",
     "output_type": "stream",
     "text": [
      "Epoch 3/100:  53%|█████▎    | 612/1148 [00:30<00:26, 19.96it/s, loss=0.0487, time/batch=0.029s, gpu_mem=1.8GB]\n"
     ]
    },
    {
     "ename": "KeyboardInterrupt",
     "evalue": "",
     "output_type": "error",
     "traceback": [
      "\u001b[0;31m---------------------------------------------------------------------------\u001b[0m",
      "\u001b[0;31mKeyboardInterrupt\u001b[0m                         Traceback (most recent call last)",
      "Cell \u001b[0;32mIn[12], line 380\u001b[0m\n\u001b[1;32m    373\u001b[0m train_loader \u001b[38;5;241m=\u001b[39m create_wall_dataloader(\n\u001b[1;32m    374\u001b[0m     \u001b[38;5;124m\"\u001b[39m\u001b[38;5;124m/drive_reader/as16386/DL24FA/train\u001b[39m\u001b[38;5;124m\"\u001b[39m,  \u001b[38;5;66;03m# Update with your path\u001b[39;00m\n\u001b[1;32m    375\u001b[0m     batch_size\u001b[38;5;241m=\u001b[39m\u001b[38;5;241m128\u001b[39m,\n\u001b[1;32m    376\u001b[0m     train\u001b[38;5;241m=\u001b[39m\u001b[38;5;28;01mTrue\u001b[39;00m\n\u001b[1;32m    377\u001b[0m )\n\u001b[1;32m    379\u001b[0m \u001b[38;5;66;03m# Start training\u001b[39;00m\n\u001b[0;32m--> 380\u001b[0m \u001b[43mtrain_model\u001b[49m\u001b[43m(\u001b[49m\n\u001b[1;32m    381\u001b[0m \u001b[43m    \u001b[49m\u001b[43mmodel\u001b[49m\u001b[38;5;241;43m=\u001b[39;49m\u001b[43mmodel\u001b[49m\u001b[43m,\u001b[49m\n\u001b[1;32m    382\u001b[0m \u001b[43m    \u001b[49m\u001b[43mtrain_loader\u001b[49m\u001b[38;5;241;43m=\u001b[39;49m\u001b[43mtrain_loader\u001b[49m\u001b[43m,\u001b[49m\n\u001b[1;32m    383\u001b[0m \u001b[43m    \u001b[49m\u001b[43mnum_epochs\u001b[49m\u001b[38;5;241;43m=\u001b[39;49m\u001b[38;5;241;43m100\u001b[39;49m\u001b[43m,\u001b[49m\n\u001b[1;32m    384\u001b[0m \u001b[43m    \u001b[49m\u001b[43mlearning_rate\u001b[49m\u001b[38;5;241;43m=\u001b[39;49m\u001b[38;5;241;43m3e-5\u001b[39;49m\u001b[43m,\u001b[49m\n\u001b[1;32m    385\u001b[0m \u001b[43m    \u001b[49m\u001b[43msave_dir\u001b[49m\u001b[38;5;241;43m=\u001b[39;49m\u001b[38;5;124;43m'\u001b[39;49m\u001b[38;5;124;43mbyol_try_checkpoints/\u001b[39;49m\u001b[38;5;124;43m'\u001b[39;49m\u001b[43m,\u001b[49m\n\u001b[1;32m    386\u001b[0m \u001b[43m    \u001b[49m\u001b[43msave_frequency\u001b[49m\u001b[38;5;241;43m=\u001b[39;49m\u001b[38;5;241;43m10\u001b[39;49m\n\u001b[1;32m    387\u001b[0m \u001b[43m\u001b[49m\u001b[43m)\u001b[49m\n",
      "Cell \u001b[0;32mIn[12], line 342\u001b[0m, in \u001b[0;36mtrain_model\u001b[0;34m(model, train_loader, num_epochs, learning_rate, save_dir, save_frequency)\u001b[0m\n\u001b[1;32m    338\u001b[0m \u001b[38;5;28mprint\u001b[39m(\u001b[38;5;124mf\u001b[39m\u001b[38;5;124m\"\u001b[39m\u001b[38;5;124mCheckpoints will be saved to \u001b[39m\u001b[38;5;132;01m{\u001b[39;00msave_dir\u001b[38;5;132;01m}\u001b[39;00m\u001b[38;5;124m\"\u001b[39m)\n\u001b[1;32m    340\u001b[0m \u001b[38;5;28;01mfor\u001b[39;00m epoch \u001b[38;5;129;01min\u001b[39;00m \u001b[38;5;28mrange\u001b[39m(num_epochs):\n\u001b[1;32m    341\u001b[0m     \u001b[38;5;66;03m# Train for one epoch\u001b[39;00m\n\u001b[0;32m--> 342\u001b[0m     train_loss, train_losses, timing_stats \u001b[38;5;241m=\u001b[39m \u001b[43mtrain_epoch\u001b[49m\u001b[43m(\u001b[49m\n\u001b[1;32m    343\u001b[0m \u001b[43m        \u001b[49m\u001b[43mmodel\u001b[49m\u001b[43m,\u001b[49m\u001b[43m \u001b[49m\u001b[43mtrain_loader\u001b[49m\u001b[43m,\u001b[49m\u001b[43m \u001b[49m\u001b[43moptimizer\u001b[49m\u001b[43m,\u001b[49m\u001b[43m \u001b[49m\u001b[43mepoch\u001b[49m\u001b[43m,\u001b[49m\u001b[43m \u001b[49m\u001b[43mnum_epochs\u001b[49m\n\u001b[1;32m    344\u001b[0m \u001b[43m    \u001b[49m\u001b[43m)\u001b[49m\n\u001b[1;32m    346\u001b[0m     \u001b[38;5;66;03m# Print epoch summary\u001b[39;00m\n\u001b[1;32m    347\u001b[0m     \u001b[38;5;28mprint\u001b[39m(\u001b[38;5;124mf\u001b[39m\u001b[38;5;124m\"\u001b[39m\u001b[38;5;130;01m\\n\u001b[39;00m\u001b[38;5;124mEpoch \u001b[39m\u001b[38;5;132;01m{\u001b[39;00mepoch\u001b[38;5;132;01m}\u001b[39;00m\u001b[38;5;124m/\u001b[39m\u001b[38;5;132;01m{\u001b[39;00mnum_epochs\u001b[38;5;132;01m}\u001b[39;00m\u001b[38;5;124m Summary:\u001b[39m\u001b[38;5;124m\"\u001b[39m)\n",
      "Cell \u001b[0;32mIn[12], line 297\u001b[0m, in \u001b[0;36mtrain_epoch\u001b[0;34m(model, dataloader, optimizer, epoch, total_epochs)\u001b[0m\n\u001b[1;32m    294\u001b[0m batch_times\u001b[38;5;241m.\u001b[39mappend(batch_time)\n\u001b[1;32m    296\u001b[0m \u001b[38;5;66;03m# Update losses\u001b[39;00m\n\u001b[0;32m--> 297\u001b[0m total_loss \u001b[38;5;241m+\u001b[39m\u001b[38;5;241m=\u001b[39m \u001b[43mloss\u001b[49m\u001b[38;5;241;43m.\u001b[39;49m\u001b[43mitem\u001b[49m\u001b[43m(\u001b[49m\u001b[43m)\u001b[49m\n\u001b[1;32m    298\u001b[0m \u001b[38;5;28;01mfor\u001b[39;00m k \u001b[38;5;129;01min\u001b[39;00m train_losses:\n\u001b[1;32m    299\u001b[0m     train_losses[k] \u001b[38;5;241m+\u001b[39m\u001b[38;5;241m=\u001b[39m component_losses[k]\n",
      "\u001b[0;31mKeyboardInterrupt\u001b[0m: "
     ]
    }
   ],
   "source": [
    "# DID NOT REALLY WORK!\n",
    "\n",
    "import torch\n",
    "import torch.nn as nn\n",
    "import torch.nn.functional as F\n",
    "import copy\n",
    "from typing import Tuple, Dict\n",
    "from dataset import WallSample, create_wall_dataloader\n",
    "from tqdm.auto import tqdm\n",
    "import time\n",
    "from datetime import datetime\n",
    "from pathlib import Path\n",
    "from lightly.utils.scheduler import cosine_schedule\n",
    "\n",
    "from evaluator import ProbingEvaluator\n",
    "\n",
    "def load_data(device):\n",
    "    data_path = \"/drive_reader/as16386/DL24FA\"\n",
    "\n",
    "    probe_train_ds = create_wall_dataloader(\n",
    "        data_path=f\"{data_path}/probe_normal/train\",\n",
    "        probing=True,\n",
    "        device=device,\n",
    "        train=True,\n",
    "    )\n",
    "\n",
    "    probe_val_normal_ds = create_wall_dataloader(\n",
    "        data_path=f\"{data_path}/probe_normal/val\",\n",
    "        probing=True,\n",
    "        device=device,\n",
    "        train=False,\n",
    "    )\n",
    "\n",
    "    probe_val_wall_ds = create_wall_dataloader(\n",
    "        data_path=f\"{data_path}/probe_wall/val\",\n",
    "        probing=True,\n",
    "        device=device,\n",
    "        train=False,\n",
    "    )\n",
    "\n",
    "    probe_val_ds = {\"normal\": probe_val_normal_ds, \"wall\": probe_val_wall_ds}\n",
    "\n",
    "    return probe_train_ds, probe_val_ds\n",
    "\n",
    "def evaluate_model(device, model, probe_train_ds, probe_val_ds):\n",
    "    evaluator = ProbingEvaluator(\n",
    "        device=device,\n",
    "        model=model,\n",
    "        probe_train_ds=probe_train_ds,\n",
    "        probe_val_ds=probe_val_ds,\n",
    "        quick_debug=False,\n",
    "    )\n",
    "\n",
    "    prober = evaluator.train_pred_prober()\n",
    "\n",
    "    avg_losses = evaluator.evaluate_all(prober=prober)\n",
    "\n",
    "    for probe_attr, loss in avg_losses.items():\n",
    "        print(f\"{probe_attr} loss: {loss}\")\n",
    "\n",
    "probe_train_ds, probe_val_ds = load_data(\"cuda\")\n",
    "\n",
    "class Encoder(nn.Module):\n",
    "    def __init__(self, input_channels=2):\n",
    "        super().__init__()\n",
    "        # First conv: 65x65 -> 22x22\n",
    "        self.conv1 = nn.Conv2d(input_channels, 8, kernel_size=5, stride=3, padding=2, bias=False)\n",
    "        self.bn1 = nn.BatchNorm2d(8)\n",
    "        \n",
    "        # Second conv: 22x22 -> 8x8\n",
    "        self.conv2 = nn.Conv2d(8, 32, kernel_size=3, stride=3, padding=1, bias=False)\n",
    "        self.bn2 = nn.BatchNorm2d(32)\n",
    "        \n",
    "        self.repr_dim = 32 * 8 * 8  # Full flattened representation\n",
    "        \n",
    "    def forward(self, x):\n",
    "        x = F.relu(self.bn1(self.conv1(x)))  # -> 22x22\n",
    "        x = F.relu(self.bn2(self.conv2(x)))  # -> 8x8\n",
    "        return x\n",
    "\n",
    "class TransitionModel(nn.Module):\n",
    "    def __init__(self, hidden_dim=32):\n",
    "        super().__init__()\n",
    "        self.hidden_dim = hidden_dim\n",
    "        \n",
    "        # Action embedding\n",
    "        self.action_embed = nn.Sequential(\n",
    "            nn.Conv2d(2, hidden_dim // 2, 1),\n",
    "            nn.BatchNorm2d(hidden_dim // 2),\n",
    "            nn.ReLU(),\n",
    "            nn.Conv2d(hidden_dim // 2, hidden_dim, 1),\n",
    "            nn.BatchNorm2d(hidden_dim),\n",
    "            nn.ReLU()\n",
    "        )\n",
    "        \n",
    "        # Transition model\n",
    "        self.transition = nn.Sequential(\n",
    "            nn.Conv2d(hidden_dim * 2, hidden_dim, 3, padding=1),\n",
    "            nn.BatchNorm2d(hidden_dim),\n",
    "            nn.ReLU(),\n",
    "            nn.Conv2d(hidden_dim, hidden_dim, 3, padding=1),\n",
    "            nn.BatchNorm2d(hidden_dim)\n",
    "        )\n",
    "        \n",
    "    def forward(self, state, action):\n",
    "        B, _, H, W = state.shape\n",
    "        action = action.view(B, 2, 1, 1).expand(-1, -1, H, W)\n",
    "        action_embedding = self.action_embed(action)\n",
    "        combined = torch.cat([state, action_embedding], dim=1)\n",
    "        delta = self.transition(combined)\n",
    "        next_state = state + delta\n",
    "        return next_state\n",
    "\n",
    "class ProjectionHead(nn.Module):\n",
    "    def __init__(self, input_dim=32*8*8, hidden_dim=2048, output_dim=2048):\n",
    "        super().__init__()\n",
    "        self.net = nn.Sequential(\n",
    "            nn.Linear(input_dim, hidden_dim),\n",
    "            nn.BatchNorm1d(hidden_dim),\n",
    "            nn.ReLU(),\n",
    "            nn.Linear(hidden_dim, output_dim)\n",
    "        )\n",
    "    \n",
    "    def forward(self, x):\n",
    "        if len(x.shape) > 2:\n",
    "            x = x.reshape(x.shape[0], -1)\n",
    "        return self.net(x)\n",
    "\n",
    "class PredictionHead(nn.Module):\n",
    "    def __init__(self, input_dim=2048, hidden_dim=512, output_dim=2048):\n",
    "        super().__init__()\n",
    "        self.net = nn.Sequential(\n",
    "            nn.Linear(input_dim, hidden_dim),\n",
    "            nn.BatchNorm1d(hidden_dim),\n",
    "            nn.ReLU(),\n",
    "            nn.Linear(hidden_dim, output_dim)\n",
    "        )\n",
    "    \n",
    "    def forward(self, x):\n",
    "        return self.net(x)\n",
    "\n",
    "class BYOLWorldModel(nn.Module):\n",
    "    def __init__(self):\n",
    "        super().__init__()\n",
    "        \n",
    "        # Online networks\n",
    "        self.encoder = Encoder(input_channels=2)\n",
    "        self.predictor = TransitionModel(hidden_dim=32)\n",
    "        self.projection = ProjectionHead(input_dim=32*8*8)\n",
    "        self.prediction = PredictionHead()\n",
    "        \n",
    "        # Target networks\n",
    "        self.encoder_momentum = copy.deepcopy(self.encoder)\n",
    "        self.projection_momentum = copy.deepcopy(self.projection)\n",
    "        \n",
    "        # Deactivate gradients for momentum networks\n",
    "        for param in self.encoder_momentum.parameters():\n",
    "            param.requires_grad = False\n",
    "        for param in self.projection_momentum.parameters():\n",
    "            param.requires_grad = False\n",
    "            \n",
    "        self.repr_dim = self.encoder.repr_dim\n",
    "        \n",
    "    def forward_prediction(self, states, actions):\n",
    "        B, _, _, H, W = states.shape\n",
    "        T = actions.shape[1] + 1\n",
    "        \n",
    "        curr_state = self.encoder(states.squeeze(1))\n",
    "        predictions = [curr_state]\n",
    "        \n",
    "        for t in range(T-1):\n",
    "            curr_state = self.predictor(curr_state, actions[:, t])\n",
    "            predictions.append(curr_state)\n",
    "            \n",
    "        predictions = torch.stack(predictions, dim=1)\n",
    "        return predictions\n",
    "\n",
    "    def forward(self, states, actions):\n",
    "        init_states = states[:, 0:1]\n",
    "        predictions = self.forward_prediction(init_states, actions)\n",
    "        B, T, C, H, W = predictions.shape\n",
    "        predictions = predictions.view(B, T, -1)\n",
    "        return predictions\n",
    "\n",
    "    def compute_byol_loss(self, pred_flat, target_flat):\n",
    "        pred_proj = self.projection(pred_flat)\n",
    "        pred_out = self.prediction(pred_proj)\n",
    "        \n",
    "        with torch.no_grad():\n",
    "            target_proj = self.projection_momentum(target_flat)\n",
    "        \n",
    "        pred_out = F.normalize(pred_out, dim=1)\n",
    "        target_proj = F.normalize(target_proj, dim=1)\n",
    "        \n",
    "        loss = 2 - 2 * (pred_out * target_proj).sum(dim=1).mean()\n",
    "        \n",
    "        return loss, {\n",
    "            'byol_loss': loss.item(),\n",
    "            'total_loss': loss.item()\n",
    "        }\n",
    "\n",
    "    def training_step(self, batch):\n",
    "        states = batch.states\n",
    "        actions = batch.actions\n",
    "        \n",
    "        # Get initial state\n",
    "        init_states = states[:, 0:1]\n",
    "        \n",
    "        # Get predictions for all steps\n",
    "        predictions = self.forward_prediction(init_states, actions)\n",
    "        \n",
    "        # Initialize losses\n",
    "        total_loss = 0.0\n",
    "        accumulated_losses = {\n",
    "            'total_loss': 0.0,\n",
    "            'byol_loss': 0.0\n",
    "        }\n",
    "        \n",
    "        # Compute loss for each timestep\n",
    "        for t in range(actions.shape[1]):\n",
    "            pred_state = predictions[:, t+1]\n",
    "            target_obs = states[:, t+1]\n",
    "            \n",
    "            with torch.no_grad():\n",
    "                target_state = self.encoder_momentum(target_obs)\n",
    "            \n",
    "            pred_flat = pred_state.flatten(start_dim=1)\n",
    "            target_flat = target_state.flatten(start_dim=1)\n",
    "            \n",
    "            loss, component_losses = self.compute_byol_loss(pred_flat, target_flat)\n",
    "            \n",
    "            total_loss += loss\n",
    "            for k in accumulated_losses:\n",
    "                accumulated_losses[k] += component_losses[k]\n",
    "        \n",
    "        # Average losses over timesteps\n",
    "        total_loss = total_loss / actions.shape[1]\n",
    "        for k in accumulated_losses:\n",
    "            accumulated_losses[k] /= actions.shape[1]\n",
    "        \n",
    "        return total_loss, predictions, accumulated_losses\n",
    "    \n",
    "    @torch.no_grad()\n",
    "    def update_target(self, current_epoch, total_epochs):\n",
    "        tau = cosine_schedule(current_epoch, total_epochs, 0.996, 1.0)\n",
    "        \n",
    "        for online, target in zip(self.encoder.parameters(), self.encoder_momentum.parameters()):\n",
    "            target.data = tau * target.data + (1 - tau) * online.data\n",
    "            \n",
    "        for online, target in zip(self.projection.parameters(), self.projection_momentum.parameters()):\n",
    "            target.data = tau * target.data + (1 - tau) * online.data\n",
    "\n",
    "def train_epoch(model, dataloader, optimizer, epoch, total_epochs):\n",
    "    \"\"\"Train for one epoch\"\"\"\n",
    "    model.train()\n",
    "    total_loss = 0.0\n",
    "    train_losses = {\n",
    "        'total_loss': 0.0,\n",
    "        'byol_loss': 0.0\n",
    "    }\n",
    "    \n",
    "    # Progress bar for batches\n",
    "    num_batches = len(dataloader)\n",
    "    progress_bar = tqdm(enumerate(dataloader), \n",
    "                       total=num_batches,\n",
    "                       desc=f'Epoch {epoch}/{total_epochs}',\n",
    "                       leave=True)\n",
    "    \n",
    "    start_time = time.time()\n",
    "    batch_times = []\n",
    "    \n",
    "    for batch_idx, batch in progress_bar:\n",
    "        batch_start = time.time()\n",
    "        \n",
    "        # Move batch to GPU\n",
    "        batch = batch._replace(\n",
    "            states=batch.states.cuda(),\n",
    "            actions=batch.actions.cuda(),\n",
    "            locations=batch.locations.cuda() if batch.locations is not None else None\n",
    "        )\n",
    "        \n",
    "        # Forward pass and compute loss\n",
    "        optimizer.zero_grad()\n",
    "        loss, _, component_losses = model.training_step(batch)  # Removed extra arguments\n",
    "        \n",
    "        # Backward pass\n",
    "        loss.backward()\n",
    "        torch.nn.utils.clip_grad_norm_(model.parameters(), max_norm=1.0)\n",
    "        optimizer.step()\n",
    "        \n",
    "        # Update momentum networks\n",
    "        model.update_target(epoch, total_epochs)\n",
    "        \n",
    "        # Update timing\n",
    "        batch_time = time.time() - batch_start\n",
    "        batch_times.append(batch_time)\n",
    "        \n",
    "        # Update losses\n",
    "        total_loss += loss.item()\n",
    "        for k in train_losses:\n",
    "            train_losses[k] += component_losses[k]\n",
    "        \n",
    "        # Update progress bar\n",
    "        current_loss = total_loss / (batch_idx + 1)\n",
    "        current_batch_time = sum(batch_times) / len(batch_times)\n",
    "        \n",
    "        progress_bar.set_postfix({\n",
    "            'loss': f'{current_loss:.4f}',\n",
    "            'time/batch': f'{current_batch_time:.3f}s',\n",
    "            'gpu_mem': f'{torch.cuda.max_memory_allocated()/1e9:.1f}GB'\n",
    "        })\n",
    "    \n",
    "    # Compute final metrics\n",
    "    num_batches = len(dataloader)\n",
    "    total_loss /= num_batches\n",
    "    for k in train_losses:\n",
    "        train_losses[k] /= num_batches\n",
    "    \n",
    "    epoch_time = time.time() - start_time\n",
    "    avg_batch_time = sum(batch_times) / len(batch_times)\n",
    "    \n",
    "    return total_loss, train_losses, {\n",
    "        'epoch_time': epoch_time,\n",
    "        'avg_batch_time': avg_batch_time\n",
    "    }\n",
    "\n",
    "def train_model(model, train_loader, num_epochs=100, learning_rate=3e-4, \n",
    "                save_dir='checkpoints/byol', save_frequency=10):\n",
    "    # Setup\n",
    "    device = torch.device('cuda' if torch.cuda.is_available() else 'cpu')\n",
    "    model = model.to(device)\n",
    "    optimizer = torch.optim.Adam(model.parameters(), lr=learning_rate)\n",
    "    \n",
    "    # Create checkpoint directory\n",
    "    save_dir = Path(save_dir)\n",
    "    save_dir.mkdir(parents=True, exist_ok=True)\n",
    "    \n",
    "    print(f\"Starting training at {datetime.now().strftime('%Y-%m-%d %H:%M:%S')}\")\n",
    "    print(f\"Training for {num_epochs} epochs\")\n",
    "    print(f\"Checkpoints will be saved to {save_dir}\")\n",
    "    \n",
    "    for epoch in range(num_epochs):\n",
    "        # Train for one epoch\n",
    "        train_loss, train_losses, timing_stats = train_epoch(\n",
    "            model, train_loader, optimizer, epoch, num_epochs\n",
    "        )\n",
    "        \n",
    "        # Print epoch summary\n",
    "        print(f\"\\nEpoch {epoch}/{num_epochs} Summary:\")\n",
    "        print(f\"Train Loss: {train_loss:.4f}\")\n",
    "        print(\"Component Losses:\")\n",
    "        for k, v in train_losses.items():\n",
    "            print(f\"  {k}: {v:.4f}\")\n",
    "        print(f\"Epoch Time: {timing_stats['epoch_time']:.1f}s\")\n",
    "        print(f\"Avg Batch Time: {timing_stats['avg_batch_time']:.3f}s\")\n",
    "        print(f\"GPU Memory: {torch.cuda.max_memory_allocated() / 1024**2:.0f}MB\")\n",
    "        evaluate_model(\"cuda\", model, probe_train_ds, probe_val_ds)\n",
    "        \n",
    "        # Save checkpoint\n",
    "        if (epoch + 1) % save_frequency == 0:\n",
    "            checkpoint_path = save_dir / f\"checkpoint_epoch_{epoch+1}.pt\"\n",
    "            torch.save({\n",
    "                'epoch': epoch,\n",
    "                'model_state_dict': model.state_dict(),\n",
    "                'optimizer_state_dict': optimizer.state_dict(),\n",
    "                'loss': train_loss,\n",
    "            }, checkpoint_path)\n",
    "            print(f\"Checkpoint saved to {checkpoint_path}\")\n",
    "        \n",
    "        print(\"-\" * 80)\n",
    "\n",
    "if __name__ == \"__main__\":\n",
    "    # Create model and data loader\n",
    "    model = BYOLWorldModel().cuda()\n",
    "    train_loader = create_wall_dataloader(\n",
    "        \"/drive_reader/as16386/DL24FA/train\",  # Update with your path\n",
    "        batch_size=128,\n",
    "        train=True\n",
    "    )\n",
    "    \n",
    "    # Start training\n",
    "    train_model(\n",
    "        model=model,\n",
    "        train_loader=train_loader,\n",
    "        num_epochs=100,\n",
    "        learning_rate=3e-5,\n",
    "        save_dir='byol_try_checkpoints/',\n",
    "        save_frequency=10\n",
    "    )"
   ]
  },
  {
   "cell_type": "code",
   "execution_count": 13,
   "metadata": {},
   "outputs": [
    {
     "name": "stdout",
     "output_type": "stream",
     "text": [
      "Starting training at 2024-12-11 23:46:02\n",
      "Training for 100 epochs\n",
      "Checkpoints will be saved to checkpoints/combined_barlow_vicreg\n"
     ]
    },
    {
     "name": "stderr",
     "output_type": "stream",
     "text": [
      "Epoch 0/100: 100%|██████████| 1148/1148 [01:38<00:00, 11.66it/s, loss=3203.5392, time/batch=0.060s, gpu_mem=2.1GB]\n"
     ]
    },
    {
     "name": "stdout",
     "output_type": "stream",
     "text": [
      "\n",
      "Epoch 0/100 Summary:\n",
      "Train Loss: 3203.5392\n",
      "Component Losses:\n",
      "  total_loss: 3203.5393\n",
      "  vicreg_sim_loss: 19.9145\n",
      "  vicreg_std_loss: 1.1452\n",
      "  vicreg_cov_loss: 4325.8279\n",
      "  barlow_loss: 1554.7584\n",
      "Epoch Time: 98.4s\n",
      "Avg Batch Time: 0.060s\n",
      "GPU Memory: 1988MB\n"
     ]
    },
    {
     "name": "stderr",
     "output_type": "stream",
     "text": [
      "Probe prediction epochs:   0%|          | 0/20 [00:00<?, ?it/s]"
     ]
    },
    {
     "name": "stdout",
     "output_type": "stream",
     "text": [
      "normalized pred locations loss 0.9376960396766663\n"
     ]
    },
    {
     "name": "stderr",
     "output_type": "stream",
     "text": []
    },
    {
     "name": "stdout",
     "output_type": "stream",
     "text": [
      "normalized pred locations loss 0.6371876001358032\n"
     ]
    },
    {
     "name": "stderr",
     "output_type": "stream",
     "text": [
      "Probe prediction step: 100%|██████████| 156/156 [00:02<00:00, 65.41it/s]\n",
      "Probe prediction epochs:   5%|▌         | 1/20 [00:02<00:45,  2.39s/it]"
     ]
    },
    {
     "name": "stdout",
     "output_type": "stream",
     "text": [
      "normalized pred locations loss 0.25403302907943726\n"
     ]
    },
    {
     "name": "stderr",
     "output_type": "stream",
     "text": [
      "Probe prediction step: 100%|██████████| 156/156 [00:02<00:00, 65.43it/s]\n",
      "Probe prediction epochs:  10%|█         | 2/20 [00:04<00:42,  2.39s/it]"
     ]
    },
    {
     "name": "stdout",
     "output_type": "stream",
     "text": [
      "normalized pred locations loss 0.17966483533382416\n"
     ]
    },
    {
     "name": "stderr",
     "output_type": "stream",
     "text": []
    },
    {
     "name": "stdout",
     "output_type": "stream",
     "text": [
      "normalized pred locations loss 0.1303916573524475\n"
     ]
    },
    {
     "name": "stderr",
     "output_type": "stream",
     "text": [
      "Probe prediction step: 100%|██████████| 156/156 [00:02<00:00, 65.71it/s]\n",
      "Probe prediction epochs:  15%|█▌        | 3/20 [00:07<00:40,  2.38s/it]"
     ]
    },
    {
     "name": "stdout",
     "output_type": "stream",
     "text": [
      "normalized pred locations loss 0.07833853363990784\n"
     ]
    },
    {
     "name": "stderr",
     "output_type": "stream",
     "text": []
    },
    {
     "name": "stdout",
     "output_type": "stream",
     "text": [
      "normalized pred locations loss 0.07247161120176315\n"
     ]
    },
    {
     "name": "stderr",
     "output_type": "stream",
     "text": [
      "Probe prediction step: 100%|██████████| 156/156 [00:02<00:00, 67.07it/s]\n",
      "Probe prediction epochs:  20%|██        | 4/20 [00:09<00:37,  2.36s/it]"
     ]
    },
    {
     "name": "stdout",
     "output_type": "stream",
     "text": [
      "normalized pred locations loss 0.06488312035799026\n"
     ]
    },
    {
     "name": "stderr",
     "output_type": "stream",
     "text": [
      "Probe prediction step: 100%|██████████| 156/156 [00:02<00:00, 66.60it/s]\n",
      "Probe prediction epochs:  25%|██▌       | 5/20 [00:11<00:35,  2.35s/it]"
     ]
    },
    {
     "name": "stdout",
     "output_type": "stream",
     "text": [
      "normalized pred locations loss 0.08267024159431458\n"
     ]
    },
    {
     "name": "stderr",
     "output_type": "stream",
     "text": []
    },
    {
     "name": "stdout",
     "output_type": "stream",
     "text": [
      "normalized pred locations loss 0.051201559603214264\n"
     ]
    },
    {
     "name": "stderr",
     "output_type": "stream",
     "text": [
      "Probe prediction step: 100%|██████████| 156/156 [00:02<00:00, 65.77it/s]\n",
      "Probe prediction epochs:  30%|███       | 6/20 [00:14<00:33,  2.36s/it]"
     ]
    },
    {
     "name": "stdout",
     "output_type": "stream",
     "text": [
      "normalized pred locations loss 0.04753510281443596\n"
     ]
    },
    {
     "name": "stderr",
     "output_type": "stream",
     "text": [
      "Probe prediction step: 100%|██████████| 156/156 [00:02<00:00, 65.77it/s]\n",
      "Probe prediction epochs:  35%|███▌      | 7/20 [00:16<00:30,  2.37s/it]"
     ]
    },
    {
     "name": "stdout",
     "output_type": "stream",
     "text": [
      "normalized pred locations loss 0.05208192020654678\n"
     ]
    },
    {
     "name": "stderr",
     "output_type": "stream",
     "text": []
    },
    {
     "name": "stdout",
     "output_type": "stream",
     "text": [
      "normalized pred locations loss 0.057380467653274536\n"
     ]
    },
    {
     "name": "stderr",
     "output_type": "stream",
     "text": [
      "Probe prediction step: 100%|██████████| 156/156 [00:02<00:00, 65.36it/s]\n",
      "Probe prediction epochs:  40%|████      | 8/20 [00:18<00:28,  2.37s/it]"
     ]
    },
    {
     "name": "stdout",
     "output_type": "stream",
     "text": [
      "normalized pred locations loss 0.04069685935974121\n"
     ]
    },
    {
     "name": "stderr",
     "output_type": "stream",
     "text": [
      "Probe prediction step: 100%|██████████| 156/156 [00:02<00:00, 65.91it/s]\n",
      "Probe prediction epochs:  45%|████▌     | 9/20 [00:21<00:26,  2.37s/it]"
     ]
    },
    {
     "name": "stdout",
     "output_type": "stream",
     "text": [
      "normalized pred locations loss 0.06324310600757599\n"
     ]
    },
    {
     "name": "stderr",
     "output_type": "stream",
     "text": []
    },
    {
     "name": "stdout",
     "output_type": "stream",
     "text": [
      "normalized pred locations loss 0.03087588958442211\n"
     ]
    },
    {
     "name": "stderr",
     "output_type": "stream",
     "text": [
      "Probe prediction step: 100%|██████████| 156/156 [00:02<00:00, 66.61it/s]\n",
      "Probe prediction epochs:  50%|█████     | 10/20 [00:23<00:23,  2.36s/it]"
     ]
    },
    {
     "name": "stdout",
     "output_type": "stream",
     "text": [
      "normalized pred locations loss 0.04728852957487106\n"
     ]
    },
    {
     "name": "stderr",
     "output_type": "stream",
     "text": []
    },
    {
     "name": "stdout",
     "output_type": "stream",
     "text": [
      "normalized pred locations loss 0.031887322664260864\n"
     ]
    },
    {
     "name": "stderr",
     "output_type": "stream",
     "text": [
      "Probe prediction step: 100%|██████████| 156/156 [00:02<00:00, 67.07it/s]\n",
      "Probe prediction epochs:  55%|█████▌    | 11/20 [00:25<00:21,  2.35s/it]"
     ]
    },
    {
     "name": "stdout",
     "output_type": "stream",
     "text": [
      "normalized pred locations loss 0.04078087583184242\n"
     ]
    },
    {
     "name": "stderr",
     "output_type": "stream",
     "text": [
      "Probe prediction step: 100%|██████████| 156/156 [00:02<00:00, 67.04it/s]\n",
      "Probe prediction epochs:  60%|██████    | 12/20 [00:28<00:18,  2.35s/it]"
     ]
    },
    {
     "name": "stdout",
     "output_type": "stream",
     "text": [
      "normalized pred locations loss 0.031744226813316345\n"
     ]
    },
    {
     "name": "stderr",
     "output_type": "stream",
     "text": []
    },
    {
     "name": "stdout",
     "output_type": "stream",
     "text": [
      "normalized pred locations loss 0.03322982043027878\n"
     ]
    },
    {
     "name": "stderr",
     "output_type": "stream",
     "text": [
      "Probe prediction step: 100%|██████████| 156/156 [00:02<00:00, 67.16it/s]\n",
      "Probe prediction epochs:  65%|██████▌   | 13/20 [00:30<00:16,  2.34s/it]"
     ]
    },
    {
     "name": "stdout",
     "output_type": "stream",
     "text": [
      "normalized pred locations loss 0.04131370782852173\n"
     ]
    },
    {
     "name": "stderr",
     "output_type": "stream",
     "text": [
      "Probe prediction step: 100%|██████████| 156/156 [00:02<00:00, 67.06it/s]\n",
      "Probe prediction epochs:  70%|███████   | 14/20 [00:32<00:14,  2.34s/it]"
     ]
    },
    {
     "name": "stdout",
     "output_type": "stream",
     "text": [
      "normalized pred locations loss 0.04916258901357651\n"
     ]
    },
    {
     "name": "stderr",
     "output_type": "stream",
     "text": []
    },
    {
     "name": "stdout",
     "output_type": "stream",
     "text": [
      "normalized pred locations loss 0.057727642357349396\n"
     ]
    },
    {
     "name": "stderr",
     "output_type": "stream",
     "text": [
      "Probe prediction step: 100%|██████████| 156/156 [00:02<00:00, 66.29it/s]\n",
      "Probe prediction epochs:  75%|███████▌  | 15/20 [00:35<00:11,  2.34s/it]"
     ]
    },
    {
     "name": "stdout",
     "output_type": "stream",
     "text": [
      "normalized pred locations loss 0.03016722947359085\n"
     ]
    },
    {
     "name": "stderr",
     "output_type": "stream",
     "text": [
      "Probe prediction step: 100%|██████████| 156/156 [00:02<00:00, 66.19it/s]\n",
      "Probe prediction epochs:  80%|████████  | 16/20 [00:37<00:09,  2.35s/it]"
     ]
    },
    {
     "name": "stdout",
     "output_type": "stream",
     "text": [
      "normalized pred locations loss 0.03691316023468971\n"
     ]
    },
    {
     "name": "stderr",
     "output_type": "stream",
     "text": []
    },
    {
     "name": "stdout",
     "output_type": "stream",
     "text": [
      "normalized pred locations loss 0.033752068877220154\n"
     ]
    },
    {
     "name": "stderr",
     "output_type": "stream",
     "text": [
      "Probe prediction step: 100%|██████████| 156/156 [00:02<00:00, 67.31it/s]\n",
      "Probe prediction epochs:  85%|████████▌ | 17/20 [00:40<00:07,  2.34s/it]"
     ]
    },
    {
     "name": "stdout",
     "output_type": "stream",
     "text": [
      "normalized pred locations loss 0.04532919079065323\n"
     ]
    },
    {
     "name": "stderr",
     "output_type": "stream",
     "text": [
      "Probe prediction step: 100%|██████████| 156/156 [00:02<00:00, 66.50it/s]\n",
      "Probe prediction epochs:  90%|█████████ | 18/20 [00:42<00:04,  2.34s/it]"
     ]
    },
    {
     "name": "stdout",
     "output_type": "stream",
     "text": [
      "normalized pred locations loss 0.02293107472360134\n"
     ]
    },
    {
     "name": "stderr",
     "output_type": "stream",
     "text": []
    },
    {
     "name": "stdout",
     "output_type": "stream",
     "text": [
      "normalized pred locations loss 0.031723521649837494\n"
     ]
    },
    {
     "name": "stderr",
     "output_type": "stream",
     "text": [
      "Probe prediction step: 100%|██████████| 156/156 [00:02<00:00, 67.29it/s]\n",
      "Probe prediction epochs:  95%|█████████▌| 19/20 [00:44<00:02,  2.33s/it]"
     ]
    },
    {
     "name": "stdout",
     "output_type": "stream",
     "text": [
      "normalized pred locations loss 0.03360387310385704\n"
     ]
    },
    {
     "name": "stderr",
     "output_type": "stream",
     "text": []
    },
    {
     "name": "stdout",
     "output_type": "stream",
     "text": [
      "normalized pred locations loss 0.02406018227338791\n"
     ]
    },
    {
     "name": "stderr",
     "output_type": "stream",
     "text": [
      "Probe prediction step: 100%|██████████| 156/156 [00:02<00:00, 67.18it/s]\n",
      "Probe prediction epochs: 100%|██████████| 20/20 [00:47<00:00,  2.35s/it]\n",
      "Eval probe pred: 100%|██████████| 62/62 [00:00<00:00, 82.05it/s]\n",
      "Eval probe pred: 100%|██████████| 62/62 [00:00<00:00, 82.15it/s]\n"
     ]
    },
    {
     "name": "stdout",
     "output_type": "stream",
     "text": [
      "normal loss: 9.413141250610352\n",
      "wall loss: 13.63965892791748\n",
      "--------------------------------------------------------------------------------\n"
     ]
    },
    {
     "name": "stderr",
     "output_type": "stream",
     "text": [
      "Epoch 1/100: 100%|██████████| 1148/1148 [01:35<00:00, 12.00it/s, loss=550.7443, time/batch=0.060s, gpu_mem=2.1GB]\n"
     ]
    },
    {
     "name": "stdout",
     "output_type": "stream",
     "text": [
      "\n",
      "Epoch 1/100 Summary:\n",
      "Train Loss: 550.7443\n",
      "Component Losses:\n",
      "  total_loss: 550.7443\n",
      "  vicreg_sim_loss: 1.0924\n",
      "  vicreg_std_loss: 1.3119\n",
      "  vicreg_cov_loss: 3.9262\n",
      "  barlow_loss: 1037.4544\n",
      "Epoch Time: 95.6s\n",
      "Avg Batch Time: 0.060s\n",
      "GPU Memory: 1988MB\n"
     ]
    },
    {
     "name": "stderr",
     "output_type": "stream",
     "text": [
      "Probe prediction epochs:   0%|          | 0/20 [00:00<?, ?it/s]"
     ]
    },
    {
     "name": "stdout",
     "output_type": "stream",
     "text": [
      "normalized pred locations loss 1.0023376941680908\n"
     ]
    },
    {
     "name": "stderr",
     "output_type": "stream",
     "text": []
    },
    {
     "name": "stdout",
     "output_type": "stream",
     "text": [
      "normalized pred locations loss 0.31415143609046936\n"
     ]
    },
    {
     "name": "stderr",
     "output_type": "stream",
     "text": [
      "Probe prediction step: 100%|██████████| 156/156 [00:02<00:00, 65.68it/s]\n",
      "Probe prediction epochs:   5%|▌         | 1/20 [00:02<00:45,  2.38s/it]"
     ]
    },
    {
     "name": "stdout",
     "output_type": "stream",
     "text": [
      "normalized pred locations loss 0.1653321236371994\n"
     ]
    },
    {
     "name": "stderr",
     "output_type": "stream",
     "text": [
      "Probe prediction step: 100%|██████████| 156/156 [00:02<00:00, 63.62it/s]\n",
      "Probe prediction epochs:  10%|█         | 2/20 [00:04<00:43,  2.42s/it]"
     ]
    },
    {
     "name": "stdout",
     "output_type": "stream",
     "text": [
      "normalized pred locations loss 0.09025569260120392\n"
     ]
    },
    {
     "name": "stderr",
     "output_type": "stream",
     "text": []
    },
    {
     "name": "stdout",
     "output_type": "stream",
     "text": [
      "normalized pred locations loss 0.05110526829957962\n"
     ]
    },
    {
     "name": "stderr",
     "output_type": "stream",
     "text": [
      "Probe prediction step: 100%|██████████| 156/156 [00:02<00:00, 64.80it/s]\n",
      "Probe prediction epochs:  15%|█▌        | 3/20 [00:07<00:41,  2.42s/it]"
     ]
    },
    {
     "name": "stdout",
     "output_type": "stream",
     "text": [
      "normalized pred locations loss 0.04095038026571274\n"
     ]
    },
    {
     "name": "stderr",
     "output_type": "stream",
     "text": []
    },
    {
     "name": "stdout",
     "output_type": "stream",
     "text": [
      "normalized pred locations loss 0.03888165205717087\n"
     ]
    },
    {
     "name": "stderr",
     "output_type": "stream",
     "text": [
      "Probe prediction step: 100%|██████████| 156/156 [00:02<00:00, 64.79it/s]\n",
      "Probe prediction epochs:  20%|██        | 4/20 [00:09<00:38,  2.41s/it]"
     ]
    },
    {
     "name": "stdout",
     "output_type": "stream",
     "text": [
      "normalized pred locations loss 0.045417431741952896\n"
     ]
    },
    {
     "name": "stderr",
     "output_type": "stream",
     "text": [
      "Probe prediction step: 100%|██████████| 156/156 [00:02<00:00, 65.66it/s]\n",
      "Probe prediction epochs:  25%|██▌       | 5/20 [00:12<00:36,  2.40s/it]"
     ]
    },
    {
     "name": "stdout",
     "output_type": "stream",
     "text": [
      "normalized pred locations loss 0.032841939479112625\n"
     ]
    },
    {
     "name": "stderr",
     "output_type": "stream",
     "text": []
    },
    {
     "name": "stdout",
     "output_type": "stream",
     "text": [
      "normalized pred locations loss 0.03323875740170479\n"
     ]
    },
    {
     "name": "stderr",
     "output_type": "stream",
     "text": [
      "Probe prediction step: 100%|██████████| 156/156 [00:02<00:00, 61.98it/s]\n",
      "Probe prediction epochs:  30%|███       | 6/20 [00:14<00:34,  2.44s/it]"
     ]
    },
    {
     "name": "stdout",
     "output_type": "stream",
     "text": [
      "normalized pred locations loss 0.019496385008096695\n"
     ]
    },
    {
     "name": "stderr",
     "output_type": "stream",
     "text": [
      "Probe prediction step: 100%|██████████| 156/156 [00:02<00:00, 65.29it/s]\n",
      "Probe prediction epochs:  35%|███▌      | 7/20 [00:16<00:31,  2.42s/it]"
     ]
    },
    {
     "name": "stdout",
     "output_type": "stream",
     "text": [
      "normalized pred locations loss 0.023280518129467964\n"
     ]
    },
    {
     "name": "stderr",
     "output_type": "stream",
     "text": []
    },
    {
     "name": "stdout",
     "output_type": "stream",
     "text": [
      "normalized pred locations loss 0.03377694636583328\n"
     ]
    },
    {
     "name": "stderr",
     "output_type": "stream",
     "text": [
      "Probe prediction step: 100%|██████████| 156/156 [00:02<00:00, 66.28it/s]\n",
      "Probe prediction epochs:  40%|████      | 8/20 [00:19<00:28,  2.40s/it]"
     ]
    },
    {
     "name": "stdout",
     "output_type": "stream",
     "text": [
      "normalized pred locations loss 0.02455635741353035\n"
     ]
    },
    {
     "name": "stderr",
     "output_type": "stream",
     "text": [
      "Probe prediction step: 100%|██████████| 156/156 [00:02<00:00, 65.82it/s]\n",
      "Probe prediction epochs:  45%|████▌     | 9/20 [00:21<00:26,  2.39s/it]"
     ]
    },
    {
     "name": "stdout",
     "output_type": "stream",
     "text": [
      "normalized pred locations loss 0.022906474769115448\n"
     ]
    },
    {
     "name": "stderr",
     "output_type": "stream",
     "text": []
    },
    {
     "name": "stdout",
     "output_type": "stream",
     "text": [
      "normalized pred locations loss 0.019477728754281998\n"
     ]
    },
    {
     "name": "stderr",
     "output_type": "stream",
     "text": [
      "Probe prediction step: 100%|██████████| 156/156 [00:02<00:00, 66.01it/s]\n",
      "Probe prediction epochs:  50%|█████     | 10/20 [00:24<00:23,  2.38s/it]"
     ]
    },
    {
     "name": "stdout",
     "output_type": "stream",
     "text": [
      "normalized pred locations loss 0.02501334622502327\n"
     ]
    },
    {
     "name": "stderr",
     "output_type": "stream",
     "text": []
    },
    {
     "name": "stdout",
     "output_type": "stream",
     "text": [
      "normalized pred locations loss 0.018419766798615456\n"
     ]
    },
    {
     "name": "stderr",
     "output_type": "stream",
     "text": [
      "Probe prediction step: 100%|██████████| 156/156 [00:02<00:00, 64.84it/s]\n",
      "Probe prediction epochs:  55%|█████▌    | 11/20 [00:26<00:21,  2.39s/it]"
     ]
    },
    {
     "name": "stdout",
     "output_type": "stream",
     "text": [
      "normalized pred locations loss 0.02357698231935501\n"
     ]
    },
    {
     "name": "stderr",
     "output_type": "stream",
     "text": [
      "Probe prediction step: 100%|██████████| 156/156 [00:02<00:00, 64.79it/s]\n",
      "Probe prediction epochs:  60%|██████    | 12/20 [00:28<00:19,  2.40s/it]"
     ]
    },
    {
     "name": "stdout",
     "output_type": "stream",
     "text": [
      "normalized pred locations loss 0.02113538421690464\n"
     ]
    },
    {
     "name": "stderr",
     "output_type": "stream",
     "text": []
    },
    {
     "name": "stdout",
     "output_type": "stream",
     "text": [
      "normalized pred locations loss 0.014344219118356705\n"
     ]
    },
    {
     "name": "stderr",
     "output_type": "stream",
     "text": [
      "Probe prediction step: 100%|██████████| 156/156 [00:02<00:00, 65.24it/s]\n",
      "Probe prediction epochs:  65%|██████▌   | 13/20 [00:31<00:16,  2.40s/it]"
     ]
    },
    {
     "name": "stdout",
     "output_type": "stream",
     "text": [
      "normalized pred locations loss 0.025809047743678093\n"
     ]
    },
    {
     "name": "stderr",
     "output_type": "stream",
     "text": [
      "Probe prediction step: 100%|██████████| 156/156 [00:02<00:00, 64.93it/s]\n",
      "Probe prediction epochs:  70%|███████   | 14/20 [00:33<00:14,  2.40s/it]"
     ]
    },
    {
     "name": "stdout",
     "output_type": "stream",
     "text": [
      "normalized pred locations loss 0.019979365170001984\n"
     ]
    },
    {
     "name": "stderr",
     "output_type": "stream",
     "text": []
    },
    {
     "name": "stdout",
     "output_type": "stream",
     "text": [
      "normalized pred locations loss 0.030396517366170883\n"
     ]
    },
    {
     "name": "stderr",
     "output_type": "stream",
     "text": [
      "Probe prediction step: 100%|██████████| 156/156 [00:02<00:00, 66.35it/s]\n",
      "Probe prediction epochs:  75%|███████▌  | 15/20 [00:35<00:11,  2.38s/it]"
     ]
    },
    {
     "name": "stdout",
     "output_type": "stream",
     "text": [
      "normalized pred locations loss 0.025969764217734337\n"
     ]
    },
    {
     "name": "stderr",
     "output_type": "stream",
     "text": [
      "Probe prediction step: 100%|██████████| 156/156 [00:02<00:00, 66.23it/s]\n",
      "Probe prediction epochs:  80%|████████  | 16/20 [00:38<00:09,  2.38s/it]"
     ]
    },
    {
     "name": "stdout",
     "output_type": "stream",
     "text": [
      "normalized pred locations loss 0.019981272518634796\n"
     ]
    },
    {
     "name": "stderr",
     "output_type": "stream",
     "text": []
    },
    {
     "name": "stdout",
     "output_type": "stream",
     "text": [
      "normalized pred locations loss 0.01695307157933712\n"
     ]
    },
    {
     "name": "stderr",
     "output_type": "stream",
     "text": [
      "Probe prediction step: 100%|██████████| 156/156 [00:02<00:00, 64.32it/s]\n",
      "Probe prediction epochs:  85%|████████▌ | 17/20 [00:40<00:07,  2.39s/it]"
     ]
    },
    {
     "name": "stdout",
     "output_type": "stream",
     "text": [
      "normalized pred locations loss 0.025704383850097656\n"
     ]
    },
    {
     "name": "stderr",
     "output_type": "stream",
     "text": [
      "Probe prediction step: 100%|██████████| 156/156 [00:02<00:00, 66.56it/s]\n",
      "Probe prediction epochs:  90%|█████████ | 18/20 [00:43<00:04,  2.38s/it]"
     ]
    },
    {
     "name": "stdout",
     "output_type": "stream",
     "text": [
      "normalized pred locations loss 0.011587917804718018\n"
     ]
    },
    {
     "name": "stderr",
     "output_type": "stream",
     "text": []
    },
    {
     "name": "stdout",
     "output_type": "stream",
     "text": [
      "normalized pred locations loss 0.01435818150639534\n"
     ]
    },
    {
     "name": "stderr",
     "output_type": "stream",
     "text": [
      "Probe prediction step: 100%|██████████| 156/156 [00:02<00:00, 66.10it/s]\n",
      "Probe prediction epochs:  95%|█████████▌| 19/20 [00:45<00:02,  2.37s/it]"
     ]
    },
    {
     "name": "stdout",
     "output_type": "stream",
     "text": [
      "normalized pred locations loss 0.0150483762845397\n"
     ]
    },
    {
     "name": "stderr",
     "output_type": "stream",
     "text": []
    },
    {
     "name": "stdout",
     "output_type": "stream",
     "text": [
      "normalized pred locations loss 0.023518946021795273\n"
     ]
    },
    {
     "name": "stderr",
     "output_type": "stream",
     "text": [
      "Probe prediction step: 100%|██████████| 156/156 [00:02<00:00, 66.41it/s]\n",
      "Probe prediction epochs: 100%|██████████| 20/20 [00:47<00:00,  2.39s/it]\n",
      "Eval probe pred: 100%|██████████| 62/62 [00:00<00:00, 80.90it/s]\n",
      "Eval probe pred: 100%|██████████| 62/62 [00:00<00:00, 81.79it/s]\n"
     ]
    },
    {
     "name": "stdout",
     "output_type": "stream",
     "text": [
      "normal loss: 5.6003031730651855\n",
      "wall loss: 9.006675720214844\n",
      "--------------------------------------------------------------------------------\n"
     ]
    },
    {
     "name": "stderr",
     "output_type": "stream",
     "text": [
      "Epoch 2/100: 100%|██████████| 1148/1148 [01:35<00:00, 12.05it/s, loss=477.1179, time/batch=0.060s, gpu_mem=2.1GB]\n"
     ]
    },
    {
     "name": "stdout",
     "output_type": "stream",
     "text": [
      "\n",
      "Epoch 2/100 Summary:\n",
      "Train Loss: 477.1179\n",
      "Component Losses:\n",
      "  total_loss: 477.1179\n",
      "  vicreg_sim_loss: 0.8151\n",
      "  vicreg_std_loss: 1.2941\n",
      "  vicreg_cov_loss: 3.8491\n",
      "  barlow_loss: 897.6561\n",
      "Epoch Time: 95.3s\n",
      "Avg Batch Time: 0.060s\n",
      "GPU Memory: 1988MB\n"
     ]
    },
    {
     "name": "stderr",
     "output_type": "stream",
     "text": [
      "Probe prediction epochs:   0%|          | 0/20 [00:00<?, ?it/s]"
     ]
    },
    {
     "name": "stdout",
     "output_type": "stream",
     "text": [
      "normalized pred locations loss 0.9230179190635681\n"
     ]
    },
    {
     "name": "stderr",
     "output_type": "stream",
     "text": []
    },
    {
     "name": "stdout",
     "output_type": "stream",
     "text": [
      "normalized pred locations loss 0.32507023215293884\n"
     ]
    },
    {
     "name": "stderr",
     "output_type": "stream",
     "text": [
      "Probe prediction step: 100%|██████████| 156/156 [00:02<00:00, 66.87it/s]\n",
      "Probe prediction epochs:   5%|▌         | 1/20 [00:02<00:44,  2.33s/it]"
     ]
    },
    {
     "name": "stdout",
     "output_type": "stream",
     "text": [
      "normalized pred locations loss 0.1248072013258934\n"
     ]
    },
    {
     "name": "stderr",
     "output_type": "stream",
     "text": [
      "Probe prediction step: 100%|██████████| 156/156 [00:02<00:00, 66.61it/s]\n",
      "Probe prediction epochs:  10%|█         | 2/20 [00:04<00:42,  2.34s/it]"
     ]
    },
    {
     "name": "stdout",
     "output_type": "stream",
     "text": [
      "normalized pred locations loss 0.06462077796459198\n"
     ]
    },
    {
     "name": "stderr",
     "output_type": "stream",
     "text": []
    },
    {
     "name": "stdout",
     "output_type": "stream",
     "text": [
      "normalized pred locations loss 0.049397021532058716\n"
     ]
    },
    {
     "name": "stderr",
     "output_type": "stream",
     "text": [
      "Probe prediction step: 100%|██████████| 156/156 [00:02<00:00, 66.91it/s]\n",
      "Probe prediction epochs:  15%|█▌        | 3/20 [00:07<00:39,  2.34s/it]"
     ]
    },
    {
     "name": "stdout",
     "output_type": "stream",
     "text": [
      "normalized pred locations loss 0.030735857784748077\n"
     ]
    },
    {
     "name": "stderr",
     "output_type": "stream",
     "text": []
    },
    {
     "name": "stdout",
     "output_type": "stream",
     "text": [
      "normalized pred locations loss 0.0426497608423233\n"
     ]
    },
    {
     "name": "stderr",
     "output_type": "stream",
     "text": [
      "Probe prediction step: 100%|██████████| 156/156 [00:02<00:00, 65.43it/s]\n",
      "Probe prediction epochs:  20%|██        | 4/20 [00:09<00:37,  2.36s/it]"
     ]
    },
    {
     "name": "stdout",
     "output_type": "stream",
     "text": [
      "normalized pred locations loss 0.03147435560822487\n"
     ]
    },
    {
     "name": "stderr",
     "output_type": "stream",
     "text": [
      "Probe prediction step: 100%|██████████| 156/156 [00:02<00:00, 65.24it/s]\n",
      "Probe prediction epochs:  25%|██▌       | 5/20 [00:11<00:35,  2.37s/it]"
     ]
    },
    {
     "name": "stdout",
     "output_type": "stream",
     "text": [
      "normalized pred locations loss 0.028577011078596115\n"
     ]
    },
    {
     "name": "stderr",
     "output_type": "stream",
     "text": []
    },
    {
     "name": "stdout",
     "output_type": "stream",
     "text": [
      "normalized pred locations loss 0.0260672178119421\n"
     ]
    },
    {
     "name": "stderr",
     "output_type": "stream",
     "text": [
      "Probe prediction step: 100%|██████████| 156/156 [00:02<00:00, 65.25it/s]\n",
      "Probe prediction epochs:  30%|███       | 6/20 [00:14<00:33,  2.38s/it]"
     ]
    },
    {
     "name": "stdout",
     "output_type": "stream",
     "text": [
      "normalized pred locations loss 0.024219505488872528\n"
     ]
    },
    {
     "name": "stderr",
     "output_type": "stream",
     "text": [
      "Probe prediction step: 100%|██████████| 156/156 [00:02<00:00, 65.03it/s]\n",
      "Probe prediction epochs:  35%|███▌      | 7/20 [00:16<00:31,  2.39s/it]"
     ]
    },
    {
     "name": "stdout",
     "output_type": "stream",
     "text": [
      "normalized pred locations loss 0.02350440062582493\n"
     ]
    },
    {
     "name": "stderr",
     "output_type": "stream",
     "text": []
    },
    {
     "name": "stdout",
     "output_type": "stream",
     "text": [
      "normalized pred locations loss 0.02099692076444626\n"
     ]
    },
    {
     "name": "stderr",
     "output_type": "stream",
     "text": [
      "Probe prediction step: 100%|██████████| 156/156 [00:02<00:00, 65.03it/s]\n",
      "Probe prediction epochs:  40%|████      | 8/20 [00:18<00:28,  2.39s/it]"
     ]
    },
    {
     "name": "stdout",
     "output_type": "stream",
     "text": [
      "normalized pred locations loss 0.025054344907402992\n"
     ]
    },
    {
     "name": "stderr",
     "output_type": "stream",
     "text": [
      "Probe prediction step: 100%|██████████| 156/156 [00:02<00:00, 65.13it/s]\n",
      "Probe prediction epochs:  45%|████▌     | 9/20 [00:21<00:26,  2.39s/it]"
     ]
    },
    {
     "name": "stdout",
     "output_type": "stream",
     "text": [
      "normalized pred locations loss 0.018244845792651176\n"
     ]
    },
    {
     "name": "stderr",
     "output_type": "stream",
     "text": []
    },
    {
     "name": "stdout",
     "output_type": "stream",
     "text": [
      "normalized pred locations loss 0.017944006249308586\n"
     ]
    },
    {
     "name": "stderr",
     "output_type": "stream",
     "text": [
      "Probe prediction step: 100%|██████████| 156/156 [00:02<00:00, 65.94it/s]\n",
      "Probe prediction epochs:  50%|█████     | 10/20 [00:23<00:23,  2.38s/it]"
     ]
    },
    {
     "name": "stdout",
     "output_type": "stream",
     "text": [
      "normalized pred locations loss 0.021033311262726784\n"
     ]
    },
    {
     "name": "stderr",
     "output_type": "stream",
     "text": []
    },
    {
     "name": "stdout",
     "output_type": "stream",
     "text": [
      "normalized pred locations loss 0.01874559558928013\n"
     ]
    },
    {
     "name": "stderr",
     "output_type": "stream",
     "text": [
      "Probe prediction step: 100%|██████████| 156/156 [00:02<00:00, 66.26it/s]\n",
      "Probe prediction epochs:  55%|█████▌    | 11/20 [00:26<00:21,  2.38s/it]"
     ]
    },
    {
     "name": "stdout",
     "output_type": "stream",
     "text": [
      "normalized pred locations loss 0.023098798468708992\n"
     ]
    },
    {
     "name": "stderr",
     "output_type": "stream",
     "text": [
      "Probe prediction step: 100%|██████████| 156/156 [00:02<00:00, 66.67it/s]\n",
      "Probe prediction epochs:  60%|██████    | 12/20 [00:28<00:18,  2.37s/it]"
     ]
    },
    {
     "name": "stdout",
     "output_type": "stream",
     "text": [
      "normalized pred locations loss 0.016276801005005836\n"
     ]
    },
    {
     "name": "stderr",
     "output_type": "stream",
     "text": []
    },
    {
     "name": "stdout",
     "output_type": "stream",
     "text": [
      "normalized pred locations loss 0.020195569843053818\n"
     ]
    },
    {
     "name": "stderr",
     "output_type": "stream",
     "text": [
      "Probe prediction step: 100%|██████████| 156/156 [00:02<00:00, 66.79it/s]\n",
      "Probe prediction epochs:  65%|██████▌   | 13/20 [00:30<00:16,  2.36s/it]"
     ]
    },
    {
     "name": "stdout",
     "output_type": "stream",
     "text": [
      "normalized pred locations loss 0.013011409901082516\n"
     ]
    },
    {
     "name": "stderr",
     "output_type": "stream",
     "text": [
      "Probe prediction step: 100%|██████████| 156/156 [00:02<00:00, 66.19it/s]\n",
      "Probe prediction epochs:  70%|███████   | 14/20 [00:33<00:14,  2.36s/it]"
     ]
    },
    {
     "name": "stdout",
     "output_type": "stream",
     "text": [
      "normalized pred locations loss 0.015155903063714504\n"
     ]
    },
    {
     "name": "stderr",
     "output_type": "stream",
     "text": []
    },
    {
     "name": "stdout",
     "output_type": "stream",
     "text": [
      "normalized pred locations loss 0.01861622929573059\n"
     ]
    },
    {
     "name": "stderr",
     "output_type": "stream",
     "text": [
      "Probe prediction step: 100%|██████████| 156/156 [00:02<00:00, 65.32it/s]\n",
      "Probe prediction epochs:  75%|███████▌  | 15/20 [00:35<00:11,  2.37s/it]"
     ]
    },
    {
     "name": "stdout",
     "output_type": "stream",
     "text": [
      "normalized pred locations loss 0.014905309304594994\n"
     ]
    },
    {
     "name": "stderr",
     "output_type": "stream",
     "text": [
      "Probe prediction step: 100%|██████████| 156/156 [00:02<00:00, 66.83it/s]\n",
      "Probe prediction epochs:  80%|████████  | 16/20 [00:37<00:09,  2.36s/it]"
     ]
    },
    {
     "name": "stdout",
     "output_type": "stream",
     "text": [
      "normalized pred locations loss 0.010338465683162212\n"
     ]
    },
    {
     "name": "stderr",
     "output_type": "stream",
     "text": []
    },
    {
     "name": "stdout",
     "output_type": "stream",
     "text": [
      "normalized pred locations loss 0.013317218981683254\n"
     ]
    },
    {
     "name": "stderr",
     "output_type": "stream",
     "text": [
      "Probe prediction step: 100%|██████████| 156/156 [00:02<00:00, 66.30it/s]\n",
      "Probe prediction epochs:  85%|████████▌ | 17/20 [00:40<00:07,  2.36s/it]"
     ]
    },
    {
     "name": "stdout",
     "output_type": "stream",
     "text": [
      "normalized pred locations loss 0.012805543839931488\n"
     ]
    },
    {
     "name": "stderr",
     "output_type": "stream",
     "text": [
      "Probe prediction step: 100%|██████████| 156/156 [00:02<00:00, 64.87it/s]\n",
      "Probe prediction epochs:  90%|█████████ | 18/20 [00:42<00:04,  2.37s/it]"
     ]
    },
    {
     "name": "stdout",
     "output_type": "stream",
     "text": [
      "normalized pred locations loss 0.011336009949445724\n"
     ]
    },
    {
     "name": "stderr",
     "output_type": "stream",
     "text": []
    },
    {
     "name": "stdout",
     "output_type": "stream",
     "text": [
      "normalized pred locations loss 0.02412687987089157\n"
     ]
    },
    {
     "name": "stderr",
     "output_type": "stream",
     "text": [
      "Probe prediction step: 100%|██████████| 156/156 [00:02<00:00, 65.08it/s]\n",
      "Probe prediction epochs:  95%|█████████▌| 19/20 [00:45<00:02,  2.38s/it]"
     ]
    },
    {
     "name": "stdout",
     "output_type": "stream",
     "text": [
      "normalized pred locations loss 0.014533217996358871\n"
     ]
    },
    {
     "name": "stderr",
     "output_type": "stream",
     "text": []
    },
    {
     "name": "stdout",
     "output_type": "stream",
     "text": [
      "normalized pred locations loss 0.014635167084634304\n"
     ]
    },
    {
     "name": "stderr",
     "output_type": "stream",
     "text": [
      "Probe prediction step: 100%|██████████| 156/156 [00:02<00:00, 65.20it/s]\n",
      "Probe prediction epochs: 100%|██████████| 20/20 [00:47<00:00,  2.37s/it]\n",
      "Eval probe pred: 100%|██████████| 62/62 [00:00<00:00, 81.87it/s]\n",
      "Eval probe pred: 100%|██████████| 62/62 [00:00<00:00, 81.90it/s]\n"
     ]
    },
    {
     "name": "stdout",
     "output_type": "stream",
     "text": [
      "normal loss: 5.108015060424805\n",
      "wall loss: 9.598150253295898\n",
      "--------------------------------------------------------------------------------\n"
     ]
    },
    {
     "name": "stderr",
     "output_type": "stream",
     "text": [
      "Epoch 3/100: 100%|██████████| 1148/1148 [01:35<00:00, 12.05it/s, loss=422.8223, time/batch=0.060s, gpu_mem=2.1GB]\n"
     ]
    },
    {
     "name": "stdout",
     "output_type": "stream",
     "text": [
      "\n",
      "Epoch 3/100 Summary:\n",
      "Train Loss: 422.8223\n",
      "Component Losses:\n",
      "  total_loss: 422.8223\n",
      "  vicreg_sim_loss: 0.6356\n",
      "  vicreg_std_loss: 1.2585\n",
      "  vicreg_cov_loss: 4.0150\n",
      "  barlow_loss: 794.2782\n",
      "Epoch Time: 95.2s\n",
      "Avg Batch Time: 0.060s\n",
      "GPU Memory: 1988MB\n"
     ]
    },
    {
     "name": "stderr",
     "output_type": "stream",
     "text": [
      "Probe prediction epochs:   0%|          | 0/20 [00:00<?, ?it/s]"
     ]
    },
    {
     "name": "stdout",
     "output_type": "stream",
     "text": [
      "normalized pred locations loss 1.0278675556182861\n"
     ]
    },
    {
     "name": "stderr",
     "output_type": "stream",
     "text": []
    },
    {
     "name": "stdout",
     "output_type": "stream",
     "text": [
      "normalized pred locations loss 0.2906845211982727\n"
     ]
    },
    {
     "name": "stderr",
     "output_type": "stream",
     "text": [
      "Probe prediction step: 100%|██████████| 156/156 [00:02<00:00, 66.40it/s]\n",
      "Probe prediction epochs:   5%|▌         | 1/20 [00:02<00:44,  2.35s/it]"
     ]
    },
    {
     "name": "stdout",
     "output_type": "stream",
     "text": [
      "normalized pred locations loss 0.09027080237865448\n"
     ]
    },
    {
     "name": "stderr",
     "output_type": "stream",
     "text": [
      "Probe prediction step: 100%|██████████| 156/156 [00:02<00:00, 64.09it/s]\n",
      "Probe prediction epochs:  10%|█         | 2/20 [00:04<00:43,  2.40s/it]"
     ]
    },
    {
     "name": "stdout",
     "output_type": "stream",
     "text": [
      "normalized pred locations loss 0.07862785458564758\n"
     ]
    },
    {
     "name": "stderr",
     "output_type": "stream",
     "text": []
    },
    {
     "name": "stdout",
     "output_type": "stream",
     "text": [
      "normalized pred locations loss 0.04771977663040161\n"
     ]
    },
    {
     "name": "stderr",
     "output_type": "stream",
     "text": [
      "Probe prediction step: 100%|██████████| 156/156 [00:02<00:00, 66.41it/s]\n",
      "Probe prediction epochs:  15%|█▌        | 3/20 [00:07<00:40,  2.38s/it]"
     ]
    },
    {
     "name": "stdout",
     "output_type": "stream",
     "text": [
      "normalized pred locations loss 0.051902759820222855\n"
     ]
    },
    {
     "name": "stderr",
     "output_type": "stream",
     "text": []
    },
    {
     "name": "stdout",
     "output_type": "stream",
     "text": [
      "normalized pred locations loss 0.04585621505975723\n"
     ]
    },
    {
     "name": "stderr",
     "output_type": "stream",
     "text": [
      "Probe prediction step: 100%|██████████| 156/156 [00:02<00:00, 66.19it/s]\n",
      "Probe prediction epochs:  20%|██        | 4/20 [00:09<00:37,  2.37s/it]"
     ]
    },
    {
     "name": "stdout",
     "output_type": "stream",
     "text": [
      "normalized pred locations loss 0.03556545451283455\n"
     ]
    },
    {
     "name": "stderr",
     "output_type": "stream",
     "text": [
      "Probe prediction step: 100%|██████████| 156/156 [00:02<00:00, 66.40it/s]\n",
      "Probe prediction epochs:  25%|██▌       | 5/20 [00:11<00:35,  2.36s/it]"
     ]
    },
    {
     "name": "stdout",
     "output_type": "stream",
     "text": [
      "normalized pred locations loss 0.027025381103157997\n"
     ]
    },
    {
     "name": "stderr",
     "output_type": "stream",
     "text": []
    },
    {
     "name": "stdout",
     "output_type": "stream",
     "text": [
      "normalized pred locations loss 0.025769881904125214\n"
     ]
    },
    {
     "name": "stderr",
     "output_type": "stream",
     "text": [
      "Probe prediction step: 100%|██████████| 156/156 [00:02<00:00, 66.72it/s]\n",
      "Probe prediction epochs:  30%|███       | 6/20 [00:14<00:32,  2.36s/it]"
     ]
    },
    {
     "name": "stdout",
     "output_type": "stream",
     "text": [
      "normalized pred locations loss 0.027306167408823967\n"
     ]
    },
    {
     "name": "stderr",
     "output_type": "stream",
     "text": [
      "Probe prediction step: 100%|██████████| 156/156 [00:02<00:00, 66.75it/s]\n",
      "Probe prediction epochs:  35%|███▌      | 7/20 [00:16<00:30,  2.35s/it]"
     ]
    },
    {
     "name": "stdout",
     "output_type": "stream",
     "text": [
      "normalized pred locations loss 0.023149756714701653\n"
     ]
    },
    {
     "name": "stderr",
     "output_type": "stream",
     "text": []
    },
    {
     "name": "stdout",
     "output_type": "stream",
     "text": [
      "normalized pred locations loss 0.025721168145537376\n"
     ]
    },
    {
     "name": "stderr",
     "output_type": "stream",
     "text": [
      "Probe prediction step: 100%|██████████| 156/156 [00:02<00:00, 66.70it/s]\n",
      "Probe prediction epochs:  40%|████      | 8/20 [00:18<00:28,  2.35s/it]"
     ]
    },
    {
     "name": "stdout",
     "output_type": "stream",
     "text": [
      "normalized pred locations loss 0.01777808554470539\n"
     ]
    },
    {
     "name": "stderr",
     "output_type": "stream",
     "text": [
      "Probe prediction step: 100%|██████████| 156/156 [00:02<00:00, 52.85it/s]\n",
      "Probe prediction epochs:  45%|████▌     | 9/20 [00:21<00:27,  2.54s/it]"
     ]
    },
    {
     "name": "stdout",
     "output_type": "stream",
     "text": [
      "normalized pred locations loss 0.019694821909070015\n"
     ]
    },
    {
     "name": "stderr",
     "output_type": "stream",
     "text": []
    },
    {
     "name": "stdout",
     "output_type": "stream",
     "text": [
      "normalized pred locations loss 0.01640874333679676\n"
     ]
    },
    {
     "name": "stderr",
     "output_type": "stream",
     "text": [
      "Probe prediction step: 100%|██████████| 156/156 [00:07<00:00, 19.53it/s]\n",
      "Probe prediction epochs:  50%|█████     | 10/20 [00:29<00:42,  4.22s/it]"
     ]
    },
    {
     "name": "stdout",
     "output_type": "stream",
     "text": [
      "normalized pred locations loss 0.013118133880198002\n"
     ]
    },
    {
     "name": "stderr",
     "output_type": "stream",
     "text": []
    },
    {
     "name": "stdout",
     "output_type": "stream",
     "text": [
      "normalized pred locations loss 0.024187440052628517\n"
     ]
    },
    {
     "name": "stderr",
     "output_type": "stream",
     "text": [
      "Probe prediction step: 100%|██████████| 156/156 [00:08<00:00, 18.47it/s]\n",
      "Probe prediction epochs:  55%|█████▌    | 11/20 [00:38<00:49,  5.51s/it]"
     ]
    },
    {
     "name": "stdout",
     "output_type": "stream",
     "text": [
      "normalized pred locations loss 0.01482419017702341\n"
     ]
    },
    {
     "name": "stderr",
     "output_type": "stream",
     "text": [
      "Probe prediction step: 100%|██████████| 156/156 [00:08<00:00, 18.69it/s]\n",
      "Probe prediction epochs:  60%|██████    | 12/20 [00:46<00:51,  6.38s/it]"
     ]
    },
    {
     "name": "stdout",
     "output_type": "stream",
     "text": [
      "normalized pred locations loss 0.013843890279531479\n"
     ]
    },
    {
     "name": "stderr",
     "output_type": "stream",
     "text": []
    },
    {
     "name": "stdout",
     "output_type": "stream",
     "text": [
      "normalized pred locations loss 0.011777295731008053\n"
     ]
    },
    {
     "name": "stderr",
     "output_type": "stream",
     "text": [
      "Probe prediction step: 100%|██████████| 156/156 [00:08<00:00, 18.34it/s]\n",
      "Probe prediction epochs:  65%|██████▌   | 13/20 [00:55<00:49,  7.02s/it]"
     ]
    },
    {
     "name": "stdout",
     "output_type": "stream",
     "text": [
      "normalized pred locations loss 0.014471795409917831\n"
     ]
    },
    {
     "name": "stderr",
     "output_type": "stream",
     "text": [
      "Probe prediction step: 100%|██████████| 156/156 [00:08<00:00, 18.30it/s]\n",
      "Probe prediction epochs:  70%|███████   | 14/20 [01:03<00:44,  7.48s/it]"
     ]
    },
    {
     "name": "stdout",
     "output_type": "stream",
     "text": [
      "normalized pred locations loss 0.01123635470867157\n"
     ]
    },
    {
     "name": "stderr",
     "output_type": "stream",
     "text": []
    },
    {
     "name": "stdout",
     "output_type": "stream",
     "text": [
      "normalized pred locations loss 0.010566522367298603\n"
     ]
    },
    {
     "name": "stderr",
     "output_type": "stream",
     "text": [
      "Probe prediction step: 100%|██████████| 156/156 [00:08<00:00, 18.50it/s]\n",
      "Probe prediction epochs:  75%|███████▌  | 15/20 [01:12<00:38,  7.77s/it]"
     ]
    },
    {
     "name": "stdout",
     "output_type": "stream",
     "text": [
      "normalized pred locations loss 0.02067713811993599\n"
     ]
    },
    {
     "name": "stderr",
     "output_type": "stream",
     "text": [
      "Probe prediction step: 100%|██████████| 156/156 [00:08<00:00, 18.43it/s]\n",
      "Probe prediction epochs:  80%|████████  | 16/20 [01:20<00:31,  7.98s/it]"
     ]
    },
    {
     "name": "stdout",
     "output_type": "stream",
     "text": [
      "normalized pred locations loss 0.011646684259176254\n"
     ]
    },
    {
     "name": "stderr",
     "output_type": "stream",
     "text": []
    },
    {
     "name": "stdout",
     "output_type": "stream",
     "text": [
      "normalized pred locations loss 0.020898059010505676\n"
     ]
    },
    {
     "name": "stderr",
     "output_type": "stream",
     "text": [
      "Probe prediction step: 100%|██████████| 156/156 [00:08<00:00, 18.39it/s]\n",
      "Probe prediction epochs:  85%|████████▌ | 17/20 [01:29<00:24,  8.13s/it]"
     ]
    },
    {
     "name": "stdout",
     "output_type": "stream",
     "text": [
      "normalized pred locations loss 0.013456928543746471\n"
     ]
    },
    {
     "name": "stderr",
     "output_type": "stream",
     "text": []
    },
    {
     "name": "stdout",
     "output_type": "stream",
     "text": [
      "normalized pred locations loss 0.014427107758820057\n"
     ]
    },
    {
     "name": "stderr",
     "output_type": "stream",
     "text": [
      "Probe prediction step: 100%|██████████| 156/156 [00:08<00:00, 18.59it/s]\n",
      "Probe prediction epochs:  90%|█████████ | 18/20 [01:37<00:16,  8.21s/it]"
     ]
    },
    {
     "name": "stdout",
     "output_type": "stream",
     "text": [
      "normalized pred locations loss 0.01452112477272749\n"
     ]
    },
    {
     "name": "stderr",
     "output_type": "stream",
     "text": [
      "Probe prediction step: 100%|██████████| 156/156 [00:08<00:00, 18.24it/s]\n",
      "Probe prediction epochs:  95%|█████████▌| 19/20 [01:45<00:08,  8.31s/it]"
     ]
    },
    {
     "name": "stdout",
     "output_type": "stream",
     "text": [
      "normalized pred locations loss 0.01448891032487154\n"
     ]
    },
    {
     "name": "stderr",
     "output_type": "stream",
     "text": []
    },
    {
     "name": "stdout",
     "output_type": "stream",
     "text": [
      "normalized pred locations loss 0.012343911454081535\n"
     ]
    },
    {
     "name": "stderr",
     "output_type": "stream",
     "text": [
      "Probe prediction step: 100%|██████████| 156/156 [00:08<00:00, 18.23it/s]\n",
      "Probe prediction epochs: 100%|██████████| 20/20 [01:54<00:00,  5.73s/it]\n",
      "Eval probe pred: 100%|██████████| 62/62 [00:02<00:00, 22.72it/s]\n",
      "Eval probe pred: 100%|██████████| 62/62 [00:02<00:00, 22.72it/s]\n"
     ]
    },
    {
     "name": "stdout",
     "output_type": "stream",
     "text": [
      "normal loss: 5.2224931716918945\n",
      "wall loss: 9.587729454040527\n",
      "--------------------------------------------------------------------------------\n"
     ]
    },
    {
     "name": "stderr",
     "output_type": "stream",
     "text": [
      "Epoch 4/100: 100%|██████████| 1148/1148 [02:46<00:00,  6.88it/s, loss=387.3064, time/batch=0.081s, gpu_mem=2.1GB]\n"
     ]
    },
    {
     "name": "stdout",
     "output_type": "stream",
     "text": [
      "\n",
      "Epoch 4/100 Summary:\n",
      "Train Loss: 387.3064\n",
      "Component Losses:\n",
      "  total_loss: 387.3064\n",
      "  vicreg_sim_loss: 0.5763\n",
      "  vicreg_std_loss: 1.2355\n",
      "  vicreg_cov_loss: 4.1255\n",
      "  barlow_loss: 725.1944\n",
      "Epoch Time: 166.9s\n",
      "Avg Batch Time: 0.081s\n",
      "GPU Memory: 1988MB\n"
     ]
    },
    {
     "name": "stderr",
     "output_type": "stream",
     "text": [
      "Probe prediction epochs:   0%|          | 0/20 [00:00<?, ?it/s]"
     ]
    },
    {
     "name": "stdout",
     "output_type": "stream",
     "text": [
      "normalized pred locations loss 0.9910621643066406\n"
     ]
    },
    {
     "name": "stderr",
     "output_type": "stream",
     "text": []
    },
    {
     "name": "stdout",
     "output_type": "stream",
     "text": [
      "normalized pred locations loss 0.29826024174690247\n"
     ]
    },
    {
     "name": "stderr",
     "output_type": "stream",
     "text": [
      "Probe prediction step: 100%|██████████| 156/156 [00:15<00:00, 10.15it/s]\n",
      "Probe prediction epochs:   5%|▌         | 1/20 [00:15<04:52, 15.38s/it]"
     ]
    },
    {
     "name": "stdout",
     "output_type": "stream",
     "text": [
      "normalized pred locations loss 0.10168688744306564\n"
     ]
    },
    {
     "name": "stderr",
     "output_type": "stream",
     "text": []
    },
    {
     "name": "stdout",
     "output_type": "stream",
     "text": [
      "normalized pred locations loss 0.064509816467762\n"
     ]
    },
    {
     "name": "stderr",
     "output_type": "stream",
     "text": [
      "Probe prediction step: 100%|██████████| 156/156 [00:15<00:00,  9.99it/s]\n",
      "Probe prediction epochs:  10%|█         | 2/20 [00:30<04:39, 15.52s/it]"
     ]
    },
    {
     "name": "stdout",
     "output_type": "stream",
     "text": [
      "normalized pred locations loss 0.04079660773277283\n"
     ]
    },
    {
     "name": "stderr",
     "output_type": "stream",
     "text": [
      "Probe prediction step: 100%|██████████| 156/156 [00:15<00:00,  9.86it/s]\n",
      "Probe prediction epochs:  15%|█▌        | 3/20 [00:46<04:26, 15.66s/it]"
     ]
    },
    {
     "name": "stdout",
     "output_type": "stream",
     "text": [
      "normalized pred locations loss 0.04320589080452919\n"
     ]
    },
    {
     "name": "stderr",
     "output_type": "stream",
     "text": []
    },
    {
     "name": "stdout",
     "output_type": "stream",
     "text": [
      "normalized pred locations loss 0.035622190684080124\n"
     ]
    },
    {
     "name": "stderr",
     "output_type": "stream",
     "text": [
      "Probe prediction step: 100%|██████████| 156/156 [00:15<00:00,  9.82it/s]\n",
      "Probe prediction epochs:  20%|██        | 4/20 [01:02<04:12, 15.75s/it]"
     ]
    },
    {
     "name": "stdout",
     "output_type": "stream",
     "text": [
      "normalized pred locations loss 0.03190445154905319\n"
     ]
    },
    {
     "name": "stderr",
     "output_type": "stream",
     "text": [
      "Probe prediction step: 100%|██████████| 156/156 [00:12<00:00, 12.33it/s]\n",
      "Probe prediction epochs:  25%|██▌       | 5/20 [01:15<03:39, 14.63s/it]"
     ]
    },
    {
     "name": "stdout",
     "output_type": "stream",
     "text": [
      "normalized pred locations loss 0.026011331006884575\n"
     ]
    },
    {
     "name": "stderr",
     "output_type": "stream",
     "text": []
    },
    {
     "name": "stdout",
     "output_type": "stream",
     "text": [
      "normalized pred locations loss 0.02423352561891079\n"
     ]
    },
    {
     "name": "stderr",
     "output_type": "stream",
     "text": [
      "Probe prediction step: 100%|██████████| 156/156 [00:11<00:00, 13.26it/s]\n",
      "Probe prediction epochs:  30%|███       | 6/20 [01:27<03:11, 13.66s/it]"
     ]
    },
    {
     "name": "stdout",
     "output_type": "stream",
     "text": [
      "normalized pred locations loss 0.02321905642747879\n"
     ]
    },
    {
     "name": "stderr",
     "output_type": "stream",
     "text": [
      "Probe prediction step: 100%|██████████| 156/156 [00:11<00:00, 13.39it/s]\n",
      "Probe prediction epochs:  35%|███▌      | 7/20 [01:38<02:49, 13.00s/it]"
     ]
    },
    {
     "name": "stdout",
     "output_type": "stream",
     "text": [
      "normalized pred locations loss 0.016997694969177246\n"
     ]
    },
    {
     "name": "stderr",
     "output_type": "stream",
     "text": []
    },
    {
     "name": "stdout",
     "output_type": "stream",
     "text": [
      "normalized pred locations loss 0.02190728671848774\n"
     ]
    },
    {
     "name": "stderr",
     "output_type": "stream",
     "text": [
      "Probe prediction step: 100%|██████████| 156/156 [00:11<00:00, 13.57it/s]\n",
      "Probe prediction epochs:  40%|████      | 8/20 [01:50<02:30, 12.52s/it]"
     ]
    },
    {
     "name": "stdout",
     "output_type": "stream",
     "text": [
      "normalized pred locations loss 0.013824081979691982\n"
     ]
    },
    {
     "name": "stderr",
     "output_type": "stream",
     "text": []
    },
    {
     "name": "stdout",
     "output_type": "stream",
     "text": [
      "normalized pred locations loss 0.017275551334023476\n"
     ]
    },
    {
     "name": "stderr",
     "output_type": "stream",
     "text": [
      "Probe prediction step: 100%|██████████| 156/156 [00:11<00:00, 13.44it/s]\n",
      "Probe prediction epochs:  45%|████▌     | 9/20 [02:01<02:14, 12.24s/it]"
     ]
    },
    {
     "name": "stdout",
     "output_type": "stream",
     "text": [
      "normalized pred locations loss 0.019892405718564987\n"
     ]
    },
    {
     "name": "stderr",
     "output_type": "stream",
     "text": [
      "Probe prediction step: 100%|██████████| 156/156 [00:11<00:00, 13.68it/s]\n",
      "Probe prediction epochs:  50%|█████     | 10/20 [02:13<01:59, 11.98s/it]"
     ]
    },
    {
     "name": "stdout",
     "output_type": "stream",
     "text": [
      "normalized pred locations loss 0.014713984914124012\n"
     ]
    },
    {
     "name": "stderr",
     "output_type": "stream",
     "text": []
    },
    {
     "name": "stdout",
     "output_type": "stream",
     "text": [
      "normalized pred locations loss 0.014093809761106968\n"
     ]
    },
    {
     "name": "stderr",
     "output_type": "stream",
     "text": [
      "Probe prediction step: 100%|██████████| 156/156 [00:11<00:00, 13.60it/s]\n",
      "Probe prediction epochs:  55%|█████▌    | 11/20 [02:24<01:46, 11.83s/it]"
     ]
    },
    {
     "name": "stdout",
     "output_type": "stream",
     "text": [
      "normalized pred locations loss 0.014956986531615257\n"
     ]
    },
    {
     "name": "stderr",
     "output_type": "stream",
     "text": [
      "Probe prediction step: 100%|██████████| 156/156 [00:06<00:00, 22.71it/s]\n",
      "Probe prediction epochs:  60%|██████    | 12/20 [02:31<01:22, 10.32s/it]"
     ]
    },
    {
     "name": "stdout",
     "output_type": "stream",
     "text": [
      "normalized pred locations loss 0.011259238235652447\n"
     ]
    },
    {
     "name": "stderr",
     "output_type": "stream",
     "text": []
    },
    {
     "name": "stdout",
     "output_type": "stream",
     "text": [
      "normalized pred locations loss 0.01218146737664938\n"
     ]
    },
    {
     "name": "stderr",
     "output_type": "stream",
     "text": [
      "Probe prediction step: 100%|██████████| 156/156 [00:06<00:00, 23.38it/s]\n",
      "Probe prediction epochs:  65%|██████▌   | 13/20 [02:38<01:04,  9.22s/it]"
     ]
    },
    {
     "name": "stdout",
     "output_type": "stream",
     "text": [
      "normalized pred locations loss 0.014063125476241112\n"
     ]
    },
    {
     "name": "stderr",
     "output_type": "stream",
     "text": [
      "Probe prediction step: 100%|██████████| 156/156 [00:06<00:00, 23.30it/s]\n",
      "Probe prediction epochs:  70%|███████   | 14/20 [02:45<00:50,  8.45s/it]"
     ]
    },
    {
     "name": "stdout",
     "output_type": "stream",
     "text": [
      "normalized pred locations loss 0.00822187028825283\n"
     ]
    },
    {
     "name": "stderr",
     "output_type": "stream",
     "text": []
    },
    {
     "name": "stdout",
     "output_type": "stream",
     "text": [
      "normalized pred locations loss 0.010014520958065987\n"
     ]
    },
    {
     "name": "stderr",
     "output_type": "stream",
     "text": [
      "Probe prediction step: 100%|██████████| 156/156 [00:06<00:00, 23.16it/s]\n",
      "Probe prediction epochs:  75%|███████▌  | 15/20 [02:51<00:39,  7.94s/it]"
     ]
    },
    {
     "name": "stdout",
     "output_type": "stream",
     "text": [
      "normalized pred locations loss 0.014578735455870628\n"
     ]
    },
    {
     "name": "stderr",
     "output_type": "stream",
     "text": [
      "Probe prediction step: 100%|██████████| 156/156 [00:06<00:00, 23.41it/s]\n",
      "Probe prediction epochs:  80%|████████  | 16/20 [02:58<00:30,  7.55s/it]"
     ]
    },
    {
     "name": "stdout",
     "output_type": "stream",
     "text": [
      "normalized pred locations loss 0.010717449709773064\n"
     ]
    },
    {
     "name": "stderr",
     "output_type": "stream",
     "text": []
    },
    {
     "name": "stdout",
     "output_type": "stream",
     "text": [
      "normalized pred locations loss 0.011882757768034935\n"
     ]
    },
    {
     "name": "stderr",
     "output_type": "stream",
     "text": [
      "Probe prediction step: 100%|██████████| 156/156 [00:06<00:00, 23.21it/s]\n",
      "Probe prediction epochs:  85%|████████▌ | 17/20 [03:05<00:21,  7.30s/it]"
     ]
    },
    {
     "name": "stdout",
     "output_type": "stream",
     "text": [
      "normalized pred locations loss 0.012373940087854862\n"
     ]
    },
    {
     "name": "stderr",
     "output_type": "stream",
     "text": []
    },
    {
     "name": "stdout",
     "output_type": "stream",
     "text": [
      "normalized pred locations loss 0.01212928257882595\n"
     ]
    },
    {
     "name": "stderr",
     "output_type": "stream",
     "text": [
      "Probe prediction step: 100%|██████████| 156/156 [00:06<00:00, 23.43it/s]\n",
      "Probe prediction epochs:  90%|█████████ | 18/20 [03:11<00:14,  7.11s/it]"
     ]
    },
    {
     "name": "stdout",
     "output_type": "stream",
     "text": [
      "normalized pred locations loss 0.010053812526166439\n"
     ]
    },
    {
     "name": "stderr",
     "output_type": "stream",
     "text": [
      "Probe prediction step: 100%|██████████| 156/156 [00:06<00:00, 23.74it/s]\n",
      "Probe prediction epochs:  95%|█████████▌| 19/20 [03:18<00:06,  6.95s/it]"
     ]
    },
    {
     "name": "stdout",
     "output_type": "stream",
     "text": [
      "normalized pred locations loss 0.010901552625000477\n"
     ]
    },
    {
     "name": "stderr",
     "output_type": "stream",
     "text": []
    },
    {
     "name": "stdout",
     "output_type": "stream",
     "text": [
      "normalized pred locations loss 0.016516188159585\n"
     ]
    },
    {
     "name": "stderr",
     "output_type": "stream",
     "text": [
      "Probe prediction step: 100%|██████████| 156/156 [00:06<00:00, 23.23it/s]\n",
      "Probe prediction epochs: 100%|██████████| 20/20 [03:25<00:00, 10.25s/it]\n",
      "Eval probe pred: 100%|██████████| 62/62 [00:02<00:00, 25.65it/s]\n",
      "Eval probe pred: 100%|██████████| 62/62 [00:02<00:00, 25.51it/s]\n"
     ]
    },
    {
     "name": "stdout",
     "output_type": "stream",
     "text": [
      "normal loss: 4.544832706451416\n",
      "wall loss: 8.753279685974121\n",
      "--------------------------------------------------------------------------------\n"
     ]
    },
    {
     "name": "stderr",
     "output_type": "stream",
     "text": [
      "Epoch 5/100: 100%|██████████| 1148/1148 [02:30<00:00,  7.61it/s, loss=362.9658, time/batch=0.081s, gpu_mem=2.1GB]\n"
     ]
    },
    {
     "name": "stdout",
     "output_type": "stream",
     "text": [
      "\n",
      "Epoch 5/100 Summary:\n",
      "Train Loss: 362.9658\n",
      "Component Losses:\n",
      "  total_loss: 362.9658\n",
      "  vicreg_sim_loss: 0.5497\n",
      "  vicreg_std_loss: 1.2138\n",
      "  vicreg_cov_loss: 4.3485\n",
      "  barlow_loss: 677.4955\n",
      "Epoch Time: 150.9s\n",
      "Avg Batch Time: 0.081s\n",
      "GPU Memory: 1988MB\n"
     ]
    },
    {
     "name": "stderr",
     "output_type": "stream",
     "text": [
      "Probe prediction epochs:   0%|          | 0/20 [00:00<?, ?it/s]"
     ]
    },
    {
     "name": "stdout",
     "output_type": "stream",
     "text": [
      "normalized pred locations loss 1.1006544828414917\n"
     ]
    },
    {
     "name": "stderr",
     "output_type": "stream",
     "text": []
    },
    {
     "name": "stdout",
     "output_type": "stream",
     "text": [
      "normalized pred locations loss 0.21354421973228455\n"
     ]
    },
    {
     "name": "stderr",
     "output_type": "stream",
     "text": [
      "Probe prediction step: 100%|██████████| 156/156 [00:10<00:00, 14.21it/s]\n",
      "Probe prediction epochs:   5%|▌         | 1/20 [00:10<03:28, 10.98s/it]"
     ]
    },
    {
     "name": "stdout",
     "output_type": "stream",
     "text": [
      "normalized pred locations loss 0.0520792156457901\n"
     ]
    },
    {
     "name": "stderr",
     "output_type": "stream",
     "text": []
    },
    {
     "name": "stdout",
     "output_type": "stream",
     "text": [
      "normalized pred locations loss 0.04799184575676918\n"
     ]
    },
    {
     "name": "stderr",
     "output_type": "stream",
     "text": [
      "Probe prediction step: 100%|██████████| 156/156 [00:15<00:00, 10.04it/s]\n",
      "Probe prediction epochs:  10%|█         | 2/20 [00:26<04:05, 13.66s/it]"
     ]
    },
    {
     "name": "stdout",
     "output_type": "stream",
     "text": [
      "normalized pred locations loss 0.04357154294848442\n"
     ]
    },
    {
     "name": "stderr",
     "output_type": "stream",
     "text": [
      "Probe prediction step: 100%|██████████| 156/156 [00:16<00:00,  9.67it/s]\n",
      "Probe prediction epochs:  15%|█▌        | 3/20 [00:42<04:11, 14.79s/it]"
     ]
    },
    {
     "name": "stdout",
     "output_type": "stream",
     "text": [
      "normalized pred locations loss 0.021923374384641647\n"
     ]
    },
    {
     "name": "stderr",
     "output_type": "stream",
     "text": []
    },
    {
     "name": "stdout",
     "output_type": "stream",
     "text": [
      "normalized pred locations loss 0.027917806059122086\n"
     ]
    },
    {
     "name": "stderr",
     "output_type": "stream",
     "text": [
      "Probe prediction step: 100%|██████████| 156/156 [00:16<00:00,  9.59it/s]\n",
      "Probe prediction epochs:  20%|██        | 4/20 [00:58<04:05, 15.37s/it]"
     ]
    },
    {
     "name": "stdout",
     "output_type": "stream",
     "text": [
      "normalized pred locations loss 0.02478799782693386\n"
     ]
    },
    {
     "name": "stderr",
     "output_type": "stream",
     "text": [
      "Probe prediction step: 100%|██████████| 156/156 [00:15<00:00,  9.83it/s]\n",
      "Probe prediction epochs:  25%|██▌       | 5/20 [01:14<03:53, 15.55s/it]"
     ]
    },
    {
     "name": "stdout",
     "output_type": "stream",
     "text": [
      "normalized pred locations loss 0.021802369505167007\n"
     ]
    },
    {
     "name": "stderr",
     "output_type": "stream",
     "text": []
    },
    {
     "name": "stdout",
     "output_type": "stream",
     "text": [
      "normalized pred locations loss 0.018761921674013138\n"
     ]
    },
    {
     "name": "stderr",
     "output_type": "stream",
     "text": [
      "Probe prediction step: 100%|██████████| 156/156 [00:12<00:00, 12.07it/s]\n",
      "Probe prediction epochs:  30%|███       | 6/20 [01:27<03:25, 14.66s/it]"
     ]
    },
    {
     "name": "stdout",
     "output_type": "stream",
     "text": [
      "normalized pred locations loss 0.015689687803387642\n"
     ]
    },
    {
     "name": "stderr",
     "output_type": "stream",
     "text": [
      "Probe prediction step: 100%|██████████| 156/156 [00:11<00:00, 13.25it/s]\n",
      "Probe prediction epochs:  35%|███▌      | 7/20 [01:39<02:58, 13.72s/it]"
     ]
    },
    {
     "name": "stdout",
     "output_type": "stream",
     "text": [
      "normalized pred locations loss 0.017353303730487823\n"
     ]
    },
    {
     "name": "stderr",
     "output_type": "stream",
     "text": []
    },
    {
     "name": "stdout",
     "output_type": "stream",
     "text": [
      "normalized pred locations loss 0.015143471769988537\n"
     ]
    },
    {
     "name": "stderr",
     "output_type": "stream",
     "text": [
      "Probe prediction step: 100%|██████████| 156/156 [00:11<00:00, 13.22it/s]\n",
      "Probe prediction epochs:  40%|████      | 8/20 [01:51<02:37, 13.11s/it]"
     ]
    },
    {
     "name": "stdout",
     "output_type": "stream",
     "text": [
      "normalized pred locations loss 0.019355328753590584\n"
     ]
    },
    {
     "name": "stderr",
     "output_type": "stream",
     "text": []
    },
    {
     "name": "stdout",
     "output_type": "stream",
     "text": [
      "normalized pred locations loss 0.01628505066037178\n"
     ]
    },
    {
     "name": "stderr",
     "output_type": "stream",
     "text": [
      "Probe prediction step: 100%|██████████| 156/156 [00:11<00:00, 13.31it/s]\n",
      "Probe prediction epochs:  45%|████▌     | 9/20 [02:03<02:19, 12.67s/it]"
     ]
    },
    {
     "name": "stdout",
     "output_type": "stream",
     "text": [
      "normalized pred locations loss 0.019625751301646233\n"
     ]
    },
    {
     "name": "stderr",
     "output_type": "stream",
     "text": [
      "Probe prediction step: 100%|██████████| 156/156 [00:11<00:00, 13.40it/s]\n",
      "Probe prediction epochs:  50%|█████     | 10/20 [02:14<02:03, 12.35s/it]"
     ]
    },
    {
     "name": "stdout",
     "output_type": "stream",
     "text": [
      "normalized pred locations loss 0.013184839859604836\n"
     ]
    },
    {
     "name": "stderr",
     "output_type": "stream",
     "text": []
    },
    {
     "name": "stdout",
     "output_type": "stream",
     "text": [
      "normalized pred locations loss 0.012028589844703674\n"
     ]
    },
    {
     "name": "stderr",
     "output_type": "stream",
     "text": [
      "Probe prediction step: 100%|██████████| 156/156 [00:11<00:00, 13.28it/s]\n",
      "Probe prediction epochs:  55%|█████▌    | 11/20 [02:26<01:49, 12.17s/it]"
     ]
    },
    {
     "name": "stdout",
     "output_type": "stream",
     "text": [
      "normalized pred locations loss 0.00930896308273077\n"
     ]
    },
    {
     "name": "stderr",
     "output_type": "stream",
     "text": [
      "Probe prediction step: 100%|██████████| 156/156 [00:11<00:00, 13.44it/s]\n",
      "Probe prediction epochs:  60%|██████    | 12/20 [02:38<01:35, 12.00s/it]"
     ]
    },
    {
     "name": "stdout",
     "output_type": "stream",
     "text": [
      "normalized pred locations loss 0.010739507153630257\n"
     ]
    },
    {
     "name": "stderr",
     "output_type": "stream",
     "text": []
    },
    {
     "name": "stdout",
     "output_type": "stream",
     "text": [
      "normalized pred locations loss 0.010605070739984512\n"
     ]
    },
    {
     "name": "stderr",
     "output_type": "stream",
     "text": [
      "Probe prediction step: 100%|██████████| 156/156 [00:11<00:00, 13.35it/s]\n",
      "Probe prediction epochs:  65%|██████▌   | 13/20 [02:49<01:23, 11.90s/it]"
     ]
    },
    {
     "name": "stdout",
     "output_type": "stream",
     "text": [
      "normalized pred locations loss 0.008065637201070786\n"
     ]
    },
    {
     "name": "stderr",
     "output_type": "stream",
     "text": [
      "Probe prediction step: 100%|██████████| 156/156 [00:07<00:00, 20.05it/s]\n",
      "Probe prediction epochs:  70%|███████   | 14/20 [02:57<01:03, 10.66s/it]"
     ]
    },
    {
     "name": "stdout",
     "output_type": "stream",
     "text": [
      "normalized pred locations loss 0.0062026637606322765\n"
     ]
    },
    {
     "name": "stderr",
     "output_type": "stream",
     "text": []
    },
    {
     "name": "stdout",
     "output_type": "stream",
     "text": [
      "normalized pred locations loss 0.007453978061676025\n"
     ]
    },
    {
     "name": "stderr",
     "output_type": "stream",
     "text": [
      "Probe prediction step: 100%|██████████| 156/156 [00:06<00:00, 23.43it/s]\n",
      "Probe prediction epochs:  75%|███████▌  | 15/20 [03:04<00:47,  9.45s/it]"
     ]
    },
    {
     "name": "stdout",
     "output_type": "stream",
     "text": [
      "normalized pred locations loss 0.009587853215634823\n"
     ]
    },
    {
     "name": "stderr",
     "output_type": "stream",
     "text": [
      "Probe prediction step: 100%|██████████| 156/156 [00:06<00:00, 23.16it/s]\n",
      "Probe prediction epochs:  80%|████████  | 16/20 [03:10<00:34,  8.64s/it]"
     ]
    },
    {
     "name": "stdout",
     "output_type": "stream",
     "text": [
      "normalized pred locations loss 0.008752595633268356\n"
     ]
    },
    {
     "name": "stderr",
     "output_type": "stream",
     "text": []
    },
    {
     "name": "stdout",
     "output_type": "stream",
     "text": [
      "normalized pred locations loss 0.007468451280146837\n"
     ]
    },
    {
     "name": "stderr",
     "output_type": "stream",
     "text": [
      "Probe prediction step: 100%|██████████| 156/156 [00:06<00:00, 23.56it/s]\n",
      "Probe prediction epochs:  85%|████████▌ | 17/20 [03:17<00:24,  8.03s/it]"
     ]
    },
    {
     "name": "stdout",
     "output_type": "stream",
     "text": [
      "normalized pred locations loss 0.005874605383723974\n"
     ]
    },
    {
     "name": "stderr",
     "output_type": "stream",
     "text": []
    },
    {
     "name": "stdout",
     "output_type": "stream",
     "text": [
      "normalized pred locations loss 0.008625411428511143\n"
     ]
    },
    {
     "name": "stderr",
     "output_type": "stream",
     "text": [
      "Probe prediction step: 100%|██████████| 156/156 [00:06<00:00, 23.24it/s]\n",
      "Probe prediction epochs:  90%|█████████ | 18/20 [03:24<00:15,  7.64s/it]"
     ]
    },
    {
     "name": "stdout",
     "output_type": "stream",
     "text": [
      "normalized pred locations loss 0.007429595571011305\n"
     ]
    },
    {
     "name": "stderr",
     "output_type": "stream",
     "text": [
      "Probe prediction step: 100%|██████████| 156/156 [00:06<00:00, 23.03it/s]\n",
      "Probe prediction epochs:  95%|█████████▌| 19/20 [03:30<00:07,  7.38s/it]"
     ]
    },
    {
     "name": "stdout",
     "output_type": "stream",
     "text": [
      "normalized pred locations loss 0.009378213435411453\n"
     ]
    },
    {
     "name": "stderr",
     "output_type": "stream",
     "text": []
    },
    {
     "name": "stdout",
     "output_type": "stream",
     "text": [
      "normalized pred locations loss 0.008011561818420887\n"
     ]
    },
    {
     "name": "stderr",
     "output_type": "stream",
     "text": [
      "Probe prediction step: 100%|██████████| 156/156 [00:06<00:00, 23.37it/s]\n",
      "Probe prediction epochs: 100%|██████████| 20/20 [03:37<00:00, 10.88s/it]\n",
      "Eval probe pred: 100%|██████████| 62/62 [00:02<00:00, 25.31it/s]\n",
      "Eval probe pred: 100%|██████████| 62/62 [00:02<00:00, 25.17it/s]\n"
     ]
    },
    {
     "name": "stdout",
     "output_type": "stream",
     "text": [
      "normal loss: 3.7805418968200684\n",
      "wall loss: 7.500100135803223\n",
      "--------------------------------------------------------------------------------\n"
     ]
    },
    {
     "name": "stderr",
     "output_type": "stream",
     "text": [
      "Epoch 6/100: 100%|██████████| 1148/1148 [02:28<00:00,  7.75it/s, loss=348.8506, time/batch=0.078s, gpu_mem=2.1GB]\n"
     ]
    },
    {
     "name": "stdout",
     "output_type": "stream",
     "text": [
      "\n",
      "Epoch 6/100 Summary:\n",
      "Train Loss: 348.8506\n",
      "Component Losses:\n",
      "  total_loss: 348.8506\n",
      "  vicreg_sim_loss: 0.5259\n",
      "  vicreg_std_loss: 1.1961\n",
      "  vicreg_cov_loss: 4.6052\n",
      "  barlow_loss: 650.0479\n",
      "Epoch Time: 148.1s\n",
      "Avg Batch Time: 0.078s\n",
      "GPU Memory: 1988MB\n"
     ]
    },
    {
     "name": "stderr",
     "output_type": "stream",
     "text": [
      "Probe prediction epochs:   0%|          | 0/20 [00:00<?, ?it/s]"
     ]
    },
    {
     "name": "stdout",
     "output_type": "stream",
     "text": [
      "normalized pred locations loss 1.0211379528045654\n"
     ]
    },
    {
     "name": "stderr",
     "output_type": "stream",
     "text": []
    },
    {
     "name": "stdout",
     "output_type": "stream",
     "text": [
      "normalized pred locations loss 0.2021535485982895\n"
     ]
    },
    {
     "name": "stderr",
     "output_type": "stream",
     "text": [
      "Probe prediction step: 100%|██████████| 156/156 [00:11<00:00, 14.09it/s]\n",
      "Probe prediction epochs:   5%|▌         | 1/20 [00:11<03:30, 11.07s/it]"
     ]
    },
    {
     "name": "stdout",
     "output_type": "stream",
     "text": [
      "normalized pred locations loss 0.06836000084877014\n"
     ]
    },
    {
     "name": "stderr",
     "output_type": "stream",
     "text": []
    },
    {
     "name": "stdout",
     "output_type": "stream",
     "text": [
      "normalized pred locations loss 0.035102225840091705\n"
     ]
    },
    {
     "name": "stderr",
     "output_type": "stream",
     "text": [
      "Probe prediction step: 100%|██████████| 156/156 [00:11<00:00, 14.18it/s]\n",
      "Probe prediction epochs:  10%|█         | 2/20 [00:22<03:18, 11.03s/it]"
     ]
    },
    {
     "name": "stdout",
     "output_type": "stream",
     "text": [
      "normalized pred locations loss 0.03627360612154007\n"
     ]
    },
    {
     "name": "stderr",
     "output_type": "stream",
     "text": [
      "Probe prediction step: 100%|██████████| 156/156 [00:10<00:00, 14.21it/s]\n",
      "Probe prediction epochs:  15%|█▌        | 3/20 [00:33<03:07, 11.01s/it]"
     ]
    },
    {
     "name": "stdout",
     "output_type": "stream",
     "text": [
      "normalized pred locations loss 0.03417915850877762\n"
     ]
    },
    {
     "name": "stderr",
     "output_type": "stream",
     "text": []
    },
    {
     "name": "stdout",
     "output_type": "stream",
     "text": [
      "normalized pred locations loss 0.023671651259064674\n"
     ]
    },
    {
     "name": "stderr",
     "output_type": "stream",
     "text": [
      "Probe prediction step: 100%|██████████| 156/156 [00:15<00:00,  9.86it/s]\n",
      "Probe prediction epochs:  20%|██        | 4/20 [00:48<03:26, 12.91s/it]"
     ]
    },
    {
     "name": "stdout",
     "output_type": "stream",
     "text": [
      "normalized pred locations loss 0.028127722442150116\n"
     ]
    },
    {
     "name": "stderr",
     "output_type": "stream",
     "text": [
      "Probe prediction step: 100%|██████████| 156/156 [00:16<00:00,  9.57it/s]\n",
      "Probe prediction epochs:  25%|██▌       | 5/20 [01:05<03:32, 14.13s/it]"
     ]
    },
    {
     "name": "stdout",
     "output_type": "stream",
     "text": [
      "normalized pred locations loss 0.025632422417402267\n"
     ]
    },
    {
     "name": "stderr",
     "output_type": "stream",
     "text": []
    },
    {
     "name": "stdout",
     "output_type": "stream",
     "text": [
      "normalized pred locations loss 0.019743965938687325\n"
     ]
    },
    {
     "name": "stderr",
     "output_type": "stream",
     "text": [
      "Probe prediction step: 100%|██████████| 156/156 [00:16<00:00,  9.66it/s]\n",
      "Probe prediction epochs:  30%|███       | 6/20 [01:21<03:27, 14.82s/it]"
     ]
    },
    {
     "name": "stdout",
     "output_type": "stream",
     "text": [
      "normalized pred locations loss 0.01909780129790306\n"
     ]
    },
    {
     "name": "stderr",
     "output_type": "stream",
     "text": [
      "Probe prediction step: 100%|██████████| 156/156 [00:12<00:00, 12.90it/s]\n",
      "Probe prediction epochs:  35%|███▌      | 7/20 [01:33<03:01, 13.93s/it]"
     ]
    },
    {
     "name": "stdout",
     "output_type": "stream",
     "text": [
      "normalized pred locations loss 0.017466865479946136\n"
     ]
    },
    {
     "name": "stderr",
     "output_type": "stream",
     "text": []
    },
    {
     "name": "stdout",
     "output_type": "stream",
     "text": [
      "normalized pred locations loss 0.01582260988652706\n"
     ]
    },
    {
     "name": "stderr",
     "output_type": "stream",
     "text": [
      "Probe prediction step: 100%|██████████| 156/156 [00:11<00:00, 13.41it/s]\n",
      "Probe prediction epochs:  40%|████      | 8/20 [01:45<02:38, 13.20s/it]"
     ]
    },
    {
     "name": "stdout",
     "output_type": "stream",
     "text": [
      "normalized pred locations loss 0.022482918575406075\n"
     ]
    },
    {
     "name": "stderr",
     "output_type": "stream",
     "text": []
    },
    {
     "name": "stdout",
     "output_type": "stream",
     "text": [
      "normalized pred locations loss 0.014700101688504219\n"
     ]
    },
    {
     "name": "stderr",
     "output_type": "stream",
     "text": [
      "Probe prediction step: 100%|██████████| 156/156 [00:11<00:00, 13.27it/s]\n",
      "Probe prediction epochs:  45%|████▌     | 9/20 [01:56<02:20, 12.75s/it]"
     ]
    },
    {
     "name": "stdout",
     "output_type": "stream",
     "text": [
      "normalized pred locations loss 0.017913933843374252\n"
     ]
    },
    {
     "name": "stderr",
     "output_type": "stream",
     "text": [
      "Probe prediction step: 100%|██████████| 156/156 [00:11<00:00, 13.43it/s]\n",
      "Probe prediction epochs:  50%|█████     | 10/20 [02:08<02:03, 12.40s/it]"
     ]
    },
    {
     "name": "stdout",
     "output_type": "stream",
     "text": [
      "normalized pred locations loss 0.01527661457657814\n"
     ]
    },
    {
     "name": "stderr",
     "output_type": "stream",
     "text": []
    },
    {
     "name": "stdout",
     "output_type": "stream",
     "text": [
      "normalized pred locations loss 0.013658752664923668\n"
     ]
    },
    {
     "name": "stderr",
     "output_type": "stream",
     "text": [
      "Probe prediction step: 100%|██████████| 156/156 [00:11<00:00, 13.19it/s]\n",
      "Probe prediction epochs:  55%|█████▌    | 11/20 [02:20<01:50, 12.22s/it]"
     ]
    },
    {
     "name": "stdout",
     "output_type": "stream",
     "text": [
      "normalized pred locations loss 0.01462255697697401\n"
     ]
    },
    {
     "name": "stderr",
     "output_type": "stream",
     "text": [
      "Probe prediction step: 100%|██████████| 156/156 [00:11<00:00, 13.12it/s]\n",
      "Probe prediction epochs:  60%|██████    | 12/20 [02:32<01:36, 12.12s/it]"
     ]
    },
    {
     "name": "stdout",
     "output_type": "stream",
     "text": [
      "normalized pred locations loss 0.010301073081791401\n"
     ]
    },
    {
     "name": "stderr",
     "output_type": "stream",
     "text": []
    },
    {
     "name": "stdout",
     "output_type": "stream",
     "text": [
      "normalized pred locations loss 0.012264547869563103\n"
     ]
    },
    {
     "name": "stderr",
     "output_type": "stream",
     "text": [
      "Probe prediction step: 100%|██████████| 156/156 [00:11<00:00, 13.35it/s]\n",
      "Probe prediction epochs:  65%|██████▌   | 13/20 [02:43<01:23, 11.99s/it]"
     ]
    },
    {
     "name": "stdout",
     "output_type": "stream",
     "text": [
      "normalized pred locations loss 0.009511919692158699\n"
     ]
    },
    {
     "name": "stderr",
     "output_type": "stream",
     "text": [
      "Probe prediction step: 100%|██████████| 156/156 [00:11<00:00, 13.18it/s]\n",
      "Probe prediction epochs:  70%|███████   | 14/20 [02:55<01:11, 11.94s/it]"
     ]
    },
    {
     "name": "stdout",
     "output_type": "stream",
     "text": [
      "normalized pred locations loss 0.009088568389415741\n"
     ]
    },
    {
     "name": "stderr",
     "output_type": "stream",
     "text": []
    },
    {
     "name": "stdout",
     "output_type": "stream",
     "text": [
      "normalized pred locations loss 0.007246833760291338\n"
     ]
    },
    {
     "name": "stderr",
     "output_type": "stream",
     "text": [
      "Probe prediction step: 100%|██████████| 156/156 [00:11<00:00, 13.31it/s]\n",
      "Probe prediction epochs:  75%|███████▌  | 15/20 [03:07<00:59, 11.88s/it]"
     ]
    },
    {
     "name": "stdout",
     "output_type": "stream",
     "text": [
      "normalized pred locations loss 0.00748120341449976\n"
     ]
    },
    {
     "name": "stderr",
     "output_type": "stream",
     "text": [
      "Probe prediction step: 100%|██████████| 156/156 [00:07<00:00, 20.33it/s]\n",
      "Probe prediction epochs:  80%|████████  | 16/20 [03:15<00:42, 10.61s/it]"
     ]
    },
    {
     "name": "stdout",
     "output_type": "stream",
     "text": [
      "normalized pred locations loss 0.012915411032736301\n"
     ]
    },
    {
     "name": "stderr",
     "output_type": "stream",
     "text": []
    },
    {
     "name": "stdout",
     "output_type": "stream",
     "text": [
      "normalized pred locations loss 0.008456096053123474\n"
     ]
    },
    {
     "name": "stderr",
     "output_type": "stream",
     "text": [
      "Probe prediction step: 100%|██████████| 156/156 [00:06<00:00, 23.65it/s]\n",
      "Probe prediction epochs:  85%|████████▌ | 17/20 [03:21<00:28,  9.41s/it]"
     ]
    },
    {
     "name": "stdout",
     "output_type": "stream",
     "text": [
      "normalized pred locations loss 0.0067851124331355095\n"
     ]
    },
    {
     "name": "stderr",
     "output_type": "stream",
     "text": []
    },
    {
     "name": "stdout",
     "output_type": "stream",
     "text": [
      "normalized pred locations loss 0.008644829504191875\n"
     ]
    },
    {
     "name": "stderr",
     "output_type": "stream",
     "text": [
      "Probe prediction step: 100%|██████████| 156/156 [00:06<00:00, 23.38it/s]\n",
      "Probe prediction epochs:  90%|█████████ | 18/20 [03:28<00:17,  8.58s/it]"
     ]
    },
    {
     "name": "stdout",
     "output_type": "stream",
     "text": [
      "normalized pred locations loss 0.007297718431800604\n"
     ]
    },
    {
     "name": "stderr",
     "output_type": "stream",
     "text": [
      "Probe prediction step: 100%|██████████| 156/156 [00:06<00:00, 23.24it/s]\n",
      "Probe prediction epochs:  95%|█████████▌| 19/20 [03:35<00:08,  8.02s/it]"
     ]
    },
    {
     "name": "stdout",
     "output_type": "stream",
     "text": [
      "normalized pred locations loss 0.007748263888061047\n"
     ]
    },
    {
     "name": "stderr",
     "output_type": "stream",
     "text": []
    },
    {
     "name": "stdout",
     "output_type": "stream",
     "text": [
      "normalized pred locations loss 0.0077883354388177395\n"
     ]
    },
    {
     "name": "stderr",
     "output_type": "stream",
     "text": [
      "Probe prediction step: 100%|██████████| 156/156 [00:06<00:00, 23.22it/s]\n",
      "Probe prediction epochs: 100%|██████████| 20/20 [03:41<00:00, 11.09s/it]\n",
      "Eval probe pred: 100%|██████████| 62/62 [00:02<00:00, 25.28it/s]\n",
      "Eval probe pred: 100%|██████████| 62/62 [00:02<00:00, 25.33it/s]\n"
     ]
    },
    {
     "name": "stdout",
     "output_type": "stream",
     "text": [
      "normal loss: 3.5636684894561768\n",
      "wall loss: 7.645246505737305\n",
      "--------------------------------------------------------------------------------\n"
     ]
    },
    {
     "name": "stderr",
     "output_type": "stream",
     "text": [
      "Epoch 7/100: 100%|██████████| 1148/1148 [02:25<00:00,  7.89it/s, loss=336.1240, time/batch=0.077s, gpu_mem=2.1GB]\n"
     ]
    },
    {
     "name": "stdout",
     "output_type": "stream",
     "text": [
      "\n",
      "Epoch 7/100 Summary:\n",
      "Train Loss: 336.1240\n",
      "Component Losses:\n",
      "  total_loss: 336.1240\n",
      "  vicreg_sim_loss: 0.5043\n",
      "  vicreg_std_loss: 1.1811\n",
      "  vicreg_cov_loss: 4.8279\n",
      "  barlow_loss: 625.2845\n",
      "Epoch Time: 145.4s\n",
      "Avg Batch Time: 0.077s\n",
      "GPU Memory: 1988MB\n"
     ]
    },
    {
     "name": "stderr",
     "output_type": "stream",
     "text": [
      "Probe prediction epochs:   0%|          | 0/20 [00:00<?, ?it/s]"
     ]
    },
    {
     "name": "stdout",
     "output_type": "stream",
     "text": [
      "normalized pred locations loss 1.2009226083755493\n"
     ]
    },
    {
     "name": "stderr",
     "output_type": "stream",
     "text": []
    },
    {
     "name": "stdout",
     "output_type": "stream",
     "text": [
      "normalized pred locations loss 0.21208137273788452\n"
     ]
    },
    {
     "name": "stderr",
     "output_type": "stream",
     "text": [
      "Probe prediction step: 100%|██████████| 156/156 [00:10<00:00, 14.52it/s]\n",
      "Probe prediction epochs:   5%|▌         | 1/20 [00:10<03:24, 10.74s/it]"
     ]
    },
    {
     "name": "stdout",
     "output_type": "stream",
     "text": [
      "normalized pred locations loss 0.08626123517751694\n"
     ]
    },
    {
     "name": "stderr",
     "output_type": "stream",
     "text": []
    },
    {
     "name": "stdout",
     "output_type": "stream",
     "text": [
      "normalized pred locations loss 0.03508992865681648\n"
     ]
    },
    {
     "name": "stderr",
     "output_type": "stream",
     "text": [
      "Probe prediction step: 100%|██████████| 156/156 [00:11<00:00, 14.07it/s]\n",
      "Probe prediction epochs:  10%|█         | 2/20 [00:21<03:17, 10.95s/it]"
     ]
    },
    {
     "name": "stdout",
     "output_type": "stream",
     "text": [
      "normalized pred locations loss 0.04014768451452255\n"
     ]
    },
    {
     "name": "stderr",
     "output_type": "stream",
     "text": [
      "Probe prediction step: 100%|██████████| 156/156 [00:11<00:00, 14.15it/s]\n",
      "Probe prediction epochs:  15%|█▌        | 3/20 [00:32<03:06, 10.98s/it]"
     ]
    },
    {
     "name": "stdout",
     "output_type": "stream",
     "text": [
      "normalized pred locations loss 0.03663985803723335\n"
     ]
    },
    {
     "name": "stderr",
     "output_type": "stream",
     "text": []
    },
    {
     "name": "stdout",
     "output_type": "stream",
     "text": [
      "normalized pred locations loss 0.036758679896593094\n"
     ]
    },
    {
     "name": "stderr",
     "output_type": "stream",
     "text": [
      "Probe prediction step: 100%|██████████| 156/156 [00:11<00:00, 14.03it/s]\n",
      "Probe prediction epochs:  20%|██        | 4/20 [00:43<02:56, 11.04s/it]"
     ]
    },
    {
     "name": "stdout",
     "output_type": "stream",
     "text": [
      "normalized pred locations loss 0.023179326206445694\n"
     ]
    },
    {
     "name": "stderr",
     "output_type": "stream",
     "text": [
      "Probe prediction step: 100%|██████████| 156/156 [00:10<00:00, 14.30it/s]\n",
      "Probe prediction epochs:  25%|██▌       | 5/20 [00:54<02:44, 10.99s/it]"
     ]
    },
    {
     "name": "stdout",
     "output_type": "stream",
     "text": [
      "normalized pred locations loss 0.02041974663734436\n"
     ]
    },
    {
     "name": "stderr",
     "output_type": "stream",
     "text": []
    },
    {
     "name": "stdout",
     "output_type": "stream",
     "text": [
      "normalized pred locations loss 0.025276266038417816\n"
     ]
    },
    {
     "name": "stderr",
     "output_type": "stream",
     "text": [
      "Probe prediction step: 100%|██████████| 156/156 [00:15<00:00,  9.94it/s]\n",
      "Probe prediction epochs:  30%|███       | 6/20 [01:10<02:56, 12.59s/it]"
     ]
    },
    {
     "name": "stdout",
     "output_type": "stream",
     "text": [
      "normalized pred locations loss 0.016823457553982735\n"
     ]
    },
    {
     "name": "stderr",
     "output_type": "stream",
     "text": [
      "Probe prediction step: 100%|██████████| 156/156 [00:14<00:00, 10.43it/s]\n",
      "Probe prediction epochs:  35%|███▌      | 7/20 [01:25<02:53, 13.37s/it]"
     ]
    },
    {
     "name": "stdout",
     "output_type": "stream",
     "text": [
      "normalized pred locations loss 0.022371506318449974\n"
     ]
    },
    {
     "name": "stderr",
     "output_type": "stream",
     "text": []
    },
    {
     "name": "stdout",
     "output_type": "stream",
     "text": [
      "normalized pred locations loss 0.01757776364684105\n"
     ]
    },
    {
     "name": "stderr",
     "output_type": "stream",
     "text": [
      "Probe prediction step: 100%|██████████| 156/156 [00:11<00:00, 13.30it/s]\n",
      "Probe prediction epochs:  40%|████      | 8/20 [01:37<02:34, 12.84s/it]"
     ]
    },
    {
     "name": "stdout",
     "output_type": "stream",
     "text": [
      "normalized pred locations loss 0.02419067546725273\n"
     ]
    },
    {
     "name": "stderr",
     "output_type": "stream",
     "text": []
    },
    {
     "name": "stdout",
     "output_type": "stream",
     "text": [
      "normalized pred locations loss 0.02241969108581543\n"
     ]
    },
    {
     "name": "stderr",
     "output_type": "stream",
     "text": [
      "Probe prediction step: 100%|██████████| 156/156 [00:11<00:00, 13.32it/s]\n",
      "Probe prediction epochs:  45%|████▌     | 9/20 [01:48<02:17, 12.49s/it]"
     ]
    },
    {
     "name": "stdout",
     "output_type": "stream",
     "text": [
      "normalized pred locations loss 0.016823401674628258\n"
     ]
    },
    {
     "name": "stderr",
     "output_type": "stream",
     "text": [
      "Probe prediction step: 100%|██████████| 156/156 [00:11<00:00, 13.34it/s]\n",
      "Probe prediction epochs:  50%|█████     | 10/20 [02:00<02:02, 12.25s/it]"
     ]
    },
    {
     "name": "stdout",
     "output_type": "stream",
     "text": [
      "normalized pred locations loss 0.012926500290632248\n"
     ]
    },
    {
     "name": "stderr",
     "output_type": "stream",
     "text": []
    },
    {
     "name": "stdout",
     "output_type": "stream",
     "text": [
      "normalized pred locations loss 0.017348723486065865\n"
     ]
    },
    {
     "name": "stderr",
     "output_type": "stream",
     "text": [
      "Probe prediction step: 100%|██████████| 156/156 [00:11<00:00, 13.11it/s]\n",
      "Probe prediction epochs:  55%|█████▌    | 11/20 [02:12<01:49, 12.14s/it]"
     ]
    },
    {
     "name": "stdout",
     "output_type": "stream",
     "text": [
      "normalized pred locations loss 0.013151814229786396\n"
     ]
    },
    {
     "name": "stderr",
     "output_type": "stream",
     "text": [
      "Probe prediction step: 100%|██████████| 156/156 [00:11<00:00, 13.26it/s]\n",
      "Probe prediction epochs:  60%|██████    | 12/20 [02:24<01:36, 12.03s/it]"
     ]
    },
    {
     "name": "stdout",
     "output_type": "stream",
     "text": [
      "normalized pred locations loss 0.010352770797908306\n"
     ]
    },
    {
     "name": "stderr",
     "output_type": "stream",
     "text": []
    },
    {
     "name": "stdout",
     "output_type": "stream",
     "text": [
      "normalized pred locations loss 0.013182537630200386\n"
     ]
    },
    {
     "name": "stderr",
     "output_type": "stream",
     "text": [
      "Probe prediction step: 100%|██████████| 156/156 [00:11<00:00, 13.26it/s]\n",
      "Probe prediction epochs:  65%|██████▌   | 13/20 [02:36<01:23, 11.95s/it]"
     ]
    },
    {
     "name": "stdout",
     "output_type": "stream",
     "text": [
      "normalized pred locations loss 0.01105441153049469\n"
     ]
    },
    {
     "name": "stderr",
     "output_type": "stream",
     "text": [
      "Probe prediction step: 100%|██████████| 156/156 [00:11<00:00, 13.25it/s]\n",
      "Probe prediction epochs:  70%|███████   | 14/20 [02:47<01:11, 11.89s/it]"
     ]
    },
    {
     "name": "stdout",
     "output_type": "stream",
     "text": [
      "normalized pred locations loss 0.011669248342514038\n"
     ]
    },
    {
     "name": "stderr",
     "output_type": "stream",
     "text": []
    },
    {
     "name": "stdout",
     "output_type": "stream",
     "text": [
      "normalized pred locations loss 0.009606442414224148\n"
     ]
    },
    {
     "name": "stderr",
     "output_type": "stream",
     "text": [
      "Probe prediction step: 100%|██████████| 156/156 [00:11<00:00, 13.33it/s]\n",
      "Probe prediction epochs:  75%|███████▌  | 15/20 [02:59<00:59, 11.84s/it]"
     ]
    },
    {
     "name": "stdout",
     "output_type": "stream",
     "text": [
      "normalized pred locations loss 0.008748154155910015\n"
     ]
    },
    {
     "name": "stderr",
     "output_type": "stream",
     "text": [
      "Probe prediction step: 100%|██████████| 156/156 [00:11<00:00, 13.44it/s]\n",
      "Probe prediction epochs:  80%|████████  | 16/20 [03:11<00:47, 11.77s/it]"
     ]
    },
    {
     "name": "stdout",
     "output_type": "stream",
     "text": [
      "normalized pred locations loss 0.01287667267024517\n"
     ]
    },
    {
     "name": "stderr",
     "output_type": "stream",
     "text": []
    },
    {
     "name": "stdout",
     "output_type": "stream",
     "text": [
      "normalized pred locations loss 0.010554035194218159\n"
     ]
    },
    {
     "name": "stderr",
     "output_type": "stream",
     "text": [
      "Probe prediction step: 100%|██████████| 156/156 [00:11<00:00, 13.36it/s]\n",
      "Probe prediction epochs:  85%|████████▌ | 17/20 [03:22<00:35, 11.74s/it]"
     ]
    },
    {
     "name": "stdout",
     "output_type": "stream",
     "text": [
      "normalized pred locations loss 0.012675700709223747\n"
     ]
    },
    {
     "name": "stderr",
     "output_type": "stream",
     "text": []
    },
    {
     "name": "stdout",
     "output_type": "stream",
     "text": [
      "normalized pred locations loss 0.011416669003665447\n"
     ]
    },
    {
     "name": "stderr",
     "output_type": "stream",
     "text": [
      "Probe prediction step: 100%|██████████| 156/156 [00:08<00:00, 19.43it/s]\n",
      "Probe prediction epochs:  90%|█████████ | 18/20 [03:30<00:21, 10.63s/it]"
     ]
    },
    {
     "name": "stdout",
     "output_type": "stream",
     "text": [
      "normalized pred locations loss 0.010702389292418957\n"
     ]
    },
    {
     "name": "stderr",
     "output_type": "stream",
     "text": [
      "Probe prediction step: 100%|██████████| 156/156 [00:06<00:00, 22.96it/s]\n",
      "Probe prediction epochs:  95%|█████████▌| 19/20 [03:37<00:09,  9.48s/it]"
     ]
    },
    {
     "name": "stdout",
     "output_type": "stream",
     "text": [
      "normalized pred locations loss 0.00896525103598833\n"
     ]
    },
    {
     "name": "stderr",
     "output_type": "stream",
     "text": []
    },
    {
     "name": "stdout",
     "output_type": "stream",
     "text": [
      "normalized pred locations loss 0.008025922812521458\n"
     ]
    },
    {
     "name": "stderr",
     "output_type": "stream",
     "text": [
      "Probe prediction step: 100%|██████████| 156/156 [00:06<00:00, 23.37it/s]\n",
      "Probe prediction epochs: 100%|██████████| 20/20 [03:44<00:00, 11.22s/it]\n",
      "Eval probe pred: 100%|██████████| 62/62 [00:02<00:00, 25.15it/s]\n",
      "Eval probe pred: 100%|██████████| 62/62 [00:02<00:00, 25.21it/s]\n"
     ]
    },
    {
     "name": "stdout",
     "output_type": "stream",
     "text": [
      "normal loss: 3.7678537368774414\n",
      "wall loss: 7.248698711395264\n",
      "--------------------------------------------------------------------------------\n"
     ]
    },
    {
     "name": "stderr",
     "output_type": "stream",
     "text": [
      "Epoch 8/100: 100%|██████████| 1148/1148 [02:22<00:00,  8.06it/s, loss=327.3117, time/batch=0.076s, gpu_mem=2.1GB]\n"
     ]
    },
    {
     "name": "stdout",
     "output_type": "stream",
     "text": [
      "\n",
      "Epoch 8/100 Summary:\n",
      "Train Loss: 327.3117\n",
      "Component Losses:\n",
      "  total_loss: 327.3117\n",
      "  vicreg_sim_loss: 0.4840\n",
      "  vicreg_std_loss: 1.1750\n",
      "  vicreg_cov_loss: 4.8546\n",
      "  barlow_loss: 608.2954\n",
      "Epoch Time: 142.4s\n",
      "Avg Batch Time: 0.076s\n",
      "GPU Memory: 1988MB\n"
     ]
    },
    {
     "name": "stderr",
     "output_type": "stream",
     "text": [
      "Probe prediction epochs:   0%|          | 0/20 [00:00<?, ?it/s]"
     ]
    },
    {
     "name": "stdout",
     "output_type": "stream",
     "text": [
      "normalized pred locations loss 1.0482534170150757\n"
     ]
    },
    {
     "name": "stderr",
     "output_type": "stream",
     "text": []
    },
    {
     "name": "stdout",
     "output_type": "stream",
     "text": [
      "normalized pred locations loss 0.15378132462501526\n"
     ]
    },
    {
     "name": "stderr",
     "output_type": "stream",
     "text": [
      "Probe prediction step: 100%|██████████| 156/156 [00:11<00:00, 14.13it/s]\n",
      "Probe prediction epochs:   5%|▌         | 1/20 [00:11<03:29, 11.04s/it]"
     ]
    },
    {
     "name": "stdout",
     "output_type": "stream",
     "text": [
      "normalized pred locations loss 0.06752688437700272\n"
     ]
    },
    {
     "name": "stderr",
     "output_type": "stream",
     "text": []
    },
    {
     "name": "stdout",
     "output_type": "stream",
     "text": [
      "normalized pred locations loss 0.048029497265815735\n"
     ]
    },
    {
     "name": "stderr",
     "output_type": "stream",
     "text": [
      "Probe prediction step: 100%|██████████| 156/156 [00:10<00:00, 14.23it/s]\n",
      "Probe prediction epochs:  10%|█         | 2/20 [00:22<03:17, 11.00s/it]"
     ]
    },
    {
     "name": "stdout",
     "output_type": "stream",
     "text": [
      "normalized pred locations loss 0.02828121930360794\n"
     ]
    },
    {
     "name": "stderr",
     "output_type": "stream",
     "text": [
      "Probe prediction step: 100%|██████████| 156/156 [00:11<00:00, 14.08it/s]\n",
      "Probe prediction epochs:  15%|█▌        | 3/20 [00:33<03:07, 11.04s/it]"
     ]
    },
    {
     "name": "stdout",
     "output_type": "stream",
     "text": [
      "normalized pred locations loss 0.037834249436855316\n"
     ]
    },
    {
     "name": "stderr",
     "output_type": "stream",
     "text": []
    },
    {
     "name": "stdout",
     "output_type": "stream",
     "text": [
      "normalized pred locations loss 0.0202847421169281\n"
     ]
    },
    {
     "name": "stderr",
     "output_type": "stream",
     "text": [
      "Probe prediction step: 100%|██████████| 156/156 [00:10<00:00, 14.49it/s]\n",
      "Probe prediction epochs:  20%|██        | 4/20 [00:43<02:54, 10.93s/it]"
     ]
    },
    {
     "name": "stdout",
     "output_type": "stream",
     "text": [
      "normalized pred locations loss 0.022963209077715874\n"
     ]
    },
    {
     "name": "stderr",
     "output_type": "stream",
     "text": [
      "Probe prediction step: 100%|██████████| 156/156 [00:10<00:00, 14.40it/s]\n",
      "Probe prediction epochs:  25%|██▌       | 5/20 [00:54<02:43, 10.90s/it]"
     ]
    },
    {
     "name": "stdout",
     "output_type": "stream",
     "text": [
      "normalized pred locations loss 0.01852954737842083\n"
     ]
    },
    {
     "name": "stderr",
     "output_type": "stream",
     "text": []
    },
    {
     "name": "stdout",
     "output_type": "stream",
     "text": [
      "normalized pred locations loss 0.017999565228819847\n"
     ]
    },
    {
     "name": "stderr",
     "output_type": "stream",
     "text": [
      "Probe prediction step: 100%|██████████| 156/156 [00:10<00:00, 14.35it/s]\n",
      "Probe prediction epochs:  30%|███       | 6/20 [01:05<02:32, 10.89s/it]"
     ]
    },
    {
     "name": "stdout",
     "output_type": "stream",
     "text": [
      "normalized pred locations loss 0.01707381382584572\n"
     ]
    },
    {
     "name": "stderr",
     "output_type": "stream",
     "text": [
      "Probe prediction step: 100%|██████████| 156/156 [00:10<00:00, 14.32it/s]\n",
      "Probe prediction epochs:  35%|███▌      | 7/20 [01:16<02:21, 10.89s/it]"
     ]
    },
    {
     "name": "stdout",
     "output_type": "stream",
     "text": [
      "normalized pred locations loss 0.01764286682009697\n"
     ]
    },
    {
     "name": "stderr",
     "output_type": "stream",
     "text": []
    },
    {
     "name": "stdout",
     "output_type": "stream",
     "text": [
      "normalized pred locations loss 0.0181454885751009\n"
     ]
    },
    {
     "name": "stderr",
     "output_type": "stream",
     "text": [
      "Probe prediction step: 100%|██████████| 156/156 [00:13<00:00, 11.22it/s]\n",
      "Probe prediction epochs:  40%|████      | 8/20 [01:30<02:22, 11.85s/it]"
     ]
    },
    {
     "name": "stdout",
     "output_type": "stream",
     "text": [
      "normalized pred locations loss 0.016440289095044136\n"
     ]
    },
    {
     "name": "stderr",
     "output_type": "stream",
     "text": []
    },
    {
     "name": "stdout",
     "output_type": "stream",
     "text": [
      "normalized pred locations loss 0.013467704877257347\n"
     ]
    },
    {
     "name": "stderr",
     "output_type": "stream",
     "text": [
      "Probe prediction step: 100%|██████████| 156/156 [00:11<00:00, 13.18it/s]\n",
      "Probe prediction epochs:  45%|████▌     | 9/20 [01:42<02:10, 11.85s/it]"
     ]
    },
    {
     "name": "stdout",
     "output_type": "stream",
     "text": [
      "normalized pred locations loss 0.013533852063119411\n"
     ]
    },
    {
     "name": "stderr",
     "output_type": "stream",
     "text": [
      "Probe prediction step: 100%|██████████| 156/156 [00:11<00:00, 13.28it/s]\n",
      "Probe prediction epochs:  50%|█████     | 10/20 [01:53<01:58, 11.82s/it]"
     ]
    },
    {
     "name": "stdout",
     "output_type": "stream",
     "text": [
      "normalized pred locations loss 0.01879545859992504\n"
     ]
    },
    {
     "name": "stderr",
     "output_type": "stream",
     "text": []
    },
    {
     "name": "stdout",
     "output_type": "stream",
     "text": [
      "normalized pred locations loss 0.009867779910564423\n"
     ]
    },
    {
     "name": "stderr",
     "output_type": "stream",
     "text": [
      "Probe prediction step: 100%|██████████| 156/156 [00:11<00:00, 13.20it/s]\n",
      "Probe prediction epochs:  55%|█████▌    | 11/20 [02:05<01:46, 11.82s/it]"
     ]
    },
    {
     "name": "stdout",
     "output_type": "stream",
     "text": [
      "normalized pred locations loss 0.017523296177387238\n"
     ]
    },
    {
     "name": "stderr",
     "output_type": "stream",
     "text": [
      "Probe prediction step: 100%|██████████| 156/156 [00:11<00:00, 13.43it/s]\n",
      "Probe prediction epochs:  60%|██████    | 12/20 [02:17<01:34, 11.76s/it]"
     ]
    },
    {
     "name": "stdout",
     "output_type": "stream",
     "text": [
      "normalized pred locations loss 0.018665861338377\n"
     ]
    },
    {
     "name": "stderr",
     "output_type": "stream",
     "text": []
    },
    {
     "name": "stdout",
     "output_type": "stream",
     "text": [
      "normalized pred locations loss 0.011452412232756615\n"
     ]
    },
    {
     "name": "stderr",
     "output_type": "stream",
     "text": [
      "Probe prediction step: 100%|██████████| 156/156 [00:11<00:00, 13.43it/s]\n",
      "Probe prediction epochs:  65%|██████▌   | 13/20 [02:28<01:21, 11.71s/it]"
     ]
    },
    {
     "name": "stdout",
     "output_type": "stream",
     "text": [
      "normalized pred locations loss 0.011179137043654919\n"
     ]
    },
    {
     "name": "stderr",
     "output_type": "stream",
     "text": [
      "Probe prediction step: 100%|██████████| 156/156 [00:11<00:00, 13.32it/s]\n",
      "Probe prediction epochs:  70%|███████   | 14/20 [02:40<01:10, 11.71s/it]"
     ]
    },
    {
     "name": "stdout",
     "output_type": "stream",
     "text": [
      "normalized pred locations loss 0.006431798916310072\n"
     ]
    },
    {
     "name": "stderr",
     "output_type": "stream",
     "text": []
    },
    {
     "name": "stdout",
     "output_type": "stream",
     "text": [
      "normalized pred locations loss 0.009408630430698395\n"
     ]
    },
    {
     "name": "stderr",
     "output_type": "stream",
     "text": [
      "Probe prediction step: 100%|██████████| 156/156 [00:11<00:00, 13.34it/s]\n",
      "Probe prediction epochs:  75%|███████▌  | 15/20 [02:52<00:58, 11.71s/it]"
     ]
    },
    {
     "name": "stdout",
     "output_type": "stream",
     "text": [
      "normalized pred locations loss 0.007983547635376453\n"
     ]
    },
    {
     "name": "stderr",
     "output_type": "stream",
     "text": [
      "Probe prediction step: 100%|██████████| 156/156 [00:11<00:00, 13.25it/s]\n",
      "Probe prediction epochs:  80%|████████  | 16/20 [03:04<00:46, 11.73s/it]"
     ]
    },
    {
     "name": "stdout",
     "output_type": "stream",
     "text": [
      "normalized pred locations loss 0.009703127667307854\n"
     ]
    },
    {
     "name": "stderr",
     "output_type": "stream",
     "text": []
    },
    {
     "name": "stdout",
     "output_type": "stream",
     "text": [
      "normalized pred locations loss 0.012154152616858482\n"
     ]
    },
    {
     "name": "stderr",
     "output_type": "stream",
     "text": [
      "Probe prediction step: 100%|██████████| 156/156 [00:11<00:00, 13.40it/s]\n",
      "Probe prediction epochs:  85%|████████▌ | 17/20 [03:15<00:35, 11.70s/it]"
     ]
    },
    {
     "name": "stdout",
     "output_type": "stream",
     "text": [
      "normalized pred locations loss 0.00623256666585803\n"
     ]
    },
    {
     "name": "stderr",
     "output_type": "stream",
     "text": []
    },
    {
     "name": "stdout",
     "output_type": "stream",
     "text": [
      "normalized pred locations loss 0.005807817447930574\n"
     ]
    },
    {
     "name": "stderr",
     "output_type": "stream",
     "text": [
      "Probe prediction step: 100%|██████████| 156/156 [00:11<00:00, 13.20it/s]\n",
      "Probe prediction epochs:  90%|█████████ | 18/20 [03:27<00:23, 11.74s/it]"
     ]
    },
    {
     "name": "stdout",
     "output_type": "stream",
     "text": [
      "normalized pred locations loss 0.009952612221240997\n"
     ]
    },
    {
     "name": "stderr",
     "output_type": "stream",
     "text": [
      "Probe prediction step: 100%|██████████| 156/156 [00:11<00:00, 13.27it/s]\n",
      "Probe prediction epochs:  95%|█████████▌| 19/20 [03:39<00:11, 11.74s/it]"
     ]
    },
    {
     "name": "stdout",
     "output_type": "stream",
     "text": [
      "normalized pred locations loss 0.009786785580217838\n"
     ]
    },
    {
     "name": "stderr",
     "output_type": "stream",
     "text": []
    },
    {
     "name": "stdout",
     "output_type": "stream",
     "text": [
      "normalized pred locations loss 0.008031783625483513\n"
     ]
    },
    {
     "name": "stderr",
     "output_type": "stream",
     "text": [
      "Probe prediction step: 100%|██████████| 156/156 [00:07<00:00, 19.53it/s]\n",
      "Probe prediction epochs: 100%|██████████| 20/20 [03:47<00:00, 11.37s/it]\n",
      "Eval probe pred: 100%|██████████| 62/62 [00:02<00:00, 25.33it/s]\n",
      "Eval probe pred: 100%|██████████| 62/62 [00:02<00:00, 25.29it/s]\n"
     ]
    },
    {
     "name": "stdout",
     "output_type": "stream",
     "text": [
      "normal loss: 3.4674692153930664\n",
      "wall loss: 7.241121768951416\n",
      "--------------------------------------------------------------------------------\n"
     ]
    },
    {
     "name": "stderr",
     "output_type": "stream",
     "text": [
      "Epoch 9/100: 100%|██████████| 1148/1148 [02:19<00:00,  8.21it/s, loss=318.7579, time/batch=0.076s, gpu_mem=2.1GB]\n"
     ]
    },
    {
     "name": "stdout",
     "output_type": "stream",
     "text": [
      "\n",
      "Epoch 9/100 Summary:\n",
      "Train Loss: 318.7579\n",
      "Component Losses:\n",
      "  total_loss: 318.7579\n",
      "  vicreg_sim_loss: 0.4656\n",
      "  vicreg_std_loss: 1.1699\n",
      "  vicreg_cov_loss: 4.8592\n",
      "  barlow_loss: 591.7691\n",
      "Epoch Time: 139.8s\n",
      "Avg Batch Time: 0.076s\n",
      "GPU Memory: 1988MB\n",
      "Checkpoint saved to checkpoints/combined_barlow_vicreg/checkpoint_epoch_10.pt\n"
     ]
    },
    {
     "name": "stderr",
     "output_type": "stream",
     "text": [
      "Probe prediction epochs:   0%|          | 0/20 [00:00<?, ?it/s]"
     ]
    },
    {
     "name": "stdout",
     "output_type": "stream",
     "text": [
      "normalized pred locations loss 1.0668574571609497\n"
     ]
    },
    {
     "name": "stderr",
     "output_type": "stream",
     "text": []
    },
    {
     "name": "stdout",
     "output_type": "stream",
     "text": [
      "normalized pred locations loss 0.10879135131835938\n"
     ]
    },
    {
     "name": "stderr",
     "output_type": "stream",
     "text": [
      "Probe prediction step: 100%|██████████| 156/156 [00:10<00:00, 14.20it/s]\n",
      "Probe prediction epochs:   5%|▌         | 1/20 [00:10<03:28, 10.99s/it]"
     ]
    },
    {
     "name": "stdout",
     "output_type": "stream",
     "text": [
      "normalized pred locations loss 0.04865381866693497\n"
     ]
    },
    {
     "name": "stderr",
     "output_type": "stream",
     "text": []
    },
    {
     "name": "stdout",
     "output_type": "stream",
     "text": [
      "normalized pred locations loss 0.033261243253946304\n"
     ]
    },
    {
     "name": "stderr",
     "output_type": "stream",
     "text": [
      "Probe prediction step: 100%|██████████| 156/156 [00:11<00:00, 14.07it/s]\n",
      "Probe prediction epochs:  10%|█         | 2/20 [00:22<03:18, 11.05s/it]"
     ]
    },
    {
     "name": "stdout",
     "output_type": "stream",
     "text": [
      "normalized pred locations loss 0.0377991758286953\n"
     ]
    },
    {
     "name": "stderr",
     "output_type": "stream",
     "text": [
      "Probe prediction step: 100%|██████████| 156/156 [00:11<00:00, 14.09it/s]\n",
      "Probe prediction epochs:  15%|█▌        | 3/20 [00:33<03:08, 11.06s/it]"
     ]
    },
    {
     "name": "stdout",
     "output_type": "stream",
     "text": [
      "normalized pred locations loss 0.032751183956861496\n"
     ]
    },
    {
     "name": "stderr",
     "output_type": "stream",
     "text": []
    },
    {
     "name": "stdout",
     "output_type": "stream",
     "text": [
      "normalized pred locations loss 0.02940683253109455\n"
     ]
    },
    {
     "name": "stderr",
     "output_type": "stream",
     "text": [
      "Probe prediction step: 100%|██████████| 156/156 [00:11<00:00, 14.11it/s]\n",
      "Probe prediction epochs:  20%|██        | 4/20 [00:44<02:56, 11.06s/it]"
     ]
    },
    {
     "name": "stdout",
     "output_type": "stream",
     "text": [
      "normalized pred locations loss 0.02367246523499489\n"
     ]
    },
    {
     "name": "stderr",
     "output_type": "stream",
     "text": [
      "Probe prediction step: 100%|██████████| 156/156 [00:10<00:00, 14.91it/s]\n",
      "Probe prediction epochs:  25%|██▌       | 5/20 [00:54<02:42, 10.84s/it]"
     ]
    },
    {
     "name": "stdout",
     "output_type": "stream",
     "text": [
      "normalized pred locations loss 0.019910143688321114\n"
     ]
    },
    {
     "name": "stderr",
     "output_type": "stream",
     "text": []
    },
    {
     "name": "stdout",
     "output_type": "stream",
     "text": [
      "normalized pred locations loss 0.021201591938734055\n"
     ]
    },
    {
     "name": "stderr",
     "output_type": "stream",
     "text": [
      "Probe prediction step: 100%|██████████| 156/156 [00:11<00:00, 14.14it/s]\n",
      "Probe prediction epochs:  30%|███       | 6/20 [01:05<02:32, 10.91s/it]"
     ]
    },
    {
     "name": "stdout",
     "output_type": "stream",
     "text": [
      "normalized pred locations loss 0.014675806276500225\n"
     ]
    },
    {
     "name": "stderr",
     "output_type": "stream",
     "text": [
      "Probe prediction step: 100%|██████████| 156/156 [00:11<00:00, 14.12it/s]\n",
      "Probe prediction epochs:  35%|███▌      | 7/20 [01:16<02:22, 10.96s/it]"
     ]
    },
    {
     "name": "stdout",
     "output_type": "stream",
     "text": [
      "normalized pred locations loss 0.018343757838010788\n"
     ]
    },
    {
     "name": "stderr",
     "output_type": "stream",
     "text": []
    },
    {
     "name": "stdout",
     "output_type": "stream",
     "text": [
      "normalized pred locations loss 0.022522352635860443\n"
     ]
    },
    {
     "name": "stderr",
     "output_type": "stream",
     "text": [
      "Probe prediction step: 100%|██████████| 156/156 [00:10<00:00, 14.32it/s]\n",
      "Probe prediction epochs:  40%|████      | 8/20 [01:27<02:11, 10.94s/it]"
     ]
    },
    {
     "name": "stdout",
     "output_type": "stream",
     "text": [
      "normalized pred locations loss 0.012902108952403069\n"
     ]
    },
    {
     "name": "stderr",
     "output_type": "stream",
     "text": [
      "Probe prediction step: 100%|██████████| 156/156 [00:07<00:00, 20.59it/s]\n",
      "Probe prediction epochs:  45%|████▌     | 9/20 [01:35<01:48,  9.89s/it]"
     ]
    },
    {
     "name": "stdout",
     "output_type": "stream",
     "text": [
      "normalized pred locations loss 0.013167341239750385\n"
     ]
    },
    {
     "name": "stderr",
     "output_type": "stream",
     "text": []
    },
    {
     "name": "stdout",
     "output_type": "stream",
     "text": [
      "normalized pred locations loss 0.010864177718758583\n"
     ]
    },
    {
     "name": "stderr",
     "output_type": "stream",
     "text": [
      "Probe prediction step: 100%|██████████| 156/156 [00:11<00:00, 13.23it/s]\n",
      "Probe prediction epochs:  50%|█████     | 10/20 [01:47<01:44, 10.48s/it]"
     ]
    },
    {
     "name": "stdout",
     "output_type": "stream",
     "text": [
      "normalized pred locations loss 0.008942804299294949\n"
     ]
    },
    {
     "name": "stderr",
     "output_type": "stream",
     "text": []
    },
    {
     "name": "stdout",
     "output_type": "stream",
     "text": [
      "normalized pred locations loss 0.0123186856508255\n"
     ]
    },
    {
     "name": "stderr",
     "output_type": "stream",
     "text": [
      "Probe prediction step: 100%|██████████| 156/156 [00:11<00:00, 13.20it/s]\n",
      "Probe prediction epochs:  55%|█████▌    | 11/20 [01:58<01:37, 10.89s/it]"
     ]
    },
    {
     "name": "stdout",
     "output_type": "stream",
     "text": [
      "normalized pred locations loss 0.01145927980542183\n"
     ]
    },
    {
     "name": "stderr",
     "output_type": "stream",
     "text": [
      "Probe prediction step: 100%|██████████| 156/156 [00:11<00:00, 13.30it/s]\n",
      "Probe prediction epochs:  60%|██████    | 12/20 [02:10<01:29, 11.14s/it]"
     ]
    },
    {
     "name": "stdout",
     "output_type": "stream",
     "text": [
      "normalized pred locations loss 0.010985251516103745\n"
     ]
    },
    {
     "name": "stderr",
     "output_type": "stream",
     "text": []
    },
    {
     "name": "stdout",
     "output_type": "stream",
     "text": [
      "normalized pred locations loss 0.008406679145991802\n"
     ]
    },
    {
     "name": "stderr",
     "output_type": "stream",
     "text": [
      "Probe prediction step: 100%|██████████| 156/156 [00:11<00:00, 13.20it/s]\n",
      "Probe prediction epochs:  65%|██████▌   | 13/20 [02:22<01:19, 11.35s/it]"
     ]
    },
    {
     "name": "stdout",
     "output_type": "stream",
     "text": [
      "normalized pred locations loss 0.01074040774255991\n"
     ]
    },
    {
     "name": "stderr",
     "output_type": "stream",
     "text": [
      "Probe prediction step: 100%|██████████| 156/156 [00:11<00:00, 13.35it/s]\n",
      "Probe prediction epochs:  70%|███████   | 14/20 [02:34<01:08, 11.45s/it]"
     ]
    },
    {
     "name": "stdout",
     "output_type": "stream",
     "text": [
      "normalized pred locations loss 0.0070217326283454895\n"
     ]
    },
    {
     "name": "stderr",
     "output_type": "stream",
     "text": []
    },
    {
     "name": "stdout",
     "output_type": "stream",
     "text": [
      "normalized pred locations loss 0.009316515177488327\n"
     ]
    },
    {
     "name": "stderr",
     "output_type": "stream",
     "text": [
      "Probe prediction step: 100%|██████████| 156/156 [00:11<00:00, 13.30it/s]\n",
      "Probe prediction epochs:  75%|███████▌  | 15/20 [02:45<00:57, 11.54s/it]"
     ]
    },
    {
     "name": "stdout",
     "output_type": "stream",
     "text": [
      "normalized pred locations loss 0.007269103545695543\n"
     ]
    },
    {
     "name": "stderr",
     "output_type": "stream",
     "text": [
      "Probe prediction step: 100%|██████████| 156/156 [00:11<00:00, 13.47it/s]\n",
      "Probe prediction epochs:  80%|████████  | 16/20 [02:57<00:46, 11.55s/it]"
     ]
    },
    {
     "name": "stdout",
     "output_type": "stream",
     "text": [
      "normalized pred locations loss 0.009873139671981335\n"
     ]
    },
    {
     "name": "stderr",
     "output_type": "stream",
     "text": []
    },
    {
     "name": "stdout",
     "output_type": "stream",
     "text": [
      "normalized pred locations loss 0.010334819555282593\n"
     ]
    },
    {
     "name": "stderr",
     "output_type": "stream",
     "text": [
      "Probe prediction step: 100%|██████████| 156/156 [00:11<00:00, 13.43it/s]\n",
      "Probe prediction epochs:  85%|████████▌ | 17/20 [03:09<00:34, 11.57s/it]"
     ]
    },
    {
     "name": "stdout",
     "output_type": "stream",
     "text": [
      "normalized pred locations loss 0.007153197191655636\n"
     ]
    },
    {
     "name": "stderr",
     "output_type": "stream",
     "text": []
    },
    {
     "name": "stdout",
     "output_type": "stream",
     "text": [
      "normalized pred locations loss 0.006821429822593927\n"
     ]
    },
    {
     "name": "stderr",
     "output_type": "stream",
     "text": [
      "Probe prediction step: 100%|██████████| 156/156 [00:11<00:00, 13.24it/s]\n",
      "Probe prediction epochs:  90%|█████████ | 18/20 [03:20<00:23, 11.63s/it]"
     ]
    },
    {
     "name": "stdout",
     "output_type": "stream",
     "text": [
      "normalized pred locations loss 0.011238587088882923\n"
     ]
    },
    {
     "name": "stderr",
     "output_type": "stream",
     "text": [
      "Probe prediction step: 100%|██████████| 156/156 [00:11<00:00, 13.22it/s]\n",
      "Probe prediction epochs:  95%|█████████▌| 19/20 [03:32<00:11, 11.69s/it]"
     ]
    },
    {
     "name": "stdout",
     "output_type": "stream",
     "text": [
      "normalized pred locations loss 0.005495882127434015\n"
     ]
    },
    {
     "name": "stderr",
     "output_type": "stream",
     "text": []
    },
    {
     "name": "stdout",
     "output_type": "stream",
     "text": [
      "normalized pred locations loss 0.006472495384514332\n"
     ]
    },
    {
     "name": "stderr",
     "output_type": "stream",
     "text": [
      "Probe prediction step: 100%|██████████| 156/156 [00:11<00:00, 13.43it/s]\n",
      "Probe prediction epochs: 100%|██████████| 20/20 [03:44<00:00, 11.21s/it]\n",
      "Eval probe pred: 100%|██████████| 62/62 [00:04<00:00, 14.13it/s]\n",
      "Eval probe pred: 100%|██████████| 62/62 [00:04<00:00, 14.09it/s]\n"
     ]
    },
    {
     "name": "stdout",
     "output_type": "stream",
     "text": [
      "normal loss: 3.3981287479400635\n",
      "wall loss: 6.827298164367676\n",
      "--------------------------------------------------------------------------------\n"
     ]
    },
    {
     "name": "stderr",
     "output_type": "stream",
     "text": [
      "Epoch 10/100: 100%|██████████| 1148/1148 [02:20<00:00,  8.20it/s, loss=311.6711, time/batch=0.074s, gpu_mem=2.1GB]\n"
     ]
    },
    {
     "name": "stdout",
     "output_type": "stream",
     "text": [
      "\n",
      "Epoch 10/100 Summary:\n",
      "Train Loss: 311.6711\n",
      "Component Losses:\n",
      "  total_loss: 311.6711\n",
      "  vicreg_sim_loss: 0.4498\n",
      "  vicreg_std_loss: 1.1657\n",
      "  vicreg_cov_loss: 4.8647\n",
      "  barlow_loss: 578.0919\n",
      "Epoch Time: 140.1s\n",
      "Avg Batch Time: 0.074s\n",
      "GPU Memory: 1988MB\n"
     ]
    },
    {
     "name": "stderr",
     "output_type": "stream",
     "text": [
      "Probe prediction epochs:   0%|          | 0/20 [00:00<?, ?it/s]"
     ]
    },
    {
     "name": "stdout",
     "output_type": "stream",
     "text": [
      "normalized pred locations loss 1.0157663822174072\n"
     ]
    },
    {
     "name": "stderr",
     "output_type": "stream",
     "text": []
    },
    {
     "name": "stdout",
     "output_type": "stream",
     "text": [
      "normalized pred locations loss 0.10308150947093964\n"
     ]
    },
    {
     "name": "stderr",
     "output_type": "stream",
     "text": [
      "Probe prediction step: 100%|██████████| 156/156 [00:11<00:00, 14.09it/s]\n",
      "Probe prediction epochs:   5%|▌         | 1/20 [00:11<03:30, 11.07s/it]"
     ]
    },
    {
     "name": "stdout",
     "output_type": "stream",
     "text": [
      "normalized pred locations loss 0.036600761115550995\n"
     ]
    },
    {
     "name": "stderr",
     "output_type": "stream",
     "text": []
    },
    {
     "name": "stdout",
     "output_type": "stream",
     "text": [
      "normalized pred locations loss 0.037433698773384094\n"
     ]
    },
    {
     "name": "stderr",
     "output_type": "stream",
     "text": [
      "Probe prediction step: 100%|██████████| 156/156 [00:10<00:00, 14.34it/s]\n",
      "Probe prediction epochs:  10%|█         | 2/20 [00:21<03:17, 10.96s/it]"
     ]
    },
    {
     "name": "stdout",
     "output_type": "stream",
     "text": [
      "normalized pred locations loss 0.025931725278496742\n"
     ]
    },
    {
     "name": "stderr",
     "output_type": "stream",
     "text": [
      "Probe prediction step: 100%|██████████| 156/156 [00:11<00:00, 14.10it/s]\n",
      "Probe prediction epochs:  15%|█▌        | 3/20 [00:33<03:07, 11.01s/it]"
     ]
    },
    {
     "name": "stdout",
     "output_type": "stream",
     "text": [
      "normalized pred locations loss 0.02330898679792881\n"
     ]
    },
    {
     "name": "stderr",
     "output_type": "stream",
     "text": []
    },
    {
     "name": "stdout",
     "output_type": "stream",
     "text": [
      "normalized pred locations loss 0.023060329258441925\n"
     ]
    },
    {
     "name": "stderr",
     "output_type": "stream",
     "text": [
      "Probe prediction step: 100%|██████████| 156/156 [00:11<00:00, 14.11it/s]\n",
      "Probe prediction epochs:  20%|██        | 4/20 [00:44<02:56, 11.03s/it]"
     ]
    },
    {
     "name": "stdout",
     "output_type": "stream",
     "text": [
      "normalized pred locations loss 0.02499234862625599\n"
     ]
    },
    {
     "name": "stderr",
     "output_type": "stream",
     "text": [
      "Probe prediction step: 100%|██████████| 156/156 [00:11<00:00, 14.16it/s]\n",
      "Probe prediction epochs:  25%|██▌       | 5/20 [00:55<02:45, 11.02s/it]"
     ]
    },
    {
     "name": "stdout",
     "output_type": "stream",
     "text": [
      "normalized pred locations loss 0.021769821643829346\n"
     ]
    },
    {
     "name": "stderr",
     "output_type": "stream",
     "text": []
    },
    {
     "name": "stdout",
     "output_type": "stream",
     "text": [
      "normalized pred locations loss 0.012792025692760944\n"
     ]
    },
    {
     "name": "stderr",
     "output_type": "stream",
     "text": [
      "Probe prediction step: 100%|██████████| 156/156 [00:04<00:00, 36.45it/s]\n",
      "Probe prediction epochs:  30%|███       | 6/20 [00:59<02:02,  8.73s/it]"
     ]
    },
    {
     "name": "stdout",
     "output_type": "stream",
     "text": [
      "normalized pred locations loss 0.01248762384057045\n"
     ]
    },
    {
     "name": "stderr",
     "output_type": "stream",
     "text": [
      "Probe prediction step: 100%|██████████| 156/156 [00:04<00:00, 36.15it/s]\n",
      "Probe prediction epochs:  35%|███▌      | 7/20 [01:03<01:34,  7.29s/it]"
     ]
    },
    {
     "name": "stdout",
     "output_type": "stream",
     "text": [
      "normalized pred locations loss 0.011737323366105556\n"
     ]
    },
    {
     "name": "stderr",
     "output_type": "stream",
     "text": []
    },
    {
     "name": "stdout",
     "output_type": "stream",
     "text": [
      "normalized pred locations loss 0.015755122527480125\n"
     ]
    },
    {
     "name": "stderr",
     "output_type": "stream",
     "text": [
      "Probe prediction step: 100%|██████████| 156/156 [00:04<00:00, 36.89it/s]\n",
      "Probe prediction epochs:  40%|████      | 8/20 [01:07<01:15,  6.32s/it]"
     ]
    },
    {
     "name": "stdout",
     "output_type": "stream",
     "text": [
      "normalized pred locations loss 0.014278591610491276\n"
     ]
    },
    {
     "name": "stderr",
     "output_type": "stream",
     "text": [
      "Probe prediction step: 100%|██████████| 156/156 [00:04<00:00, 35.57it/s]\n",
      "Probe prediction epochs:  45%|████▌     | 9/20 [01:12<01:02,  5.71s/it]"
     ]
    },
    {
     "name": "stdout",
     "output_type": "stream",
     "text": [
      "normalized pred locations loss 0.014791339635848999\n"
     ]
    },
    {
     "name": "stderr",
     "output_type": "stream",
     "text": []
    },
    {
     "name": "stdout",
     "output_type": "stream",
     "text": [
      "normalized pred locations loss 0.008142620325088501\n"
     ]
    },
    {
     "name": "stderr",
     "output_type": "stream",
     "text": [
      "Probe prediction step: 100%|██████████| 156/156 [00:04<00:00, 36.24it/s]\n",
      "Probe prediction epochs:  50%|█████     | 10/20 [01:16<00:52,  5.28s/it]"
     ]
    },
    {
     "name": "stdout",
     "output_type": "stream",
     "text": [
      "normalized pred locations loss 0.00954383797943592\n"
     ]
    },
    {
     "name": "stderr",
     "output_type": "stream",
     "text": []
    },
    {
     "name": "stdout",
     "output_type": "stream",
     "text": [
      "normalized pred locations loss 0.0109332874417305\n"
     ]
    },
    {
     "name": "stderr",
     "output_type": "stream",
     "text": [
      "Probe prediction step: 100%|██████████| 156/156 [00:05<00:00, 30.32it/s]\n",
      "Probe prediction epochs:  55%|█████▌    | 11/20 [01:21<00:47,  5.24s/it]"
     ]
    },
    {
     "name": "stdout",
     "output_type": "stream",
     "text": [
      "normalized pred locations loss 0.008598017506301403\n"
     ]
    },
    {
     "name": "stderr",
     "output_type": "stream",
     "text": [
      "Probe prediction step: 100%|██████████| 156/156 [00:08<00:00, 18.73it/s]\n",
      "Probe prediction epochs:  60%|██████    | 12/20 [01:30<00:49,  6.18s/it]"
     ]
    },
    {
     "name": "stdout",
     "output_type": "stream",
     "text": [
      "normalized pred locations loss 0.009986872784793377\n"
     ]
    },
    {
     "name": "stderr",
     "output_type": "stream",
     "text": []
    },
    {
     "name": "stdout",
     "output_type": "stream",
     "text": [
      "normalized pred locations loss 0.006612148601561785\n"
     ]
    },
    {
     "name": "stderr",
     "output_type": "stream",
     "text": [
      "Probe prediction step: 100%|██████████| 156/156 [00:08<00:00, 18.83it/s]\n",
      "Probe prediction epochs:  65%|██████▌   | 13/20 [01:38<00:47,  6.82s/it]"
     ]
    },
    {
     "name": "stdout",
     "output_type": "stream",
     "text": [
      "normalized pred locations loss 0.0064377933740615845\n"
     ]
    },
    {
     "name": "stderr",
     "output_type": "stream",
     "text": [
      "Probe prediction step: 100%|██████████| 156/156 [00:08<00:00, 18.67it/s]\n",
      "Probe prediction epochs:  70%|███████   | 14/20 [01:46<00:43,  7.28s/it]"
     ]
    },
    {
     "name": "stdout",
     "output_type": "stream",
     "text": [
      "normalized pred locations loss 0.008437287993729115\n"
     ]
    },
    {
     "name": "stderr",
     "output_type": "stream",
     "text": []
    },
    {
     "name": "stdout",
     "output_type": "stream",
     "text": [
      "normalized pred locations loss 0.008817914873361588\n"
     ]
    },
    {
     "name": "stderr",
     "output_type": "stream",
     "text": [
      "Probe prediction step: 100%|██████████| 156/156 [00:08<00:00, 18.89it/s]\n",
      "Probe prediction epochs:  75%|███████▌  | 15/20 [01:54<00:37,  7.58s/it]"
     ]
    },
    {
     "name": "stdout",
     "output_type": "stream",
     "text": [
      "normalized pred locations loss 0.006727051455527544\n"
     ]
    },
    {
     "name": "stderr",
     "output_type": "stream",
     "text": [
      "Probe prediction step: 100%|██████████| 156/156 [00:08<00:00, 18.81it/s]\n",
      "Probe prediction epochs:  80%|████████  | 16/20 [02:03<00:31,  7.79s/it]"
     ]
    },
    {
     "name": "stdout",
     "output_type": "stream",
     "text": [
      "normalized pred locations loss 0.007297968026250601\n"
     ]
    },
    {
     "name": "stderr",
     "output_type": "stream",
     "text": []
    },
    {
     "name": "stdout",
     "output_type": "stream",
     "text": [
      "normalized pred locations loss 0.006364633794873953\n"
     ]
    },
    {
     "name": "stderr",
     "output_type": "stream",
     "text": [
      "Probe prediction step: 100%|██████████| 156/156 [00:08<00:00, 18.85it/s]\n",
      "Probe prediction epochs:  85%|████████▌ | 17/20 [02:11<00:23,  7.94s/it]"
     ]
    },
    {
     "name": "stdout",
     "output_type": "stream",
     "text": [
      "normalized pred locations loss 0.006291055586189032\n"
     ]
    },
    {
     "name": "stderr",
     "output_type": "stream",
     "text": []
    },
    {
     "name": "stdout",
     "output_type": "stream",
     "text": [
      "normalized pred locations loss 0.005795670207589865\n"
     ]
    },
    {
     "name": "stderr",
     "output_type": "stream",
     "text": [
      "Probe prediction step: 100%|██████████| 156/156 [00:08<00:00, 18.83it/s]\n",
      "Probe prediction epochs:  90%|█████████ | 18/20 [02:19<00:16,  8.04s/it]"
     ]
    },
    {
     "name": "stdout",
     "output_type": "stream",
     "text": [
      "normalized pred locations loss 0.007840332575142384\n"
     ]
    },
    {
     "name": "stderr",
     "output_type": "stream",
     "text": [
      "Probe prediction step: 100%|██████████| 156/156 [00:08<00:00, 18.85it/s]\n",
      "Probe prediction epochs:  95%|█████████▌| 19/20 [02:28<00:08,  8.11s/it]"
     ]
    },
    {
     "name": "stdout",
     "output_type": "stream",
     "text": [
      "normalized pred locations loss 0.004583344794809818\n"
     ]
    },
    {
     "name": "stderr",
     "output_type": "stream",
     "text": []
    },
    {
     "name": "stdout",
     "output_type": "stream",
     "text": [
      "normalized pred locations loss 0.006607231218367815\n"
     ]
    },
    {
     "name": "stderr",
     "output_type": "stream",
     "text": [
      "Probe prediction step: 100%|██████████| 156/156 [00:08<00:00, 18.87it/s]\n",
      "Probe prediction epochs: 100%|██████████| 20/20 [02:36<00:00,  7.82s/it]\n",
      "Eval probe pred: 100%|██████████| 62/62 [00:02<00:00, 22.00it/s]\n",
      "Eval probe pred: 100%|██████████| 62/62 [00:02<00:00, 21.98it/s]\n"
     ]
    },
    {
     "name": "stdout",
     "output_type": "stream",
     "text": [
      "normal loss: 2.9325318336486816\n",
      "wall loss: 6.417964458465576\n",
      "--------------------------------------------------------------------------------\n"
     ]
    },
    {
     "name": "stderr",
     "output_type": "stream",
     "text": [
      "Epoch 11/100: 100%|██████████| 1148/1148 [02:16<00:00,  8.41it/s, loss=303.8026, time/batch=0.070s, gpu_mem=2.1GB]\n"
     ]
    },
    {
     "name": "stdout",
     "output_type": "stream",
     "text": [
      "\n",
      "Epoch 11/100 Summary:\n",
      "Train Loss: 303.8026\n",
      "Component Losses:\n",
      "  total_loss: 303.8026\n",
      "  vicreg_sim_loss: 0.4354\n",
      "  vicreg_std_loss: 1.1638\n",
      "  vicreg_cov_loss: 4.8367\n",
      "  barlow_loss: 562.7897\n",
      "Epoch Time: 136.6s\n",
      "Avg Batch Time: 0.070s\n",
      "GPU Memory: 1988MB\n"
     ]
    },
    {
     "name": "stderr",
     "output_type": "stream",
     "text": [
      "Probe prediction epochs:   0%|          | 0/20 [00:00<?, ?it/s]"
     ]
    },
    {
     "name": "stdout",
     "output_type": "stream",
     "text": [
      "normalized pred locations loss 1.1130744218826294\n"
     ]
    },
    {
     "name": "stderr",
     "output_type": "stream",
     "text": []
    },
    {
     "name": "stdout",
     "output_type": "stream",
     "text": [
      "normalized pred locations loss 0.10561424493789673\n"
     ]
    },
    {
     "name": "stderr",
     "output_type": "stream",
     "text": [
      "Probe prediction step: 100%|██████████| 156/156 [00:04<00:00, 36.82it/s]\n",
      "Probe prediction epochs:   5%|▌         | 1/20 [00:04<01:20,  4.24s/it]"
     ]
    },
    {
     "name": "stdout",
     "output_type": "stream",
     "text": [
      "normalized pred locations loss 0.043449580669403076\n"
     ]
    },
    {
     "name": "stderr",
     "output_type": "stream",
     "text": []
    },
    {
     "name": "stdout",
     "output_type": "stream",
     "text": [
      "normalized pred locations loss 0.03518408164381981\n"
     ]
    },
    {
     "name": "stderr",
     "output_type": "stream",
     "text": [
      "Probe prediction step: 100%|██████████| 156/156 [00:04<00:00, 36.61it/s]\n",
      "Probe prediction epochs:  10%|█         | 2/20 [00:08<01:16,  4.25s/it]"
     ]
    },
    {
     "name": "stdout",
     "output_type": "stream",
     "text": [
      "normalized pred locations loss 0.03996364027261734\n"
     ]
    },
    {
     "name": "stderr",
     "output_type": "stream",
     "text": [
      "Probe prediction step: 100%|██████████| 156/156 [00:04<00:00, 37.02it/s]\n",
      "Probe prediction epochs:  15%|█▌        | 3/20 [00:12<01:12,  4.24s/it]"
     ]
    },
    {
     "name": "stdout",
     "output_type": "stream",
     "text": [
      "normalized pred locations loss 0.033840395510196686\n"
     ]
    },
    {
     "name": "stderr",
     "output_type": "stream",
     "text": []
    },
    {
     "name": "stdout",
     "output_type": "stream",
     "text": [
      "normalized pred locations loss 0.022899135947227478\n"
     ]
    },
    {
     "name": "stderr",
     "output_type": "stream",
     "text": [
      "Probe prediction step: 100%|██████████| 156/156 [00:04<00:00, 37.62it/s]\n",
      "Probe prediction epochs:  20%|██        | 4/20 [00:16<01:07,  4.20s/it]"
     ]
    },
    {
     "name": "stdout",
     "output_type": "stream",
     "text": [
      "normalized pred locations loss 0.02319304831326008\n"
     ]
    },
    {
     "name": "stderr",
     "output_type": "stream",
     "text": [
      "Probe prediction step: 100%|██████████| 156/156 [00:04<00:00, 37.00it/s]\n",
      "Probe prediction epochs:  25%|██▌       | 5/20 [00:21<01:03,  4.21s/it]"
     ]
    },
    {
     "name": "stdout",
     "output_type": "stream",
     "text": [
      "normalized pred locations loss 0.016315165907144547\n"
     ]
    },
    {
     "name": "stderr",
     "output_type": "stream",
     "text": []
    },
    {
     "name": "stdout",
     "output_type": "stream",
     "text": [
      "normalized pred locations loss 0.012710406444966793\n"
     ]
    },
    {
     "name": "stderr",
     "output_type": "stream",
     "text": [
      "Probe prediction step: 100%|██████████| 156/156 [00:04<00:00, 35.21it/s]\n",
      "Probe prediction epochs:  30%|███       | 6/20 [00:25<00:59,  4.28s/it]"
     ]
    },
    {
     "name": "stdout",
     "output_type": "stream",
     "text": [
      "normalized pred locations loss 0.024172132834792137\n"
     ]
    },
    {
     "name": "stderr",
     "output_type": "stream",
     "text": [
      "Probe prediction step: 100%|██████████| 156/156 [00:04<00:00, 36.13it/s]\n",
      "Probe prediction epochs:  35%|███▌      | 7/20 [00:29<00:55,  4.30s/it]"
     ]
    },
    {
     "name": "stdout",
     "output_type": "stream",
     "text": [
      "normalized pred locations loss 0.015023080632090569\n"
     ]
    },
    {
     "name": "stderr",
     "output_type": "stream",
     "text": []
    },
    {
     "name": "stdout",
     "output_type": "stream",
     "text": [
      "normalized pred locations loss 0.013956958428025246\n"
     ]
    },
    {
     "name": "stderr",
     "output_type": "stream",
     "text": [
      "Probe prediction step: 100%|██████████| 156/156 [00:04<00:00, 35.87it/s]\n",
      "Probe prediction epochs:  40%|████      | 8/20 [00:34<00:51,  4.31s/it]"
     ]
    },
    {
     "name": "stdout",
     "output_type": "stream",
     "text": [
      "normalized pred locations loss 0.016089562326669693\n"
     ]
    },
    {
     "name": "stderr",
     "output_type": "stream",
     "text": [
      "Probe prediction step: 100%|██████████| 156/156 [00:04<00:00, 37.23it/s]\n",
      "Probe prediction epochs:  45%|████▌     | 9/20 [00:38<00:47,  4.28s/it]"
     ]
    },
    {
     "name": "stdout",
     "output_type": "stream",
     "text": [
      "normalized pred locations loss 0.012782882899045944\n"
     ]
    },
    {
     "name": "stderr",
     "output_type": "stream",
     "text": []
    },
    {
     "name": "stdout",
     "output_type": "stream",
     "text": [
      "normalized pred locations loss 0.010631068609654903\n"
     ]
    },
    {
     "name": "stderr",
     "output_type": "stream",
     "text": [
      "Probe prediction step: 100%|██████████| 156/156 [00:04<00:00, 36.72it/s]\n",
      "Probe prediction epochs:  50%|█████     | 10/20 [00:42<00:42,  4.27s/it]"
     ]
    },
    {
     "name": "stdout",
     "output_type": "stream",
     "text": [
      "normalized pred locations loss 0.009423069655895233\n"
     ]
    },
    {
     "name": "stderr",
     "output_type": "stream",
     "text": []
    },
    {
     "name": "stdout",
     "output_type": "stream",
     "text": [
      "normalized pred locations loss 0.007935437373816967\n"
     ]
    },
    {
     "name": "stderr",
     "output_type": "stream",
     "text": [
      "Probe prediction step: 100%|██████████| 156/156 [00:04<00:00, 36.10it/s]\n",
      "Probe prediction epochs:  55%|█████▌    | 11/20 [00:46<00:38,  4.28s/it]"
     ]
    },
    {
     "name": "stdout",
     "output_type": "stream",
     "text": [
      "normalized pred locations loss 0.011089473031461239\n"
     ]
    },
    {
     "name": "stderr",
     "output_type": "stream",
     "text": [
      "Probe prediction step: 100%|██████████| 156/156 [00:06<00:00, 24.47it/s]\n",
      "Probe prediction epochs:  60%|██████    | 12/20 [00:53<00:39,  4.92s/it]"
     ]
    },
    {
     "name": "stdout",
     "output_type": "stream",
     "text": [
      "normalized pred locations loss 0.00879609677940607\n"
     ]
    },
    {
     "name": "stderr",
     "output_type": "stream",
     "text": []
    },
    {
     "name": "stdout",
     "output_type": "stream",
     "text": [
      "normalized pred locations loss 0.00984334759414196\n"
     ]
    },
    {
     "name": "stderr",
     "output_type": "stream",
     "text": [
      "Probe prediction step: 100%|██████████| 156/156 [00:08<00:00, 18.75it/s]\n",
      "Probe prediction epochs:  65%|██████▌   | 13/20 [01:01<00:41,  5.95s/it]"
     ]
    },
    {
     "name": "stdout",
     "output_type": "stream",
     "text": [
      "normalized pred locations loss 0.006700395606458187\n"
     ]
    },
    {
     "name": "stderr",
     "output_type": "stream",
     "text": [
      "Probe prediction step: 100%|██████████| 156/156 [00:08<00:00, 18.76it/s]\n",
      "Probe prediction epochs:  70%|███████   | 14/20 [01:09<00:39,  6.67s/it]"
     ]
    },
    {
     "name": "stdout",
     "output_type": "stream",
     "text": [
      "normalized pred locations loss 0.007196655962616205\n"
     ]
    },
    {
     "name": "stderr",
     "output_type": "stream",
     "text": []
    },
    {
     "name": "stdout",
     "output_type": "stream",
     "text": [
      "normalized pred locations loss 0.007155961357057095\n"
     ]
    },
    {
     "name": "stderr",
     "output_type": "stream",
     "text": [
      "Probe prediction step: 100%|██████████| 156/156 [00:08<00:00, 18.78it/s]\n",
      "Probe prediction epochs:  75%|███████▌  | 15/20 [01:18<00:35,  7.16s/it]"
     ]
    },
    {
     "name": "stdout",
     "output_type": "stream",
     "text": [
      "normalized pred locations loss 0.011353385634720325\n"
     ]
    },
    {
     "name": "stderr",
     "output_type": "stream",
     "text": [
      "Probe prediction step: 100%|██████████| 156/156 [00:08<00:00, 18.83it/s]\n",
      "Probe prediction epochs:  80%|████████  | 16/20 [01:26<00:29,  7.50s/it]"
     ]
    },
    {
     "name": "stdout",
     "output_type": "stream",
     "text": [
      "normalized pred locations loss 0.0060706487856805325\n"
     ]
    },
    {
     "name": "stderr",
     "output_type": "stream",
     "text": []
    },
    {
     "name": "stdout",
     "output_type": "stream",
     "text": [
      "normalized pred locations loss 0.006199805997312069\n"
     ]
    },
    {
     "name": "stderr",
     "output_type": "stream",
     "text": [
      "Probe prediction step: 100%|██████████| 156/156 [00:08<00:00, 18.82it/s]\n",
      "Probe prediction epochs:  85%|████████▌ | 17/20 [01:34<00:23,  7.74s/it]"
     ]
    },
    {
     "name": "stdout",
     "output_type": "stream",
     "text": [
      "normalized pred locations loss 0.007096145302057266\n"
     ]
    },
    {
     "name": "stderr",
     "output_type": "stream",
     "text": []
    },
    {
     "name": "stdout",
     "output_type": "stream",
     "text": [
      "normalized pred locations loss 0.007647455669939518\n"
     ]
    },
    {
     "name": "stderr",
     "output_type": "stream",
     "text": [
      "Probe prediction step: 100%|██████████| 156/156 [00:08<00:00, 18.78it/s]\n",
      "Probe prediction epochs:  90%|█████████ | 18/20 [01:43<00:15,  7.91s/it]"
     ]
    },
    {
     "name": "stdout",
     "output_type": "stream",
     "text": [
      "normalized pred locations loss 0.006580061744898558\n"
     ]
    },
    {
     "name": "stderr",
     "output_type": "stream",
     "text": [
      "Probe prediction step: 100%|██████████| 156/156 [00:08<00:00, 18.74it/s]\n",
      "Probe prediction epochs:  95%|█████████▌| 19/20 [01:51<00:08,  8.03s/it]"
     ]
    },
    {
     "name": "stdout",
     "output_type": "stream",
     "text": [
      "normalized pred locations loss 0.007776868529617786\n"
     ]
    },
    {
     "name": "stderr",
     "output_type": "stream",
     "text": []
    },
    {
     "name": "stdout",
     "output_type": "stream",
     "text": [
      "normalized pred locations loss 0.006530216429382563\n"
     ]
    },
    {
     "name": "stderr",
     "output_type": "stream",
     "text": [
      "Probe prediction step: 100%|██████████| 156/156 [00:08<00:00, 18.68it/s]\n",
      "Probe prediction epochs: 100%|██████████| 20/20 [01:59<00:00,  5.99s/it]\n",
      "Eval probe pred: 100%|██████████| 62/62 [00:02<00:00, 22.02it/s]\n",
      "Eval probe pred: 100%|██████████| 62/62 [00:02<00:00, 21.88it/s]\n"
     ]
    },
    {
     "name": "stdout",
     "output_type": "stream",
     "text": [
      "normal loss: 3.094120740890503\n",
      "wall loss: 6.57526159286499\n",
      "--------------------------------------------------------------------------------\n"
     ]
    },
    {
     "name": "stderr",
     "output_type": "stream",
     "text": [
      "Epoch 12/100: 100%|██████████| 1148/1148 [02:19<00:00,  8.24it/s, loss=298.8013, time/batch=0.071s, gpu_mem=2.1GB]\n"
     ]
    },
    {
     "name": "stdout",
     "output_type": "stream",
     "text": [
      "\n",
      "Epoch 12/100 Summary:\n",
      "Train Loss: 298.8013\n",
      "Component Losses:\n",
      "  total_loss: 298.8013\n",
      "  vicreg_sim_loss: 0.4205\n",
      "  vicreg_std_loss: 1.1642\n",
      "  vicreg_cov_loss: 4.7536\n",
      "  barlow_loss: 553.2330\n",
      "Epoch Time: 139.4s\n",
      "Avg Batch Time: 0.071s\n",
      "GPU Memory: 1988MB\n"
     ]
    },
    {
     "name": "stderr",
     "output_type": "stream",
     "text": [
      "Probe prediction epochs:   0%|          | 0/20 [00:00<?, ?it/s]"
     ]
    },
    {
     "name": "stdout",
     "output_type": "stream",
     "text": [
      "normalized pred locations loss 1.1258273124694824\n"
     ]
    },
    {
     "name": "stderr",
     "output_type": "stream",
     "text": []
    },
    {
     "name": "stdout",
     "output_type": "stream",
     "text": [
      "normalized pred locations loss 0.2113478034734726\n"
     ]
    },
    {
     "name": "stderr",
     "output_type": "stream",
     "text": [
      "Probe prediction step: 100%|██████████| 156/156 [00:04<00:00, 35.48it/s]\n",
      "Probe prediction epochs:   5%|▌         | 1/20 [00:04<01:23,  4.40s/it]"
     ]
    },
    {
     "name": "stdout",
     "output_type": "stream",
     "text": [
      "normalized pred locations loss 0.060419321060180664\n"
     ]
    },
    {
     "name": "stderr",
     "output_type": "stream",
     "text": []
    },
    {
     "name": "stdout",
     "output_type": "stream",
     "text": [
      "normalized pred locations loss 0.03342978283762932\n"
     ]
    },
    {
     "name": "stderr",
     "output_type": "stream",
     "text": [
      "Probe prediction step: 100%|██████████| 156/156 [00:04<00:00, 37.42it/s]\n",
      "Probe prediction epochs:  10%|█         | 2/20 [00:08<01:16,  4.26s/it]"
     ]
    },
    {
     "name": "stdout",
     "output_type": "stream",
     "text": [
      "normalized pred locations loss 0.028061671182513237\n"
     ]
    },
    {
     "name": "stderr",
     "output_type": "stream",
     "text": [
      "Probe prediction step: 100%|██████████| 156/156 [00:04<00:00, 37.09it/s]\n",
      "Probe prediction epochs:  15%|█▌        | 3/20 [00:12<01:12,  4.24s/it]"
     ]
    },
    {
     "name": "stdout",
     "output_type": "stream",
     "text": [
      "normalized pred locations loss 0.028676200658082962\n"
     ]
    },
    {
     "name": "stderr",
     "output_type": "stream",
     "text": []
    },
    {
     "name": "stdout",
     "output_type": "stream",
     "text": [
      "normalized pred locations loss 0.02208709344267845\n"
     ]
    },
    {
     "name": "stderr",
     "output_type": "stream",
     "text": [
      "Probe prediction step: 100%|██████████| 156/156 [00:04<00:00, 36.14it/s]\n",
      "Probe prediction epochs:  20%|██        | 4/20 [00:17<01:08,  4.27s/it]"
     ]
    },
    {
     "name": "stdout",
     "output_type": "stream",
     "text": [
      "normalized pred locations loss 0.021509626880288124\n"
     ]
    },
    {
     "name": "stderr",
     "output_type": "stream",
     "text": [
      "Probe prediction step: 100%|██████████| 156/156 [00:04<00:00, 35.29it/s]\n",
      "Probe prediction epochs:  25%|██▌       | 5/20 [00:21<01:04,  4.32s/it]"
     ]
    },
    {
     "name": "stdout",
     "output_type": "stream",
     "text": [
      "normalized pred locations loss 0.020448319613933563\n"
     ]
    },
    {
     "name": "stderr",
     "output_type": "stream",
     "text": []
    },
    {
     "name": "stdout",
     "output_type": "stream",
     "text": [
      "normalized pred locations loss 0.030230704694986343\n"
     ]
    },
    {
     "name": "stderr",
     "output_type": "stream",
     "text": [
      "Probe prediction step: 100%|██████████| 156/156 [00:04<00:00, 35.27it/s]\n",
      "Probe prediction epochs:  30%|███       | 6/20 [00:25<01:01,  4.36s/it]"
     ]
    },
    {
     "name": "stdout",
     "output_type": "stream",
     "text": [
      "normalized pred locations loss 0.013122377917170525\n"
     ]
    },
    {
     "name": "stderr",
     "output_type": "stream",
     "text": [
      "Probe prediction step: 100%|██████████| 156/156 [00:04<00:00, 36.23it/s]\n",
      "Probe prediction epochs:  35%|███▌      | 7/20 [00:30<00:56,  4.34s/it]"
     ]
    },
    {
     "name": "stdout",
     "output_type": "stream",
     "text": [
      "normalized pred locations loss 0.011573469266295433\n"
     ]
    },
    {
     "name": "stderr",
     "output_type": "stream",
     "text": []
    },
    {
     "name": "stdout",
     "output_type": "stream",
     "text": [
      "normalized pred locations loss 0.016330337151885033\n"
     ]
    },
    {
     "name": "stderr",
     "output_type": "stream",
     "text": [
      "Probe prediction step: 100%|██████████| 156/156 [00:04<00:00, 35.83it/s]\n",
      "Probe prediction epochs:  40%|████      | 8/20 [00:34<00:52,  4.35s/it]"
     ]
    },
    {
     "name": "stdout",
     "output_type": "stream",
     "text": [
      "normalized pred locations loss 0.012184781022369862\n"
     ]
    },
    {
     "name": "stderr",
     "output_type": "stream",
     "text": [
      "Probe prediction step: 100%|██████████| 156/156 [00:04<00:00, 36.33it/s]\n",
      "Probe prediction epochs:  45%|████▌     | 9/20 [00:38<00:47,  4.33s/it]"
     ]
    },
    {
     "name": "stdout",
     "output_type": "stream",
     "text": [
      "normalized pred locations loss 0.01512442622333765\n"
     ]
    },
    {
     "name": "stderr",
     "output_type": "stream",
     "text": []
    },
    {
     "name": "stdout",
     "output_type": "stream",
     "text": [
      "normalized pred locations loss 0.014222881756722927\n"
     ]
    },
    {
     "name": "stderr",
     "output_type": "stream",
     "text": [
      "Probe prediction step: 100%|██████████| 156/156 [00:04<00:00, 31.65it/s]\n",
      "Probe prediction epochs:  50%|█████     | 10/20 [00:43<00:45,  4.52s/it]"
     ]
    },
    {
     "name": "stdout",
     "output_type": "stream",
     "text": [
      "normalized pred locations loss 0.008252791129052639\n"
     ]
    },
    {
     "name": "stderr",
     "output_type": "stream",
     "text": []
    },
    {
     "name": "stdout",
     "output_type": "stream",
     "text": [
      "normalized pred locations loss 0.01170950848609209\n"
     ]
    },
    {
     "name": "stderr",
     "output_type": "stream",
     "text": [
      "Probe prediction step: 100%|██████████| 156/156 [00:05<00:00, 30.23it/s]\n",
      "Probe prediction epochs:  55%|█████▌    | 11/20 [00:48<00:42,  4.71s/it]"
     ]
    },
    {
     "name": "stdout",
     "output_type": "stream",
     "text": [
      "normalized pred locations loss 0.007515826728194952\n"
     ]
    },
    {
     "name": "stderr",
     "output_type": "stream",
     "text": [
      "Probe prediction step: 100%|██████████| 156/156 [00:04<00:00, 34.89it/s]\n",
      "Probe prediction epochs:  60%|██████    | 12/20 [00:53<00:37,  4.64s/it]\n"
     ]
    },
    {
     "name": "stdout",
     "output_type": "stream",
     "text": [
      "normalized pred locations loss 0.0074342479929327965\n"
     ]
    },
    {
     "name": "stderr",
     "output_type": "stream",
     "text": [
      "Probe prediction step:  23%|██▎       | 36/156 [00:00<00:03, 35.58it/s]\u001b[A"
     ]
    },
    {
     "name": "stdout",
     "output_type": "stream",
     "text": [
      "normalized pred locations loss 0.007769961375743151\n"
     ]
    },
    {
     "name": "stderr",
     "output_type": "stream",
     "text": [
      "Probe prediction step: 100%|██████████| 156/156 [00:06<00:00, 22.54it/s]\n",
      "Probe prediction epochs:  65%|██████▌   | 13/20 [01:00<00:37,  5.33s/it]"
     ]
    },
    {
     "name": "stdout",
     "output_type": "stream",
     "text": [
      "normalized pred locations loss 0.00844247080385685\n"
     ]
    },
    {
     "name": "stderr",
     "output_type": "stream",
     "text": [
      "Probe prediction step: 100%|██████████| 156/156 [00:08<00:00, 18.88it/s]\n",
      "Probe prediction epochs:  70%|███████   | 14/20 [01:08<00:37,  6.22s/it]"
     ]
    },
    {
     "name": "stdout",
     "output_type": "stream",
     "text": [
      "normalized pred locations loss 0.00701413257047534\n"
     ]
    },
    {
     "name": "stderr",
     "output_type": "stream",
     "text": []
    },
    {
     "name": "stdout",
     "output_type": "stream",
     "text": [
      "normalized pred locations loss 0.007947463542222977\n"
     ]
    },
    {
     "name": "stderr",
     "output_type": "stream",
     "text": [
      "Probe prediction step: 100%|██████████| 156/156 [00:08<00:00, 18.88it/s]\n",
      "Probe prediction epochs:  75%|███████▌  | 15/20 [01:16<00:34,  6.83s/it]"
     ]
    },
    {
     "name": "stdout",
     "output_type": "stream",
     "text": [
      "normalized pred locations loss 0.00826653465628624\n"
     ]
    },
    {
     "name": "stderr",
     "output_type": "stream",
     "text": [
      "Probe prediction step: 100%|██████████| 156/156 [00:08<00:00, 19.07it/s]\n",
      "Probe prediction epochs:  80%|████████  | 16/20 [01:25<00:28,  7.24s/it]"
     ]
    },
    {
     "name": "stdout",
     "output_type": "stream",
     "text": [
      "normalized pred locations loss 0.0070409285835921764\n"
     ]
    },
    {
     "name": "stderr",
     "output_type": "stream",
     "text": []
    },
    {
     "name": "stdout",
     "output_type": "stream",
     "text": [
      "normalized pred locations loss 0.007457922678440809\n"
     ]
    },
    {
     "name": "stderr",
     "output_type": "stream",
     "text": [
      "Probe prediction step: 100%|██████████| 156/156 [00:08<00:00, 18.77it/s]\n",
      "Probe prediction epochs:  85%|████████▌ | 17/20 [01:33<00:22,  7.56s/it]"
     ]
    },
    {
     "name": "stdout",
     "output_type": "stream",
     "text": [
      "normalized pred locations loss 0.010132121853530407\n"
     ]
    },
    {
     "name": "stderr",
     "output_type": "stream",
     "text": []
    },
    {
     "name": "stdout",
     "output_type": "stream",
     "text": [
      "normalized pred locations loss 0.0088250283151865\n"
     ]
    },
    {
     "name": "stderr",
     "output_type": "stream",
     "text": [
      "Probe prediction step: 100%|██████████| 156/156 [00:08<00:00, 18.74it/s]\n",
      "Probe prediction epochs:  90%|█████████ | 18/20 [01:41<00:15,  7.79s/it]"
     ]
    },
    {
     "name": "stdout",
     "output_type": "stream",
     "text": [
      "normalized pred locations loss 0.007649283390492201\n"
     ]
    },
    {
     "name": "stderr",
     "output_type": "stream",
     "text": [
      "Probe prediction step: 100%|██████████| 156/156 [00:08<00:00, 18.74it/s]\n",
      "Probe prediction epochs:  95%|█████████▌| 19/20 [01:50<00:07,  7.95s/it]"
     ]
    },
    {
     "name": "stdout",
     "output_type": "stream",
     "text": [
      "normalized pred locations loss 0.006874684244394302\n"
     ]
    },
    {
     "name": "stderr",
     "output_type": "stream",
     "text": []
    },
    {
     "name": "stdout",
     "output_type": "stream",
     "text": [
      "normalized pred locations loss 0.007609501481056213\n"
     ]
    },
    {
     "name": "stderr",
     "output_type": "stream",
     "text": [
      "Probe prediction step: 100%|██████████| 156/156 [00:08<00:00, 18.74it/s]\n",
      "Probe prediction epochs: 100%|██████████| 20/20 [01:58<00:00,  5.92s/it]\n",
      "Eval probe pred: 100%|██████████| 62/62 [00:02<00:00, 21.85it/s]\n",
      "Eval probe pred: 100%|██████████| 62/62 [00:02<00:00, 21.79it/s]\n"
     ]
    },
    {
     "name": "stdout",
     "output_type": "stream",
     "text": [
      "normal loss: 2.9689748287200928\n",
      "wall loss: 6.159099578857422\n",
      "--------------------------------------------------------------------------------\n"
     ]
    },
    {
     "name": "stderr",
     "output_type": "stream",
     "text": [
      "Epoch 13/100:  65%|██████▍   | 744/1148 [02:07<01:09,  5.82it/s, loss=295.4510, time/batch=0.082s, gpu_mem=2.1GB]\n"
     ]
    },
    {
     "ename": "KeyboardInterrupt",
     "evalue": "",
     "output_type": "error",
     "traceback": [
      "\u001b[0;31m---------------------------------------------------------------------------\u001b[0m",
      "\u001b[0;31mKeyboardInterrupt\u001b[0m                         Traceback (most recent call last)",
      "Cell \u001b[0;32mIn[13], line 326\u001b[0m\n\u001b[1;32m    319\u001b[0m train_loader \u001b[38;5;241m=\u001b[39m create_wall_dataloader(\n\u001b[1;32m    320\u001b[0m     \u001b[38;5;124m\"\u001b[39m\u001b[38;5;124m/drive_reader/as16386/DL24FA/train\u001b[39m\u001b[38;5;124m\"\u001b[39m,  \u001b[38;5;66;03m# Update with your path\u001b[39;00m\n\u001b[1;32m    321\u001b[0m     batch_size\u001b[38;5;241m=\u001b[39m\u001b[38;5;241m128\u001b[39m,\n\u001b[1;32m    322\u001b[0m     train\u001b[38;5;241m=\u001b[39m\u001b[38;5;28;01mTrue\u001b[39;00m\n\u001b[1;32m    323\u001b[0m )\n\u001b[1;32m    325\u001b[0m \u001b[38;5;66;03m# Start training\u001b[39;00m\n\u001b[0;32m--> 326\u001b[0m \u001b[43mtrain_model\u001b[49m\u001b[43m(\u001b[49m\n\u001b[1;32m    327\u001b[0m \u001b[43m    \u001b[49m\u001b[43mmodel\u001b[49m\u001b[38;5;241;43m=\u001b[39;49m\u001b[43mmodel\u001b[49m\u001b[43m,\u001b[49m\n\u001b[1;32m    328\u001b[0m \u001b[43m    \u001b[49m\u001b[43mtrain_loader\u001b[49m\u001b[38;5;241;43m=\u001b[39;49m\u001b[43mtrain_loader\u001b[49m\u001b[43m,\u001b[49m\n\u001b[1;32m    329\u001b[0m \u001b[43m    \u001b[49m\u001b[43mnum_epochs\u001b[49m\u001b[38;5;241;43m=\u001b[39;49m\u001b[38;5;241;43m100\u001b[39;49m\u001b[43m,\u001b[49m\n\u001b[1;32m    330\u001b[0m \u001b[43m    \u001b[49m\u001b[43mlearning_rate\u001b[49m\u001b[38;5;241;43m=\u001b[39;49m\u001b[38;5;241;43m3e-5\u001b[39;49m\u001b[43m,\u001b[49m\n\u001b[1;32m    331\u001b[0m \u001b[43m    \u001b[49m\u001b[43msave_dir\u001b[49m\u001b[38;5;241;43m=\u001b[39;49m\u001b[38;5;124;43m'\u001b[39;49m\u001b[38;5;124;43mcheckpoints/combined_barlow_vicreg\u001b[39;49m\u001b[38;5;124;43m'\u001b[39;49m\u001b[43m,\u001b[49m\n\u001b[1;32m    332\u001b[0m \u001b[43m    \u001b[49m\u001b[43msave_frequency\u001b[49m\u001b[38;5;241;43m=\u001b[39;49m\u001b[38;5;241;43m10\u001b[39;49m\n\u001b[1;32m    333\u001b[0m \u001b[43m\u001b[49m\u001b[43m)\u001b[49m\n",
      "Cell \u001b[0;32mIn[13], line 279\u001b[0m, in \u001b[0;36mtrain_model\u001b[0;34m(model, train_loader, num_epochs, learning_rate, save_dir, save_frequency)\u001b[0m\n\u001b[1;32m    276\u001b[0m \u001b[38;5;28mprint\u001b[39m(\u001b[38;5;124mf\u001b[39m\u001b[38;5;124m\"\u001b[39m\u001b[38;5;124mCheckpoints will be saved to \u001b[39m\u001b[38;5;132;01m{\u001b[39;00msave_dir\u001b[38;5;132;01m}\u001b[39;00m\u001b[38;5;124m\"\u001b[39m)\n\u001b[1;32m    278\u001b[0m \u001b[38;5;28;01mfor\u001b[39;00m epoch \u001b[38;5;129;01min\u001b[39;00m \u001b[38;5;28mrange\u001b[39m(num_epochs):\n\u001b[0;32m--> 279\u001b[0m     train_loss, train_losses, timing_stats \u001b[38;5;241m=\u001b[39m \u001b[43mtrain_epoch\u001b[49m\u001b[43m(\u001b[49m\n\u001b[1;32m    280\u001b[0m \u001b[43m        \u001b[49m\u001b[43mmodel\u001b[49m\u001b[43m,\u001b[49m\u001b[43m \u001b[49m\u001b[43mtrain_loader\u001b[49m\u001b[43m,\u001b[49m\u001b[43m \u001b[49m\u001b[43moptimizer\u001b[49m\u001b[43m,\u001b[49m\u001b[43m \u001b[49m\u001b[43mepoch\u001b[49m\u001b[43m,\u001b[49m\u001b[43m \u001b[49m\u001b[43mnum_epochs\u001b[49m\n\u001b[1;32m    281\u001b[0m \u001b[43m    \u001b[49m\u001b[43m)\u001b[49m\n\u001b[1;32m    283\u001b[0m     \u001b[38;5;28mprint\u001b[39m(\u001b[38;5;124mf\u001b[39m\u001b[38;5;124m\"\u001b[39m\u001b[38;5;130;01m\\n\u001b[39;00m\u001b[38;5;124mEpoch \u001b[39m\u001b[38;5;132;01m{\u001b[39;00mepoch\u001b[38;5;132;01m}\u001b[39;00m\u001b[38;5;124m/\u001b[39m\u001b[38;5;132;01m{\u001b[39;00mnum_epochs\u001b[38;5;132;01m}\u001b[39;00m\u001b[38;5;124m Summary:\u001b[39m\u001b[38;5;124m\"\u001b[39m)\n\u001b[1;32m    284\u001b[0m     \u001b[38;5;28mprint\u001b[39m(\u001b[38;5;124mf\u001b[39m\u001b[38;5;124m\"\u001b[39m\u001b[38;5;124mTrain Loss: \u001b[39m\u001b[38;5;132;01m{\u001b[39;00mtrain_loss\u001b[38;5;132;01m:\u001b[39;00m\u001b[38;5;124m.4f\u001b[39m\u001b[38;5;132;01m}\u001b[39;00m\u001b[38;5;124m\"\u001b[39m)\n",
      "Cell \u001b[0;32mIn[13], line 232\u001b[0m, in \u001b[0;36mtrain_epoch\u001b[0;34m(model, dataloader, optimizer, epoch, total_epochs)\u001b[0m\n\u001b[1;32m    229\u001b[0m optimizer\u001b[38;5;241m.\u001b[39mzero_grad()\n\u001b[1;32m    230\u001b[0m loss, _, component_losses \u001b[38;5;241m=\u001b[39m model\u001b[38;5;241m.\u001b[39mtraining_step(batch)\n\u001b[0;32m--> 232\u001b[0m \u001b[43mloss\u001b[49m\u001b[38;5;241;43m.\u001b[39;49m\u001b[43mbackward\u001b[49m\u001b[43m(\u001b[49m\u001b[43m)\u001b[49m\n\u001b[1;32m    233\u001b[0m torch\u001b[38;5;241m.\u001b[39mnn\u001b[38;5;241m.\u001b[39mutils\u001b[38;5;241m.\u001b[39mclip_grad_norm_(model\u001b[38;5;241m.\u001b[39mparameters(), max_norm\u001b[38;5;241m=\u001b[39m\u001b[38;5;241m1.0\u001b[39m)\n\u001b[1;32m    234\u001b[0m optimizer\u001b[38;5;241m.\u001b[39mstep()\n",
      "File \u001b[0;32m/drive_reader/as16386/DL-final-proj/dl_env/lib/python3.10/site-packages/torch/_tensor.py:581\u001b[0m, in \u001b[0;36mTensor.backward\u001b[0;34m(self, gradient, retain_graph, create_graph, inputs)\u001b[0m\n\u001b[1;32m    571\u001b[0m \u001b[38;5;28;01mif\u001b[39;00m has_torch_function_unary(\u001b[38;5;28mself\u001b[39m):\n\u001b[1;32m    572\u001b[0m     \u001b[38;5;28;01mreturn\u001b[39;00m handle_torch_function(\n\u001b[1;32m    573\u001b[0m         Tensor\u001b[38;5;241m.\u001b[39mbackward,\n\u001b[1;32m    574\u001b[0m         (\u001b[38;5;28mself\u001b[39m,),\n\u001b[0;32m   (...)\u001b[0m\n\u001b[1;32m    579\u001b[0m         inputs\u001b[38;5;241m=\u001b[39minputs,\n\u001b[1;32m    580\u001b[0m     )\n\u001b[0;32m--> 581\u001b[0m \u001b[43mtorch\u001b[49m\u001b[38;5;241;43m.\u001b[39;49m\u001b[43mautograd\u001b[49m\u001b[38;5;241;43m.\u001b[39;49m\u001b[43mbackward\u001b[49m\u001b[43m(\u001b[49m\n\u001b[1;32m    582\u001b[0m \u001b[43m    \u001b[49m\u001b[38;5;28;43mself\u001b[39;49m\u001b[43m,\u001b[49m\u001b[43m \u001b[49m\u001b[43mgradient\u001b[49m\u001b[43m,\u001b[49m\u001b[43m \u001b[49m\u001b[43mretain_graph\u001b[49m\u001b[43m,\u001b[49m\u001b[43m \u001b[49m\u001b[43mcreate_graph\u001b[49m\u001b[43m,\u001b[49m\u001b[43m \u001b[49m\u001b[43minputs\u001b[49m\u001b[38;5;241;43m=\u001b[39;49m\u001b[43minputs\u001b[49m\n\u001b[1;32m    583\u001b[0m \u001b[43m\u001b[49m\u001b[43m)\u001b[49m\n",
      "File \u001b[0;32m/drive_reader/as16386/DL-final-proj/dl_env/lib/python3.10/site-packages/torch/autograd/__init__.py:347\u001b[0m, in \u001b[0;36mbackward\u001b[0;34m(tensors, grad_tensors, retain_graph, create_graph, grad_variables, inputs)\u001b[0m\n\u001b[1;32m    342\u001b[0m     retain_graph \u001b[38;5;241m=\u001b[39m create_graph\n\u001b[1;32m    344\u001b[0m \u001b[38;5;66;03m# The reason we repeat the same comment below is that\u001b[39;00m\n\u001b[1;32m    345\u001b[0m \u001b[38;5;66;03m# some Python versions print out the first line of a multi-line function\u001b[39;00m\n\u001b[1;32m    346\u001b[0m \u001b[38;5;66;03m# calls in the traceback and some print out the last line\u001b[39;00m\n\u001b[0;32m--> 347\u001b[0m \u001b[43m_engine_run_backward\u001b[49m\u001b[43m(\u001b[49m\n\u001b[1;32m    348\u001b[0m \u001b[43m    \u001b[49m\u001b[43mtensors\u001b[49m\u001b[43m,\u001b[49m\n\u001b[1;32m    349\u001b[0m \u001b[43m    \u001b[49m\u001b[43mgrad_tensors_\u001b[49m\u001b[43m,\u001b[49m\n\u001b[1;32m    350\u001b[0m \u001b[43m    \u001b[49m\u001b[43mretain_graph\u001b[49m\u001b[43m,\u001b[49m\n\u001b[1;32m    351\u001b[0m \u001b[43m    \u001b[49m\u001b[43mcreate_graph\u001b[49m\u001b[43m,\u001b[49m\n\u001b[1;32m    352\u001b[0m \u001b[43m    \u001b[49m\u001b[43minputs\u001b[49m\u001b[43m,\u001b[49m\n\u001b[1;32m    353\u001b[0m \u001b[43m    \u001b[49m\u001b[43mallow_unreachable\u001b[49m\u001b[38;5;241;43m=\u001b[39;49m\u001b[38;5;28;43;01mTrue\u001b[39;49;00m\u001b[43m,\u001b[49m\n\u001b[1;32m    354\u001b[0m \u001b[43m    \u001b[49m\u001b[43maccumulate_grad\u001b[49m\u001b[38;5;241;43m=\u001b[39;49m\u001b[38;5;28;43;01mTrue\u001b[39;49;00m\u001b[43m,\u001b[49m\n\u001b[1;32m    355\u001b[0m \u001b[43m\u001b[49m\u001b[43m)\u001b[49m\n",
      "File \u001b[0;32m/drive_reader/as16386/DL-final-proj/dl_env/lib/python3.10/site-packages/torch/autograd/graph.py:825\u001b[0m, in \u001b[0;36m_engine_run_backward\u001b[0;34m(t_outputs, *args, **kwargs)\u001b[0m\n\u001b[1;32m    823\u001b[0m     unregister_hooks \u001b[38;5;241m=\u001b[39m _register_logging_hooks_on_whole_graph(t_outputs)\n\u001b[1;32m    824\u001b[0m \u001b[38;5;28;01mtry\u001b[39;00m:\n\u001b[0;32m--> 825\u001b[0m     \u001b[38;5;28;01mreturn\u001b[39;00m \u001b[43mVariable\u001b[49m\u001b[38;5;241;43m.\u001b[39;49m\u001b[43m_execution_engine\u001b[49m\u001b[38;5;241;43m.\u001b[39;49m\u001b[43mrun_backward\u001b[49m\u001b[43m(\u001b[49m\u001b[43m  \u001b[49m\u001b[38;5;66;43;03m# Calls into the C++ engine to run the backward pass\u001b[39;49;00m\n\u001b[1;32m    826\u001b[0m \u001b[43m        \u001b[49m\u001b[43mt_outputs\u001b[49m\u001b[43m,\u001b[49m\u001b[43m \u001b[49m\u001b[38;5;241;43m*\u001b[39;49m\u001b[43margs\u001b[49m\u001b[43m,\u001b[49m\u001b[43m \u001b[49m\u001b[38;5;241;43m*\u001b[39;49m\u001b[38;5;241;43m*\u001b[39;49m\u001b[43mkwargs\u001b[49m\n\u001b[1;32m    827\u001b[0m \u001b[43m    \u001b[49m\u001b[43m)\u001b[49m  \u001b[38;5;66;03m# Calls into the C++ engine to run the backward pass\u001b[39;00m\n\u001b[1;32m    828\u001b[0m \u001b[38;5;28;01mfinally\u001b[39;00m:\n\u001b[1;32m    829\u001b[0m     \u001b[38;5;28;01mif\u001b[39;00m attach_logging_hooks:\n",
      "\u001b[0;31mKeyboardInterrupt\u001b[0m: "
     ]
    }
   ],
   "source": [
    "import torch\n",
    "import torch.nn as nn\n",
    "import torch.nn.functional as F\n",
    "import copy\n",
    "from typing import Tuple, Dict, NamedTuple\n",
    "from tqdm.auto import tqdm\n",
    "import time\n",
    "from datetime import datetime\n",
    "from pathlib import Path\n",
    "\n",
    "class Encoder(nn.Module):\n",
    "    def __init__(self, input_channels=2):\n",
    "        super().__init__()\n",
    "        # First conv: 65x65 -> 22x22\n",
    "        self.conv1 = nn.Conv2d(input_channels, 8, kernel_size=5, stride=3, padding=2, bias=False)\n",
    "        self.bn1 = nn.BatchNorm2d(8)\n",
    "        \n",
    "        # Second conv: 22x22 -> 8x8\n",
    "        self.conv2 = nn.Conv2d(8, 32, kernel_size=3, stride=3, padding=1, bias=False)\n",
    "        self.bn2 = nn.BatchNorm2d(32)\n",
    "        \n",
    "        self.repr_dim = 32 * 8 * 8\n",
    "        \n",
    "    def forward(self, x):\n",
    "        x = F.relu(self.bn1(self.conv1(x)))  # -> 22x22\n",
    "        x = F.relu(self.bn2(self.conv2(x)))  # -> 8x8\n",
    "        return x\n",
    "\n",
    "class TransitionModel(nn.Module):\n",
    "    def __init__(self, hidden_dim=32):\n",
    "        super().__init__()\n",
    "        self.hidden_dim = hidden_dim\n",
    "        \n",
    "        # Action embedding\n",
    "        self.action_embed = nn.Sequential(\n",
    "            nn.Conv2d(2, hidden_dim // 2, 1),\n",
    "            nn.BatchNorm2d(hidden_dim // 2),\n",
    "            nn.ReLU(),\n",
    "            nn.Conv2d(hidden_dim // 2, hidden_dim, 1),\n",
    "            nn.BatchNorm2d(hidden_dim),\n",
    "            nn.ReLU()\n",
    "        )\n",
    "        \n",
    "        # Transition model\n",
    "        self.transition = nn.Sequential(\n",
    "            nn.Conv2d(hidden_dim * 2, hidden_dim, 3, padding=1),\n",
    "            nn.BatchNorm2d(hidden_dim),\n",
    "            nn.ReLU(),\n",
    "            nn.Conv2d(hidden_dim, hidden_dim, 3, padding=1),\n",
    "            nn.BatchNorm2d(hidden_dim)\n",
    "        )\n",
    "        \n",
    "    def forward(self, state, action):\n",
    "        B, _, H, W = state.shape\n",
    "        action = action.view(B, 2, 1, 1).expand(-1, -1, H, W)\n",
    "        action_embedding = self.action_embed(action)\n",
    "        combined = torch.cat([state, action_embedding], dim=1)\n",
    "        delta = self.transition(combined)\n",
    "        next_state = state + delta\n",
    "        return next_state\n",
    "\n",
    "class CombinedLoss(nn.Module):\n",
    "    def __init__(self, \n",
    "                 vicreg_sim_coef=25.0,\n",
    "                 vicreg_std_coef=25.0,\n",
    "                 vicreg_cov_coef=1.0,\n",
    "                 barlow_lambda=0.005,\n",
    "                 loss_weight=0.5):  # Weight between VICReg and Barlow\n",
    "        super().__init__()\n",
    "        self.vicreg_sim_coef = vicreg_sim_coef\n",
    "        self.vicreg_std_coef = vicreg_std_coef\n",
    "        self.vicreg_cov_coef = vicreg_cov_coef\n",
    "        self.barlow_lambda = barlow_lambda\n",
    "        self.loss_weight = loss_weight\n",
    "    \n",
    "    def off_diagonal(self, x):\n",
    "        n = x.shape[0]\n",
    "        return x.flatten()[:-1].view(n-1, n+1)[:, 1:].flatten()\n",
    "    \n",
    "    def forward(self, z_a, z_b):\n",
    "        N = z_a.shape[0]\n",
    "        D = z_a.shape[1]\n",
    "        \n",
    "        # VICReg components\n",
    "        sim_loss = F.mse_loss(z_a, z_b)\n",
    "        \n",
    "        std_z_a = torch.sqrt(z_a.var(dim=0) + 1e-04)\n",
    "        std_z_b = torch.sqrt(z_b.var(dim=0) + 1e-04)\n",
    "        std_loss = torch.mean(F.relu(1 - std_z_a)) + torch.mean(F.relu(1 - std_z_b))\n",
    "        \n",
    "        z_a_centered = z_a - z_a.mean(dim=0)\n",
    "        z_b_centered = z_b - z_b.mean(dim=0)\n",
    "        \n",
    "        cov_z_a = (z_a_centered.T @ z_a_centered) / (N - 1)\n",
    "        cov_z_b = (z_b_centered.T @ z_b_centered) / (N - 1)\n",
    "        \n",
    "        vicreg_cov_loss = (self.off_diagonal(cov_z_a).pow_(2).sum() / D +\n",
    "                          self.off_diagonal(cov_z_b).pow_(2).sum() / D)\n",
    "        \n",
    "        # Barlow Twins components\n",
    "        z_a_norm = (z_a - z_a.mean(dim=0)) / (z_a.std(dim=0) + 1e-6)\n",
    "        z_b_norm = (z_b - z_b.mean(dim=0)) / (z_b.std(dim=0) + 1e-6)\n",
    "        \n",
    "        c = torch.mm(z_a_norm.T, z_b_norm) / N\n",
    "        \n",
    "        on_diag = torch.diagonal(c).add_(-1).pow_(2).sum()\n",
    "        off_diag = torch.triu(c.pow(2), diagonal=1).sum() + torch.tril(c.pow(2), diagonal=-1).sum()\n",
    "        barlow_loss = on_diag + self.barlow_lambda * off_diag\n",
    "        \n",
    "        # Combine VICReg losses\n",
    "        vicreg_loss = (self.vicreg_sim_coef * sim_loss +\n",
    "                      self.vicreg_std_coef * std_loss +\n",
    "                      self.vicreg_cov_coef * vicreg_cov_loss)\n",
    "        \n",
    "        # Final weighted combination\n",
    "        total_loss = self.loss_weight * vicreg_loss + (1 - self.loss_weight) * barlow_loss\n",
    "        \n",
    "        return total_loss, {\n",
    "            'total_loss': total_loss.item(),\n",
    "            'vicreg_sim_loss': sim_loss.item(),\n",
    "            'vicreg_std_loss': std_loss.item(),\n",
    "            'vicreg_cov_loss': vicreg_cov_loss.item(),\n",
    "            'barlow_loss': barlow_loss.item()\n",
    "        }\n",
    "\n",
    "class WorldModelCombined(nn.Module):\n",
    "    def __init__(self, vicreg_sim_coef=25.0, vicreg_std_coef=25.0, vicreg_cov_coef=1.0,\n",
    "                 barlow_lambda=0.005, loss_weight=0.5):\n",
    "        super().__init__()\n",
    "        self.encoder = Encoder(input_channels=2)\n",
    "        self.predictor = TransitionModel(hidden_dim=32)\n",
    "        \n",
    "        self.criterion = CombinedLoss(\n",
    "            vicreg_sim_coef=vicreg_sim_coef,\n",
    "            vicreg_std_coef=vicreg_std_coef,\n",
    "            vicreg_cov_coef=vicreg_cov_coef,\n",
    "            barlow_lambda=barlow_lambda,\n",
    "            loss_weight=loss_weight\n",
    "        )\n",
    "        \n",
    "        self.repr_dim = self.encoder.repr_dim\n",
    "    \n",
    "    def forward_prediction(self, states, actions):\n",
    "        B, _, _, H, W = states.shape\n",
    "        T = actions.shape[1] + 1\n",
    "        \n",
    "        curr_state = self.encoder(states.squeeze(1))\n",
    "        predictions = [curr_state]\n",
    "        \n",
    "        for t in range(T-1):\n",
    "            curr_state = self.predictor(curr_state, actions[:, t])\n",
    "            predictions.append(curr_state)\n",
    "            \n",
    "        predictions = torch.stack(predictions, dim=1)\n",
    "        return predictions\n",
    "\n",
    "    def forward(self, states, actions):\n",
    "        init_states = states[:, 0:1]\n",
    "        predictions = self.forward_prediction(init_states, actions)\n",
    "        B, T, C, H, W = predictions.shape\n",
    "        predictions = predictions.view(B, T, -1)\n",
    "        return predictions\n",
    "\n",
    "    def training_step(self, batch):\n",
    "        states = batch.states\n",
    "        actions = batch.actions\n",
    "        \n",
    "        init_states = states[:, 0:1]\n",
    "        predictions = self.forward_prediction(init_states, actions)\n",
    "        \n",
    "        total_loss = 0.0\n",
    "        accumulated_losses = {\n",
    "            'total_loss': 0.0,\n",
    "            'vicreg_sim_loss': 0.0,\n",
    "            'vicreg_std_loss': 0.0,\n",
    "            'vicreg_cov_loss': 0.0,\n",
    "            'barlow_loss': 0.0\n",
    "        }\n",
    "        \n",
    "        for t in range(actions.shape[1]):\n",
    "            pred_state = predictions[:, t+1]\n",
    "            target_obs = states[:, t+1]\n",
    "            \n",
    "            target_state = self.encoder(target_obs)\n",
    "            \n",
    "            pred_flat = pred_state.flatten(start_dim=1)\n",
    "            target_flat = target_state.flatten(start_dim=1)\n",
    "            \n",
    "            loss, component_losses = self.criterion(pred_flat, target_flat)\n",
    "            \n",
    "            total_loss += loss\n",
    "            for k in accumulated_losses:\n",
    "                accumulated_losses[k] += component_losses[k]\n",
    "        \n",
    "        total_loss = total_loss / actions.shape[1]\n",
    "        for k in accumulated_losses:\n",
    "            accumulated_losses[k] /= actions.shape[1]\n",
    "        \n",
    "        return total_loss, predictions, accumulated_losses\n",
    "\n",
    "def train_epoch(model, dataloader, optimizer, epoch, total_epochs):\n",
    "    model.train()\n",
    "    total_loss = 0.0\n",
    "    train_losses = {\n",
    "        'total_loss': 0.0,\n",
    "        'vicreg_sim_loss': 0.0,\n",
    "        'vicreg_std_loss': 0.0,\n",
    "        'vicreg_cov_loss': 0.0,\n",
    "        'barlow_loss': 0.0\n",
    "    }\n",
    "    \n",
    "    progress_bar = tqdm(enumerate(dataloader), \n",
    "                       total=len(dataloader),\n",
    "                       desc=f'Epoch {epoch}/{total_epochs}',\n",
    "                       leave=True)\n",
    "    \n",
    "    start_time = time.time()\n",
    "    batch_times = []\n",
    "    \n",
    "    for batch_idx, batch in progress_bar:\n",
    "        batch_start = time.time()\n",
    "        \n",
    "        batch = batch._replace(\n",
    "            states=batch.states.cuda(),\n",
    "            actions=batch.actions.cuda(),\n",
    "            locations=batch.locations.cuda() if batch.locations is not None else None\n",
    "        )\n",
    "        \n",
    "        optimizer.zero_grad()\n",
    "        loss, _, component_losses = model.training_step(batch)\n",
    "        \n",
    "        loss.backward()\n",
    "        torch.nn.utils.clip_grad_norm_(model.parameters(), max_norm=1.0)\n",
    "        optimizer.step()\n",
    "        \n",
    "        batch_time = time.time() - batch_start\n",
    "        batch_times.append(batch_time)\n",
    "        \n",
    "        total_loss += loss.item()\n",
    "        for k in train_losses:\n",
    "            train_losses[k] += component_losses[k]\n",
    "        \n",
    "        current_loss = total_loss / (batch_idx + 1)\n",
    "        current_batch_time = sum(batch_times) / len(batch_times)\n",
    "        \n",
    "        progress_bar.set_postfix({\n",
    "            'loss': f'{current_loss:.4f}',\n",
    "            'time/batch': f'{current_batch_time:.3f}s',\n",
    "            'gpu_mem': f'{torch.cuda.max_memory_allocated()/1e9:.1f}GB'\n",
    "        })\n",
    "    \n",
    "    num_batches = len(dataloader)\n",
    "    total_loss /= num_batches\n",
    "    for k in train_losses:\n",
    "        train_losses[k] /= num_batches\n",
    "    \n",
    "    epoch_time = time.time() - start_time\n",
    "    avg_batch_time = sum(batch_times) / len(batch_times)\n",
    "    \n",
    "    return total_loss, train_losses, {\n",
    "        'epoch_time': epoch_time,\n",
    "        'avg_batch_time': avg_batch_time\n",
    "    }\n",
    "\n",
    "def train_model(model, train_loader, num_epochs=100, learning_rate=3e-4, \n",
    "                save_dir='checkpoints/combined', save_frequency=10):\n",
    "    device = torch.device('cuda' if torch.cuda.is_available() else 'cpu')\n",
    "    model = model.to(device)\n",
    "    optimizer = torch.optim.Adam(model.parameters(), lr=learning_rate)\n",
    "    \n",
    "    save_dir = Path(save_dir)\n",
    "    save_dir.mkdir(parents=True, exist_ok=True)\n",
    "    \n",
    "    print(f\"Starting training at {datetime.now().strftime('%Y-%m-%d %H:%M:%S')}\")\n",
    "    print(f\"Training for {num_epochs} epochs\")\n",
    "    print(f\"Checkpoints will be saved to {save_dir}\")\n",
    "    \n",
    "    for epoch in range(num_epochs):\n",
    "        train_loss, train_losses, timing_stats = train_epoch(\n",
    "            model, train_loader, optimizer, epoch, num_epochs\n",
    "        )\n",
    "        \n",
    "        print(f\"\\nEpoch {epoch}/{num_epochs} Summary:\")\n",
    "        print(f\"Train Loss: {train_loss:.4f}\")\n",
    "        print(\"Component Losses:\")\n",
    "        for k, v in train_losses.items():\n",
    "            print(f\"  {k}: {v:.4f}\")\n",
    "        print(f\"Epoch Time: {timing_stats['epoch_time']:.1f}s\")\n",
    "        print(f\"Avg Batch Time: {timing_stats['avg_batch_time']:.3f}s\")\n",
    "        print(f\"GPU Memory: {torch.cuda.max_memory_allocated() / 1024**2:.0f}MB\")\n",
    "        \n",
    "        if (epoch + 1) % save_frequency == 0:\n",
    "            checkpoint_path = save_dir / f\"checkpoint_epoch_{epoch+1}.pt\"\n",
    "            torch.save({\n",
    "                'epoch': epoch,\n",
    "                'model_state_dict': model.state_dict(),\n",
    "                'optimizer_state_dict': optimizer.state_dict(),\n",
    "                'loss': train_loss,\n",
    "            }, checkpoint_path)\n",
    "            print(f\"Checkpoint saved to {checkpoint_path}\")\n",
    "        \n",
    "        evaluate_model(\"cuda\", model, probe_train_ds, probe_val_ds)\n",
    "        \n",
    "        print(\"-\" * 80)\n",
    "\n",
    "if __name__ == \"__main__\":\n",
    "    from dataset import create_wall_dataloader, WallSample\n",
    "    \n",
    "    # Create model with combined losses\n",
    "    model = WorldModelCombined(\n",
    "        vicreg_sim_coef=25.0,\n",
    "        vicreg_std_coef=25.0,\n",
    "        vicreg_cov_coef=1.0,\n",
    "        barlow_lambda=0.005,\n",
    "        loss_weight=0.5  # Equal weight between VICReg and Barlow\n",
    "    ).cuda()\n",
    "    \n",
    "    # Create data loader\n",
    "    train_loader = create_wall_dataloader(\n",
    "        \"/drive_reader/as16386/DL24FA/train\",  # Update with your path\n",
    "        batch_size=128,\n",
    "        train=True\n",
    "    )\n",
    "    \n",
    "    # Start training\n",
    "    train_model(\n",
    "        model=model,\n",
    "        train_loader=train_loader,\n",
    "        num_epochs=100,\n",
    "        learning_rate=3e-5,\n",
    "        save_dir='checkpoints/combined_barlow_vicreg',\n",
    "        save_frequency=10\n",
    "    )"
   ]
  },
  {
   "cell_type": "code",
   "execution_count": null,
   "metadata": {},
   "outputs": [],
   "source": [
    "# TRYING LOSS NORMALIZATION\n",
    "\n",
    "import torch\n",
    "import torch.nn as nn\n",
    "import torch.nn.functional as F\n",
    "import copy\n",
    "from typing import Tuple, Dict, NamedTuple\n",
    "from tqdm.auto import tqdm\n",
    "import time\n",
    "from datetime import datetime\n",
    "from pathlib import Path\n",
    "\n",
    "class Encoder(nn.Module):\n",
    "    def __init__(self, input_channels=2):\n",
    "        super().__init__()\n",
    "        # First conv: 65x65 -> 22x22\n",
    "        self.conv1 = nn.Conv2d(input_channels, 8, kernel_size=5, stride=3, padding=2, bias=False)\n",
    "        self.bn1 = nn.BatchNorm2d(8)\n",
    "        \n",
    "        # Second conv: 22x22 -> 8x8\n",
    "        self.conv2 = nn.Conv2d(8, 32, kernel_size=3, stride=3, padding=1, bias=False)\n",
    "        self.bn2 = nn.BatchNorm2d(32)\n",
    "        \n",
    "        self.repr_dim = 32 * 8 * 8\n",
    "        \n",
    "    def forward(self, x):\n",
    "        x = F.relu(self.bn1(self.conv1(x)))  # -> 22x22\n",
    "        x = F.relu(self.bn2(self.conv2(x)))  # -> 8x8\n",
    "        return x\n",
    "\n",
    "class TransitionModel(nn.Module):\n",
    "    def __init__(self, hidden_dim=32):\n",
    "        super().__init__()\n",
    "        self.hidden_dim = hidden_dim\n",
    "        \n",
    "        # Action embedding\n",
    "        self.action_embed = nn.Sequential(\n",
    "            nn.Conv2d(2, hidden_dim // 2, 1),\n",
    "            nn.BatchNorm2d(hidden_dim // 2),\n",
    "            nn.ReLU(),\n",
    "            nn.Conv2d(hidden_dim // 2, hidden_dim, 1),\n",
    "            nn.BatchNorm2d(hidden_dim),\n",
    "            nn.ReLU()\n",
    "        )\n",
    "        \n",
    "        # Transition model\n",
    "        self.transition = nn.Sequential(\n",
    "            nn.Conv2d(hidden_dim * 2, hidden_dim, 3, padding=1),\n",
    "            nn.BatchNorm2d(hidden_dim),\n",
    "            nn.ReLU(),\n",
    "            nn.Conv2d(hidden_dim, hidden_dim, 3, padding=1),\n",
    "            nn.BatchNorm2d(hidden_dim)\n",
    "        )\n",
    "        \n",
    "    def forward(self, state, action):\n",
    "        B, _, H, W = state.shape\n",
    "        action = action.view(B, 2, 1, 1).expand(-1, -1, H, W)\n",
    "        action_embedding = self.action_embed(action)\n",
    "        combined = torch.cat([state, action_embedding], dim=1)\n",
    "        delta = self.transition(combined)\n",
    "        next_state = state + delta\n",
    "        return next_state\n",
    "\n",
    "class CombinedLoss(nn.Module):\n",
    "    def __init__(self, \n",
    "                 vicreg_sim_coef=25.0,\n",
    "                 vicreg_std_coef=25.0,\n",
    "                 vicreg_cov_coef=1.0,\n",
    "                 barlow_lambda=0.005,\n",
    "                 loss_weight=0.5,\n",
    "                 normalize_losses=True):\n",
    "        super().__init__()\n",
    "        self.vicreg_sim_coef = vicreg_sim_coef\n",
    "        self.vicreg_std_coef = vicreg_std_coef\n",
    "        self.vicreg_cov_coef = vicreg_cov_coef\n",
    "        self.barlow_lambda = barlow_lambda\n",
    "        self.loss_weight = loss_weight\n",
    "        self.normalize_losses = normalize_losses\n",
    "        \n",
    "        # Running statistics for normalization\n",
    "        self.register_buffer('vicreg_running_mean', torch.tensor(0.0))\n",
    "        self.register_buffer('barlow_running_mean', torch.tensor(0.0))\n",
    "        self.momentum = 0.9  # For updating running means\n",
    "        \n",
    "    def off_diagonal(self, x):\n",
    "        n = x.shape[0]\n",
    "        return x.flatten()[:-1].view(n-1, n+1)[:, 1:].flatten()\n",
    "    \n",
    "    def update_running_means(self, vicreg_loss, barlow_loss):\n",
    "        if self.training:\n",
    "            self.vicreg_running_mean = self.momentum * self.vicreg_running_mean + \\\n",
    "                                     (1 - self.momentum) * vicreg_loss.detach()\n",
    "            self.barlow_running_mean = self.momentum * self.barlow_running_mean + \\\n",
    "                                     (1 - self.momentum) * barlow_loss.detach()\n",
    "    \n",
    "    def normalize_loss(self, vicreg_loss, barlow_loss):\n",
    "        # Prevent division by zero\n",
    "        eps = 1e-6\n",
    "        \n",
    "        # Use running means to normalize if they're non-zero\n",
    "        if self.vicreg_running_mean > eps and self.barlow_running_mean > eps:\n",
    "            vicreg_norm = vicreg_loss / self.vicreg_running_mean\n",
    "            barlow_norm = barlow_loss / self.barlow_running_mean\n",
    "        else:\n",
    "            # Initially, scale based on typical ranges\n",
    "            vicreg_norm = vicreg_loss / 17.5  # Assuming typical VICReg total around 17.5\n",
    "            barlow_norm = barlow_loss / 5.0   # Assuming typical Barlow total around 5.0\n",
    "            \n",
    "        return vicreg_norm, barlow_norm\n",
    "    \n",
    "    def forward(self, z_a, z_b):\n",
    "        N = z_a.shape[0]\n",
    "        D = z_a.shape[1]\n",
    "        \n",
    "        # VICReg components\n",
    "        sim_loss = F.mse_loss(z_a, z_b)\n",
    "        \n",
    "        std_z_a = torch.sqrt(z_a.var(dim=0) + 1e-04)\n",
    "        std_z_b = torch.sqrt(z_b.var(dim=0) + 1e-04)\n",
    "        std_loss = torch.mean(F.relu(1 - std_z_a)) + torch.mean(F.relu(1 - std_z_b))\n",
    "        \n",
    "        z_a_centered = z_a - z_a.mean(dim=0)\n",
    "        z_b_centered = z_b - z_b.mean(dim=0)\n",
    "        \n",
    "        cov_z_a = (z_a_centered.T @ z_a_centered) / (N - 1)\n",
    "        cov_z_b = (z_b_centered.T @ z_b_centered) / (N - 1)\n",
    "        \n",
    "        vicreg_cov_loss = (self.off_diagonal(cov_z_a).pow_(2).sum() / D +\n",
    "                          self.off_diagonal(cov_z_b).pow_(2).sum() / D)\n",
    "        \n",
    "        # Combine VICReg components\n",
    "        vicreg_loss = (self.vicreg_sim_coef * sim_loss +\n",
    "                      self.vicreg_std_coef * std_loss +\n",
    "                      self.vicreg_cov_coef * vicreg_cov_loss)\n",
    "        \n",
    "        # Barlow Twins components\n",
    "        z_a_norm = (z_a - z_a.mean(dim=0)) / (z_a.std(dim=0) + 1e-6)\n",
    "        z_b_norm = (z_b - z_b.mean(dim=0)) / (z_b.std(dim=0) + 1e-6)\n",
    "        \n",
    "        c = torch.mm(z_a_norm.T, z_b_norm) / N\n",
    "        \n",
    "        on_diag = torch.diagonal(c).add_(-1).pow_(2).sum()\n",
    "        off_diag = torch.triu(c.pow(2), diagonal=1).sum() + torch.tril(c.pow(2), diagonal=-1).sum()\n",
    "        barlow_loss = on_diag + self.barlow_lambda * off_diag\n",
    "        \n",
    "        # Update running means\n",
    "        self.update_running_means(vicreg_loss, barlow_loss)\n",
    "        \n",
    "        # Normalize losses if enabled\n",
    "        if self.normalize_losses:\n",
    "            vicreg_loss, barlow_loss = self.normalize_loss(vicreg_loss, barlow_loss)\n",
    "        \n",
    "        # Combine normalized losses\n",
    "        total_loss = self.loss_weight * vicreg_loss + (1 - self.loss_weight) * barlow_loss\n",
    "        \n",
    "        return total_loss, {\n",
    "            'total_loss': total_loss.item(),\n",
    "            'vicreg_sim_loss': sim_loss.item(),\n",
    "            'vicreg_std_loss': std_loss.item(),\n",
    "            'vicreg_cov_loss': vicreg_cov_loss.item(),\n",
    "            'barlow_loss': barlow_loss.item(),\n",
    "            'vicreg_mean': self.vicreg_running_mean.item(),\n",
    "            'barlow_mean': self.barlow_running_mean.item()\n",
    "        }\n",
    "\n",
    "class WorldModelCombined(nn.Module):\n",
    "    def __init__(self, vicreg_sim_coef=25.0, vicreg_std_coef=25.0, vicreg_cov_coef=1.0,\n",
    "                 barlow_lambda=0.005, loss_weight=0.5):\n",
    "        super().__init__()\n",
    "        self.encoder = Encoder(input_channels=2)\n",
    "        self.predictor = TransitionModel(hidden_dim=32)\n",
    "        \n",
    "        self.criterion = CombinedLoss(\n",
    "            vicreg_sim_coef=vicreg_sim_coef,\n",
    "            vicreg_std_coef=vicreg_std_coef,\n",
    "            vicreg_cov_coef=vicreg_cov_coef,\n",
    "            barlow_lambda=barlow_lambda,\n",
    "            loss_weight=loss_weight\n",
    "        )\n",
    "        \n",
    "        self.repr_dim = self.encoder.repr_dim\n",
    "    \n",
    "    def forward_prediction(self, states, actions):\n",
    "        B, _, _, H, W = states.shape\n",
    "        T = actions.shape[1] + 1\n",
    "        \n",
    "        curr_state = self.encoder(states.squeeze(1))\n",
    "        predictions = [curr_state]\n",
    "        \n",
    "        for t in range(T-1):\n",
    "            curr_state = self.predictor(curr_state, actions[:, t])\n",
    "            predictions.append(curr_state)\n",
    "            \n",
    "        predictions = torch.stack(predictions, dim=1)\n",
    "        return predictions\n",
    "\n",
    "    def forward(self, states, actions):\n",
    "        init_states = states[:, 0:1]\n",
    "        predictions = self.forward_prediction(init_states, actions)\n",
    "        B, T, C, H, W = predictions.shape\n",
    "        predictions = predictions.view(B, T, -1)\n",
    "        return predictions\n",
    "\n",
    "    def training_step(self, batch):\n",
    "        states = batch.states\n",
    "        actions = batch.actions\n",
    "        \n",
    "        init_states = states[:, 0:1]\n",
    "        predictions = self.forward_prediction(init_states, actions)\n",
    "        \n",
    "        total_loss = 0.0\n",
    "        accumulated_losses = {\n",
    "            'total_loss': 0.0,\n",
    "            'vicreg_sim_loss': 0.0,\n",
    "            'vicreg_std_loss': 0.0,\n",
    "            'vicreg_cov_loss': 0.0,\n",
    "            'barlow_loss': 0.0\n",
    "        }\n",
    "        \n",
    "        for t in range(actions.shape[1]):\n",
    "            pred_state = predictions[:, t+1]\n",
    "            target_obs = states[:, t+1]\n",
    "            \n",
    "            target_state = self.encoder(target_obs)\n",
    "            \n",
    "            pred_flat = pred_state.flatten(start_dim=1)\n",
    "            target_flat = target_state.flatten(start_dim=1)\n",
    "            \n",
    "            loss, component_losses = self.criterion(pred_flat, target_flat)\n",
    "            \n",
    "            total_loss += loss\n",
    "            for k in accumulated_losses:\n",
    "                accumulated_losses[k] += component_losses[k]\n",
    "        \n",
    "        total_loss = total_loss / actions.shape[1]\n",
    "        for k in accumulated_losses:\n",
    "            accumulated_losses[k] /= actions.shape[1]\n",
    "        \n",
    "        return total_loss, predictions, accumulated_losses\n",
    "\n",
    "def train_epoch(model, dataloader, optimizer, epoch, total_epochs):\n",
    "    model.train()\n",
    "    total_loss = 0.0\n",
    "    train_losses = {\n",
    "        'total_loss': 0.0,\n",
    "        'vicreg_sim_loss': 0.0,\n",
    "        'vicreg_std_loss': 0.0,\n",
    "        'vicreg_cov_loss': 0.0,\n",
    "        'barlow_loss': 0.0\n",
    "    }\n",
    "    \n",
    "    progress_bar = tqdm(enumerate(dataloader), \n",
    "                       total=len(dataloader),\n",
    "                       desc=f'Epoch {epoch}/{total_epochs}',\n",
    "                       leave=True)\n",
    "    \n",
    "    start_time = time.time()\n",
    "    batch_times = []\n",
    "    \n",
    "    for batch_idx, batch in progress_bar:\n",
    "        batch_start = time.time()\n",
    "        \n",
    "        batch = batch._replace(\n",
    "            states=batch.states.cuda(),\n",
    "            actions=batch.actions.cuda(),\n",
    "            locations=batch.locations.cuda() if batch.locations is not None else None\n",
    "        )\n",
    "        \n",
    "        optimizer.zero_grad()\n",
    "        loss, _, component_losses = model.training_step(batch)\n",
    "        \n",
    "        loss.backward()\n",
    "        torch.nn.utils.clip_grad_norm_(model.parameters(), max_norm=1.0)\n",
    "        optimizer.step()\n",
    "        \n",
    "        batch_time = time.time() - batch_start\n",
    "        batch_times.append(batch_time)\n",
    "        \n",
    "        total_loss += loss.item()\n",
    "        for k in train_losses:\n",
    "            train_losses[k] += component_losses[k]\n",
    "        \n",
    "        current_loss = total_loss / (batch_idx + 1)\n",
    "        current_batch_time = sum(batch_times) / len(batch_times)\n",
    "        \n",
    "        progress_bar.set_postfix({\n",
    "            'loss': f'{current_loss:.4f}',\n",
    "            'time/batch': f'{current_batch_time:.3f}s',\n",
    "            'gpu_mem': f'{torch.cuda.max_memory_allocated()/1e9:.1f}GB'\n",
    "        })\n",
    "    \n",
    "    num_batches = len(dataloader)\n",
    "    total_loss /= num_batches\n",
    "    for k in train_losses:\n",
    "        train_losses[k] /= num_batches\n",
    "    \n",
    "    epoch_time = time.time() - start_time\n",
    "    avg_batch_time = sum(batch_times) / len(batch_times)\n",
    "    \n",
    "    return total_loss, train_losses, {\n",
    "        'epoch_time': epoch_time,\n",
    "        'avg_batch_time': avg_batch_time\n",
    "    }\n",
    "\n",
    "def train_model(model, train_loader, num_epochs=100, learning_rate=3e-4, \n",
    "                save_dir='checkpoints/combined', save_frequency=10):\n",
    "    device = torch.device('cuda' if torch.cuda.is_available() else 'cpu')\n",
    "    model = model.to(device)\n",
    "    optimizer = torch.optim.Adam(model.parameters(), lr=learning_rate)\n",
    "    \n",
    "    save_dir = Path(save_dir)\n",
    "    save_dir.mkdir(parents=True, exist_ok=True)\n",
    "    \n",
    "    print(f\"Starting training at {datetime.now().strftime('%Y-%m-%d %H:%M:%S')}\")\n",
    "    print(f\"Training for {num_epochs} epochs\")\n",
    "    print(f\"Checkpoints will be saved to {save_dir}\")\n",
    "    \n",
    "    for epoch in range(num_epochs):\n",
    "        train_loss, train_losses, timing_stats = train_epoch(\n",
    "            model, train_loader, optimizer, epoch, num_epochs\n",
    "        )\n",
    "        \n",
    "        print(f\"\\nEpoch {epoch}/{num_epochs} Summary:\")\n",
    "        print(f\"Train Loss: {train_loss:.4f}\")\n",
    "        print(\"Component Losses:\")\n",
    "        for k, v in train_losses.items():\n",
    "            print(f\"  {k}: {v:.4f}\")\n",
    "        print(f\"Epoch Time: {timing_stats['epoch_time']:.1f}s\")\n",
    "        print(f\"Avg Batch Time: {timing_stats['avg_batch_time']:.3f}s\")\n",
    "        print(f\"GPU Memory: {torch.cuda.max_memory_allocated() / 1024**2:.0f}MB\")\n",
    "        \n",
    "        if (epoch + 1) % save_frequency == 0:\n",
    "            checkpoint_path = save_dir / f\"checkpoint_epoch_{epoch+1}.pt\"\n",
    "            torch.save({\n",
    "                'epoch': epoch,\n",
    "                'model_state_dict': model.state_dict(),\n",
    "                'optimizer_state_dict': optimizer.state_dict(),\n",
    "                'loss': train_loss,\n",
    "            }, checkpoint_path)\n",
    "            print(f\"Checkpoint saved to {checkpoint_path}\")\n",
    "        \n",
    "        evaluate_model(\"cuda\", model, probe_train_ds, probe_val_ds)\n",
    "        \n",
    "        print(\"-\" * 80)\n",
    "\n",
    "if __name__ == \"__main__\":\n",
    "    from dataset import create_wall_dataloader, WallSample\n",
    "    \n",
    "    # Create model with combined losses\n",
    "    model = WorldModelCombined(\n",
    "        vicreg_sim_coef=25.0,\n",
    "        vicreg_std_coef=25.0,\n",
    "        vicreg_cov_coef=1.0,\n",
    "        barlow_lambda=0.005,\n",
    "        loss_weight=0.5  # Equal weight between VICReg and Barlow\n",
    "    ).cuda()\n",
    "    \n",
    "    # Create data loader\n",
    "    train_loader = create_wall_dataloader(\n",
    "        \"/drive_reader/as16386/DL24FA/train\",  # Update with your path\n",
    "        batch_size=128,\n",
    "        train=True\n",
    "    )\n",
    "    \n",
    "    # Start training\n",
    "    train_model(\n",
    "        model=model,\n",
    "        train_loader=train_loader,\n",
    "        num_epochs=100,\n",
    "        learning_rate=3e-5,\n",
    "        save_dir='checkpoints/combined_barlow_vicreg_normalized',\n",
    "        save_frequency=10\n",
    "    )"
   ]
  }
 ],
 "metadata": {
  "kernelspec": {
   "display_name": "dl_env",
   "language": "python",
   "name": "python3"
  },
  "language_info": {
   "codemirror_mode": {
    "name": "ipython",
    "version": 3
   },
   "file_extension": ".py",
   "mimetype": "text/x-python",
   "name": "python",
   "nbconvert_exporter": "python",
   "pygments_lexer": "ipython3",
   "version": "3.10.12"
  }
 },
 "nbformat": 4,
 "nbformat_minor": 2
}
